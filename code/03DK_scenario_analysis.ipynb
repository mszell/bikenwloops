{
 "cells": [
  {
   "cell_type": "markdown",
   "id": "2e582dfd",
   "metadata": {},
   "source": [
    "# 03DK. Scenario analysis, Denmark-wide\n",
    "## Project: Bicycle node network loop analysis"
   ]
  },
  {
   "cell_type": "markdown",
   "id": "2bc9b960",
   "metadata": {},
   "source": [
    "This notebook analyses loops created in notebook 01 with different scenarios for the whole country of Denmark.  \n",
    "Explore two scenarios:  \n",
    "1. Family with small children: 5-20km, max slope 4%\n",
    "1. Teenage/adult leisure cyclist: 10-40km, max slope 6%\n",
    "\n",
    "Contact: Michael Szell (michael.szell@gmail.com)\n",
    "\n",
    "Created: 2024-10-25  \n",
    "Last modified: 2025-08-01"
   ]
  },
  {
   "cell_type": "markdown",
   "id": "5126c030",
   "metadata": {},
   "source": [
    "## To do\n",
    "- [X] Refactor with functions for restrictions\n",
    "- [X] POI analysis\n",
    "- [X] Fix all same max ylim values at ~8000"
   ]
  },
  {
   "cell_type": "markdown",
   "id": "e37a8962-c87e-49f4-b16a-8cc620114a2e",
   "metadata": {},
   "source": [
    "## To do future notebooks/viz"
   ]
  },
  {
   "cell_type": "markdown",
   "id": "ebe47e89-ae8b-4262-8c2a-5048c5459403",
   "metadata": {},
   "source": [
    "- [X] Polish nw plotting: colors, proj, transparency, keep values fixed\n",
    "- [ ] Distribution/spatial clustering of slopes, pois in DK. How does it affect loops? Compare with random redistribution. Easy to add few POIS to dramatically increase coverage? \"identify/fix POI deserts\"\n",
    "- [ ] Is node density a proxy for loop census size?"
   ]
  },
  {
   "cell_type": "markdown",
   "id": "816924f7-7ddc-44a1-bcd7-fbf203a41b1d",
   "metadata": {},
   "source": [
    "## Parameters"
   ]
  },
  {
   "cell_type": "code",
   "execution_count": null,
   "id": "fb810d3b-192d-47d8-8d62-d699be65bcad",
   "metadata": {},
   "outputs": [],
   "source": [
    "%run -i setup_parameters.py\n",
    "load_data = True  # Set to False if data are huge and have already been loaded\n",
    "debug = True  # Set to True for extra plots and verbosity"
   ]
  },
  {
   "cell_type": "code",
   "execution_count": null,
   "id": "9b986890-413c-43c3-a6fa-57ff87899f25",
   "metadata": {},
   "outputs": [],
   "source": [
    "print(\"Running scenario in \" + STUDY_AREA)\n",
    "for k, v in SCENARIO[SCENARIOID].items():\n",
    "    print(k + \": \" + str(v))"
   ]
  },
  {
   "cell_type": "markdown",
   "id": "876e2b5b",
   "metadata": {},
   "source": [
    "## Functions"
   ]
  },
  {
   "cell_type": "code",
   "execution_count": null,
   "id": "9a407c7e",
   "metadata": {},
   "outputs": [],
   "source": [
    "%run -i functions.py"
   ]
  },
  {
   "cell_type": "markdown",
   "id": "bcd4d066",
   "metadata": {},
   "source": [
    "## Load data"
   ]
  },
  {
   "cell_type": "markdown",
   "id": "731b1fbd-6ce8-431d-a097-e8f13313da26",
   "metadata": {},
   "source": [
    "This can take several minutes."
   ]
  },
  {
   "cell_type": "code",
   "execution_count": null,
   "id": "cf6ab763",
   "metadata": {},
   "outputs": [],
   "source": [
    "if load_data:\n",
    "    if LOOP_LENGTH_BOUND:\n",
    "        llb_string = \"_maxlength\" + str(LOOP_LENGTH_BOUND)\n",
    "    else:\n",
    "        llb_string = \"\"\n",
    "\n",
    "    with open(\n",
    "        PATH[\"data_out\"]\n",
    "        + \"loopcensus_\"\n",
    "        + str(LOOP_NUMNODE_BOUND)\n",
    "        + llb_string\n",
    "        + \".pkl\",\n",
    "        \"rb\",\n",
    "    ) as f:\n",
    "        allloops = pickle.load(f)\n",
    "        alllooplengths = pickle.load(f)\n",
    "        allloopnumnodes = pickle.load(f)\n",
    "        allloopmaxslopes = pickle.load(f)\n",
    "        Gnx = pickle.load(f)\n",
    "        LOOP_NUMNODE_BOUND = pickle.load(f)\n",
    "        nodes_id = pickle.load(f)\n",
    "        nodes_coords = pickle.load(f)\n",
    "        numloops = pickle.load(f)\n",
    "        faceloops = pickle.load(f)"
   ]
  },
  {
   "cell_type": "code",
   "execution_count": null,
   "id": "ecf416d7-1583-4ab0-be0c-869669186190",
   "metadata": {},
   "outputs": [],
   "source": [
    "# Create gdf and igraph versions\n",
    "nodes, edges = momepy.nx_to_gdf(net=Gnx, points=True, lines=True)\n",
    "G = ig.Graph.from_networkx(Gnx)\n",
    "G.summary()"
   ]
  },
  {
   "cell_type": "code",
   "execution_count": null,
   "id": "6ce8dbb6-4a98-49f7-a326-05a14d1aa8b3",
   "metadata": {},
   "outputs": [],
   "source": [
    "# Plot network\n",
    "if debug:\n",
    "    plot_dk_gdf(\n",
    "        nodes,\n",
    "        edges,\n",
    "        scale=0.4,\n",
    "        vertex_size=get_vertex_size_constant(G.vcount()),\n",
    "        link_width=get_edgewidth_constant(G.ecount()),\n",
    "    )"
   ]
  },
  {
   "cell_type": "code",
   "execution_count": null,
   "id": "14580a92-4d3b-45df-8c0b-0152f3224923",
   "metadata": {
    "scrolled": true
   },
   "outputs": [],
   "source": [
    "# Plot all loops\n",
    "vertex_sizes, vertex_colors = get_vertex_plotinfo(allloops)\n",
    "fig, ax = plot_dk_gdf(\n",
    "    nodes,\n",
    "    edges,\n",
    "    scale=1,\n",
    "    vertex_size=vertex_sizes,\n",
    "    vertex_color=vertex_colors,\n",
    "    link_width=0.3,\n",
    "    link_color=\"#444444\",\n",
    ")\n",
    "plot_dk_inset(fig, allloops, 8, 7800)\n",
    "fig.savefig(PATH[\"plot\"] + \"network_numloops_all\" + \".\" + PLOTPARAM[\"format\"])"
   ]
  },
  {
   "cell_type": "markdown",
   "id": "fedbbbd0",
   "metadata": {},
   "source": [
    "## Analyse"
   ]
  },
  {
   "cell_type": "markdown",
   "id": "3fa49509-bb82-471c-a6f3-4aaed38086fa",
   "metadata": {},
   "source": [
    "### Restrict to scenario lengths"
   ]
  },
  {
   "cell_type": "code",
   "execution_count": null,
   "id": "73934a5a",
   "metadata": {},
   "outputs": [],
   "source": [
    "allloops_bound = {}\n",
    "for sourcenode in tqdm(allloops, desc=\"Restrict to scenario lengths\"):\n",
    "    try:\n",
    "        lengths_this = allloops[sourcenode][\"lengths\"] * MPERUNIT\n",
    "        mask_this = (lengths_this >= SCENARIO[SCENARIOID][\"looplength_min\"]) & (\n",
    "            lengths_this <= SCENARIO[SCENARIOID][\"looplength_max\"]\n",
    "        )\n",
    "        allloops_bound[sourcenode] = mask_node(allloops[sourcenode], mask_this)\n",
    "    except:  # Account for 0 loop nodes\n",
    "        allloops_bound[sourcenode] = {}"
   ]
  },
  {
   "cell_type": "code",
   "execution_count": null,
   "id": "e3d8340b",
   "metadata": {},
   "outputs": [],
   "source": [
    "# Plot all bounded loops\n",
    "vertex_sizes, vertex_colors = get_vertex_plotinfo(allloops_bound)\n",
    "fig, ax = plot_dk_gdf(\n",
    "    nodes,\n",
    "    edges,\n",
    "    scale=1,\n",
    "    vertex_size=vertex_sizes,\n",
    "    vertex_color=vertex_colors,\n",
    "    link_width=0.3,\n",
    "    link_color=PLOTPARAM[\"color\"][\"neutral\"],\n",
    ")\n",
    "plot_dk_scenariotext(ax, filterdepth=1)\n",
    "plot_dk_inset(fig, allloops_bound, 8, 7800)\n",
    "\n",
    "fig.savefig(\n",
    "    PATH[\"plot\"]\n",
    "    + \"network_numloops_\"\n",
    "    + str(SCENARIO[SCENARIOID][\"looplength_min\"])\n",
    "    + \"to\"\n",
    "    + str(SCENARIO[SCENARIOID][\"looplength_max\"])\n",
    "    + \".\"\n",
    "    + PLOTPARAM[\"format\"]\n",
    ")"
   ]
  },
  {
   "cell_type": "markdown",
   "id": "ab5423e1",
   "metadata": {},
   "source": [
    "### Restrict to scenario gradients"
   ]
  },
  {
   "cell_type": "code",
   "execution_count": null,
   "id": "906c9b7c",
   "metadata": {},
   "outputs": [],
   "source": [
    "allloops_bound_sloped = {}\n",
    "for sourcenode in tqdm(allloops_bound, desc=\"Restrict to scenario gradients\"):\n",
    "    try:\n",
    "        lengths_this = allloops[sourcenode][\"lengths\"] * MPERUNIT\n",
    "        maxslopes_this = (\n",
    "            allloops[sourcenode][\"max_slopes\"] / 100.0\n",
    "        )  # max_slopes were multiplied by 100 for storage as uint16\n",
    "        mask_this = lengths_this >= SCENARIO[SCENARIOID][\"looplength_min\"]\n",
    "        mask_this &= lengths_this <= SCENARIO[SCENARIOID][\"looplength_max\"]\n",
    "        mask_this &= maxslopes_this <= SCENARIO[SCENARIOID][\"maxslope_limit\"]\n",
    "        allloops_bound_sloped[sourcenode] = mask_node(allloops[sourcenode], mask_this)\n",
    "    except:  # Account for 0 loop nodes\n",
    "        allloops_bound_sloped[sourcenode] = {}"
   ]
  },
  {
   "cell_type": "code",
   "execution_count": null,
   "id": "b053a388",
   "metadata": {},
   "outputs": [],
   "source": [
    "# Plot all bounded sloped loops\n",
    "vertex_sizes, vertex_colors = get_vertex_plotinfo(allloops_bound_sloped)\n",
    "link_widths, link_colors = get_link_plotinfo(\n",
    "    edges,\n",
    "    var_bad=\"max_slope\",\n",
    "    var_good=\"poi_diversity\",\n",
    "    threshold_bad=SCENARIO[SCENARIOID][\"maxslope_limit\"],\n",
    "    threshold_good=0,\n",
    ")\n",
    "fig, ax = plot_dk_gdf(\n",
    "    nodes,\n",
    "    edges,\n",
    "    scale=1,\n",
    "    vertex_size=vertex_sizes,\n",
    "    vertex_color=vertex_colors,\n",
    "    link_width=link_widths,\n",
    "    link_color=link_colors,\n",
    ")\n",
    "plot_dk_scenariotext(ax, filterdepth=2)\n",
    "plot_dk_inset(fig, allloops_bound_sloped, 8, 7800)\n",
    "\n",
    "fig.savefig(\n",
    "    PATH[\"plot\"]\n",
    "    + \"network_numloops_\"\n",
    "    + str(SCENARIO[SCENARIOID][\"looplength_min\"])\n",
    "    + \"to\"\n",
    "    + str(SCENARIO[SCENARIOID][\"looplength_max\"])\n",
    "    + \"_maxslope\"\n",
    "    + str(SCENARIO[SCENARIOID][\"maxslope_limit\"])\n",
    "    + \".\"\n",
    "    + PLOTPARAM[\"format\"]\n",
    ")"
   ]
  },
  {
   "cell_type": "markdown",
   "id": "ccef1cf2-5799-4462-8449-08e573ee1bce",
   "metadata": {},
   "source": [
    "### Restrict to water limits"
   ]
  },
  {
   "cell_type": "code",
   "execution_count": null,
   "id": "96e97a2c-8f9f-4b08-918a-fd25151f5826",
   "metadata": {},
   "outputs": [],
   "source": [
    "allloops_bound_sloped_watered = {}\n",
    "for sourcenode in tqdm(allloops_bound_sloped, desc=\"Restrict to water limits\"):\n",
    "    try:\n",
    "        numloops = len(allloops_bound_sloped[sourcenode][\"loops\"])\n",
    "        mask_this = [True] * numloops\n",
    "        for i in range(numloops):\n",
    "            wp = allloops_bound_sloped[sourcenode][\"water_profile\"][i]\n",
    "            water_enough = True\n",
    "            if wp:  # There is water on the way somewhere. Check distances\n",
    "                for w in wp:\n",
    "                    if w > WATERLENGTH_MAX:\n",
    "                        water_enough = False\n",
    "                        break\n",
    "                if water_enough and (\n",
    "                    allloops_bound_sloped[sourcenode][\"lengths\"][i] - wp[-1]\n",
    "                    > WATERLENGTH_MAX\n",
    "                ):\n",
    "                    water_enough = False\n",
    "            else:  # No water on the way, so the loop is only valid if short enough\n",
    "                if allloops_bound_sloped[sourcenode][\"lengths\"][i] > WATERLENGTH_MAX:\n",
    "                    water_enough = False\n",
    "            mask_this[i] = water_enough\n",
    "        allloops_bound_sloped_watered[sourcenode] = mask_node(\n",
    "            allloops_bound_sloped[sourcenode], mask_this\n",
    "        )\n",
    "    except:  # Account for 0 loop nodes\n",
    "        allloops_bound_sloped_watered[sourcenode] = {}"
   ]
  },
  {
   "cell_type": "code",
   "execution_count": null,
   "id": "129bfa04-bb31-4232-9227-d413da2ac6a6",
   "metadata": {},
   "outputs": [],
   "source": [
    "# Plot all bounded sloped loops\n",
    "vertex_sizes, vertex_colors = get_vertex_plotinfo(allloops_bound_sloped_watered)\n",
    "link_widths, link_colors = get_link_plotinfo(\n",
    "    edges,\n",
    "    var_bad=\"max_slope\",\n",
    "    var_good=\"poi_diversity\",\n",
    "    threshold_bad=SCENARIO[SCENARIOID][\"maxslope_limit\"],\n",
    "    threshold_good=1,\n",
    ")\n",
    "fig, ax = plot_dk_gdf(\n",
    "    nodes,\n",
    "    edges,\n",
    "    scale=1,\n",
    "    vertex_size=vertex_sizes,\n",
    "    vertex_color=vertex_colors,\n",
    "    link_width=link_widths,\n",
    "    link_color=link_colors,\n",
    ")\n",
    "plot_dk_scenariotext(ax, filterdepth=3)\n",
    "plot_dk_inset(fig, allloops_bound_sloped_watered, 8, 7800)\n",
    "\n",
    "\n",
    "fig.savefig(\n",
    "    PATH[\"plot\"]\n",
    "    + \"network_numloops_\"\n",
    "    + str(SCENARIO[SCENARIOID][\"looplength_min\"])\n",
    "    + \"to\"\n",
    "    + str(SCENARIO[SCENARIOID][\"looplength_max\"])\n",
    "    + \"_maxslope\"\n",
    "    + str(SCENARIO[SCENARIOID][\"maxslope_limit\"])\n",
    "    + \"_waterlength_max\"\n",
    "    + str(WATERLENGTH_MAX)\n",
    "    + \".\"\n",
    "    + PLOTPARAM[\"format\"]\n",
    ")"
   ]
  },
  {
   "cell_type": "markdown",
   "id": "8b52a724-7265-4329-ba10-ba1641f1016a",
   "metadata": {},
   "source": [
    "### Restrict with POI diversity"
   ]
  },
  {
   "cell_type": "code",
   "execution_count": null,
   "id": "1aa2a94a-1746-4598-bd74-acda903c2260",
   "metadata": {},
   "outputs": [],
   "source": [
    "allloops_bound_sloped_watered_diverse = {}\n",
    "for sourcenode in tqdm(\n",
    "    allloops_bound_sloped_watered, desc=\"Restrict with POI diversity\"\n",
    "):\n",
    "    try:\n",
    "        numloops = len(allloops_bound_sloped_watered[sourcenode][\"loops\"])\n",
    "        mask_this = [False] * numloops\n",
    "        for i in range(numloops):\n",
    "            poidiv = allloops_bound_sloped_watered[sourcenode][\"poi_diversity\"][i]\n",
    "            if poidiv >= 3:\n",
    "                mask_this[i] = True\n",
    "        allloops_bound_sloped_watered_diverse[sourcenode] = mask_node(\n",
    "            allloops_bound_sloped_watered[sourcenode], mask_this\n",
    "        )\n",
    "    except:  # Account for 0 loop nodes\n",
    "        allloops_bound_sloped_watered_diverse[sourcenode] = {}"
   ]
  },
  {
   "cell_type": "code",
   "execution_count": null,
   "id": "0c7b20e5-a371-4219-9bda-2a7e485c7d42",
   "metadata": {},
   "outputs": [],
   "source": [
    "# Plot all bounded sloped loops\n",
    "vertex_sizes, vertex_colors = get_vertex_plotinfo(allloops_bound_sloped_watered_diverse)\n",
    "link_widths, link_colors = get_link_plotinfo(\n",
    "    edges,\n",
    "    var_bad=\"max_slope\",\n",
    "    var_good=\"poi_diversity\",\n",
    "    threshold_bad=SCENARIO[SCENARIOID][\"maxslope_limit\"],\n",
    "    threshold_good=3,\n",
    ")\n",
    "fig, ax = plot_dk_gdf(\n",
    "    nodes,\n",
    "    edges,\n",
    "    scale=1,\n",
    "    vertex_size=vertex_sizes,\n",
    "    vertex_color=vertex_colors,\n",
    "    link_width=link_widths,\n",
    "    link_color=link_colors,\n",
    ")\n",
    "plot_dk_scenariotext(ax, filterdepth=4)\n",
    "plot_dk_inset(fig, allloops_bound_sloped_watered_diverse, 8, 7800)\n",
    "\n",
    "fig.savefig(\n",
    "    PATH[\"plot\"]\n",
    "    + \"network_numloops_\"\n",
    "    + str(SCENARIO[SCENARIOID][\"looplength_min\"])\n",
    "    + \"to\"\n",
    "    + str(SCENARIO[SCENARIOID][\"looplength_max\"])\n",
    "    + \"_maxslope\"\n",
    "    + str(SCENARIO[SCENARIOID][\"maxslope_limit\"])\n",
    "    + \"_waterlength_max\"\n",
    "    + str(WATERLENGTH_MAX)\n",
    "    + \"_poidiversity3\"\n",
    "    + \".\"\n",
    "    + PLOTPARAM[\"format\"]\n",
    ")"
   ]
  }
 ],
 "metadata": {
  "kernelspec": {
   "display_name": "bikenwloops",
   "language": "python",
   "name": "bikenwloops"
  },
  "language_info": {
   "codemirror_mode": {
    "name": "ipython",
    "version": 3
   },
   "file_extension": ".py",
   "mimetype": "text/x-python",
   "name": "python",
   "nbconvert_exporter": "python",
   "pygments_lexer": "ipython3",
   "version": "3.12.2"
  }
 },
 "nbformat": 4,
 "nbformat_minor": 5
}
