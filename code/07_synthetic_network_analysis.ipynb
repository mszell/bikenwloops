{
 "cells": [
  {
   "cell_type": "markdown",
   "id": "2e582dfd",
   "metadata": {},
   "source": [
    "# 07. Synthetic network analysis\n",
    "## Project: Bicycle node network loop analysis"
   ]
  },
  {
   "cell_type": "markdown",
   "id": "2bc9b960",
   "metadata": {},
   "source": [
    "This notebook analyses synthetic networks (lattices).\n",
    "\n",
    "Contact: Michael Szell (michael.szell@gmail.com)\n",
    "\n",
    "Created: 2024-10-28  \n",
    "Last modified: 2025-08-29"
   ]
  },
  {
   "cell_type": "markdown",
   "id": "816924f7-7ddc-44a1-bcd7-fbf203a41b1d",
   "metadata": {},
   "source": [
    "## Parameters"
   ]
  },
  {
   "cell_type": "code",
   "execution_count": null,
   "id": "fb810d3b-192d-47d8-8d62-d699be65bcad",
   "metadata": {},
   "outputs": [],
   "source": [
    "%run -i setup_parameters.py\n",
    "load_data = True  # Set to False if data are huge and have already been loaded\n",
    "debug = True  # Set to True for extra plots and verbosity\n",
    "\n",
    "gsize_set = 4  # number of nodes in each dimension. Networks will have ~size^2 nodes.\n",
    "linklength = 1000  # m"
   ]
  },
  {
   "cell_type": "markdown",
   "id": "876e2b5b",
   "metadata": {},
   "source": [
    "## Functions"
   ]
  },
  {
   "cell_type": "code",
   "execution_count": null,
   "id": "9a407c7e",
   "metadata": {},
   "outputs": [],
   "source": [
    "%run -i functions.py"
   ]
  },
  {
   "cell_type": "markdown",
   "id": "8d018a0f-e7a3-4638-bc72-f1457c40ba66",
   "metadata": {},
   "source": [
    "## Load data"
   ]
  },
  {
   "cell_type": "code",
   "execution_count": null,
   "id": "588b162f-d994-4dfd-8453-c9ba5978863f",
   "metadata": {},
   "outputs": [],
   "source": [
    "if load_data:\n",
    "    if LOOP_LENGTH_BOUND:\n",
    "        llb_string = \"_maxlength\" + str(LOOP_LENGTH_BOUND)\n",
    "    else:\n",
    "        llb_string = \"\"\n",
    "\n",
    "    with open(\n",
    "        PATH[\"data_out\"]\n",
    "        + \"loopcensus_\"\n",
    "        + str(LOOP_NUMNODE_BOUND)\n",
    "        + llb_string\n",
    "        + \".pkl\",\n",
    "        \"rb\",\n",
    "    ) as f:\n",
    "        allloops = pickle.load(f)\n",
    "        alllooplengths = pickle.load(f)\n",
    "        allloopnumnodes = pickle.load(f)\n",
    "        allloopmaxslopes = pickle.load(f)\n",
    "        Gnx_DK = pickle.load(f)\n",
    "        LOOP_NUMNODE_BOUND = pickle.load(f)\n",
    "        nodes_id = pickle.load(f)\n",
    "        nodes_coords = pickle.load(f)\n",
    "        numloops = pickle.load(f)\n",
    "        faceloops = pickle.load(f)"
   ]
  },
  {
   "cell_type": "markdown",
   "id": "87d73047-3096-4074-b343-001a630d8a30",
   "metadata": {},
   "source": [
    "## Analytical comparison link lengths vs faceloops"
   ]
  },
  {
   "cell_type": "code",
   "execution_count": null,
   "id": "3244a07e-d441-4d49-b866-b3801debdede",
   "metadata": {},
   "outputs": [],
   "source": [
    "print(\"Target link length: \" + str(LINK_LIMIT[0]) + \" to \" + str(LINK_LIMIT[1]))\n",
    "print(\"\")\n",
    "print(\n",
    "    \"Target face loop length: \"\n",
    "    + str(FACELOOP_LIMIT[0])\n",
    "    + \" to \"\n",
    "    + str(FACELOOP_LIMIT[1])\n",
    ")\n",
    "for n in [3, 4, 6]:  # Regular grids\n",
    "    print(\n",
    "        \" \"\n",
    "        + str(n)\n",
    "        + \"-gon face loop length: \"\n",
    "        + str(n * LINK_LIMIT[0])\n",
    "        + \" to \"\n",
    "        + str(n * LINK_LIMIT[1])\n",
    "    )\n",
    "\n",
    "for n in [3, 4]:  # Staggered grids\n",
    "    print(\n",
    "        \"S\"\n",
    "        + str(n)\n",
    "        + \"-gon face loop length: \"\n",
    "        + str(2 * n * LINK_LIMIT[0])\n",
    "        + \" to \"\n",
    "        + str(n * LINK_LIMIT[1])\n",
    "    )"
   ]
  },
  {
   "cell_type": "code",
   "execution_count": null,
   "id": "19056312-f610-4c61-96cb-90a1b636013f",
   "metadata": {},
   "outputs": [],
   "source": [
    "degree_hist = nx.degree_histogram(Gnx_DK)\n",
    "print(list(range(len(degree_hist))))\n",
    "print(degree_hist)\n",
    "print([d / sum(degree_hist) for d in degree_hist])\n",
    "print(str(round(100 * degree_hist[3] / sum(degree_hist))) + \"% of nodes have degree 3.\")"
   ]
  },
  {
   "cell_type": "markdown",
   "id": "bcd4d066",
   "metadata": {},
   "source": [
    "## Create synthetic networks"
   ]
  },
  {
   "cell_type": "code",
   "execution_count": null,
   "id": "6325185d-c32f-4c3a-9320-ebc982215b9b",
   "metadata": {},
   "outputs": [],
   "source": [
    "Gnx_synth = {\n",
    "    \"tri\": {\"constructor\": nx.triangular_lattice_graph},\n",
    "    \"grid\": {\"constructor\": nx.grid_2d_graph},\n",
    "    # To do: Add staggered grid (all degree 3 nodes)\n",
    "    # Inspiration: https://github.com/networkx/networkx/blob/478183cb7c692a82dd529c58f20d05a17b271242/networkx/generators/lattice.py#L37\n",
    "    \"hex\": {\"constructor\": nx.hexagonal_lattice_graph},\n",
    "}"
   ]
  },
  {
   "cell_type": "code",
   "execution_count": null,
   "id": "e27e0991-5ac5-4fba-8415-602f244d728b",
   "metadata": {},
   "outputs": [],
   "source": [
    "for gsize in range(2, 11):\n",
    "    for gtype in Gnx_synth:\n",
    "        Gnx_synth[gtype][gsize] = {}\n",
    "        Gnx_synth[gtype][gsize][\"Gnx\"] = Gnx_synth[gtype][\"constructor\"](gsize, gsize)\n",
    "        if gtype == \"grid\":\n",
    "            pos = dict(\n",
    "                zip(Gnx_synth[gtype][gsize][\"Gnx\"], Gnx_synth[gtype][gsize][\"Gnx\"])\n",
    "            )  # Source: https://stackoverflow.com/a/37106552\n",
    "            nx.set_node_attributes(Gnx_synth[gtype][gsize][\"Gnx\"], pos, \"pos\")\n",
    "        nx.set_edge_attributes(\n",
    "            Gnx_synth[gtype][gsize][\"Gnx\"], linklength, name=\"weight\"\n",
    "        )\n",
    "\n",
    "        # Scale by linklength\n",
    "        nx.set_node_attributes(\n",
    "            Gnx_synth[gtype][gsize][\"Gnx\"],\n",
    "            {\n",
    "                k: (linklength * v[0], linklength * v[1])\n",
    "                for (k, v) in nx.get_node_attributes(\n",
    "                    Gnx_synth[gtype][gsize][\"Gnx\"], \"pos\"\n",
    "                ).items()\n",
    "            },\n",
    "            \"pos\",\n",
    "        )\n",
    "\n",
    "        # momepy format\n",
    "        (\n",
    "            Gnx_synth[gtype][gsize][\"nodes\"],\n",
    "            Gnx_synth[gtype][gsize][\"links\"],\n",
    "        ) = synthnx_to_momepy(Gnx_synth[gtype][gsize][\"Gnx\"])"
   ]
  },
  {
   "cell_type": "code",
   "execution_count": null,
   "id": "22fc938d-2654-4a91-bfd4-ad40726c487b",
   "metadata": {},
   "outputs": [],
   "source": [
    "gsize = gsize_set\n",
    "if debug:\n",
    "    fig, axs = plt.subplots(1, 3, figsize=(9, 3))\n",
    "    for i, gtype in enumerate(Gnx_synth):\n",
    "        nx.draw(\n",
    "            Gnx_synth[gtype][gsize][\"Gnx\"],\n",
    "            pos=nx.get_node_attributes(Gnx_synth[gtype][gsize][\"Gnx\"], \"pos\"),\n",
    "            ax=axs[i],\n",
    "            node_size=8,\n",
    "        )\n",
    "\n",
    "fig, axs = plt.subplots(1, 3, figsize=(9, 3))\n",
    "for i, gtype in enumerate(Gnx_synth):\n",
    "    Gnx_synth[gtype][gsize][\"nodes\"].plot(ax=axs[i])\n",
    "    Gnx_synth[gtype][gsize][\"links\"].plot(ax=axs[i])\n",
    "    axs[i].set_axis_off()\n",
    "    axs[i].text(0.01, 0.95, \"c\", transform=axs[i].transAxes, weight=\"bold\", size=9)"
   ]
  },
  {
   "cell_type": "markdown",
   "id": "1c51bca5-ce82-493b-8f8f-11ee78758b48",
   "metadata": {},
   "source": [
    "## Get all loops, for one case"
   ]
  },
  {
   "cell_type": "code",
   "execution_count": null,
   "id": "50f28da0-62f8-45a9-a3dd-b90d929816a7",
   "metadata": {},
   "outputs": [],
   "source": [
    "gtype = \"grid\""
   ]
  },
  {
   "cell_type": "code",
   "execution_count": null,
   "id": "539d8d66-4d0f-4e4e-a346-d329b0f379f5",
   "metadata": {},
   "outputs": [],
   "source": [
    "gsize = gsize_set\n",
    "Gnx = Gnx_synth[gtype][gsize][\"Gnx\"]\n",
    "Gnx_nodes = Gnx_synth[gtype][gsize][\"nodes\"]\n",
    "Gnx_links = Gnx_synth[gtype][gsize][\"links\"]"
   ]
  },
  {
   "cell_type": "code",
   "execution_count": null,
   "id": "286ae0ca-2095-4ea8-a938-36a4c3c2611b",
   "metadata": {},
   "outputs": [],
   "source": [
    "# Get all loops, meaning a loop ABCA is counted also as ABCA, BCAB, and CABC\n",
    "allloops = {}\n",
    "nodes_done = set()\n",
    "numloops = 0\n",
    "allloops_generator = nx.simple_cycles(\n",
    "    Gnx_synth[gtype][gsize][\"Gnx\"], length_bound=LOOP_NUMNODE_BOUND\n",
    ")  # length refers to number of nodes\n",
    "for c in tqdm(allloops_generator, desc=\"Generate all loops\"):\n",
    "    sourcenode = c[0]\n",
    "    c_length = get_loop_length(c)\n",
    "    # LOOP_LENGTH_BOUND is 0 for no limit, or a number (meters)\n",
    "    if not LOOP_LENGTH_BOUND or c_length * MPERUNIT <= LOOP_LENGTH_BOUND:\n",
    "        for sourcenode in c:\n",
    "            numloops += 1\n",
    "            if sourcenode in nodes_done:\n",
    "                allloops[sourcenode][\"loops\"].append(c)\n",
    "                allloops[sourcenode][\"lengths\"].append(c_length)\n",
    "                allloops[sourcenode][\"numnodes\"].append(len(c))\n",
    "            else:\n",
    "                allloops[sourcenode] = {\n",
    "                    \"loops\": [c],\n",
    "                    \"lengths\": [c_length],\n",
    "                    \"numnodes\": [len(c)],\n",
    "                }\n",
    "                nodes_done.add(sourcenode)\n",
    "if LOOP_LENGTH_BOUND:\n",
    "    llb_string = \" and length bound \" + str(LOOP_LENGTH_BOUND) + \"m\"\n",
    "else:\n",
    "    llb_string = \"\"\n",
    "print(\n",
    "    \"Found \"\n",
    "    + str(numloops)\n",
    "    + \" loops for number of nodes bound \"\n",
    "    + str(LOOP_NUMNODE_BOUND)\n",
    "    + llb_string\n",
    ")\n",
    "Gnx_synth[gtype][gsize][\"alloops\"] = allloops\n",
    "Gnx_synth[gtype][gsize][\"numloops\"] = numloops\n",
    "\n",
    "\n",
    "allloops_bound = {}\n",
    "numloops_bound = 0\n",
    "for sourcenode in tqdm(allloops, desc=\"Restrict to scenario lengths\"):\n",
    "    try:\n",
    "        lengths_this = np.array(allloops[sourcenode][\"lengths\"] * MPERUNIT)\n",
    "        mask_this = (lengths_this >= SCENARIO[SCENARIOID][\"looplength_min\"]) & (\n",
    "            lengths_this <= SCENARIO[SCENARIOID][\"looplength_max\"]\n",
    "        )\n",
    "        allloops_bound[sourcenode] = mask_node(\n",
    "            allloops[sourcenode], mask_this, [\"loops\", \"lengths\", \"numnodes\"]\n",
    "        )\n",
    "        numloops_bound += np.count_nonzero(mask_this)\n",
    "    except:  # Account for 0 loop nodes\n",
    "        allloops_bound[sourcenode] = {}\n",
    "Gnx_synth[gtype][gsize][\"allloops_bound\"] = allloops_bound\n",
    "Gnx_synth[gtype][gsize][\"numloops_bound\"] = numloops_bound\n",
    "print(\"Found \" + str(numloops_bound) + \" loops for scenario\")"
   ]
  },
  {
   "cell_type": "code",
   "execution_count": null,
   "id": "9337e769-3073-44a4-aba7-b9542efc2fce",
   "metadata": {
    "scrolled": true
   },
   "outputs": [],
   "source": [
    "# Plot all bounded loops\n",
    "vertex_size, vertex_color = get_vertex_plotinfo(\n",
    "    Gnx_synth[gtype][gsize][\"allloops_bound\"]\n",
    ")\n",
    "\n",
    "fig = plt.figure(\n",
    "    figsize=(0.3 * 640 / PLOTPARAM[\"dpi\"], 0.3 * 640 / PLOTPARAM[\"dpi\"]),\n",
    "    dpi=PLOTPARAM[\"dpi\"],\n",
    ")\n",
    "ax = fig.add_axes(\n",
    "    [-0.03, -0.03, 1.06, 1.06]\n",
    ")  # negative because plot() introduces a padding\n",
    "if Gnx_synth[gtype][gsize][\"nodes\"] is not None:\n",
    "    Gnx_synth[gtype][gsize][\"nodes\"].plot(\n",
    "        ax=ax,\n",
    "        zorder=1,\n",
    "        markersize=vertex_size,\n",
    "        alpha=1,\n",
    "        color=vertex_color,\n",
    "        edgecolor=PLOTPARAM[\"color\"][\"neutral\"],\n",
    "        linewidth=0.6,\n",
    "    )\n",
    "Gnx_synth[gtype][gsize][\"links\"].plot(\n",
    "    ax=ax, zorder=0, linewidth=0.3, color=PLOTPARAM[\"color\"][\"neutral\"]\n",
    ")\n",
    "\n",
    "ax.set_axis_off()"
   ]
  },
  {
   "cell_type": "markdown",
   "id": "6158f773-73db-4710-8d4c-46c4f2187d6e",
   "metadata": {},
   "source": [
    "## Get all loop numbers, systematically"
   ]
  },
  {
   "cell_type": "code",
   "execution_count": null,
   "id": "c4e952a9-5496-44fc-8249-e3880ede7b52",
   "metadata": {},
   "outputs": [],
   "source": [
    "sysruns = {\"gsizes\": [3, 4, 5], \"gtypes\": [\"tri\", \"grid\"], \"linklengths\": [1000, 5000]}\n",
    "sysresults = {}\n",
    "sysruns_single = list(product(*sysruns.values()))\n",
    "for gsize, gtype, linklength in sysruns_single:\n",
    "    print(gsize, gtype, linklength)\n",
    "    Gnx = Gnx_synth[gtype][gsize][\"Gnx\"]\n",
    "    numloops = 0\n",
    "    allloops_generator = nx.simple_cycles(\n",
    "        Gnx, length_bound=LOOP_NUMNODE_BOUND\n",
    "    )  # length refers to number of nodes\n",
    "    for c in tqdm(allloops_generator, desc=\"Generate all loops\"):\n",
    "        sourcenode = c[0]\n",
    "        c_length = get_loop_length(c)\n",
    "        if (\n",
    "            c_length * MPERUNIT >= SCENARIO[SCENARIOID][\"looplength_min\"]\n",
    "            and c_length * MPERUNIT <= SCENARIO[SCENARIOID][\"looplength_max\"]\n",
    "        ):\n",
    "            for sourcenode in c:\n",
    "                numloops += 1\n",
    "    sysresults[gsize, gtype, linklength] = numloops\n",
    "\n",
    "sysresults"
   ]
  }
 ],
 "metadata": {
  "kernelspec": {
   "display_name": "bikenwloops",
   "language": "python",
   "name": "bikenwloops"
  },
  "language_info": {
   "codemirror_mode": {
    "name": "ipython",
    "version": 3
   },
   "file_extension": ".py",
   "mimetype": "text/x-python",
   "name": "python",
   "nbconvert_exporter": "python",
   "pygments_lexer": "ipython3",
   "version": "3.12.11"
  }
 },
 "nbformat": 4,
 "nbformat_minor": 5
}
