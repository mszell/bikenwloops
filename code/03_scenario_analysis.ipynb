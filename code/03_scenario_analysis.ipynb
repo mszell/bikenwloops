{
 "cells": [
  {
   "cell_type": "markdown",
   "id": "2e582dfd",
   "metadata": {},
   "source": [
    "# 03. Scenario analysis\n",
    "## Project: Bicycle node network loop analysis"
   ]
  },
  {
   "cell_type": "markdown",
   "id": "2bc9b960",
   "metadata": {},
   "source": [
    "This notebook analyses loops created in notebook 01 with different scenarios.  \n",
    "For now explore two scenarios:  \n",
    "1. Family with small children: 5-20km, max slope 4%\n",
    "1. Teenage/adult leisure cyclist: 10-40km, max slope 6%\n",
    "\n",
    "Contact: Michael Szell (michael.szell@gmail.com)\n",
    "\n",
    "Created: 2024-10-07  \n",
    "Last modified: 2024-10-07"
   ]
  },
  {
   "cell_type": "markdown",
   "id": "5126c030",
   "metadata": {},
   "source": [
    "## To do\n",
    "- [ ] Refactor with functions for restrictions\n",
    "- [ ] Sudden bad weather/accident scenario for family: if k km travelled, what is shortest path back with/without/how much overlaps?\n",
    "- [ ] Re-think or drop due to coastline effects: Kommune cohesion: Loops vs distance to nearest kommune\n",
    "- [ ] How much of network due to topography / existing paths?\n",
    "- [ ] Study ideal triangle grid?\n",
    "- [ ] Quantify?: information explosion huge first, but gets smaller with each node passed\n",
    "- [X] POI analysis"
   ]
  },
  {
   "cell_type": "markdown",
   "id": "816924f7-7ddc-44a1-bcd7-fbf203a41b1d",
   "metadata": {},
   "source": [
    "## Parameters"
   ]
  },
  {
   "cell_type": "code",
   "execution_count": null,
   "id": "fb810d3b-192d-47d8-8d62-d699be65bcad",
   "metadata": {},
   "outputs": [],
   "source": [
    "%run -i setup_parameters.py\n",
    "load_data = True  # Set to False if data are huge and have already been loaded\n",
    "debug = True  # Set to True for extra plots and verbosity\n",
    "\n",
    "if PLOTLOGSCALE:\n",
    "    logtextplot = \"2^\"\n",
    "    logtextsave = \"_logscale\"\n",
    "else:\n",
    "    logtextplot = \"\"\n",
    "    logtextsave = \"\""
   ]
  },
  {
   "cell_type": "markdown",
   "id": "876e2b5b",
   "metadata": {},
   "source": [
    "## Functions"
   ]
  },
  {
   "cell_type": "code",
   "execution_count": null,
   "id": "9a407c7e",
   "metadata": {},
   "outputs": [],
   "source": [
    "%run -i functions.py"
   ]
  },
  {
   "cell_type": "markdown",
   "id": "bcd4d066",
   "metadata": {},
   "source": [
    "## Load data"
   ]
  },
  {
   "cell_type": "markdown",
   "id": "731b1fbd-6ce8-431d-a097-e8f13313da26",
   "metadata": {},
   "source": [
    "This can take several minutes."
   ]
  },
  {
   "cell_type": "code",
   "execution_count": null,
   "id": "cf6ab763",
   "metadata": {},
   "outputs": [],
   "source": [
    "if load_data:\n",
    "    with open(\n",
    "        PATH[\"data_out\"] + \"loopcensus_\" + str(LOOP_NUMNODE_BOUND) + \".pkl\", \"rb\"\n",
    "    ) as f:\n",
    "        allloops = pickle.load(f)\n",
    "        alllooplengths = pickle.load(f)\n",
    "        allloopnumnodes = pickle.load(f)\n",
    "        allloopmaxslopes = pickle.load(f)\n",
    "        G = pickle.load(f)\n",
    "        LOOP_NUMNODE_BOUND = pickle.load(f)\n",
    "        nodes_id = pickle.load(f)\n",
    "        nodes_coords = pickle.load(f)\n",
    "        numloops = pickle.load(f)\n",
    "        faceloops = pickle.load(f)"
   ]
  },
  {
   "cell_type": "code",
   "execution_count": null,
   "id": "f13c5935",
   "metadata": {},
   "outputs": [],
   "source": [
    "# Plot to double-check\n",
    "if debug:\n",
    "    plotCheck(\n",
    "        G,\n",
    "        nodes_id,\n",
    "        nodes_coords,\n",
    "        vertex_size=get_vertexsize(G.vcount()),\n",
    "        edge_width=get_edgewidth(G.ecount()),\n",
    "    )"
   ]
  },
  {
   "cell_type": "markdown",
   "id": "fedbbbd0",
   "metadata": {},
   "source": [
    "## Analyse"
   ]
  },
  {
   "cell_type": "markdown",
   "id": "b77735f4-51b8-473f-b5b9-4d5577322abc",
   "metadata": {},
   "source": [
    "### Max slopes"
   ]
  },
  {
   "cell_type": "code",
   "execution_count": null,
   "id": "045eded7-db81-4d0f-aee2-f47f6bf7fe3b",
   "metadata": {},
   "outputs": [],
   "source": [
    "linkmaxslopes = [e[\"max_slope\"] for e in G.es]\n",
    "fig = plt.figure(figsize=(4, 3))\n",
    "axes = fig.add_axes([0.16, 0.16, 0.76, 0.75])\n",
    "\n",
    "histxy = axes.hist(linkmaxslopes, bins=[i / 4 for i in list(range(32))], density=False)\n",
    "axes.plot([MAXSLOPE_LIMIT, MAXSLOPE_LIMIT], [0, max(histxy[0])], \":r\")\n",
    "axes.text(\n",
    "    MAXSLOPE_LIMIT * 0.95,\n",
    "    max(histxy[0]),\n",
    "    str(\n",
    "        round(\n",
    "            len([i for i, x in enumerate(linkmaxslopes) if (x < MAXSLOPE_LIMIT)])\n",
    "            / len(linkmaxslopes)\n",
    "            * 100\n",
    "        )\n",
    "    )\n",
    "    + \"%\",\n",
    "    horizontalalignment=\"right\",\n",
    "    verticalalignment=\"top\",\n",
    ")\n",
    "axes.text(\n",
    "    MAXSLOPE_LIMIT * 1.05,\n",
    "    max(histxy[0]),\n",
    "    str(\n",
    "        round(\n",
    "            len([i for i, x in enumerate(linkmaxslopes) if (x >= MAXSLOPE_LIMIT)])\n",
    "            / len(linkmaxslopes)\n",
    "            * 100\n",
    "        )\n",
    "    )\n",
    "    + \"%\",\n",
    "    horizontalalignment=\"left\",\n",
    "    verticalalignment=\"top\",\n",
    "    color=\"red\",\n",
    ")\n",
    "axes.set_xlabel(\"Max slope [%]\")\n",
    "axes.set_ylabel(\"Frequency\")\n",
    "axes.set_title(\"Link max slopes\")\n",
    "axes.set_xlim([0, 8])\n",
    "\n",
    "fig.savefig(PATH[\"plot\"] + \"maxslopes_maxslope\" + str(MAXSLOPE_LIMIT))"
   ]
  },
  {
   "cell_type": "markdown",
   "id": "3fa49509-bb82-471c-a6f3-4aaed38086fa",
   "metadata": {},
   "source": [
    "### Restrict to scenario lengths"
   ]
  },
  {
   "cell_type": "code",
   "execution_count": null,
   "id": "73934a5a",
   "metadata": {},
   "outputs": [],
   "source": [
    "allloops_bound = {}\n",
    "for sourcenode in tqdm(allloops, desc=\"Restrict to scenario lenghts\"):\n",
    "    this_lengths = np.array(allloops[sourcenode][\"lengths\"]) * MPERUNIT\n",
    "    mask_this = (this_lengths >= RESTRICTIONS[\"looplength_min\"]) & (\n",
    "        this_lengths <= RESTRICTIONS[\"looplength_max\"]\n",
    "    )\n",
    "    allloops_bound[sourcenode] = {\n",
    "        \"loops\": list(compress(allloops[sourcenode][\"loops\"], mask_this)),\n",
    "        \"lengths\": list(compress(allloops[sourcenode][\"lengths\"], mask_this)),\n",
    "        \"numnodes\": list(compress(allloops[sourcenode][\"numnodes\"], mask_this)),\n",
    "        \"water_profile\": list(\n",
    "            compress(allloops[sourcenode][\"water_profile\"], mask_this)\n",
    "        ),\n",
    "        \"poi_diversity\": list(\n",
    "            compress(allloops[sourcenode][\"poi_diversity\"], mask_this)\n",
    "        ),\n",
    "    }"
   ]
  },
  {
   "cell_type": "code",
   "execution_count": null,
   "id": "615ec811",
   "metadata": {},
   "outputs": [],
   "source": [
    "vertex_sizes = []\n",
    "for k in range(len(allloops_bound.keys())):\n",
    "    try:\n",
    "        if PLOTLOGSCALE:\n",
    "            vertex_sizes.append(np.log2(len(allloops_bound[k][\"loops\"]) + 1))\n",
    "        else:\n",
    "            vertex_sizes.append(len(allloops_bound[k][\"loops\"]))\n",
    "    except:\n",
    "        vertex_sizes.append(0)\n",
    "\n",
    "numloops_max = max(vertex_sizes)\n",
    "vertex_sizes = [i / (numloops_max / 20) for i in vertex_sizes]"
   ]
  },
  {
   "cell_type": "code",
   "execution_count": null,
   "id": "e3d8340b",
   "metadata": {},
   "outputs": [],
   "source": [
    "fig = plotCheck(\n",
    "    G,\n",
    "    nodes_id,\n",
    "    nodes_coords,\n",
    "    vertex_size=vertex_sizes,\n",
    "    edge_width=get_edgewidth(G.ecount()),\n",
    ")\n",
    "plt.text(0, 0.04, \"Max # of loops: \" + logtextplot + str(round(numloops_max, 2)))\n",
    "plt.tight_layout()\n",
    "\n",
    "fig.savefig(\n",
    "    PATH[\"plot\"]\n",
    "    + \"network_numloops_\"\n",
    "    + str(RESTRICTIONS[\"looplength_min\"])\n",
    "    + \"to\"\n",
    "    + str(RESTRICTIONS[\"looplength_max\"])\n",
    "    + logtextsave\n",
    ")"
   ]
  },
  {
   "cell_type": "markdown",
   "id": "ab5423e1",
   "metadata": {},
   "source": [
    "### Restrict to scenario gradients"
   ]
  },
  {
   "cell_type": "code",
   "execution_count": null,
   "id": "906c9b7c",
   "metadata": {},
   "outputs": [],
   "source": [
    "allloops_bound = {}\n",
    "for sourcenode in tqdm(allloops, desc=\"Restrict to scenario gradients\"):\n",
    "    this_lengths = np.array(allloops[sourcenode][\"lengths\"]) * MPERUNIT\n",
    "    this_maxslopes = np.array(allloops[sourcenode][\"max_slopes\"])\n",
    "    mask_this = this_lengths >= RESTRICTIONS[\"looplength_min\"]\n",
    "    mask_this &= this_lengths <= RESTRICTIONS[\"looplength_max\"]\n",
    "    mask_this &= this_maxslopes <= RESTRICTIONS[\"slope_max\"]\n",
    "    allloops_bound[sourcenode] = {\n",
    "        \"loops\": list(compress(allloops[sourcenode][\"loops\"], mask_this)),\n",
    "        \"lengths\": list(compress(allloops[sourcenode][\"lengths\"], mask_this)),\n",
    "        \"numnodes\": list(compress(allloops[sourcenode][\"numnodes\"], mask_this)),\n",
    "        \"water_profile\": list(\n",
    "            compress(allloops[sourcenode][\"water_profile\"], mask_this)\n",
    "        ),\n",
    "        \"poi_diversity\": list(\n",
    "            compress(allloops[sourcenode][\"poi_diversity\"], mask_this)\n",
    "        ),\n",
    "    }"
   ]
  },
  {
   "cell_type": "code",
   "execution_count": null,
   "id": "c97e46a1",
   "metadata": {},
   "outputs": [],
   "source": [
    "vertex_sizes = []\n",
    "for k in range(len(allloops_bound.keys())):\n",
    "    try:\n",
    "        if PLOTLOGSCALE:\n",
    "            vertex_sizes.append(np.log2(len(allloops_bound[k][\"loops\"]) + 1.01))\n",
    "        else:\n",
    "            vertex_sizes.append(len(allloops_bound[k][\"loops\"]))\n",
    "    except:\n",
    "        vertex_sizes.append(0)\n",
    "\n",
    "numloops_max = max(vertex_sizes)\n",
    "vertex_sizes = [i / (numloops_max / 20) for i in vertex_sizes]\n",
    "\n",
    "edge_colors = []\n",
    "for e in G.es:\n",
    "    if e[\"max_slope\"] > RESTRICTIONS[\"slope_max\"]:\n",
    "        edge_colors.append(\"red\")\n",
    "    else:\n",
    "        edge_colors.append(\"grey\")"
   ]
  },
  {
   "cell_type": "code",
   "execution_count": null,
   "id": "b053a388",
   "metadata": {},
   "outputs": [],
   "source": [
    "fig = plotCheck(\n",
    "    G,\n",
    "    nodes_id,\n",
    "    nodes_coords,\n",
    "    vertex_size=vertex_sizes,\n",
    "    edge_color=edge_colors,\n",
    "    edge_width=get_edgewidth(G.ecount()),\n",
    ")\n",
    "plt.text(\n",
    "    0,\n",
    "    0.12,\n",
    "    \"Red: Gradient >\" + str(RESTRICTIONS[\"slope_max\"]) + \"%\",\n",
    "    fontsize=8,\n",
    ")\n",
    "plt.text(0, 0.04, \"Max # of loops: \" + logtextplot + str(round(numloops_max, 2)))\n",
    "plt.tight_layout()\n",
    "\n",
    "fig.savefig(\n",
    "    PATH[\"plot\"]\n",
    "    + \"network_numloops_\"\n",
    "    + str(RESTRICTIONS[\"looplength_min\"])\n",
    "    + \"to\"\n",
    "    + str(RESTRICTIONS[\"looplength_max\"])\n",
    "    + \"_maxslope\"\n",
    "    + str(RESTRICTIONS[\"slope_max\"])\n",
    "    + logtextsave\n",
    ")"
   ]
  },
  {
   "cell_type": "markdown",
   "id": "ccef1cf2-5799-4462-8449-08e573ee1bce",
   "metadata": {},
   "source": [
    "### Restrict to water limits"
   ]
  },
  {
   "cell_type": "code",
   "execution_count": null,
   "id": "96e97a2c-8f9f-4b08-918a-fd25151f5826",
   "metadata": {},
   "outputs": [],
   "source": [
    "allloops_bound_watered = {}\n",
    "for sourcenode in allloops_bound:\n",
    "    numloops = len(allloops_bound[sourcenode][\"loops\"])\n",
    "    mask_this = [True] * numloops\n",
    "    for i in range(numloops):\n",
    "        wp = allloops_bound[sourcenode][\"water_profile\"][i]\n",
    "        water_enough = True\n",
    "        if wp:  # There is water on the way somewhere. Check distances\n",
    "            for w in wp:\n",
    "                if w > RESTRICTIONS[\"waterlength_max\"]:\n",
    "                    water_enough = False\n",
    "                    break\n",
    "            if water_enough and (\n",
    "                allloops_bound[sourcenode][\"lengths\"][i] - wp[-1]\n",
    "                > RESTRICTIONS[\"waterlength_max\"]\n",
    "            ):\n",
    "                water_enough = False\n",
    "        else:  # No water on the way, so the loop is only valid if short enough\n",
    "            if (\n",
    "                allloops_bound[sourcenode][\"lengths\"][i]\n",
    "                > RESTRICTIONS[\"waterlength_max\"]\n",
    "            ):\n",
    "                water_enough = False\n",
    "        mask_this[i] = water_enough\n",
    "    allloops_bound_watered[sourcenode] = {\n",
    "        \"loops\": list(compress(allloops_bound[sourcenode][\"loops\"], mask_this)),\n",
    "        \"lengths\": list(compress(allloops_bound[sourcenode][\"lengths\"], mask_this)),\n",
    "        \"numnodes\": list(compress(allloops_bound[sourcenode][\"numnodes\"], mask_this)),\n",
    "        \"water_profile\": list(\n",
    "            compress(allloops_bound[sourcenode][\"water_profile\"], mask_this)\n",
    "        ),\n",
    "        \"poi_diversity\": list(\n",
    "            compress(allloops_bound[sourcenode][\"poi_diversity\"], mask_this)\n",
    "        ),\n",
    "    }"
   ]
  },
  {
   "cell_type": "code",
   "execution_count": null,
   "id": "129bfa04-bb31-4232-9227-d413da2ac6a6",
   "metadata": {},
   "outputs": [],
   "source": [
    "vertex_sizes = []\n",
    "for k in range(len(allloops_bound_watered.keys())):\n",
    "    try:\n",
    "        if PLOTLOGSCALE:\n",
    "            vertex_sizes.append(np.log2(len(allloops_bound_watered[k][\"loops\"]) + 1.01))\n",
    "        else:\n",
    "            vertex_sizes.append(len(allloops_bound_watered[k][\"loops\"]))\n",
    "\n",
    "    except:\n",
    "        vertex_sizes.append(0)\n",
    "\n",
    "numloops_max = max(vertex_sizes)\n",
    "vertex_sizes = [i / (numloops_max / 20) for i in vertex_sizes]\n",
    "\n",
    "edge_colors = []\n",
    "for e in G.es:\n",
    "    if e[\"max_slope\"] > RESTRICTIONS[\"slope_max\"]:  # and not e[\"has_water\"]:\n",
    "        edge_colors.append(\"red\")\n",
    "    # elif e[\"max_slope\"] > RESTRICTIONS[\"slope_max\"] and e[\"has_water\"]:\n",
    "    #     edge_colors.append(\"orange\")\n",
    "    elif e[\"max_slope\"] <= RESTRICTIONS[\"slope_max\"] and e[\"has_water\"]:\n",
    "        edge_colors.append(\"blue\")\n",
    "    else:\n",
    "        edge_colors.append(\"grey\")"
   ]
  },
  {
   "cell_type": "code",
   "execution_count": null,
   "id": "46ebeaf5-8874-4704-a0e4-11386fb044ad",
   "metadata": {},
   "outputs": [],
   "source": [
    "fig = plotCheck(\n",
    "    G,\n",
    "    nodes_id,\n",
    "    nodes_coords,\n",
    "    vertex_size=vertex_sizes,\n",
    "    edge_color=edge_colors,\n",
    "    edge_width=get_edgewidth(G.ecount()),\n",
    ")\n",
    "plt.text(\n",
    "    0,\n",
    "    0.17,\n",
    "    \"Blue: Gradient <=\" + str(RESTRICTIONS[\"slope_max\"]) + \"% and water\",\n",
    "    fontsize=8,\n",
    ")\n",
    "# plt.text(0,0.17, \"Orange: Gradient >\"+ str(RESTRICTIONS[\"slope_max\"])+\"% and water\", fontsize=8);\n",
    "plt.text(\n",
    "    0,\n",
    "    0.12,\n",
    "    \"Red: Gradient >\" + str(RESTRICTIONS[\"slope_max\"]) + \"%\",\n",
    "    fontsize=8,\n",
    ")\n",
    "plt.text(0, 0.04, \"Max # of loops: \" + logtextplot + str(round(numloops_max, 2)))\n",
    "plt.tight_layout()\n",
    "\n",
    "fig.savefig(\n",
    "    PATH[\"plot\"]\n",
    "    + \"network_numloops_\"\n",
    "    + str(RESTRICTIONS[\"looplength_min\"])\n",
    "    + \"to\"\n",
    "    + str(RESTRICTIONS[\"looplength_max\"])\n",
    "    + \"_maxslope\"\n",
    "    + str(RESTRICTIONS[\"slope_max\"])\n",
    "    + \"_waterlength_max\"\n",
    "    + str(RESTRICTIONS[\"waterlength_max\"])\n",
    "    + logtextsave\n",
    ")"
   ]
  },
  {
   "cell_type": "markdown",
   "id": "8b52a724-7265-4329-ba10-ba1641f1016a",
   "metadata": {},
   "source": [
    "### Restrict with POI diversity"
   ]
  },
  {
   "cell_type": "code",
   "execution_count": null,
   "id": "1aa2a94a-1746-4598-bd74-acda903c2260",
   "metadata": {},
   "outputs": [],
   "source": [
    "allloops_bound_watered_diverse = {}\n",
    "for sourcenode in allloops_bound_watered:\n",
    "    numloops = len(allloops_bound_watered[sourcenode][\"loops\"])\n",
    "    mask_this = [False] * numloops\n",
    "    for i in range(numloops):\n",
    "        pd = allloops_bound_watered[sourcenode][\"poi_diversity\"][i]\n",
    "        if pd >= 3:\n",
    "            mask_this[i] = True\n",
    "    allloops_bound_watered_diverse[sourcenode] = {\n",
    "        \"loops\": list(compress(allloops_bound_watered[sourcenode][\"loops\"], mask_this)),\n",
    "        \"lengths\": list(\n",
    "            compress(allloops_bound_watered[sourcenode][\"lengths\"], mask_this)\n",
    "        ),\n",
    "        \"numnodes\": list(\n",
    "            compress(allloops_bound_watered[sourcenode][\"numnodes\"], mask_this)\n",
    "        ),\n",
    "        \"water_profile\": list(\n",
    "            compress(allloops_bound_watered[sourcenode][\"water_profile\"], mask_this)\n",
    "        ),\n",
    "        \"poi_diversity\": list(\n",
    "            compress(allloops_bound_watered[sourcenode][\"poi_diversity\"], mask_this)\n",
    "        ),\n",
    "    }"
   ]
  },
  {
   "cell_type": "code",
   "execution_count": null,
   "id": "0c7b20e5-a371-4219-9bda-2a7e485c7d42",
   "metadata": {},
   "outputs": [],
   "source": [
    "vertex_sizes = []\n",
    "for k in range(len(allloops_bound_watered_diverse.keys())):\n",
    "    try:\n",
    "        if PLOTLOGSCALE:\n",
    "            vertex_sizes.append(\n",
    "                np.log2(len(allloops_bound_watered_diverse[k][\"loops\"]) + 1.01)\n",
    "            )\n",
    "        else:\n",
    "            vertex_sizes.append(len(allloops_bound_watered_diverse[k][\"loops\"]))\n",
    "    except:\n",
    "        vertex_sizes.append(0)\n",
    "\n",
    "numloops_max = max(vertex_sizes)\n",
    "vertex_sizes = [i / (numloops_max / 20) for i in vertex_sizes]\n",
    "\n",
    "edge_colors = []\n",
    "for e in G.es:\n",
    "    if e[\"max_slope\"] > RESTRICTIONS[\"slope_max\"]:  # and not e[\"has_water\"]:\n",
    "        edge_colors.append(\"red\")\n",
    "    # elif e[\"max_slope\"] > RESTRICTIONS[\"slope_max\"] and e[\"has_water\"]:\n",
    "    #     edge_colors.append(\"orange\")\n",
    "    elif (\n",
    "        e[\"max_slope\"] <= RESTRICTIONS[\"slope_max\"]\n",
    "        and e[\"has_water\"]\n",
    "        and e[\"poi_diversity\"] >= 3\n",
    "    ):\n",
    "        edge_colors.append(\"blue\")\n",
    "    else:\n",
    "        edge_colors.append(\"grey\")"
   ]
  },
  {
   "cell_type": "code",
   "execution_count": null,
   "id": "5d90468a-ecc3-4a4c-b38f-7ea0c0db3feb",
   "metadata": {
    "scrolled": true
   },
   "outputs": [],
   "source": [
    "fig = plotCheck(\n",
    "    G,\n",
    "    nodes_id,\n",
    "    nodes_coords,\n",
    "    vertex_size=vertex_sizes,\n",
    "    edge_color=edge_colors,\n",
    "    edge_width=get_edgewidth(G.ecount()),\n",
    ")\n",
    "plt.text(\n",
    "    0,\n",
    "    0.17,\n",
    "    \"Blue: Gradient <=\" + str(RESTRICTIONS[\"slope_max\"]) + \"% and water and diverse\",\n",
    "    fontsize=8,\n",
    ")\n",
    "# plt.text(0,0.17, \"Orange: Gradient >\"+ str(RESTRICTIONS[\"slope_max\"])+\"% and water\", fontsize=8);\n",
    "plt.text(\n",
    "    0,\n",
    "    0.12,\n",
    "    \"Red: Gradient >\" + str(RESTRICTIONS[\"slope_max\"]) + \"%\",\n",
    "    fontsize=8,\n",
    ")\n",
    "plt.text(0, 0.04, \"Max # of loops: \" + logtextplot + str(round(numloops_max, 2)))\n",
    "plt.tight_layout()\n",
    "\n",
    "fig.savefig(\n",
    "    PATH[\"plot\"]\n",
    "    + \"network_numloops_\"\n",
    "    + str(RESTRICTIONS[\"looplength_min\"])\n",
    "    + \"to\"\n",
    "    + str(RESTRICTIONS[\"looplength_max\"])\n",
    "    + \"_maxslope\"\n",
    "    + str(RESTRICTIONS[\"slope_max\"])\n",
    "    + \"_waterlength_max\"\n",
    "    + str(RESTRICTIONS[\"waterlength_max\"])\n",
    "    + \"_poidiversity3\"\n",
    "    + logtextsave\n",
    ")"
   ]
  }
 ],
 "metadata": {
  "kernelspec": {
   "display_name": "bikenwloops",
   "language": "python",
   "name": "bikenwloops"
  },
  "language_info": {
   "codemirror_mode": {
    "name": "ipython",
    "version": 3
   },
   "file_extension": ".py",
   "mimetype": "text/x-python",
   "name": "python",
   "nbconvert_exporter": "python",
   "pygments_lexer": "ipython3",
   "version": "3.12.2"
  }
 },
 "nbformat": 4,
 "nbformat_minor": 5
}
