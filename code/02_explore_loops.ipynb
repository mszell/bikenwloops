{
 "cells": [
  {
   "cell_type": "markdown",
   "id": "2e582dfd",
   "metadata": {},
   "source": [
    "# 02. Explore loop census\n",
    "## Project: Bicycle node network loop analysis"
   ]
  },
  {
   "cell_type": "markdown",
   "id": "2bc9b960",
   "metadata": {},
   "source": [
    "This notebook explores the loop census created in notebook 01, beyond descriptive network statistics.\n",
    "\n",
    "Contact: Michael Szell (michael.szell@gmail.com)\n",
    "\n",
    "Created: 2024-01-29  \n",
    "Last modified: 2024-05-24  "
   ]
  },
  {
   "cell_type": "markdown",
   "id": "5126c030",
   "metadata": {},
   "source": [
    "## To do\n",
    "- [ ] Kommune cohesion: Loops vs distance to boundary\n",
    "- [X] POI analysis"
   ]
  },
  {
   "cell_type": "markdown",
   "id": "7c3308b0",
   "metadata": {},
   "source": [
    "## Parameters"
   ]
  },
  {
   "cell_type": "code",
   "execution_count": null,
   "id": "d06672f1",
   "metadata": {},
   "outputs": [],
   "source": [
    "loop_numnode_bound = 30\n",
    "scenario = \"scenario2\"\n",
    "\n",
    "restrictions = {\n",
    "    \"scenario1\": {  # family with small children\n",
    "        \"looplengthmin\": 5000,\n",
    "        \"looplengthmax\": 20000,\n",
    "        \"maxslope\": 4,\n",
    "        \"waterlengthmax\": 10000,\n",
    "    },\n",
    "    \"scenario2\": {  # teenage/adult leisure cyclist\n",
    "        \"looplengthmin\": 10000,\n",
    "        \"looplengthmax\": 40000,\n",
    "        \"maxslope\": 6,\n",
    "        \"waterlengthmax\": 10000,\n",
    "    },\n",
    "}\n",
    "\n",
    "PATH = {\n",
    "    \"data_in_network\": \"../data/input/faxe/network/\",\n",
    "    \"data_in_pois\": \"../data/input/faxe/pois/\",\n",
    "    \"data_out\": \"../data/processed/faxe/\",\n",
    "    \"plot\": \"../plots/faxe/\",\n",
    "}"
   ]
  },
  {
   "cell_type": "markdown",
   "id": "5d0a7b7f",
   "metadata": {},
   "source": [
    "## Imports"
   ]
  },
  {
   "cell_type": "code",
   "execution_count": null,
   "id": "f81d35c7",
   "metadata": {},
   "outputs": [],
   "source": [
    "import matplotlib.pyplot as plt\n",
    "import numpy as np\n",
    "import igraph as ig\n",
    "import pickle\n",
    "from itertools import compress"
   ]
  },
  {
   "cell_type": "markdown",
   "id": "876e2b5b",
   "metadata": {},
   "source": [
    "## Functions"
   ]
  },
  {
   "cell_type": "code",
   "execution_count": null,
   "id": "9a407c7e",
   "metadata": {},
   "outputs": [],
   "source": [
    "%run -i functions.py"
   ]
  },
  {
   "cell_type": "markdown",
   "id": "06c9f290",
   "metadata": {},
   "source": [
    "## Exploration"
   ]
  },
  {
   "cell_type": "markdown",
   "id": "bcd4d066",
   "metadata": {},
   "source": [
    "### Load data"
   ]
  },
  {
   "cell_type": "code",
   "execution_count": null,
   "id": "cf6ab763",
   "metadata": {},
   "outputs": [],
   "source": [
    "with open(\n",
    "    PATH[\"data_out\"] + \"loopcensus_\" + str(loop_numnode_bound) + \".pkl\", \"rb\"\n",
    ") as f:\n",
    "    allloops = pickle.load(f)\n",
    "    alllooplengths = pickle.load(f)\n",
    "    allloopnumnodes = pickle.load(f)\n",
    "    allloopmaxslopes = pickle.load(f)\n",
    "    G = pickle.load(f)\n",
    "    loop_numnode_bound = pickle.load(f)\n",
    "    nodes_id = pickle.load(f)\n",
    "    nodes_coords = pickle.load(f)\n",
    "    numloops = pickle.load(f)\n",
    "    loopbasis = pickle.load(f)"
   ]
  },
  {
   "cell_type": "code",
   "execution_count": null,
   "id": "f13c5935",
   "metadata": {},
   "outputs": [],
   "source": [
    "# Plot to double-check\n",
    "plotCheck(G, nodes_id, nodes_coords);"
   ]
  },
  {
   "cell_type": "code",
   "execution_count": null,
   "id": "c05b5773",
   "metadata": {},
   "outputs": [],
   "source": [
    "fig = plt.figure(figsize=(8, 3))\n",
    "axes1 = fig.add_axes([0.1, 0.1, 0.35, 0.8])\n",
    "axes2 = fig.add_axes([0.55, 0.1, 0.35, 0.8])\n",
    "\n",
    "axes1.hist(alllooplengths, density=True)\n",
    "axes1.set_xlabel(\"Length [m]\")\n",
    "axes1.set_ylabel(\"Probability\")\n",
    "axes1.set_title(\"Loop lengths\")\n",
    "\n",
    "axes2.hist(allloopnumnodes, density=True, bins=list(range(loop_numnode_bound + 1)))\n",
    "axes2.set_xlabel(\"Nodes\")\n",
    "axes2.set_title(\"Nodes per loop\")\n",
    "axes2.set_xlim([0, loop_numnode_bound + 0.5])\n",
    "\n",
    "plt.text(loop_numnode_bound / 20, 0.01, \"Bound: \" + str(loop_numnode_bound))\n",
    "plt.text(loop_numnode_bound / 20, 0.04, \"Loops: \" + str(numloops));"
   ]
  },
  {
   "cell_type": "markdown",
   "id": "fedbbbd0",
   "metadata": {},
   "source": [
    "### Restrict to length bounds"
   ]
  },
  {
   "cell_type": "markdown",
   "id": "b62c74c8",
   "metadata": {},
   "source": [
    "Go through all nodes and restrict their loops to the scenario's length restrictions"
   ]
  },
  {
   "cell_type": "code",
   "execution_count": null,
   "id": "73934a5a",
   "metadata": {},
   "outputs": [],
   "source": [
    "allloops_bound = {}\n",
    "for sourcenode in allloops:\n",
    "    this_lengths = np.array(allloops[sourcenode][\"lengths\"])\n",
    "    mask_this = (this_lengths >= restrictions[scenario][\"looplengthmin\"]) & (\n",
    "        this_lengths <= restrictions[scenario][\"looplengthmax\"]\n",
    "    )\n",
    "    allloops_bound[sourcenode] = {\n",
    "        \"loops\": list(compress(allloops[sourcenode][\"loops\"], mask_this)),\n",
    "        \"lengths\": list(compress(allloops[sourcenode][\"lengths\"], mask_this)),\n",
    "        \"numnodes\": list(compress(allloops[sourcenode][\"numnodes\"], mask_this)),\n",
    "        \"water_profile\": list(\n",
    "            compress(allloops[sourcenode][\"water_profile\"], mask_this)\n",
    "        ),\n",
    "        \"poi_diversity\": list(\n",
    "            compress(allloops[sourcenode][\"poi_diversity\"], mask_this)\n",
    "        ),\n",
    "    }"
   ]
  },
  {
   "cell_type": "code",
   "execution_count": null,
   "id": "615ec811",
   "metadata": {},
   "outputs": [],
   "source": [
    "vertex_sizes = [\n",
    "    len(allloops_bound[k][\"loops\"]) for k in range(len(allloops_bound.keys()))\n",
    "]\n",
    "numloops_max = max(vertex_sizes)\n",
    "vertex_sizes = [i / (numloops_max / 20) for i in vertex_sizes]"
   ]
  },
  {
   "cell_type": "code",
   "execution_count": null,
   "id": "e3d8340b",
   "metadata": {},
   "outputs": [],
   "source": [
    "fig = plotCheck(G, nodes_id, nodes_coords, vertex_size=vertex_sizes)\n",
    "plt.text(0, 0.04, \"Max # of loops: \" + str(numloops_max))\n",
    "plt.tight_layout()"
   ]
  },
  {
   "cell_type": "code",
   "execution_count": null,
   "id": "7e94a4a8",
   "metadata": {},
   "outputs": [],
   "source": [
    "fig.savefig(\n",
    "    PATH[\"plot\"]\n",
    "    + \"network_numloops_\"\n",
    "    + str(restrictions[scenario][\"looplengthmin\"])\n",
    "    + \"to\"\n",
    "    + str(restrictions[scenario][\"looplengthmax\"])\n",
    ")"
   ]
  },
  {
   "cell_type": "markdown",
   "id": "ab5423e1",
   "metadata": {},
   "source": [
    "### Restrict to acceptable gradients"
   ]
  },
  {
   "cell_type": "code",
   "execution_count": null,
   "id": "906c9b7c",
   "metadata": {},
   "outputs": [],
   "source": [
    "allloops_bound = {}\n",
    "for sourcenode in allloops:\n",
    "    this_lengths = np.array(allloops[sourcenode][\"lengths\"])\n",
    "    this_maxslopes = np.array(allloops[sourcenode][\"max_slopes\"])\n",
    "    mask_this = this_lengths >= restrictions[scenario][\"looplengthmin\"]\n",
    "    mask_this &= this_lengths <= restrictions[scenario][\"looplengthmax\"]\n",
    "    mask_this &= this_maxslopes <= restrictions[scenario][\"maxslope\"]\n",
    "    allloops_bound[sourcenode] = {\n",
    "        \"loops\": list(compress(allloops[sourcenode][\"loops\"], mask_this)),\n",
    "        \"lengths\": list(compress(allloops[sourcenode][\"lengths\"], mask_this)),\n",
    "        \"numnodes\": list(compress(allloops[sourcenode][\"numnodes\"], mask_this)),\n",
    "        \"water_profile\": list(\n",
    "            compress(allloops[sourcenode][\"water_profile\"], mask_this)\n",
    "        ),\n",
    "        \"poi_diversity\": list(\n",
    "            compress(allloops[sourcenode][\"poi_diversity\"], mask_this)\n",
    "        ),\n",
    "    }"
   ]
  },
  {
   "cell_type": "code",
   "execution_count": null,
   "id": "c97e46a1",
   "metadata": {},
   "outputs": [],
   "source": [
    "vertex_sizes = [\n",
    "    len(allloops_bound[k][\"loops\"]) for k in range(len(allloops_bound.keys()))\n",
    "]\n",
    "numloops_max = max(vertex_sizes)\n",
    "vertex_sizes = [i / (numloops_max / 20) for i in vertex_sizes]"
   ]
  },
  {
   "cell_type": "code",
   "execution_count": null,
   "id": "66459687",
   "metadata": {},
   "outputs": [],
   "source": [
    "edge_colors = []\n",
    "for e in G.es:\n",
    "    if e[\"max_slope\"] > restrictions[scenario][\"maxslope\"]:\n",
    "        edge_colors.append(\"red\")\n",
    "    else:\n",
    "        edge_colors.append(\"grey\")"
   ]
  },
  {
   "cell_type": "code",
   "execution_count": null,
   "id": "b053a388",
   "metadata": {},
   "outputs": [],
   "source": [
    "fig = plotCheck(\n",
    "    G, nodes_id, nodes_coords, vertex_size=vertex_sizes, edge_color=edge_colors\n",
    ")\n",
    "plt.text(\n",
    "    0,\n",
    "    0.12,\n",
    "    \"Red: Gradient >\" + str(restrictions[scenario][\"maxslope\"]) + \"%\",\n",
    "    fontsize=8,\n",
    ")\n",
    "plt.text(0, 0.04, \"Max # of loops: \" + str(numloops_max))\n",
    "plt.tight_layout()"
   ]
  },
  {
   "cell_type": "code",
   "execution_count": null,
   "id": "5f333bcb",
   "metadata": {},
   "outputs": [],
   "source": [
    "fig.savefig(\n",
    "    PATH[\"plot\"]\n",
    "    + \"network_numloops_\"\n",
    "    + str(restrictions[scenario][\"looplengthmin\"])\n",
    "    + \"to\"\n",
    "    + str(restrictions[scenario][\"looplengthmax\"])\n",
    "    + \"_maxslope\"\n",
    "    + str(restrictions[scenario][\"maxslope\"])\n",
    ")"
   ]
  },
  {
   "cell_type": "markdown",
   "id": "ccef1cf2-5799-4462-8449-08e573ee1bce",
   "metadata": {},
   "source": [
    "### Restrict to water limits"
   ]
  },
  {
   "cell_type": "code",
   "execution_count": null,
   "id": "96e97a2c-8f9f-4b08-918a-fd25151f5826",
   "metadata": {},
   "outputs": [],
   "source": [
    "allloops_bound_watered = {}\n",
    "for sourcenode in allloops_bound:\n",
    "    numloops = len(allloops_bound[sourcenode][\"loops\"])\n",
    "    mask_this = [True] * numloops\n",
    "    for i in range(numloops):\n",
    "        wp = allloops_bound[sourcenode][\"water_profile\"][i]\n",
    "        water_enough = True\n",
    "        if wp:  # There is water on the way somewhere. Check distances\n",
    "            for w in wp:\n",
    "                if w > restrictions[scenario][\"waterlengthmax\"]:\n",
    "                    water_enough = False\n",
    "                    break\n",
    "            if water_enough and (\n",
    "                allloops_bound[sourcenode][\"lengths\"][i] - wp[-1]\n",
    "                > restrictions[scenario][\"waterlengthmax\"]\n",
    "            ):\n",
    "                water_enough = False\n",
    "        else:  # No water on the way, so the loop is only valid if short enough\n",
    "            if (\n",
    "                allloops_bound[sourcenode][\"lengths\"][i]\n",
    "                > restrictions[scenario][\"waterlengthmax\"]\n",
    "            ):\n",
    "                water_enough = False\n",
    "        mask_this[i] = water_enough\n",
    "    allloops_bound_watered[sourcenode] = {\n",
    "        \"loops\": list(compress(allloops_bound[sourcenode][\"loops\"], mask_this)),\n",
    "        \"lengths\": list(compress(allloops_bound[sourcenode][\"lengths\"], mask_this)),\n",
    "        \"numnodes\": list(compress(allloops_bound[sourcenode][\"numnodes\"], mask_this)),\n",
    "        \"water_profile\": list(\n",
    "            compress(allloops_bound[sourcenode][\"water_profile\"], mask_this)\n",
    "        ),\n",
    "        \"poi_diversity\": list(\n",
    "            compress(allloops_bound[sourcenode][\"poi_diversity\"], mask_this)\n",
    "        ),\n",
    "    }"
   ]
  },
  {
   "cell_type": "code",
   "execution_count": null,
   "id": "129bfa04-bb31-4232-9227-d413da2ac6a6",
   "metadata": {},
   "outputs": [],
   "source": [
    "vertex_sizes = [\n",
    "    len(allloops_bound_watered[k][\"loops\"])\n",
    "    for k in range(len(allloops_bound_watered.keys()))\n",
    "]\n",
    "numloops_max = max(vertex_sizes)\n",
    "vertex_sizes = [i / (numloops_max / 20) for i in vertex_sizes]"
   ]
  },
  {
   "cell_type": "code",
   "execution_count": null,
   "id": "d8bccf25-5a1a-405f-941b-63a32d7731fb",
   "metadata": {},
   "outputs": [],
   "source": [
    "edge_colors = []\n",
    "for e in G.es:\n",
    "    if e[\"max_slope\"] > restrictions[scenario][\"maxslope\"]:  # and not e[\"has_water\"]:\n",
    "        edge_colors.append(\"red\")\n",
    "    # elif e[\"max_slope\"] > restrictions[scenario][\"maxslope\"] and e[\"has_water\"]:\n",
    "    #     edge_colors.append(\"orange\")\n",
    "    elif e[\"max_slope\"] <= restrictions[scenario][\"maxslope\"] and e[\"has_water\"]:\n",
    "        edge_colors.append(\"blue\")\n",
    "    else:\n",
    "        edge_colors.append(\"grey\")"
   ]
  },
  {
   "cell_type": "code",
   "execution_count": null,
   "id": "46ebeaf5-8874-4704-a0e4-11386fb044ad",
   "metadata": {},
   "outputs": [],
   "source": [
    "fig = plotCheck(\n",
    "    G, nodes_id, nodes_coords, vertex_size=vertex_sizes, edge_color=edge_colors\n",
    ")\n",
    "plt.text(\n",
    "    0,\n",
    "    0.17,\n",
    "    \"Blue: Gradient <=\" + str(restrictions[scenario][\"maxslope\"]) + \"% and water\",\n",
    "    fontsize=8,\n",
    ")\n",
    "# plt.text(0,0.17, \"Orange: Gradient >\"+ str(restrictions[scenario][\"maxslope\"])+\"% and water\", fontsize=8);\n",
    "plt.text(\n",
    "    0,\n",
    "    0.12,\n",
    "    \"Red: Gradient >\" + str(restrictions[scenario][\"maxslope\"]) + \"%\",\n",
    "    fontsize=8,\n",
    ")\n",
    "plt.text(0, 0.04, \"Max # of loops: \" + str(numloops_max))\n",
    "plt.tight_layout()"
   ]
  },
  {
   "cell_type": "code",
   "execution_count": null,
   "id": "b2e34112-f6ac-46a0-acba-79e9135493ac",
   "metadata": {
    "tags": []
   },
   "outputs": [],
   "source": [
    "fig.savefig(\n",
    "    PATH[\"plot\"]\n",
    "    + \"network_numloops_\"\n",
    "    + str(restrictions[scenario][\"looplengthmin\"])\n",
    "    + \"to\"\n",
    "    + str(restrictions[scenario][\"looplengthmax\"])\n",
    "    + \"_maxslope\"\n",
    "    + str(restrictions[scenario][\"maxslope\"])\n",
    "    + \"_waterlengthmax\"\n",
    "    + str(restrictions[scenario][\"waterlengthmax\"])\n",
    ")"
   ]
  },
  {
   "cell_type": "markdown",
   "id": "8b52a724-7265-4329-ba10-ba1641f1016a",
   "metadata": {},
   "source": [
    "## Restrict with POI diversity"
   ]
  },
  {
   "cell_type": "code",
   "execution_count": null,
   "id": "1aa2a94a-1746-4598-bd74-acda903c2260",
   "metadata": {},
   "outputs": [],
   "source": [
    "allloops_bound_watered_diverse = {}\n",
    "for sourcenode in allloops_bound_watered:\n",
    "    numloops = len(allloops_bound_watered[sourcenode][\"loops\"])\n",
    "    mask_this = [False] * numloops\n",
    "    for i in range(numloops):\n",
    "        pd = allloops_bound_watered[sourcenode][\"poi_diversity\"][i]\n",
    "        if pd >= 3:\n",
    "            mask_this[i] = True\n",
    "    allloops_bound_watered_diverse[sourcenode] = {\n",
    "        \"loops\": list(compress(allloops_bound_watered[sourcenode][\"loops\"], mask_this)),\n",
    "        \"lengths\": list(\n",
    "            compress(allloops_bound_watered[sourcenode][\"lengths\"], mask_this)\n",
    "        ),\n",
    "        \"numnodes\": list(\n",
    "            compress(allloops_bound_watered[sourcenode][\"numnodes\"], mask_this)\n",
    "        ),\n",
    "        \"water_profile\": list(\n",
    "            compress(allloops_bound_watered[sourcenode][\"water_profile\"], mask_this)\n",
    "        ),\n",
    "        \"poi_diversity\": list(\n",
    "            compress(allloops_bound_watered[sourcenode][\"poi_diversity\"], mask_this)\n",
    "        ),\n",
    "    }"
   ]
  },
  {
   "cell_type": "code",
   "execution_count": null,
   "id": "0c7b20e5-a371-4219-9bda-2a7e485c7d42",
   "metadata": {},
   "outputs": [],
   "source": [
    "vertex_sizes = [\n",
    "    len(allloops_bound_watered_diverse[k][\"loops\"])\n",
    "    for k in range(len(allloops_bound_watered_diverse.keys()))\n",
    "]\n",
    "numloops_max = max(vertex_sizes)\n",
    "vertex_sizes = [i / (numloops_max / 20) for i in vertex_sizes]"
   ]
  },
  {
   "cell_type": "code",
   "execution_count": null,
   "id": "e9d32b9f-2b75-44c4-b7b7-1d2f288133b2",
   "metadata": {},
   "outputs": [],
   "source": [
    "edge_colors = []\n",
    "for e in G.es:\n",
    "    if e[\"max_slope\"] > restrictions[scenario][\"maxslope\"]:  # and not e[\"has_water\"]:\n",
    "        edge_colors.append(\"red\")\n",
    "    # elif e[\"max_slope\"] > restrictions[scenario][\"maxslope\"] and e[\"has_water\"]:\n",
    "    #     edge_colors.append(\"orange\")\n",
    "    elif (\n",
    "        e[\"max_slope\"] <= restrictions[scenario][\"maxslope\"]\n",
    "        and e[\"has_water\"]\n",
    "        and e[\"poi_diversity\"] >= 3\n",
    "    ):\n",
    "        edge_colors.append(\"blue\")\n",
    "    else:\n",
    "        edge_colors.append(\"grey\")"
   ]
  },
  {
   "cell_type": "code",
   "execution_count": null,
   "id": "5d90468a-ecc3-4a4c-b38f-7ea0c0db3feb",
   "metadata": {
    "scrolled": true
   },
   "outputs": [],
   "source": [
    "fig = plotCheck(\n",
    "    G, nodes_id, nodes_coords, vertex_size=vertex_sizes, edge_color=edge_colors\n",
    ")\n",
    "plt.text(\n",
    "    0,\n",
    "    0.17,\n",
    "    \"Blue: Gradient <=\"\n",
    "    + str(restrictions[scenario][\"maxslope\"])\n",
    "    + \"% and water and diverse\",\n",
    "    fontsize=8,\n",
    ")\n",
    "# plt.text(0,0.17, \"Orange: Gradient >\"+ str(restrictions[scenario][\"maxslope\"])+\"% and water\", fontsize=8);\n",
    "plt.text(\n",
    "    0,\n",
    "    0.12,\n",
    "    \"Red: Gradient >\" + str(restrictions[scenario][\"maxslope\"]) + \"%\",\n",
    "    fontsize=8,\n",
    ")\n",
    "plt.text(0, 0.04, \"Max # of loops: \" + str(numloops_max))\n",
    "plt.tight_layout()"
   ]
  },
  {
   "cell_type": "code",
   "execution_count": null,
   "id": "8d2b5c78-3641-4dab-88a7-b0bb6d889498",
   "metadata": {},
   "outputs": [],
   "source": [
    "fig.savefig(\n",
    "    PATH[\"plot\"]\n",
    "    + \"network_numloops_\"\n",
    "    + str(restrictions[scenario][\"looplengthmin\"])\n",
    "    + \"to\"\n",
    "    + str(restrictions[scenario][\"looplengthmax\"])\n",
    "    + \"_maxslope\"\n",
    "    + str(restrictions[scenario][\"maxslope\"])\n",
    "    + \"_waterlengthmax\"\n",
    "    + str(restrictions[scenario][\"waterlengthmax\"])\n",
    "    + \"_poidiversity3\"\n",
    ")"
   ]
  }
 ],
 "metadata": {
  "kernelspec": {
   "display_name": "bikenwloops",
   "language": "python",
   "name": "bikenwloops"
  },
  "language_info": {
   "codemirror_mode": {
    "name": "ipython",
    "version": 3
   },
   "file_extension": ".py",
   "mimetype": "text/x-python",
   "name": "python",
   "nbconvert_exporter": "python",
   "pygments_lexer": "ipython3",
   "version": "3.12.2"
  }
 },
 "nbformat": 4,
 "nbformat_minor": 5
}
