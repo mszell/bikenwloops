{
 "cells": [
  {
   "cell_type": "markdown",
   "id": "2e582dfd",
   "metadata": {},
   "source": [
    "# 02. Explore loop inventory\n",
    "## Project: Bicycle node network loop analysis"
   ]
  },
  {
   "cell_type": "markdown",
   "id": "2bc9b960",
   "metadata": {},
   "source": [
    "This notebook explores the loop inventory created in notebook 01.\n",
    "\n",
    "Contact: Michael Szell (michael.szell@gmail.com)  \n",
    "Created: 2024-01-29  \n",
    "Last modified: 2024-01-29  "
   ]
  },
  {
   "cell_type": "markdown",
   "id": "5126c030",
   "metadata": {},
   "source": [
    "## To do"
   ]
  },
  {
   "cell_type": "markdown",
   "id": "5faeedc4",
   "metadata": {},
   "source": []
  },
  {
   "cell_type": "markdown",
   "id": "7c3308b0",
   "metadata": {},
   "source": [
    "## Parameters"
   ]
  },
  {
   "cell_type": "code",
   "execution_count": null,
   "id": "d06672f1",
   "metadata": {},
   "outputs": [],
   "source": [
    "cycle_numnode_bound = 30\n",
    "scenario = \"scenario1\"\n",
    "\n",
    "restrictions = {\"scenario1\": {\"cyclelengthmin\": 3000, \"cyclelengthmax\": 15000, \"maxslope\": 5}, # family with small children\n",
    "                \"scenario2\": {\"cyclelengthmin\": 10000, \"cyclelengthmax\": 40000, \"maxslope\": 7} # teenage/adult leisure cyclist\n",
    "                }\n",
    "\n",
    "PATH = {\n",
    "    \"data_in\": \"../data/input/faxe/network/\",\n",
    "    \"data_out\": \"../data/processed/faxe/\",\n",
    "    \"plot\": \"../plots/faxe/\"\n",
    "}"
   ]
  },
  {
   "cell_type": "markdown",
   "id": "5d0a7b7f",
   "metadata": {},
   "source": [
    "## Imports"
   ]
  },
  {
   "cell_type": "code",
   "execution_count": null,
   "id": "f81d35c7",
   "metadata": {},
   "outputs": [],
   "source": [
    "import geopandas as gpd\n",
    "import igraph as ig\n",
    "import matplotlib.pyplot as plt\n",
    "import numpy as np\n",
    "import networkx as nx\n",
    "from functools import reduce\n",
    "import pickle \n",
    "from itertools import compress"
   ]
  },
  {
   "cell_type": "markdown",
   "id": "876e2b5b",
   "metadata": {},
   "source": [
    "## Functions"
   ]
  },
  {
   "cell_type": "code",
   "execution_count": null,
   "id": "9a407c7e",
   "metadata": {},
   "outputs": [],
   "source": [
    "def NormalizeData(data):\n",
    "    return list((data - np.min(data)) / (np.max(data) - np.min(data)))\n",
    "\n",
    "def getLayout(G, nodes_id, nodes_coords):\n",
    "    named_vertex_list = G.vs()[\"name\"]\n",
    "    layout = []\n",
    "    for n in named_vertex_list:\n",
    "        pos = nodes_id.index(n)\n",
    "        layout.append(nodes_coords[pos])\n",
    "    return layout\n",
    "\n",
    "def plotCheck(G, nodes_id, nodes_coords, vertex_size = 6, edge_color=None):\n",
    "    fig, ax = plt.subplots()\n",
    "    layout = getLayout(G, nodes_id, nodes_coords)\n",
    "    if edge_color is None:\n",
    "        ig.plot(G, target=ax, vertex_size=vertex_size, layout=layout);\n",
    "    else:\n",
    "        ig.plot(G, target=ax, vertex_size=vertex_size, layout=layout, edge_color=edge_color);\n",
    "    return fig\n",
    "    \n",
    "def getCycleLength(c):\n",
    "    l = 0\n",
    "    cl = len(c)\n",
    "    for i in range(cl):\n",
    "        l += Gnx[c[i%cl]][c[(i+1)%cl]][\"weight\"]\n",
    "    return l"
   ]
  },
  {
   "cell_type": "markdown",
   "id": "06c9f290",
   "metadata": {},
   "source": [
    "## Exploration"
   ]
  },
  {
   "cell_type": "markdown",
   "id": "bcd4d066",
   "metadata": {},
   "source": [
    "### Load data"
   ]
  },
  {
   "cell_type": "code",
   "execution_count": null,
   "id": "cf6ab763",
   "metadata": {},
   "outputs": [],
   "source": [
    "with open(PATH['data_out'] + 'cycleinventory_'+str(cycle_numnode_bound)+'.pkl', 'rb') as f:\n",
    "    allcycles = pickle.load(f)\n",
    "    allcyclelengths = pickle.load(f)\n",
    "    allcyclenumnodes = pickle.load(f)\n",
    "    allcyclemaxslopes = pickle.load(f)\n",
    "    G = pickle.load(f)\n",
    "    cycle_numnode_bound = pickle.load(f)\n",
    "    nodes_id = pickle.load(f)\n",
    "    nodes_coords = pickle.load(f)\n",
    "    numcycles = pickle.load(f)"
   ]
  },
  {
   "cell_type": "code",
   "execution_count": null,
   "id": "0bac1ed4",
   "metadata": {},
   "outputs": [],
   "source": [
    "# Plot to double-check\n",
    "plotCheck(G, nodes_id, nodes_coords);"
   ]
  },
  {
   "cell_type": "code",
   "execution_count": null,
   "id": "5cf2b625",
   "metadata": {},
   "outputs": [],
   "source": [
    "fig = plt.figure(figsize=(8, 3))\n",
    "axes1 = fig.add_axes([0.1, 0.1, 0.35, 0.8])\n",
    "axes2 = fig.add_axes([0.55, 0.1, 0.35, 0.8])\n",
    "\n",
    "axes1.hist(allcyclelengths, density=True)\n",
    "axes1.set_xlabel('Length [m]')\n",
    "axes1.set_ylabel('Probability')\n",
    "axes1.set_title('Cycle lengths')\n",
    "\n",
    "axes2.hist(allcyclenumnodes, density=True, bins=list(range(cycle_numnode_bound+1)))\n",
    "axes2.set_xlabel('Nodes')\n",
    "axes2.set_title('Nodes per cycle')\n",
    "axes2.set_xlim([0, cycle_numnode_bound+0.5])\n",
    "\n",
    "plt.text(cycle_numnode_bound/20,0.01, \"Bound: \" + str(cycle_numnode_bound))\n",
    "plt.text(cycle_numnode_bound/20,0.04, \"Cycles: \" + str(numcycles));"
   ]
  },
  {
   "cell_type": "markdown",
   "id": "6952a4f3",
   "metadata": {},
   "source": [
    "## Restrict to length bounds"
   ]
  },
  {
   "cell_type": "markdown",
   "id": "0b1107e2",
   "metadata": {},
   "source": [
    "Go through all nodes and restrict their cycles to the scenario's length restrictions"
   ]
  },
  {
   "cell_type": "code",
   "execution_count": null,
   "id": "9b966ce4",
   "metadata": {},
   "outputs": [],
   "source": [
    "allcycles_bound = {}\n",
    "for sourcenode in allcycles:\n",
    "    this_lengths = np.array(allcycles[sourcenode]['lengths'])\n",
    "    mask_this = (this_lengths >= restrictions[scenario][\"cyclelengthmin\"]) & (this_lengths <= restrictions[scenario][\"cyclelengthmax\"])\n",
    "    allcycles_bound[sourcenode] = {\"cycles\": list(compress(allcycles[sourcenode]['cycles'], mask_this)),\n",
    "                                   \"lengths\": list(compress(allcycles[sourcenode]['lengths'], mask_this)),\n",
    "                                   \"numnodes\": list(compress(allcycles[sourcenode]['numnodes'], mask_this))}"
   ]
  },
  {
   "cell_type": "code",
   "execution_count": null,
   "id": "6ca4cbc8",
   "metadata": {},
   "outputs": [],
   "source": [
    "vertex_sizes=[len(allcycles_bound[k]['cycles']) for k in range(len(allcycles_bound.keys()))]\n",
    "numcycles_max = max(vertex_sizes)\n",
    "vertex_sizes = [i/(numcycles_max/20) for i in vertex_sizes]"
   ]
  },
  {
   "cell_type": "code",
   "execution_count": null,
   "id": "f2353b32",
   "metadata": {},
   "outputs": [],
   "source": [
    "fig = plotCheck(G, nodes_id, nodes_coords, vertex_size = vertex_sizes)\n",
    "plt.text(0,0.04, \"Max # of loops: \" + str(numcycles_max));\n",
    "plt.tight_layout()"
   ]
  },
  {
   "cell_type": "code",
   "execution_count": null,
   "id": "e9a640b3",
   "metadata": {},
   "outputs": [],
   "source": [
    "fig.savefig(PATH[\"plot\"] + \"network_numcycles_\"+str(restrictions[scenario][\"cyclelengthmin\"])+\"to\"+str(restrictions[scenario][\"cyclelengthmax\"]))"
   ]
  },
  {
   "cell_type": "markdown",
   "id": "a67d8ec9",
   "metadata": {},
   "source": [
    "## Restrict to acceptable gradients"
   ]
  },
  {
   "cell_type": "code",
   "execution_count": null,
   "id": "ad4dc360",
   "metadata": {},
   "outputs": [],
   "source": [
    "allcycles_bound = {}\n",
    "for sourcenode in allcycles:\n",
    "    this_lengths = np.array(allcycles[sourcenode]['lengths'])\n",
    "    this_maxslopes = np.array(allcycles[sourcenode]['max_slopes'])\n",
    "    mask_this = (this_lengths >= restrictions[scenario][\"cyclelengthmin\"])\n",
    "    mask_this &= (this_lengths <= restrictions[scenario][\"cyclelengthmax\"]) \n",
    "    mask_this &= (this_maxslopes <= restrictions[scenario][\"maxslope\"])\n",
    "    allcycles_bound[sourcenode] = {\"cycles\": list(compress(allcycles[sourcenode]['cycles'], mask_this)),\n",
    "                                   \"lengths\": list(compress(allcycles[sourcenode]['lengths'], mask_this)),\n",
    "                                   \"numnodes\": list(compress(allcycles[sourcenode]['numnodes'], mask_this))}"
   ]
  },
  {
   "cell_type": "code",
   "execution_count": null,
   "id": "d18fe09d",
   "metadata": {},
   "outputs": [],
   "source": [
    "vertex_sizes=[len(allcycles_bound[k]['cycles']) for k in range(len(allcycles_bound.keys()))]\n",
    "numcycles_max = max(vertex_sizes)\n",
    "vertex_sizes = [i/(numcycles_max/20) for i in vertex_sizes]"
   ]
  },
  {
   "cell_type": "code",
   "execution_count": null,
   "id": "efa53524",
   "metadata": {},
   "outputs": [],
   "source": [
    "edge_colors = []\n",
    "for e in G.es:\n",
    "    if e[\"max_slope\"] > restrictions[scenario][\"maxslope\"]:\n",
    "        edge_colors.append(\"red\")\n",
    "    else:\n",
    "        edge_colors.append(\"grey\")"
   ]
  },
  {
   "cell_type": "code",
   "execution_count": null,
   "id": "ef628c0f",
   "metadata": {},
   "outputs": [],
   "source": [
    "fig = plotCheck(G, nodes_id, nodes_coords, vertex_size=vertex_sizes, edge_color=edge_colors)\n",
    "plt.text(0,0.04, \"Max # of loops: \" + str(numcycles_max));\n",
    "plt.tight_layout()"
   ]
  },
  {
   "cell_type": "code",
   "execution_count": null,
   "id": "26d07f26",
   "metadata": {},
   "outputs": [],
   "source": [
    "fig.savefig(PATH[\"plot\"] + \"network_numcycles_\"+str(restrictions[scenario][\"cyclelengthmin\"])+\"to\"+str(restrictions[scenario][\"cyclelengthmax\"])+\"_maxslope\"+str(restrictions[scenario][\"maxslope\"]))"
   ]
  }
 ],
 "metadata": {
  "kernelspec": {
   "display_name": "cycreg",
   "language": "python",
   "name": "cycreg"
  },
  "language_info": {
   "codemirror_mode": {
    "name": "ipython",
    "version": 3
   },
   "file_extension": ".py",
   "mimetype": "text/x-python",
   "name": "python",
   "nbconvert_exporter": "python",
   "pygments_lexer": "ipython3",
   "version": "3.12.0"
  }
 },
 "nbformat": 4,
 "nbformat_minor": 5
}
