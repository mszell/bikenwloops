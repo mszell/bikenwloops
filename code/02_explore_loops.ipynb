{
 "cells": [
  {
   "cell_type": "markdown",
   "id": "2e582dfd",
   "metadata": {},
   "source": [
    "# 02. Explore loop inventory\n",
    "## Project: Bicycle node network loop analysis"
   ]
  },
  {
   "cell_type": "markdown",
   "id": "2bc9b960",
   "metadata": {},
   "source": [
    "This notebook explores the loop inventory created in notebook 01.\n",
    "\n",
    "Contact: Michael Szell (michael.szell@gmail.com)  \n",
    "Created: 2024-01-29  \n",
    "Last modified: 2024-01-29  "
   ]
  },
  {
   "cell_type": "markdown",
   "id": "5126c030",
   "metadata": {},
   "source": [
    "## To do"
   ]
  },
  {
   "cell_type": "markdown",
   "id": "5faeedc4",
   "metadata": {},
   "source": []
  },
  {
   "cell_type": "markdown",
   "id": "7c3308b0",
   "metadata": {},
   "source": [
    "## Parameters"
   ]
  },
  {
   "cell_type": "code",
   "execution_count": null,
   "id": "d06672f1",
   "metadata": {},
   "outputs": [],
   "source": [
    "cycle_numnode_bound = 30\n",
    "cyclelength = [3000, 15000]  # Minimum and maximum of cycle lengths in m\n",
    "# cyclelength = [10000, 40000]\n",
    "\n",
    "PATH = {\n",
    "    \"data_in\": \"../data/input/faxe/network/\",\n",
    "    \"data_out\": \"../data/processed/faxe/\",\n",
    "    \"plot\": \"../plots/faxe/\"\n",
    "}"
   ]
  },
  {
   "cell_type": "markdown",
   "id": "5d0a7b7f",
   "metadata": {},
   "source": [
    "## Imports"
   ]
  },
  {
   "cell_type": "code",
   "execution_count": null,
   "id": "f81d35c7",
   "metadata": {},
   "outputs": [],
   "source": [
    "import geopandas as gpd\n",
    "import igraph as ig\n",
    "import matplotlib.pyplot as plt\n",
    "import numpy as np\n",
    "import networkx as nx\n",
    "from functools import reduce\n",
    "import pickle \n",
    "from itertools import compress"
   ]
  },
  {
   "cell_type": "markdown",
   "id": "876e2b5b",
   "metadata": {},
   "source": [
    "## Functions"
   ]
  },
  {
   "cell_type": "code",
   "execution_count": null,
   "id": "9a407c7e",
   "metadata": {},
   "outputs": [],
   "source": [
    "def NormalizeData(data):\n",
    "    return list((data - np.min(data)) / (np.max(data) - np.min(data)))\n",
    "\n",
    "def getLayout(G, nodes_id, nodes_coords):\n",
    "    named_vertex_list = G.vs()[\"name\"]\n",
    "    layout = []\n",
    "    for n in named_vertex_list:\n",
    "        pos = nodes_id.index(n)\n",
    "        layout.append(nodes_coords[pos])\n",
    "    return layout\n",
    "\n",
    "def plotCheck(G, nodes_id, nodes_coords, vertex_size = 6):\n",
    "    fig, ax = plt.subplots()\n",
    "    layout = getLayout(G, nodes_id, nodes_coords)\n",
    "    ig.plot(G, target=ax, vertex_size=vertex_size, layout=layout);\n",
    "    return fig\n",
    "    \n",
    "def getCycleLength(c):\n",
    "    l = 0\n",
    "    cl = len(c)\n",
    "    for i in range(cl):\n",
    "        l += Gnx[c[i%cl]][c[(i+1)%cl]][\"weight\"]\n",
    "    return l"
   ]
  },
  {
   "cell_type": "markdown",
   "id": "06c9f290",
   "metadata": {},
   "source": [
    "## Exploration"
   ]
  },
  {
   "cell_type": "markdown",
   "id": "bcd4d066",
   "metadata": {},
   "source": [
    "### Load data"
   ]
  },
  {
   "cell_type": "code",
   "execution_count": null,
   "id": "cf6ab763",
   "metadata": {},
   "outputs": [],
   "source": [
    "with open(PATH['data_out'] + 'cycleinventory_'+str(cycle_numnode_bound)+'.pkl', 'rb') as f:\n",
    "    allcycles = pickle.load(f)\n",
    "    allcyclelengths = pickle.load(f)\n",
    "    allcyclenumnodes = pickle.load(f)\n",
    "    G = pickle.load(f)\n",
    "    cycle_numnode_bound = pickle.load(f)\n",
    "    nodes_id = pickle.load(f)\n",
    "    nodes_coords = pickle.load(f)\n",
    "    numcycles = pickle.load(f)"
   ]
  },
  {
   "cell_type": "code",
   "execution_count": null,
   "id": "5253e096",
   "metadata": {},
   "outputs": [],
   "source": [
    "# Plot to double-check\n",
    "plotCheck(G, nodes_id, nodes_coords)"
   ]
  },
  {
   "cell_type": "code",
   "execution_count": null,
   "id": "2f9201c8",
   "metadata": {},
   "outputs": [],
   "source": [
    "fig = plt.figure(figsize=(8, 3))\n",
    "axes1 = fig.add_axes([0.1, 0.1, 0.35, 0.8])\n",
    "axes2 = fig.add_axes([0.55, 0.1, 0.35, 0.8])\n",
    "\n",
    "axes1.hist(allcyclelengths, density=True)\n",
    "axes1.set_xlabel('Length [m]')\n",
    "axes1.set_ylabel('Probability')\n",
    "axes1.set_title('Cycle lengths')\n",
    "\n",
    "axes2.hist(allcyclenumnodes, density=True, bins=list(range(cycle_numnode_bound+1)))\n",
    "axes2.set_xlabel('Nodes')\n",
    "axes2.set_title('Nodes per cycle')\n",
    "axes2.set_xlim([0, cycle_numnode_bound+0.5])\n",
    "\n",
    "plt.text(cycle_numnode_bound/20,0.01, \"Bound: \" + str(cycle_numnode_bound))\n",
    "plt.text(cycle_numnode_bound/20,0.04, \"Cycles: \" + str(numcycles));"
   ]
  },
  {
   "cell_type": "markdown",
   "id": "8c9f65c3",
   "metadata": {},
   "source": [
    "## Restrict to length bounds"
   ]
  },
  {
   "cell_type": "markdown",
   "id": "32ce8b8a",
   "metadata": {},
   "source": [
    "Go through all nodes and restrict their cycles to the `cyclelength` bounds"
   ]
  },
  {
   "cell_type": "code",
   "execution_count": null,
   "id": "627afc6f",
   "metadata": {},
   "outputs": [],
   "source": [
    "allcycles_bound = {}\n",
    "for sourcenode in allcycles:\n",
    "    this_lengths = np.array(allcycles[sourcenode]['lengths'])\n",
    "    mask_this = (this_lengths >= cyclelength[0]) & (this_lengths <= cyclelength[1])\n",
    "    allcycles_bound[sourcenode] = {\"cycles\": list(compress(allcycles[sourcenode]['cycles'], mask_this)),\n",
    "                                   \"lengths\": list(compress(allcycles[sourcenode]['lengths'], mask_this)),\n",
    "                                   \"numnodes\": list(compress(allcycles[sourcenode]['numnodes'], mask_this))}"
   ]
  },
  {
   "cell_type": "code",
   "execution_count": null,
   "id": "087cbdea",
   "metadata": {},
   "outputs": [],
   "source": [
    "vertex_sizes=[len(allcycles_bound[k]['cycles']) for k in range(len(allcycles_bound.keys()))]\n",
    "numcycles_max = max(vertex_sizes)\n",
    "vertex_sizes = [i/(numcycles_max/20) for i in vertex_sizes]"
   ]
  },
  {
   "cell_type": "code",
   "execution_count": null,
   "id": "0ef71c53",
   "metadata": {},
   "outputs": [],
   "source": [
    "fig = plotCheck(G, nodes_id, nodes_coords, vertex_size = vertex_sizes)\n",
    "plt.text(0,0.04, \"Max # of loops: \" + str(numcycles_max));"
   ]
  },
  {
   "cell_type": "code",
   "execution_count": null,
   "id": "14d7f3ef",
   "metadata": {},
   "outputs": [],
   "source": [
    "fig.savefig(PATH[\"plot\"] + \"network_numcycles_\"+str(cyclelength[0])+\"to\"+str(cyclelength[1]))"
   ]
  },
  {
   "cell_type": "markdown",
   "id": "dc3da5a0",
   "metadata": {},
   "source": [
    "## Restrict to acceptable gradients"
   ]
  }
 ],
 "metadata": {
  "kernelspec": {
   "display_name": "cycreg",
   "language": "python",
   "name": "cycreg"
  },
  "language_info": {
   "codemirror_mode": {
    "name": "ipython",
    "version": 3
   },
   "file_extension": ".py",
   "mimetype": "text/x-python",
   "name": "python",
   "nbconvert_exporter": "python",
   "pygments_lexer": "ipython3",
   "version": "3.12.0"
  }
 },
 "nbformat": 4,
 "nbformat_minor": 5
}
