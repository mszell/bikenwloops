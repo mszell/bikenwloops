{
 "cells": [
  {
   "cell_type": "markdown",
   "id": "2e582dfd",
   "metadata": {},
   "source": [
    "# 02. Explore loop census\n",
    "## Project: Bicycle node network loop analysis"
   ]
  },
  {
   "cell_type": "markdown",
   "id": "2bc9b960",
   "metadata": {},
   "source": [
    "This notebook explores the loop census created in notebook 01, beyond descriptive network statistics.\n",
    "\n",
    "Contact: Michael Szell (michael.szell@gmail.com)\n",
    "\n",
    "Created: 2024-01-29  \n",
    "Last modified: 2024-02-19  "
   ]
  },
  {
   "cell_type": "markdown",
   "id": "5126c030",
   "metadata": {},
   "source": [
    "## To do"
   ]
  },
  {
   "cell_type": "markdown",
   "id": "7c3308b0",
   "metadata": {},
   "source": [
    "## Parameters"
   ]
  },
  {
   "cell_type": "code",
   "execution_count": null,
   "id": "d06672f1",
   "metadata": {},
   "outputs": [],
   "source": [
    "loop_numnode_bound = 30\n",
    "scenario = \"scenario1\"\n",
    "\n",
    "restrictions = {\"scenario1\": {\"looplengthmin\": 5000, \"looplengthmax\": 20000, \"maxslope\": 4}, # family with small children\n",
    "                \"scenario2\": {\"looplengthmin\": 10000, \"looplengthmax\": 40000, \"maxslope\": 6} # teenage/adult leisure cyclist\n",
    "                }\n",
    "\n",
    "PATH = {\n",
    "    \"data_in_network\": \"../data/input/faxe/network/\",\n",
    "    \"data_in_pois\": \"../data/input/faxe/pois/\",\n",
    "    \"data_out\": \"../data/processed/faxe/\",\n",
    "    \"plot\": \"../plots/faxe/\"\n",
    "}"
   ]
  },
  {
   "cell_type": "markdown",
   "id": "5d0a7b7f",
   "metadata": {},
   "source": [
    "## Imports"
   ]
  },
  {
   "cell_type": "code",
   "execution_count": null,
   "id": "f81d35c7",
   "metadata": {},
   "outputs": [],
   "source": [
    "import geopandas as gpd\n",
    "import igraph as ig\n",
    "import matplotlib.pyplot as plt\n",
    "import numpy as np\n",
    "import networkx as nx\n",
    "from functools import reduce\n",
    "import pickle \n",
    "from itertools import compress\n",
    "from random import seed, random"
   ]
  },
  {
   "cell_type": "markdown",
   "id": "876e2b5b",
   "metadata": {},
   "source": [
    "## Functions"
   ]
  },
  {
   "cell_type": "code",
   "execution_count": null,
   "id": "9a407c7e",
   "metadata": {},
   "outputs": [],
   "source": [
    "def NormalizeData(data):\n",
    "    return list((data - np.min(data)) / (np.max(data) - np.min(data)))\n",
    "\n",
    "def getLayout(G, nodes_id, nodes_coords):\n",
    "    named_vertex_list = G.vs()[\"name\"]\n",
    "    layout = []\n",
    "    for n in named_vertex_list:\n",
    "        pos = nodes_id.index(n)\n",
    "        layout.append(nodes_coords[pos])\n",
    "    return layout\n",
    "\n",
    "def plotCheck(G, nodes_id, nodes_coords, vertex_size=7, edge_color=None):\n",
    "    fig, ax = plt.subplots()\n",
    "    layout = getLayout(G, nodes_id, nodes_coords)\n",
    "    if edge_color is None:\n",
    "        ig.plot(G, target=ax, vertex_size=vertex_size, layout=layout, vertex_color=\"green\");\n",
    "    else:\n",
    "        ig.plot(G, target=ax, vertex_size=vertex_size, layout=layout, edge_color=edge_color, vertex_color=\"green\");\n",
    "    return fig\n",
    "    \n",
    "def getLoopLength(c):\n",
    "    l = 0\n",
    "    cl = len(c)\n",
    "    for i in range(cl):\n",
    "        l += Gnx[c[i%cl]][c[(i+1)%cl]][\"weight\"]\n",
    "    return l"
   ]
  },
  {
   "cell_type": "markdown",
   "id": "06c9f290",
   "metadata": {},
   "source": [
    "## Exploration"
   ]
  },
  {
   "cell_type": "markdown",
   "id": "bcd4d066",
   "metadata": {},
   "source": [
    "### Load data"
   ]
  },
  {
   "cell_type": "code",
   "execution_count": null,
   "id": "cf6ab763",
   "metadata": {},
   "outputs": [],
   "source": [
    "with open(PATH['data_out'] + 'loopcensus_'+str(loop_numnode_bound)+'.pkl', 'rb') as f:\n",
    "    allloops = pickle.load(f)\n",
    "    alllooplengths = pickle.load(f)\n",
    "    allloopnumnodes = pickle.load(f)\n",
    "    allloopmaxslopes = pickle.load(f)\n",
    "    G = pickle.load(f)\n",
    "    loop_numnode_bound = pickle.load(f)\n",
    "    nodes_id = pickle.load(f)\n",
    "    nodes_coords = pickle.load(f)\n",
    "    numloops = pickle.load(f)\n",
    "    loopbasis = pickle.load(f)"
   ]
  },
  {
   "cell_type": "code",
   "execution_count": null,
   "id": "f13c5935",
   "metadata": {},
   "outputs": [],
   "source": [
    "# Plot to double-check\n",
    "plotCheck(G, nodes_id, nodes_coords);"
   ]
  },
  {
   "cell_type": "code",
   "execution_count": null,
   "id": "c05b5773",
   "metadata": {},
   "outputs": [],
   "source": [
    "fig = plt.figure(figsize=(8, 3))\n",
    "axes1 = fig.add_axes([0.1, 0.1, 0.35, 0.8])\n",
    "axes2 = fig.add_axes([0.55, 0.1, 0.35, 0.8])\n",
    "\n",
    "axes1.hist(alllooplengths, density=True)\n",
    "axes1.set_xlabel('Length [m]')\n",
    "axes1.set_ylabel('Probability')\n",
    "axes1.set_title('Loop lengths')\n",
    "\n",
    "axes2.hist(allloopnumnodes, density=True, bins=list(range(loop_numnode_bound+1)))\n",
    "axes2.set_xlabel('Nodes')\n",
    "axes2.set_title('Nodes per loop')\n",
    "axes2.set_xlim([0, loop_numnode_bound+0.5])\n",
    "\n",
    "plt.text(loop_numnode_bound/20,0.01, \"Bound: \" + str(loop_numnode_bound))\n",
    "plt.text(loop_numnode_bound/20,0.04, \"Loops: \" + str(numloops));"
   ]
  },
  {
   "cell_type": "markdown",
   "id": "fedbbbd0",
   "metadata": {},
   "source": [
    "### Restrict to length bounds"
   ]
  },
  {
   "cell_type": "markdown",
   "id": "b62c74c8",
   "metadata": {},
   "source": [
    "Go through all nodes and restrict their loops to the scenario's length restrictions"
   ]
  },
  {
   "cell_type": "code",
   "execution_count": null,
   "id": "73934a5a",
   "metadata": {},
   "outputs": [],
   "source": [
    "allloops_bound = {}\n",
    "for sourcenode in allloops:\n",
    "    this_lengths = np.array(allloops[sourcenode]['lengths'])\n",
    "    mask_this = (this_lengths >= restrictions[scenario][\"looplengthmin\"]) & (this_lengths <= restrictions[scenario][\"looplengthmax\"])\n",
    "    allloops_bound[sourcenode] = {\"loops\": list(compress(allloops[sourcenode]['loops'], mask_this)),\n",
    "                                   \"lengths\": list(compress(allloops[sourcenode]['lengths'], mask_this)),\n",
    "                                   \"numnodes\": list(compress(allloops[sourcenode]['numnodes'], mask_this))}"
   ]
  },
  {
   "cell_type": "code",
   "execution_count": null,
   "id": "615ec811",
   "metadata": {},
   "outputs": [],
   "source": [
    "vertex_sizes=[len(allloops_bound[k]['loops']) for k in range(len(allloops_bound.keys()))]\n",
    "numloops_max = max(vertex_sizes)\n",
    "vertex_sizes = [i/(numloops_max/20) for i in vertex_sizes]"
   ]
  },
  {
   "cell_type": "code",
   "execution_count": null,
   "id": "e3d8340b",
   "metadata": {},
   "outputs": [],
   "source": [
    "fig = plotCheck(G, nodes_id, nodes_coords, vertex_size = vertex_sizes)\n",
    "plt.text(0,0.04, \"Max # of loops: \" + str(numloops_max));\n",
    "plt.tight_layout()"
   ]
  },
  {
   "cell_type": "code",
   "execution_count": null,
   "id": "7e94a4a8",
   "metadata": {},
   "outputs": [],
   "source": [
    "fig.savefig(PATH[\"plot\"] + \"network_numloops_\"+str(restrictions[scenario][\"looplengthmin\"])+\"to\"+str(restrictions[scenario][\"looplengthmax\"]))"
   ]
  },
  {
   "cell_type": "markdown",
   "id": "ab5423e1",
   "metadata": {},
   "source": [
    "### Restrict to acceptable gradients"
   ]
  },
  {
   "cell_type": "code",
   "execution_count": null,
   "id": "906c9b7c",
   "metadata": {},
   "outputs": [],
   "source": [
    "allloops_bound = {}\n",
    "for sourcenode in allloops:\n",
    "    this_lengths = np.array(allloops[sourcenode]['lengths'])\n",
    "    this_maxslopes = np.array(allloops[sourcenode]['max_slopes'])\n",
    "    mask_this = (this_lengths >= restrictions[scenario][\"looplengthmin\"])\n",
    "    mask_this &= (this_lengths <= restrictions[scenario][\"looplengthmax\"]) \n",
    "    mask_this &= (this_maxslopes <= restrictions[scenario][\"maxslope\"])\n",
    "    allloops_bound[sourcenode] = {\"loops\": list(compress(allloops[sourcenode]['loops'], mask_this)),\n",
    "                                   \"lengths\": list(compress(allloops[sourcenode]['lengths'], mask_this)),\n",
    "                                   \"numnodes\": list(compress(allloops[sourcenode]['numnodes'], mask_this))}"
   ]
  },
  {
   "cell_type": "code",
   "execution_count": null,
   "id": "c97e46a1",
   "metadata": {},
   "outputs": [],
   "source": [
    "vertex_sizes=[len(allloops_bound[k]['loops']) for k in range(len(allloops_bound.keys()))]\n",
    "numloops_max = max(vertex_sizes)\n",
    "vertex_sizes = [i/(numloops_max/20) for i in vertex_sizes]"
   ]
  },
  {
   "cell_type": "code",
   "execution_count": null,
   "id": "66459687",
   "metadata": {},
   "outputs": [],
   "source": [
    "edge_colors = []\n",
    "for e in G.es:\n",
    "    if e[\"max_slope\"] > restrictions[scenario][\"maxslope\"]:\n",
    "        edge_colors.append(\"red\")\n",
    "    else:\n",
    "        edge_colors.append(\"grey\")"
   ]
  },
  {
   "cell_type": "code",
   "execution_count": null,
   "id": "b053a388",
   "metadata": {},
   "outputs": [],
   "source": [
    "fig = plotCheck(G, nodes_id, nodes_coords, vertex_size=vertex_sizes, edge_color=edge_colors)\n",
    "plt.text(0,0.04, \"Max # of loops: \" + str(numloops_max));\n",
    "plt.tight_layout()"
   ]
  },
  {
   "cell_type": "code",
   "execution_count": null,
   "id": "5f333bcb",
   "metadata": {},
   "outputs": [],
   "source": [
    "fig.savefig(PATH[\"plot\"] + \"network_numloops_\"+str(restrictions[scenario][\"looplengthmin\"])+\"to\"+str(restrictions[scenario][\"looplengthmax\"])+\"_maxslope\"+str(restrictions[scenario][\"maxslope\"]))"
   ]
  }
 ],
 "metadata": {
  "kernelspec": {
   "display_name": "cycreg",
   "language": "python",
   "name": "cycreg"
  },
  "language_info": {
   "codemirror_mode": {
    "name": "ipython",
    "version": 3
   },
   "file_extension": ".py",
   "mimetype": "text/x-python",
   "name": "python",
   "nbconvert_exporter": "python",
   "pygments_lexer": "ipython3",
   "version": "3.12.0"
  }
 },
 "nbformat": 4,
 "nbformat_minor": 5
}
