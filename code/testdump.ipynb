{
 "cells": [
  {
   "cell_type": "markdown",
   "id": "2e582dfd",
   "metadata": {},
   "source": [
    "# Test dump\n",
    "## Project: Bicycle node network loop analysis"
   ]
  },
  {
   "cell_type": "markdown",
   "id": "ccd3bfb7-4413-4e30-9afe-a1630cbd9dac",
   "metadata": {},
   "source": [
    "This is a dump for testing code. It smells a bit."
   ]
  },
  {
   "cell_type": "markdown",
   "id": "816924f7-7ddc-44a1-bcd7-fbf203a41b1d",
   "metadata": {},
   "source": [
    "## Parameters"
   ]
  },
  {
   "cell_type": "code",
   "execution_count": null,
   "id": "fb810d3b-192d-47d8-8d62-d699be65bcad",
   "metadata": {},
   "outputs": [],
   "source": [
    "%run -i setup_parameters.py\n",
    "load_data = True  # Set to False if data are huge and have already been loaded\n",
    "debug = True  # Set to True for extra plots and verbosity\n",
    "plt.style.use(PATH[\"parameters\"] + \"plotstyle.mplstyle\")"
   ]
  },
  {
   "cell_type": "code",
   "execution_count": null,
   "id": "b52367c6-7f2c-4ff5-b52a-65f22f3448a1",
   "metadata": {},
   "outputs": [],
   "source": [
    "try:  # See if allloops_dict exists. If not, initialize. This allows running multiple scenarios. Here we run only scenario 2 though.\n",
    "    allloops_dict\n",
    "except NameError:\n",
    "    allloops_dict = {}\n",
    "    dfunified_scenarios = {}\n",
    "allloops_dict[SCENARIOID] = {}"
   ]
  },
  {
   "cell_type": "code",
   "execution_count": null,
   "id": "9b986890-413c-43c3-a6fa-57ff87899f25",
   "metadata": {},
   "outputs": [],
   "source": [
    "print(\"Running scenario \" + str(SCENARIOID) + \" in \" + STUDY_AREA)\n",
    "for k, v in SCENARIO[SCENARIOID].items():\n",
    "    print(k + \": \" + str(v))"
   ]
  },
  {
   "cell_type": "markdown",
   "id": "6b3c5f29-e84c-461e-8bff-65686e21333c",
   "metadata": {},
   "source": [
    "## Functions"
   ]
  },
  {
   "cell_type": "code",
   "execution_count": null,
   "id": "08b75972-76bd-4c29-88f6-4e8f0d1cdc9f",
   "metadata": {},
   "outputs": [],
   "source": [
    "%run -i functions.py"
   ]
  },
  {
   "cell_type": "markdown",
   "id": "70ac370e-4572-4773-a702-3f10070e0e98",
   "metadata": {},
   "source": [
    "# Testing snapping"
   ]
  },
  {
   "cell_type": "code",
   "execution_count": null,
   "id": "9f3ba149-e60c-4b3f-9838-29ffee824466",
   "metadata": {},
   "outputs": [],
   "source": [
    "pois_orig = load_pois()\n",
    "if load_data:\n",
    "    if LOOP_LENGTH_BOUND:\n",
    "        llb_string = \"_maxlength\" + str(LOOP_LENGTH_BOUND)\n",
    "    else:\n",
    "        llb_string = \"\"\n",
    "\n",
    "    with open(\n",
    "        PATH[\"data_out\"]\n",
    "        + \"loopcensus_\"\n",
    "        + str(LOOP_NUMNODE_BOUND)\n",
    "        + llb_string\n",
    "        + \".pkl\",\n",
    "        \"rb\",\n",
    "    ) as f:\n",
    "        allloops = pickle.load(f)\n",
    "        alllooplengths = pickle.load(f)\n",
    "        allloopnumnodes = pickle.load(f)\n",
    "        allloopmaxslopes = pickle.load(f)\n",
    "        Gnx = pickle.load(f)\n",
    "        LOOP_NUMNODE_BOUND = pickle.load(f)\n",
    "        nodes_id = pickle.load(f)\n",
    "        nodes_coords = pickle.load(f)\n",
    "        numloops = pickle.load(f)\n",
    "        faceloops = pickle.load(f)\n",
    "\n",
    "# Create gdf and igraph versions\n",
    "nodes, edges = momepy.nx_to_gdf(net=Gnx, points=True, lines=True)\n",
    "nodes.set_crs(epsg=25832, inplace=True)\n",
    "edges.set_crs(epsg=25832, inplace=True)\n",
    "G = ig.Graph.from_networkx(Gnx)\n",
    "G.summary()"
   ]
  },
  {
   "cell_type": "markdown",
   "id": "9b99cadc-b535-4c4d-9c49-09124552b60a",
   "metadata": {},
   "source": [
    "Create a minimal graph with 3 links, each 1km long, somewhere in Denmark:"
   ]
  },
  {
   "cell_type": "code",
   "execution_count": null,
   "id": "b4313a06-df83-4878-8468-dffe1f05cfda",
   "metadata": {},
   "outputs": [],
   "source": [
    "edges.drop(edges.index, inplace=True)\n",
    "new_edges = gpd.GeoDataFrame(\n",
    "    {\n",
    "        \"has_facility\": [False, False, False],\n",
    "        \"has_service\": [False, False, False],\n",
    "        \"has_water\": [False, False, False],\n",
    "        \"poi_diversity\": [0, 0, 0],\n",
    "        \"has_attraction\": [False, False, False],\n",
    "        \"node_start\": [0, 1, 1],\n",
    "        \"node_end\": [1, 2, 3],\n",
    "        \"edge_id\": [0, 1, 2],\n",
    "        \"_igraph_index\": [0, 1, 2],\n",
    "        \"max_slope\": [0, 0, 0],\n",
    "        \"weight\": [1000, 1000, 1000],\n",
    "        \"geometry\": [\n",
    "            LineString([(600000, 600000), (601000, 600000)]),\n",
    "            LineString([(601000, 600000), (602000, 600000)]),\n",
    "            LineString([(601000, 600000), (601000, 601000)]),\n",
    "        ],\n",
    "    }\n",
    ")\n",
    "edges = gpd.GeoDataFrame(pd.concat([edges, new_edges], ignore_index=True))\n",
    "edges"
   ]
  },
  {
   "cell_type": "markdown",
   "id": "cf196e96-080f-4bd8-88bc-9ac2e6dc21df",
   "metadata": {},
   "source": [
    "Put a POI on the central node and check that it snaps to all links:"
   ]
  },
  {
   "cell_type": "code",
   "execution_count": null,
   "id": "48dd642b-542d-449e-a852-7b1265cdbf64",
   "metadata": {},
   "outputs": [],
   "source": [
    "pois_orig.drop(pois_orig.index, inplace=True)\n",
    "new_pois = gpd.GeoDataFrame(\n",
    "    {\n",
    "        \"category\": [\"facility\"],\n",
    "        \"geometry\": [\n",
    "            Point([(601000, 600000)]),\n",
    "        ],\n",
    "    }\n",
    ")\n",
    "pois_orig = gpd.GeoDataFrame(pd.concat([pois_orig, new_pois], ignore_index=True))\n",
    "pois_orig"
   ]
  },
  {
   "cell_type": "code",
   "execution_count": null,
   "id": "5cee4f79-01ce-41a3-a804-b32431a726cd",
   "metadata": {},
   "outputs": [],
   "source": [
    "pois_snapped = snap_pois(pois_orig, edges)\n",
    "pois_snapped"
   ]
  },
  {
   "cell_type": "code",
   "execution_count": null,
   "id": "25bbcd8b-aefa-462d-ac2c-6d5feb3ba90e",
   "metadata": {},
   "outputs": [],
   "source": [
    "edges"
   ]
  },
  {
   "cell_type": "code",
   "execution_count": null,
   "id": "ede9b742-921a-4d3f-813d-cd0a18d74a90",
   "metadata": {},
   "outputs": [],
   "source": [
    "edges = update_poi_attributes(edges, pois_snapped)\n",
    "edges"
   ]
  },
  {
   "cell_type": "markdown",
   "id": "08afc2e1-bfcb-4f42-ae56-8b7156550b27",
   "metadata": {},
   "source": [
    "# Testing Loops and POIs"
   ]
  },
  {
   "cell_type": "code",
   "execution_count": null,
   "id": "b76d70d3-c421-4e14-ba7c-4925a3af5cc8",
   "metadata": {},
   "outputs": [],
   "source": [
    "pois_orig = load_pois()\n",
    "if load_data:\n",
    "    if LOOP_LENGTH_BOUND:\n",
    "        llb_string = \"_maxlength\" + str(LOOP_LENGTH_BOUND)\n",
    "    else:\n",
    "        llb_string = \"\"\n",
    "\n",
    "    with open(\n",
    "        PATH[\"data_out\"]\n",
    "        + \"loopcensus_\"\n",
    "        + str(LOOP_NUMNODE_BOUND)\n",
    "        + llb_string\n",
    "        + \".pkl\",\n",
    "        \"rb\",\n",
    "    ) as f:\n",
    "        allloops = pickle.load(f)\n",
    "        alllooplengths = pickle.load(f)\n",
    "        allloopnumnodes = pickle.load(f)\n",
    "        allloopmaxslopes = pickle.load(f)\n",
    "        Gnx = pickle.load(f)\n",
    "        LOOP_NUMNODE_BOUND = pickle.load(f)\n",
    "        nodes_id = pickle.load(f)\n",
    "        nodes_coords = pickle.load(f)\n",
    "        numloops = pickle.load(f)\n",
    "        faceloops = pickle.load(f)\n",
    "\n",
    "# Create gdf and igraph versions\n",
    "nodes, edges = momepy.nx_to_gdf(net=Gnx, points=True, lines=True)\n",
    "nodes.set_crs(epsg=25832, inplace=True)\n",
    "edges.set_crs(epsg=25832, inplace=True)\n",
    "G = ig.Graph.from_networkx(Gnx)\n",
    "G.summary()"
   ]
  },
  {
   "cell_type": "code",
   "execution_count": null,
   "id": "21617a4d-fab8-44ee-9b3b-7522b15a5682",
   "metadata": {},
   "outputs": [],
   "source": [
    "Gnx[0][1]"
   ]
  },
  {
   "cell_type": "code",
   "execution_count": null,
   "id": "b2de1507-3512-4dfe-900c-62b7de4d6c62",
   "metadata": {},
   "outputs": [],
   "source": [
    "edges.drop(edges.index, inplace=True)\n",
    "new_edges = gpd.GeoDataFrame(\n",
    "    {\n",
    "        \"has_facility\": [False, False, False, False, False, False],\n",
    "        \"has_service\": [False, False, False, False, False, False],\n",
    "        \"has_water\": [False, False, False, False, False, False],\n",
    "        \"poi_diversity\": [0, 0, 0, 0, 0, 0],\n",
    "        \"has_attraction\": [False, False, False, False, False, False],\n",
    "        \"node_start\": [4, 4, 4, 3, 3, 1],\n",
    "        \"node_end\": [3, 1, 2, 1, 2, 2],\n",
    "        \"edge_id\": [0, 1, 2, 3, 4, 5],\n",
    "        \"_igraph_index\": [0, 1, 2, 3, 4, 5],\n",
    "        \"max_slope\": [0, 5, 7, 0, 0, 0],\n",
    "        \"weight\": [3000, 8000, 8000, 6000, 15000, 18000],\n",
    "        \"geometry\": [\n",
    "            LineString([(600000, 600000), (603000, 600000)]),\n",
    "            LineString([(600000, 600000), (601500, 607000)]),\n",
    "            LineString([(600000, 600000), (600000, 592000)]),\n",
    "            LineString([(603000, 600000), (601500, 607000)]),\n",
    "            LineString([(603000, 600000), (600000, 592000)]),\n",
    "            LineString([(601500, 607000), (600000, 592000)]),\n",
    "        ],\n",
    "    }\n",
    ")\n",
    "edges = gpd.GeoDataFrame(\n",
    "    pd.concat([edges, new_edges], ignore_index=True), crs=edges.crs\n",
    ")\n",
    "edges"
   ]
  },
  {
   "cell_type": "code",
   "execution_count": null,
   "id": "010900e5-019e-4f38-8320-2e8d81f07820",
   "metadata": {},
   "outputs": [],
   "source": [
    "Gnx = momepy.gdf_to_nx(edges, approach=\"primal\", integer_labels=True, multigraph=False)"
   ]
  },
  {
   "cell_type": "markdown",
   "id": "bbf84701-a20c-476e-896f-011508a699bc",
   "metadata": {},
   "source": [
    "## Test to get all loops, max 40km"
   ]
  },
  {
   "cell_type": "code",
   "execution_count": null,
   "id": "54418e29-1045-457d-afde-efc125517940",
   "metadata": {},
   "outputs": [],
   "source": [
    "print(Gnx.nodes(data=True))\n",
    "print(\"\")\n",
    "print(Gnx.edges(data=True))"
   ]
  },
  {
   "cell_type": "code",
   "execution_count": null,
   "id": "e0db6b2d-8676-46a6-9379-ec9957c57281",
   "metadata": {},
   "outputs": [],
   "source": [
    "Gnx[0][1]"
   ]
  },
  {
   "cell_type": "code",
   "execution_count": null,
   "id": "14326ae5-2039-402e-a07f-021a80509ac6",
   "metadata": {},
   "outputs": [],
   "source": [
    "allloops, alllooplengths, allloopnumnodes, allloopmaxslopes = get_allloops_nx(Gnx)"
   ]
  },
  {
   "cell_type": "markdown",
   "id": "d519f0ba-a583-4c1f-a5f8-cd048562dedd",
   "metadata": {},
   "source": [
    "Expected loops for node 1: 123,134,124,1243,1324 but not 1234 because too long  \n",
    "nx expected for node 2: 231,210,230,2301,2130 but not 2310 because too long"
   ]
  },
  {
   "cell_type": "code",
   "execution_count": null,
   "id": "66bb7ce6-9ff9-473d-986d-6f899ea118c9",
   "metadata": {},
   "outputs": [],
   "source": [
    "allloops[2]"
   ]
  },
  {
   "cell_type": "code",
   "execution_count": null,
   "id": "70a60c14-979a-4e14-bec8-aa39f42aa762",
   "metadata": {},
   "outputs": [],
   "source": [
    "allloopmaxslopes"
   ]
  },
  {
   "cell_type": "markdown",
   "id": "21600cea-cfdc-4cb6-9107-efdfb2e5b2b9",
   "metadata": {},
   "source": [
    "## Test slope restriction for scenario 0 adult cyclist"
   ]
  },
  {
   "cell_type": "code",
   "execution_count": null,
   "id": "7b96f7e8-5833-404e-b2c9-b20e96160272",
   "metadata": {},
   "outputs": [],
   "source": [
    "SCENARIOID = 0\n",
    "allloops_dict[SCENARIOID][0] = restrict_scenario(allloops, allloops, level=0)\n",
    "allloops_dict[SCENARIOID][1] = restrict_scenario(\n",
    "    allloops, allloops_dict[SCENARIOID][0], level=1\n",
    ")"
   ]
  },
  {
   "cell_type": "markdown",
   "id": "8412783b-8af9-4459-984f-400cb9d6c67c",
   "metadata": {},
   "source": [
    "nx expected for node 2: 231,210, but not 2310 because too long and not 230,2301,2130 because too steep"
   ]
  },
  {
   "cell_type": "code",
   "execution_count": null,
   "id": "67debc7e-e8d7-480e-a3d4-ed3425442756",
   "metadata": {},
   "outputs": [],
   "source": [
    "allloops_dict[SCENARIOID][1][2]"
   ]
  },
  {
   "cell_type": "markdown",
   "id": "75cd961f-10be-4fea-91ff-990c6383487e",
   "metadata": {},
   "source": [
    "## Test slope restriction for scenario 1 family with small children"
   ]
  },
  {
   "cell_type": "code",
   "execution_count": null,
   "id": "64b5374f-76fc-410a-82eb-f99f2e975676",
   "metadata": {},
   "outputs": [],
   "source": [
    "try:  # See if allloops_dict exists. If not, initialize. This allows running multiple scenarios. Here we run only scenario 2 though.\n",
    "    allloops_dict\n",
    "except NameError:\n",
    "    allloops_dict = {}\n",
    "    dfunified_scenarios = {}\n",
    "allloops_dict[SCENARIOID] = {}\n",
    "\n",
    "SCENARIOID = 1\n",
    "allloops_dict[SCENARIOID][0] = restrict_scenario(allloops, allloops, level=0)\n",
    "allloops_dict[SCENARIOID][1] = restrict_scenario(\n",
    "    allloops, allloops_dict[SCENARIOID][0], level=1\n",
    ")"
   ]
  },
  {
   "cell_type": "markdown",
   "id": "aa0d2d3a-340a-45e2-afa8-6f197f28bd39",
   "metadata": {},
   "source": [
    "nx expected for node 2: empty, because 2310,231 too long and 230,2301,2130,210 too steep"
   ]
  },
  {
   "cell_type": "code",
   "execution_count": null,
   "id": "0485ecc6-a392-4a36-8a94-cb98022e6840",
   "metadata": {},
   "outputs": [],
   "source": [
    "allloops_dict[SCENARIOID][1][2]"
   ]
  },
  {
   "cell_type": "markdown",
   "id": "1de88981-c081-4ecb-8b60-b9538b8ea0ce",
   "metadata": {},
   "source": [
    "## Test slope restriction for scenario 2 family with e-bikes"
   ]
  },
  {
   "cell_type": "code",
   "execution_count": null,
   "id": "398e5367-bd24-4390-b371-76d6511fa104",
   "metadata": {},
   "outputs": [],
   "source": [
    "try:  # See if allloops_dict exists. If not, initialize. This allows running multiple scenarios. Here we run only scenario 2 though.\n",
    "    allloops_dict\n",
    "except NameError:\n",
    "    allloops_dict = {}\n",
    "    dfunified_scenarios = {}\n",
    "allloops_dict[SCENARIOID] = {}\n",
    "\n",
    "SCENARIOID = 2\n",
    "allloops_dict[SCENARIOID][0] = restrict_scenario(allloops, allloops, level=0)\n",
    "allloops_dict[SCENARIOID][1] = restrict_scenario(\n",
    "    allloops, allloops_dict[SCENARIOID][0], level=1\n",
    ")"
   ]
  },
  {
   "cell_type": "markdown",
   "id": "00c32eea-9146-4fde-a508-6542ba18129f",
   "metadata": {},
   "source": [
    "nx expected for node 2: 231,210,230,2301,2130 but not 2310 because too long"
   ]
  },
  {
   "cell_type": "code",
   "execution_count": null,
   "id": "dffd5afe-7955-41c1-bf09-b61a1b971b16",
   "metadata": {},
   "outputs": [],
   "source": [
    "allloops_dict[SCENARIOID][1][2]"
   ]
  },
  {
   "cell_type": "markdown",
   "id": "2b39dc53-0e31-45f7-8cbe-52f6629588c2",
   "metadata": {},
   "source": [
    "## Test water restriction for scenario 2 family with e-bikes"
   ]
  },
  {
   "cell_type": "code",
   "execution_count": null,
   "id": "0c333822-d975-4ed4-9fd9-0e14a579da8d",
   "metadata": {},
   "outputs": [],
   "source": [
    "SCENARIOID = 2\n",
    "allloops_dict[SCENARIOID][0] = restrict_scenario(allloops, allloops, level=0)\n",
    "allloops_dict[SCENARIOID][1] = restrict_scenario(\n",
    "    allloops, allloops_dict[SCENARIOID][0], level=1\n",
    ")\n",
    "allloops_dict[SCENARIOID][2] = restrict_scenario(\n",
    "    allloops, allloops_dict[SCENARIOID][1], level=2\n",
    ")"
   ]
  },
  {
   "cell_type": "markdown",
   "id": "e142df92-9dbe-46f5-bba4-d36e71a1984e",
   "metadata": {},
   "source": [
    "nx expected for node 2: empty because no water"
   ]
  },
  {
   "cell_type": "code",
   "execution_count": null,
   "id": "2193d6b0-6ab1-47c3-976d-44b454ab2ac7",
   "metadata": {},
   "outputs": [],
   "source": [
    "allloops_dict[SCENARIOID][2][2]"
   ]
  },
  {
   "cell_type": "markdown",
   "id": "0decc094-0089-4eb5-9c5c-c0ed88cd242d",
   "metadata": {},
   "source": [
    "## Test adding water POIs for scenario 2 family with e-bikes"
   ]
  },
  {
   "cell_type": "markdown",
   "id": "6ae7dbee-12ad-49bc-876d-ebef5027cbda",
   "metadata": {},
   "source": [
    "### Adding just one POI"
   ]
  },
  {
   "cell_type": "code",
   "execution_count": null,
   "id": "a70fcace-b6bf-4294-b76a-865dc22c248e",
   "metadata": {},
   "outputs": [],
   "source": [
    "pois_orig.drop(pois_orig.index, inplace=True)\n",
    "new_pois = gpd.GeoDataFrame(\n",
    "    {\n",
    "        \"category\": [\"facility\"],\n",
    "        \"geometry\": [\n",
    "            Point([(600000, 592000)]),\n",
    "        ],\n",
    "    }\n",
    ")\n",
    "pois_orig = gpd.GeoDataFrame(pd.concat([pois_orig, new_pois], ignore_index=True))\n",
    "pois_orig"
   ]
  },
  {
   "cell_type": "code",
   "execution_count": null,
   "id": "8fd6e3e4-53c2-441f-bb9d-09407b0ebb36",
   "metadata": {},
   "outputs": [],
   "source": [
    "pois_snapped = snap_pois(pois_orig, edges)\n",
    "pois_snapped"
   ]
  },
  {
   "cell_type": "code",
   "execution_count": null,
   "id": "78f50cbc-7ac1-48c7-b6fd-d9c63516b214",
   "metadata": {},
   "outputs": [],
   "source": [
    "edges = update_poi_attributes(edges, pois_snapped)\n",
    "edges"
   ]
  },
  {
   "cell_type": "code",
   "execution_count": null,
   "id": "d691594e-27ae-4796-8f9c-8c8e514c7678",
   "metadata": {},
   "outputs": [],
   "source": [
    "Gnx = momepy.gdf_to_nx(edges, approach=\"primal\", integer_labels=True, multigraph=False)\n",
    "allloops, alllooplengths, allloopnumnodes, allloopmaxslopes = get_allloops_nx(Gnx)"
   ]
  },
  {
   "cell_type": "code",
   "execution_count": null,
   "id": "00176978-a416-4a5e-af90-813eae54e847",
   "metadata": {},
   "outputs": [],
   "source": [
    "SCENARIOID = 2\n",
    "allloops_dict[SCENARIOID][0] = restrict_scenario(allloops, allloops, level=0)\n",
    "allloops_dict[SCENARIOID][1] = restrict_scenario(\n",
    "    allloops, allloops_dict[SCENARIOID][0], level=1\n",
    ")\n",
    "allloops_dict[SCENARIOID][2] = restrict_scenario(\n",
    "    allloops, allloops_dict[SCENARIOID][1], level=2\n",
    ")"
   ]
  },
  {
   "cell_type": "markdown",
   "id": "d05335c0-b1d8-492c-8873-7874cc8cdfea",
   "metadata": {},
   "source": [
    "Expected water profile for nx loop 012: empty\n",
    "Expected water profile for nx loop 0123: 18000, 13000\n",
    "Expected water profile for nx loop 0213: 21500, 11500"
   ]
  },
  {
   "cell_type": "code",
   "execution_count": null,
   "id": "cf2539b2-9e71-41ca-bfb8-8324ade1c8bf",
   "metadata": {},
   "outputs": [],
   "source": [
    "allloops_dict[SCENARIOID][0][2]"
   ]
  }
 ],
 "metadata": {
  "kernelspec": {
   "display_name": "bikenwloops",
   "language": "python",
   "name": "bikenwloops"
  },
  "language_info": {
   "codemirror_mode": {
    "name": "ipython",
    "version": 3
   },
   "file_extension": ".py",
   "mimetype": "text/x-python",
   "name": "python",
   "nbconvert_exporter": "python",
   "pygments_lexer": "ipython3",
   "version": "3.12.11"
  }
 },
 "nbformat": 4,
 "nbformat_minor": 5
}
