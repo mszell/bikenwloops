{
 "cells": [
  {
   "cell_type": "markdown",
   "id": "2e582dfd",
   "metadata": {},
   "source": [
    "# Test dump\n",
    "## Project: Bicycle node network loop analysis"
   ]
  },
  {
   "cell_type": "markdown",
   "id": "ccd3bfb7-4413-4e30-9afe-a1630cbd9dac",
   "metadata": {},
   "source": [
    "This is a dump for testing code. It smells a bit."
   ]
  },
  {
   "cell_type": "markdown",
   "id": "816924f7-7ddc-44a1-bcd7-fbf203a41b1d",
   "metadata": {},
   "source": [
    "## Parameters"
   ]
  },
  {
   "cell_type": "code",
   "execution_count": null,
   "id": "fb810d3b-192d-47d8-8d62-d699be65bcad",
   "metadata": {},
   "outputs": [],
   "source": [
    "%run -i setup_parameters.py\n",
    "load_data = True  # Set to False if data are huge and have already been loaded\n",
    "debug = True  # Set to True for extra plots and verbosity\n",
    "plt.style.use(PATH[\"parameters\"] + \"plotstyle.mplstyle\")"
   ]
  },
  {
   "cell_type": "code",
   "execution_count": null,
   "id": "b52367c6-7f2c-4ff5-b52a-65f22f3448a1",
   "metadata": {},
   "outputs": [],
   "source": [
    "try:  # See if allloops_dict exists. If not, initialize. This allows running multiple scenarios. Here we run only scenario 2 though.\n",
    "    allloops_dict\n",
    "except NameError:\n",
    "    allloops_dict = {}\n",
    "    dfunified_scenarios = {}\n",
    "allloops_dict[SCENARIOID] = {}"
   ]
  },
  {
   "cell_type": "code",
   "execution_count": null,
   "id": "9b986890-413c-43c3-a6fa-57ff87899f25",
   "metadata": {},
   "outputs": [],
   "source": [
    "print(\"Running scenario \" + str(SCENARIOID) + \" in \" + STUDY_AREA)\n",
    "for k, v in SCENARIO[SCENARIOID].items():\n",
    "    print(k + \": \" + str(v))"
   ]
  },
  {
   "cell_type": "markdown",
   "id": "6b3c5f29-e84c-461e-8bff-65686e21333c",
   "metadata": {},
   "source": [
    "## Functions"
   ]
  },
  {
   "cell_type": "code",
   "execution_count": null,
   "id": "08b75972-76bd-4c29-88f6-4e8f0d1cdc9f",
   "metadata": {},
   "outputs": [],
   "source": [
    "%run -i functions.py"
   ]
  },
  {
   "cell_type": "markdown",
   "id": "70ac370e-4572-4773-a702-3f10070e0e98",
   "metadata": {},
   "source": [
    "# Testing snapping"
   ]
  },
  {
   "cell_type": "code",
   "execution_count": null,
   "id": "9f3ba149-e60c-4b3f-9838-29ffee824466",
   "metadata": {},
   "outputs": [],
   "source": [
    "pois_orig = load_pois()\n",
    "if load_data:\n",
    "    if LOOP_LENGTH_BOUND:\n",
    "        llb_string = \"_maxlength\" + str(LOOP_LENGTH_BOUND)\n",
    "    else:\n",
    "        llb_string = \"\"\n",
    "\n",
    "    with open(\n",
    "        PATH[\"data_out\"]\n",
    "        + \"loopcensus_\"\n",
    "        + str(LOOP_NUMNODE_BOUND)\n",
    "        + llb_string\n",
    "        + \".pkl\",\n",
    "        \"rb\",\n",
    "    ) as f:\n",
    "        allloops = pickle.load(f)\n",
    "        alllooplengths = pickle.load(f)\n",
    "        allloopnumnodes = pickle.load(f)\n",
    "        allloopmaxslopes = pickle.load(f)\n",
    "        Gnx = pickle.load(f)\n",
    "        LOOP_NUMNODE_BOUND = pickle.load(f)\n",
    "        nodes_id = pickle.load(f)\n",
    "        nodes_coords = pickle.load(f)\n",
    "        numloops = pickle.load(f)\n",
    "        faceloops = pickle.load(f)\n",
    "\n",
    "# Create gdf and igraph versions\n",
    "nodes, edges = momepy.nx_to_gdf(net=Gnx, points=True, lines=True)\n",
    "nodes.set_crs(epsg=25832, inplace=True)\n",
    "edges.set_crs(epsg=25832, inplace=True)\n",
    "G = ig.Graph.from_networkx(Gnx)\n",
    "G.summary()"
   ]
  },
  {
   "cell_type": "markdown",
   "id": "9b99cadc-b535-4c4d-9c49-09124552b60a",
   "metadata": {},
   "source": [
    "Create a minimal graph with 3 links, each 1km long, somewhere in Denmark:"
   ]
  },
  {
   "cell_type": "code",
   "execution_count": null,
   "id": "b4313a06-df83-4878-8468-dffe1f05cfda",
   "metadata": {},
   "outputs": [],
   "source": [
    "edges.drop(edges.index, inplace=True)\n",
    "new_edges = gpd.GeoDataFrame(\n",
    "    {\n",
    "        \"has_facility\": [False, False, False],\n",
    "        \"has_service\": [False, False, False],\n",
    "        \"has_water\": [False, False, False],\n",
    "        \"poi_diversity\": [0, 0, 0],\n",
    "        \"has_attraction\": [False, False, False],\n",
    "        \"node_start\": [0, 1, 1],\n",
    "        \"node_end\": [1, 2, 3],\n",
    "        \"edge_id\": [0, 1, 2],\n",
    "        \"_igraph_index\": [0, 1, 2],\n",
    "        \"max_slope\": [0, 0, 0],\n",
    "        \"weight\": [1000, 1000, 1000],\n",
    "        \"geometry\": [\n",
    "            LineString([(600000, 600000), (601000, 600000)]),\n",
    "            LineString([(601000, 600000), (602000, 600000)]),\n",
    "            LineString([(601000, 600000), (601000, 601000)]),\n",
    "        ],\n",
    "    }\n",
    ")\n",
    "edges = gpd.GeoDataFrame(pd.concat([edges, new_edges], ignore_index=True))\n",
    "edges"
   ]
  },
  {
   "cell_type": "markdown",
   "id": "cf196e96-080f-4bd8-88bc-9ac2e6dc21df",
   "metadata": {},
   "source": [
    "Put a POI on the central node and check that it snaps to all links:"
   ]
  },
  {
   "cell_type": "code",
   "execution_count": null,
   "id": "48dd642b-542d-449e-a852-7b1265cdbf64",
   "metadata": {},
   "outputs": [],
   "source": [
    "pois_orig.drop(pois_orig.index, inplace=True)\n",
    "new_pois = gpd.GeoDataFrame(\n",
    "    {\n",
    "        \"category\": [\"facility\"],\n",
    "        \"geometry\": [\n",
    "            Point([(601000, 600000)]),\n",
    "        ],\n",
    "    }\n",
    ")\n",
    "pois_orig = gpd.GeoDataFrame(pd.concat([pois_orig, new_pois], ignore_index=True))\n",
    "pois_orig"
   ]
  },
  {
   "cell_type": "code",
   "execution_count": null,
   "id": "5cee4f79-01ce-41a3-a804-b32431a726cd",
   "metadata": {},
   "outputs": [],
   "source": [
    "pois_snapped = snap_pois(pois_orig, edges)\n",
    "# edges = update_poi_attributes(edges, pois_snapped)"
   ]
  },
  {
   "cell_type": "code",
   "execution_count": null,
   "id": "743b6c2d-d329-4343-b446-aff1caa3b818",
   "metadata": {},
   "outputs": [],
   "source": [
    "pois_snapped"
   ]
  },
  {
   "cell_type": "code",
   "execution_count": null,
   "id": "25bbcd8b-aefa-462d-ac2c-6d5feb3ba90e",
   "metadata": {},
   "outputs": [],
   "source": [
    "edges"
   ]
  },
  {
   "cell_type": "code",
   "execution_count": null,
   "id": "ede9b742-921a-4d3f-813d-cd0a18d74a90",
   "metadata": {},
   "outputs": [],
   "source": [
    "edges = update_poi_attributes(edges, pois_snapped)\n",
    "edges"
   ]
  }
 ],
 "metadata": {
  "kernelspec": {
   "display_name": "bikenwloops",
   "language": "python",
   "name": "bikenwloops"
  },
  "language_info": {
   "codemirror_mode": {
    "name": "ipython",
    "version": 3
   },
   "file_extension": ".py",
   "mimetype": "text/x-python",
   "name": "python",
   "nbconvert_exporter": "python",
   "pygments_lexer": "ipython3",
   "version": "3.12.11"
  }
 },
 "nbformat": 4,
 "nbformat_minor": 5
}
