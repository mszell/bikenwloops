{
 "cells": [
  {
   "cell_type": "markdown",
   "id": "b5c39b41",
   "metadata": {},
   "source": [
    "# Explore data\n",
    "## Project: Cycling node network loop analysis"
   ]
  },
  {
   "cell_type": "markdown",
   "id": "3f36a676",
   "metadata": {},
   "source": [
    "This notebook explores the input data set.\n",
    "\n",
    "Contact: Michael Szell (michael.szell@gmail.com)  \n",
    "Created: 2024-01-24  \n",
    "Last modified: 2024-01-26  "
   ]
  },
  {
   "cell_type": "markdown",
   "id": "105bb740",
   "metadata": {},
   "source": [
    "## To do"
   ]
  },
  {
   "cell_type": "markdown",
   "id": "7589522f",
   "metadata": {},
   "source": [
    "* X Drop non-main nodes\n",
    "* X Drop loops (they are really dangling links)\n",
    "* Find all simple cycles (bounded?-max length?) with networkX"
   ]
  },
  {
   "cell_type": "markdown",
   "id": "3f568fda",
   "metadata": {},
   "source": [
    "## Imports"
   ]
  },
  {
   "cell_type": "code",
   "execution_count": null,
   "id": "a94c6529",
   "metadata": {},
   "outputs": [],
   "source": [
    "import geopandas as gpd\n",
    "import igraph as ig\n",
    "import matplotlib.pyplot as plt\n",
    "import numpy as np\n",
    "from functools import reduce"
   ]
  },
  {
   "cell_type": "markdown",
   "id": "6069688d",
   "metadata": {},
   "source": [
    "## Functions"
   ]
  },
  {
   "cell_type": "code",
   "execution_count": null,
   "id": "167a5a11",
   "metadata": {},
   "outputs": [],
   "source": [
    "def NormalizeData(data):\n",
    "    return list((data - np.min(data)) / (np.max(data) - np.min(data)))\n",
    "\n",
    "def getLayout(G, nodes_id, nodes_coords):\n",
    "    named_vertex_list = G.vs()[\"name\"]\n",
    "    layout = []\n",
    "    for n in named_vertex_list:\n",
    "        pos = nodes_id.index(n)\n",
    "        layout.append(nodes_coords[pos])\n",
    "    return layout\n",
    "\n",
    "def plotCheck(G, nodes_id, nodes_coords):\n",
    "    fig, ax = plt.subplots()\n",
    "    layout = getLayout(G, nodes_id, nodes_coords)\n",
    "    ig.plot(G, target=ax, vertex_size=6, layout=layout);"
   ]
  },
  {
   "cell_type": "markdown",
   "id": "c26dbda9",
   "metadata": {},
   "source": [
    "## Exploration"
   ]
  },
  {
   "cell_type": "markdown",
   "id": "00b4932b",
   "metadata": {},
   "source": [
    "### Load data"
   ]
  },
  {
   "cell_type": "code",
   "execution_count": null,
   "id": "42ae1e55",
   "metadata": {},
   "outputs": [],
   "source": [
    "edges = gpd.read_file(r'../data/input/faxe/network/network_edges_no_parallel.gpkg')\n",
    "nodes = gpd.read_file(r'../data/input/faxe/network/nodes_edges_parallel.gpkg')\n",
    "# Set CRS\n",
    "edges.set_crs('epsg:25832')\n",
    "nodes.set_crs('epsg:25832');"
   ]
  },
  {
   "cell_type": "code",
   "execution_count": null,
   "id": "6fe41cce",
   "metadata": {},
   "outputs": [],
   "source": [
    "edges.head()"
   ]
  },
  {
   "cell_type": "code",
   "execution_count": null,
   "id": "aa3c68f3",
   "metadata": {},
   "outputs": [],
   "source": [
    "nodes.head()"
   ]
  },
  {
   "cell_type": "code",
   "execution_count": null,
   "id": "c47ee7b7",
   "metadata": {},
   "outputs": [],
   "source": [
    "nodes_id = list(nodes.id)\n",
    "nodes_x = list(nodes.geometry.x)\n",
    "nodes_y = list(nodes.geometry.y)\n",
    "nodes_coords = list(zip(NormalizeData(nodes_x), NormalizeData(nodes_y)))"
   ]
  },
  {
   "cell_type": "code",
   "execution_count": null,
   "id": "50986bbb",
   "metadata": {},
   "outputs": [],
   "source": [
    "# Rename length to weight for igraph\n",
    "edges = edges.rename(columns={\"length\": \"weight\"})\n",
    "# Drop unused columns\n",
    "used_columns = {\"u\":(), \"v\":(), \"weight\":()}\n",
    "for c_name, _ in edges.items():\n",
    "    if c_name not in used_columns:\n",
    "        del edges[c_name]\n",
    "\n",
    "# Reorder columns\n",
    "edges = edges[['u','v','weight']]"
   ]
  },
  {
   "cell_type": "markdown",
   "id": "211594e3",
   "metadata": {},
   "source": [
    "### Turn into igraph object"
   ]
  },
  {
   "cell_type": "code",
   "execution_count": null,
   "id": "18fc1444",
   "metadata": {},
   "outputs": [],
   "source": [
    "G = ig.Graph.TupleList(edges.itertuples(index=False), directed=False, weights=True)"
   ]
  },
  {
   "cell_type": "code",
   "execution_count": null,
   "id": "a989ac41",
   "metadata": {},
   "outputs": [],
   "source": [
    "G.summary()"
   ]
  },
  {
   "cell_type": "code",
   "execution_count": null,
   "id": "790ca87c",
   "metadata": {},
   "outputs": [],
   "source": [
    "# Plot to double-check\n",
    "plotCheck(G, nodes_id, nodes_coords)"
   ]
  },
  {
   "cell_type": "markdown",
   "id": "644e8f48",
   "metadata": {},
   "source": [
    "### Drop self-loops"
   ]
  },
  {
   "cell_type": "markdown",
   "id": "0f405b71",
   "metadata": {},
   "source": [
    "They are really dangling links which go outside the region, were mistakenly connected to themselves."
   ]
  },
  {
   "cell_type": "code",
   "execution_count": null,
   "id": "2a710810",
   "metadata": {},
   "outputs": [],
   "source": [
    "G.simplify(multiple=True, loops=True, combine_edges=min);"
   ]
  },
  {
   "cell_type": "code",
   "execution_count": null,
   "id": "274d8b15",
   "metadata": {},
   "outputs": [],
   "source": [
    "# Plot to double-check\n",
    "plotCheck(G, nodes_id, nodes_coords)"
   ]
  },
  {
   "cell_type": "markdown",
   "id": "f699a56c",
   "metadata": {},
   "source": [
    "### Drop dangling nodes"
   ]
  },
  {
   "cell_type": "code",
   "execution_count": null,
   "id": "b2225edb",
   "metadata": {},
   "outputs": [],
   "source": [
    "# Source: https://codereview.stackexchange.com/questions/284246/deletion-of-nodes-of-degree-1-from-a-python-igraph-graph\n",
    "vertices = {v for v in G.vs.select(_degree_le=1)}\n",
    "needs_to_be_checked = set(vertices)\n",
    "while needs_to_be_checked:\n",
    "    vertex = needs_to_be_checked.pop()\n",
    "    for n_vertex in vertex.neighbors():\n",
    "        if n_vertex in vertices \\\n",
    "                or sum(1 for v in n_vertex.neighbors() if v not in vertices) > 1:\n",
    "            continue\n",
    "        vertices.add(n_vertex)\n",
    "        needs_to_be_checked.add(n_vertex)\n",
    "G.delete_vertices(vertices)"
   ]
  },
  {
   "cell_type": "code",
   "execution_count": null,
   "id": "e85f5ffc",
   "metadata": {
    "scrolled": false
   },
   "outputs": [],
   "source": [
    "# Plot to double-check\n",
    "plotCheck(G, nodes_id, nodes_coords)"
   ]
  },
  {
   "cell_type": "markdown",
   "id": "13b061b5",
   "metadata": {},
   "source": [
    "### Drop degree 2 nodes"
   ]
  },
  {
   "cell_type": "markdown",
   "id": "8dc11619",
   "metadata": {},
   "source": [
    "This should include all non-ismain nodes."
   ]
  },
  {
   "cell_type": "code",
   "execution_count": null,
   "id": "90d55eaa",
   "metadata": {},
   "outputs": [],
   "source": [
    "nodes_nonismain = nodes.loc[nodes['ismain'] == 0]\n",
    "nodes_nonismain = nodes_nonismain['node_id'].to_list()\n",
    "# Turn to dict for fast finding\n",
    "nodes_nonismain = {nodes_nonismain[i]: True for i in range(len(nodes_nonismain))} "
   ]
  },
  {
   "cell_type": "code",
   "execution_count": null,
   "id": "e2d3929d",
   "metadata": {},
   "outputs": [],
   "source": [
    "to_delete_ids = []\n",
    "\n",
    "# Unclear how to select nodes in igraph by name, so let's iterate through them\n",
    "for v in G.vs:\n",
    "#     if v[\"name\"] in nodes_nonismain and v.degree() == 2:\n",
    "    if v.degree() == 2:\n",
    "        # Remember node to delete\n",
    "        to_delete_ids.append(v.index)\n",
    "        # Add a new edge that combines the deleted ones\n",
    "        sumoflengths = v.incident()[0].attributes()[\"weight\"] + v.incident()[1].attributes()[\"weight\"]\n",
    "        G.add_edge(v.neighbors()[0].index, v.neighbors()[1].index, weight = sumoflengths)\n",
    "\n",
    "G.delete_vertices(to_delete_ids)\n",
    "\n",
    "# Re-simplify\n",
    "G.simplify(multiple=True, loops=True, combine_edges=min);"
   ]
  },
  {
   "cell_type": "code",
   "execution_count": null,
   "id": "88371c29",
   "metadata": {},
   "outputs": [],
   "source": [
    "# Plot to double-check\n",
    "plotCheck(G, nodes_id, nodes_coords)"
   ]
  },
  {
   "cell_type": "markdown",
   "id": "030ce69e",
   "metadata": {},
   "source": [
    "### Get cycle basis"
   ]
  },
  {
   "cell_type": "code",
   "execution_count": null,
   "id": "5a26d252",
   "metadata": {},
   "outputs": [],
   "source": [
    "# https://python.igraph.org/en/latest/api/igraph.GraphBase.html#fundamental_cycles\n",
    "fcycles = {}\n",
    "cid = 0\n",
    "for c in G.fundamental_cycles():\n",
    "    # Add some statistics\n",
    "    ws = [G.es(eid)['weight'] for eid in c]\n",
    "    fcycles[cid] = {\"edges\": c, \"length\": sum(reduce(lambda a, b: a + b, ws))}\n",
    "    cid += 1\n",
    "    \n",
    "fcycles"
   ]
  },
  {
   "cell_type": "markdown",
   "id": "d06580c1",
   "metadata": {},
   "source": [
    "Getting all simple cycles has not yet been implemented in igraph, see:  \n",
    "* https://github.com/igraph/igraph/issues/379  \n",
    "* https://github.com/igraph/igraph/issues/1398  \n",
    "Some potential progress here, but only for C, not Python:\n",
    "* https://github.com/igraph/igraph/pull/2181\n",
    "\n",
    "But they can be XORed through the cycle base.  "
   ]
  },
  {
   "cell_type": "markdown",
   "id": "79133988",
   "metadata": {},
   "source": [
    "It has been implemented in networkX though: https://networkx.org/documentation/stable/reference/algorithms/generated/networkx.algorithms.cycles.simple_cycles.html#networkx.algorithms.cycles.simple_cycles"
   ]
  }
 ],
 "metadata": {
  "kernelspec": {
   "display_name": "cycreg",
   "language": "python",
   "name": "cycreg"
  },
  "language_info": {
   "codemirror_mode": {
    "name": "ipython",
    "version": 3
   },
   "file_extension": ".py",
   "mimetype": "text/x-python",
   "name": "python",
   "nbconvert_exporter": "python",
   "pygments_lexer": "ipython3",
   "version": "3.12.0"
  }
 },
 "nbformat": 4,
 "nbformat_minor": 5
}
