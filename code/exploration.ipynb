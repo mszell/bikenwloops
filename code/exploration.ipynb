{
 "cells": [
  {
   "cell_type": "markdown",
   "id": "74184688",
   "metadata": {},
   "source": [
    "# Explore data\n",
    "## Project: Cycling node network loop analysis"
   ]
  },
  {
   "cell_type": "markdown",
   "id": "1e3aac06",
   "metadata": {},
   "source": [
    "This notebook explores the input data set.\n",
    "\n",
    "Contact: Michael Szell (michael.szell@gmail.com)  \n",
    "Created: 2024-01-24  \n",
    "Last modified: 2024-01-26  "
   ]
  },
  {
   "cell_type": "markdown",
   "id": "c211a68f",
   "metadata": {},
   "source": [
    "## To do"
   ]
  },
  {
   "cell_type": "markdown",
   "id": "074bd65e",
   "metadata": {},
   "source": [
    "* Double-check cycle/edge lengths. For example 3-cycle east of Faxe\n",
    "* If node-based analysis, then need to add cycle permutations?\n",
    "* X Drop non-main nodes\n",
    "* X Drop loops (they are really dangling links)\n",
    "* X Find all simple cycles (bounded?-max length?) with networkX"
   ]
  },
  {
   "cell_type": "markdown",
   "id": "11991e47",
   "metadata": {},
   "source": [
    "## Parameters"
   ]
  },
  {
   "cell_type": "code",
   "execution_count": null,
   "id": "b3b3b395",
   "metadata": {},
   "outputs": [],
   "source": [
    "cycle_numnode_bound = 20  # From 30 it starts getting slow"
   ]
  },
  {
   "cell_type": "markdown",
   "id": "bd70eb02",
   "metadata": {},
   "source": [
    "## Imports"
   ]
  },
  {
   "cell_type": "code",
   "execution_count": null,
   "id": "fbd6e63e",
   "metadata": {},
   "outputs": [],
   "source": [
    "import geopandas as gpd\n",
    "import igraph as ig\n",
    "import matplotlib.pyplot as plt\n",
    "import numpy as np\n",
    "import networkx as nx\n",
    "from functools import reduce"
   ]
  },
  {
   "cell_type": "markdown",
   "id": "63ef6929",
   "metadata": {},
   "source": [
    "## Functions"
   ]
  },
  {
   "cell_type": "code",
   "execution_count": null,
   "id": "5b1c5eb4",
   "metadata": {},
   "outputs": [],
   "source": [
    "def NormalizeData(data):\n",
    "    return list((data - np.min(data)) / (np.max(data) - np.min(data)))\n",
    "\n",
    "def getLayout(G, nodes_id, nodes_coords):\n",
    "    named_vertex_list = G.vs()[\"name\"]\n",
    "    layout = []\n",
    "    for n in named_vertex_list:\n",
    "        pos = nodes_id.index(n)\n",
    "        layout.append(nodes_coords[pos])\n",
    "    return layout\n",
    "\n",
    "def plotCheck(G, nodes_id, nodes_coords):\n",
    "    fig, ax = plt.subplots()\n",
    "    layout = getLayout(G, nodes_id, nodes_coords)\n",
    "    ig.plot(G, target=ax, vertex_size=6, layout=layout);\n",
    "    \n",
    "def getCycleLength(c):\n",
    "    l = 0\n",
    "    cl = len(c)\n",
    "    for i in range(cl):\n",
    "        l += Gnx[c[i%cl]][c[(i+1)%cl]][\"weight\"]\n",
    "    return l"
   ]
  },
  {
   "cell_type": "markdown",
   "id": "6035a096",
   "metadata": {},
   "source": [
    "## Exploration"
   ]
  },
  {
   "cell_type": "markdown",
   "id": "46405879",
   "metadata": {},
   "source": [
    "### Load data"
   ]
  },
  {
   "cell_type": "code",
   "execution_count": null,
   "id": "47c80d52",
   "metadata": {},
   "outputs": [],
   "source": [
    "edges = gpd.read_file(r'../data/input/faxe/network/network_edges_no_parallel.gpkg')\n",
    "nodes = gpd.read_file(r'../data/input/faxe/network/nodes_edges_parallel.gpkg')\n",
    "# Set CRS\n",
    "edges.set_crs('epsg:25832')\n",
    "nodes.set_crs('epsg:25832');"
   ]
  },
  {
   "cell_type": "code",
   "execution_count": null,
   "id": "429c92d7",
   "metadata": {},
   "outputs": [],
   "source": [
    "edges.head()"
   ]
  },
  {
   "cell_type": "code",
   "execution_count": null,
   "id": "b53244b4",
   "metadata": {},
   "outputs": [],
   "source": [
    "nodes.head()"
   ]
  },
  {
   "cell_type": "code",
   "execution_count": null,
   "id": "06c4aed8",
   "metadata": {},
   "outputs": [],
   "source": [
    "nodes_id = list(nodes.id)\n",
    "nodes_x = list(nodes.geometry.x)\n",
    "nodes_y = list(nodes.geometry.y)\n",
    "nodes_coords = list(zip(NormalizeData(nodes_x), NormalizeData(nodes_y)))"
   ]
  },
  {
   "cell_type": "code",
   "execution_count": null,
   "id": "e146acf3",
   "metadata": {},
   "outputs": [],
   "source": [
    "# Rename length to weight for igraph\n",
    "edges = edges.rename(columns={\"length\": \"weight\"})\n",
    "# Drop unused columns\n",
    "used_columns = {\"u\":(), \"v\":(), \"weight\":()}\n",
    "for c_name, _ in edges.items():\n",
    "    if c_name not in used_columns:\n",
    "        del edges[c_name]\n",
    "\n",
    "# Reorder columns\n",
    "edges = edges[['u','v','weight']]"
   ]
  },
  {
   "cell_type": "markdown",
   "id": "85999105",
   "metadata": {},
   "source": [
    "### Turn into igraph object"
   ]
  },
  {
   "cell_type": "code",
   "execution_count": null,
   "id": "13b9c29d",
   "metadata": {},
   "outputs": [],
   "source": [
    "G = ig.Graph.TupleList(edges.itertuples(index=False), directed=False, weights=True)"
   ]
  },
  {
   "cell_type": "code",
   "execution_count": null,
   "id": "d79f6131",
   "metadata": {},
   "outputs": [],
   "source": [
    "G.summary()"
   ]
  },
  {
   "cell_type": "code",
   "execution_count": null,
   "id": "de1dff4b",
   "metadata": {},
   "outputs": [],
   "source": [
    "# Plot to double-check\n",
    "plotCheck(G, nodes_id, nodes_coords)"
   ]
  },
  {
   "cell_type": "markdown",
   "id": "1cbf29af",
   "metadata": {},
   "source": [
    "### Drop self-loops"
   ]
  },
  {
   "cell_type": "markdown",
   "id": "929ba085",
   "metadata": {},
   "source": [
    "They are really dangling links which go outside the region, were mistakenly connected to themselves."
   ]
  },
  {
   "cell_type": "code",
   "execution_count": null,
   "id": "49caddf5",
   "metadata": {},
   "outputs": [],
   "source": [
    "G.simplify(multiple=True, loops=True, combine_edges=min);"
   ]
  },
  {
   "cell_type": "code",
   "execution_count": null,
   "id": "f64f312f",
   "metadata": {},
   "outputs": [],
   "source": [
    "# Plot to double-check\n",
    "plotCheck(G, nodes_id, nodes_coords)"
   ]
  },
  {
   "cell_type": "markdown",
   "id": "bfd4fcea",
   "metadata": {},
   "source": [
    "### Drop dangling nodes"
   ]
  },
  {
   "cell_type": "code",
   "execution_count": null,
   "id": "b86bab53",
   "metadata": {},
   "outputs": [],
   "source": [
    "# Source: https://codereview.stackexchange.com/questions/284246/deletion-of-nodes-of-degree-1-from-a-python-igraph-graph\n",
    "vertices = {v for v in G.vs.select(_degree_le=1)}\n",
    "needs_to_be_checked = set(vertices)\n",
    "while needs_to_be_checked:\n",
    "    vertex = needs_to_be_checked.pop()\n",
    "    for n_vertex in vertex.neighbors():\n",
    "        if n_vertex in vertices \\\n",
    "                or sum(1 for v in n_vertex.neighbors() if v not in vertices) > 1:\n",
    "            continue\n",
    "        vertices.add(n_vertex)\n",
    "        needs_to_be_checked.add(n_vertex)\n",
    "G.delete_vertices(vertices)"
   ]
  },
  {
   "cell_type": "code",
   "execution_count": null,
   "id": "9fc77d69",
   "metadata": {
    "scrolled": false
   },
   "outputs": [],
   "source": [
    "# Plot to double-check\n",
    "plotCheck(G, nodes_id, nodes_coords)"
   ]
  },
  {
   "cell_type": "markdown",
   "id": "97207881",
   "metadata": {},
   "source": [
    "### Drop degree 2 nodes"
   ]
  },
  {
   "cell_type": "markdown",
   "id": "393cdc41",
   "metadata": {},
   "source": [
    "This should include all non-ismain nodes."
   ]
  },
  {
   "cell_type": "code",
   "execution_count": null,
   "id": "839ca788",
   "metadata": {},
   "outputs": [],
   "source": [
    "nodes_nonismain = nodes.loc[nodes['ismain'] == 0]\n",
    "nodes_nonismain = nodes_nonismain['node_id'].to_list()\n",
    "# Turn to dict for fast finding\n",
    "nodes_nonismain = {nodes_nonismain[i]: True for i in range(len(nodes_nonismain))} "
   ]
  },
  {
   "cell_type": "code",
   "execution_count": null,
   "id": "f5ecf3be",
   "metadata": {},
   "outputs": [],
   "source": [
    "to_delete_ids = []\n",
    "\n",
    "# Unclear how to select nodes in igraph by name, so let's iterate through them\n",
    "for v in G.vs:\n",
    "#     if v[\"name\"] in nodes_nonismain and v.degree() == 2:\n",
    "    if v.degree() == 2:\n",
    "        # Remember node to delete\n",
    "        to_delete_ids.append(v.index)\n",
    "        # Add a new edge that combines the deleted ones\n",
    "        sumoflengths = v.incident()[0].attributes()[\"weight\"] + v.incident()[1].attributes()[\"weight\"]\n",
    "        G.add_edge(v.neighbors()[0].index, v.neighbors()[1].index, weight = sumoflengths)\n",
    "\n",
    "G.delete_vertices(to_delete_ids)\n",
    "\n",
    "# Re-simplify\n",
    "G.simplify(multiple=True, loops=True, combine_edges=min);"
   ]
  },
  {
   "cell_type": "code",
   "execution_count": null,
   "id": "79e39edb",
   "metadata": {},
   "outputs": [],
   "source": [
    "# Plot to double-check\n",
    "plotCheck(G, nodes_id, nodes_coords)"
   ]
  },
  {
   "cell_type": "markdown",
   "id": "a16486c5",
   "metadata": {},
   "source": [
    "### Get cycle basis"
   ]
  },
  {
   "cell_type": "code",
   "execution_count": null,
   "id": "59a338b8",
   "metadata": {
    "scrolled": true
   },
   "outputs": [],
   "source": [
    "# https://python.igraph.org/en/latest/api/igraph.GraphBase.html#fundamental_cycles\n",
    "fcycles = {}\n",
    "fcycles_lengths = []\n",
    "cid = 0\n",
    "for c in G.fundamental_cycles():\n",
    "    # Add some statistics\n",
    "    ws = [G.es(eid)['weight'] for eid in c]\n",
    "    fcycles[cid] = {\"edges\": c, \"length\": sum(reduce(lambda a, b: a + b, ws))}\n",
    "    fcycles_lengths.append(len(c))\n",
    "    cid += 1"
   ]
  },
  {
   "cell_type": "markdown",
   "id": "00172c31",
   "metadata": {},
   "source": [
    "Getting all simple cycles has not yet been implemented in igraph, see:  \n",
    "* https://github.com/igraph/igraph/issues/379  \n",
    "* https://github.com/igraph/igraph/issues/1398  \n",
    "Some potential progress here, but only for C, not Python:\n",
    "* https://github.com/igraph/igraph/pull/2181\n",
    "\n",
    "But they can be XORed through the cycle base.  "
   ]
  },
  {
   "cell_type": "markdown",
   "id": "e7da7ef4",
   "metadata": {},
   "source": [
    "It has been implemented in networkX though: https://networkx.org/documentation/stable/reference/algorithms/generated/networkx.algorithms.cycles.simple_cycles.html#networkx.algorithms.cycles.simple_cycles"
   ]
  },
  {
   "cell_type": "markdown",
   "id": "14fc3bb6",
   "metadata": {},
   "source": [
    "### Get all simple cycles via nx"
   ]
  },
  {
   "cell_type": "code",
   "execution_count": null,
   "id": "7c114261",
   "metadata": {},
   "outputs": [],
   "source": [
    "Gnx = G.to_networkx()"
   ]
  },
  {
   "cell_type": "code",
   "execution_count": null,
   "id": "a51a2b60",
   "metadata": {},
   "outputs": [],
   "source": [
    "# # Sanity checks\n",
    "# for (u, v, wt) in Gnx.edges.data('weight'):\n",
    "#     print(f\"({u}, {v}, {wt:.8})\")"
   ]
  },
  {
   "cell_type": "code",
   "execution_count": null,
   "id": "93f9f245",
   "metadata": {},
   "outputs": [],
   "source": [
    "cycle_numnode_bound = 3\n",
    "allcycles_generator = nx.simple_cycles(Gnx, length_bound=cycle_numnode_bound)"
   ]
  },
  {
   "cell_type": "code",
   "execution_count": null,
   "id": "bb0ebd03",
   "metadata": {},
   "outputs": [],
   "source": [
    "allcycles = {}\n",
    "nodes_done = set()\n",
    "numcycles = 0\n",
    "for c in allcycles_generator:\n",
    "    sourcenode = c[0]\n",
    "    c_length = getCycleLength(c)\n",
    "    numcycles += 1\n",
    "    if sourcenode in nodes_done:\n",
    "        allcycles[sourcenode][\"cycles\"].append(c)\n",
    "        allcycles[sourcenode][\"lengths\"].append(c_length)\n",
    "        allcycles[sourcenode][\"numnodes\"].append(len(c))\n",
    "    else:\n",
    "        allcycles[sourcenode] = {\"cycles\": [c], \"lengths\": [c_length], \"numnodes\": [len(c)]}\n",
    "        nodes_done.add(sourcenode)\n",
    "print(\"Found \" + str(numcycles) + \" cycles for length bound \" + str(cycle_numnode_bound))"
   ]
  },
  {
   "cell_type": "code",
   "execution_count": null,
   "id": "92c9e2d0",
   "metadata": {},
   "outputs": [],
   "source": [
    "# allcycles"
   ]
  },
  {
   "cell_type": "code",
   "execution_count": null,
   "id": "da1e663a",
   "metadata": {},
   "outputs": [],
   "source": [
    "allcyclelengths = np.zeros(numcycles)\n",
    "allcyclenumnodes = np.zeros(numcycles, dtype=int)\n",
    "i = 0\n",
    "for j in allcycles:\n",
    "    l = len(allcycles[j][\"lengths\"])\n",
    "    allcyclelengths[i:i+l] = allcycles[j][\"lengths\"]\n",
    "    allcyclenumnodes[i:i+l] = allcycles[j][\"numnodes\"]\n",
    "    i += l"
   ]
  },
  {
   "cell_type": "code",
   "execution_count": null,
   "id": "42638704",
   "metadata": {},
   "outputs": [],
   "source": [
    "fig = plt.figure(figsize=(8, 3))\n",
    "axes1 = fig.add_axes([0.1, 0.1, 0.35, 0.8])\n",
    "axes2 = fig.add_axes([0.55, 0.1, 0.35, 0.8])\n",
    "\n",
    "axes1.hist(allcyclelengths, density=True)\n",
    "axes1.set_xlabel('Length [m]')\n",
    "axes1.set_ylabel('Frequency')\n",
    "axes1.set_title('Cycle lengths')\n",
    "\n",
    "axes2.hist(allcyclenumnodes, density=True, bins=list(range(cycle_numnode_bound+1)))\n",
    "axes2.set_xlabel('Nodes')\n",
    "axes2.set_title('Nodes per cycle')\n",
    "axes2.set_xlim([0, cycle_numnode_bound+0.5])\n",
    "\n",
    "plt.text(cycle_numnode_bound/20,0.01, \"Bound: \" + str(cycle_numnode_bound))\n",
    "plt.text(cycle_numnode_bound/20,0.04, \"Cycles: \" + str(numcycles));"
   ]
  }
 ],
 "metadata": {
  "kernelspec": {
   "display_name": "cycreg",
   "language": "python",
   "name": "cycreg"
  },
  "language_info": {
   "codemirror_mode": {
    "name": "ipython",
    "version": 3
   },
   "file_extension": ".py",
   "mimetype": "text/x-python",
   "name": "python",
   "nbconvert_exporter": "python",
   "pygments_lexer": "ipython3",
   "version": "3.12.0"
  }
 },
 "nbformat": 4,
 "nbformat_minor": 5
}
