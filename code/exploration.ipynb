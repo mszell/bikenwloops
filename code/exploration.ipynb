{
 "cells": [
  {
   "cell_type": "markdown",
   "id": "5955ffd7",
   "metadata": {},
   "source": [
    "# Explore data\n",
    "## Project: Cycling node network loop analysis"
   ]
  },
  {
   "cell_type": "markdown",
   "id": "4a92940f",
   "metadata": {},
   "source": [
    "This notebook explores the input data set.\n",
    "\n",
    "Contact: Michael Szell (michael.szell@gmail.com)  \n",
    "Created: 2024-01-24  \n",
    "Last modified: 2024-01-24  "
   ]
  },
  {
   "cell_type": "markdown",
   "id": "8d59f47d",
   "metadata": {},
   "source": [
    "## Imports"
   ]
  },
  {
   "cell_type": "code",
   "execution_count": null,
   "id": "fd387c81",
   "metadata": {},
   "outputs": [],
   "source": [
    "import geopandas as gpd\n",
    "import igraph as ig\n",
    "import matplotlib.pyplot as plt\n",
    "import numpy as np\n",
    "from functools import reduce"
   ]
  },
  {
   "cell_type": "markdown",
   "id": "70d6a132",
   "metadata": {},
   "source": [
    "## Functions"
   ]
  },
  {
   "cell_type": "code",
   "execution_count": null,
   "id": "7886abcd",
   "metadata": {},
   "outputs": [],
   "source": [
    "def NormalizeData(data):\n",
    "    return list((data - np.min(data)) / (np.max(data) - np.min(data)))\n",
    "\n",
    "def getLayout(G, nodes_id, nodes_coords):\n",
    "    named_vertex_list = G.vs()[\"name\"]\n",
    "    layout = []\n",
    "    for n in named_vertex_list:\n",
    "        pos = nodes_id.index(n)\n",
    "        layout.append(nodes_coords[pos])\n",
    "    return layout"
   ]
  },
  {
   "cell_type": "markdown",
   "id": "d99d5a1b",
   "metadata": {},
   "source": [
    "## Exploration"
   ]
  },
  {
   "cell_type": "markdown",
   "id": "7aa5a416",
   "metadata": {},
   "source": [
    "### Load data"
   ]
  },
  {
   "cell_type": "code",
   "execution_count": null,
   "id": "4def53aa",
   "metadata": {},
   "outputs": [],
   "source": [
    "edges = gpd.read_file(r'../data/input/faxe/network/network_edges_no_parallel.gpkg')\n",
    "nodes = gpd.read_file(r'../data/input/faxe/network/nodes_edges_parallel.gpkg')\n",
    "# Set CRS\n",
    "edges.set_crs('epsg:25832')\n",
    "nodes.set_crs('epsg:25832');"
   ]
  },
  {
   "cell_type": "code",
   "execution_count": null,
   "id": "932f3fbf",
   "metadata": {},
   "outputs": [],
   "source": [
    "nodes"
   ]
  },
  {
   "cell_type": "code",
   "execution_count": null,
   "id": "2ef0836b",
   "metadata": {},
   "outputs": [],
   "source": [
    "nodes_id = list(nodes.id)\n",
    "nodes_x = list(nodes.geometry.x)\n",
    "nodes_y = list(nodes.geometry.y)\n",
    "nodes_coords = list(zip(NormalizeData(nodes_x), NormalizeData(nodes_y)))"
   ]
  },
  {
   "cell_type": "code",
   "execution_count": null,
   "id": "db7dd89f",
   "metadata": {},
   "outputs": [],
   "source": [
    "# Rename length to weight for igraph\n",
    "edges = edges.rename(columns={\"length\": \"weight\"})\n",
    "# Drop unused columns\n",
    "used_columns = {\"u\":(), \"v\":(), \"weight\":()}\n",
    "for c_name, _ in edges.items():\n",
    "    if c_name not in used_columns:\n",
    "        del edges[c_name]\n",
    "\n",
    "# Reorder columns\n",
    "edges = edges[['u','v','weight']]"
   ]
  },
  {
   "cell_type": "markdown",
   "id": "65901553",
   "metadata": {},
   "source": [
    "### Turn into igraph object"
   ]
  },
  {
   "cell_type": "code",
   "execution_count": null,
   "id": "94de66de",
   "metadata": {},
   "outputs": [],
   "source": [
    "G = ig.Graph.TupleList(edges.itertuples(index=False), directed=False, weights=True)"
   ]
  },
  {
   "cell_type": "code",
   "execution_count": null,
   "id": "b22f8fbc",
   "metadata": {},
   "outputs": [],
   "source": [
    "# Plot to double-check\n",
    "fig, ax = plt.subplots()\n",
    "layout = getLayout(G, nodes_id, nodes_coords)\n",
    "ig.plot(G, target=ax, vertex_size=6, layout=layout);"
   ]
  },
  {
   "cell_type": "markdown",
   "id": "e76bbe24",
   "metadata": {},
   "source": [
    "### Drop dangling nodes"
   ]
  },
  {
   "cell_type": "code",
   "execution_count": null,
   "id": "86b721d8",
   "metadata": {},
   "outputs": [],
   "source": [
    "# Source: https://codereview.stackexchange.com/questions/284246/deletion-of-nodes-of-degree-1-from-a-python-igraph-graph\n",
    "vertices = {v for v in G.vs.select(_degree_le=1)}\n",
    "needs_to_be_checked = set(vertices)\n",
    "while needs_to_be_checked:\n",
    "    vertex = needs_to_be_checked.pop()\n",
    "    for n_vertex in vertex.neighbors():\n",
    "        if n_vertex in vertices \\\n",
    "                or sum(1 for v in n_vertex.neighbors() if v not in vertices) > 1:\n",
    "            continue\n",
    "        vertices.add(n_vertex)\n",
    "        needs_to_be_checked.add(n_vertex)\n",
    "G.delete_vertices(vertices)"
   ]
  },
  {
   "cell_type": "code",
   "execution_count": null,
   "id": "6ebce46c",
   "metadata": {},
   "outputs": [],
   "source": [
    "# Plot to double-check\n",
    "fig, ax = plt.subplots()\n",
    "layout = getLayout(G, nodes_id, nodes_coords)\n",
    "ig.plot(G, target=ax, vertex_size=6, layout=layout);"
   ]
  },
  {
   "cell_type": "markdown",
   "id": "7047b919",
   "metadata": {},
   "source": [
    "### Get cycle basis"
   ]
  },
  {
   "cell_type": "code",
   "execution_count": null,
   "id": "dade89b2",
   "metadata": {},
   "outputs": [],
   "source": [
    "# https://python.igraph.org/en/latest/api/igraph.GraphBase.html#fundamental_cycles\n",
    "fcycles = {}\n",
    "cid = 0\n",
    "for c in G.fundamental_cycles():\n",
    "    # Add some statistics\n",
    "    ws = [G.es(eid)['weight'] for eid in c]\n",
    "    fcycles[cid] = {\"edges\": c, \"length\": sum(reduce(lambda a, b: a + b, ws))}\n",
    "    cid += 1\n",
    "    \n",
    "fcycles"
   ]
  },
  {
   "cell_type": "markdown",
   "id": "7f636f0e",
   "metadata": {},
   "source": [
    "Getting all simple cycles has not yet been implemented in igraph, see:  \n",
    "* https://github.com/igraph/igraph/issues/379  \n",
    "* https://github.com/igraph/igraph/issues/1398  \n",
    "Some potential progress here, but only for C, not Python:\n",
    "* https://github.com/igraph/igraph/pull/2181\n",
    "\n",
    "But they can be XORed through the cycle base.  "
   ]
  },
  {
   "cell_type": "markdown",
   "id": "fb56b35b",
   "metadata": {},
   "source": [
    "It has been implemented in networkX though: https://networkx.org/documentation/stable/reference/algorithms/generated/networkx.algorithms.cycles.simple_cycles.html#networkx.algorithms.cycles.simple_cycles"
   ]
  }
 ],
 "metadata": {
  "kernelspec": {
   "display_name": "cycreg",
   "language": "python",
   "name": "cycreg"
  },
  "language_info": {
   "codemirror_mode": {
    "name": "ipython",
    "version": 3
   },
   "file_extension": ".py",
   "mimetype": "text/x-python",
   "name": "python",
   "nbconvert_exporter": "python",
   "pygments_lexer": "ipython3",
   "version": "3.12.0"
  }
 },
 "nbformat": 4,
 "nbformat_minor": 5
}
