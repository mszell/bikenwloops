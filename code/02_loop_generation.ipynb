{
 "cells": [
  {
   "cell_type": "markdown",
   "id": "2e582dfd",
   "metadata": {},
   "source": [
    "# 02. Generate loop censuses, Denmark-wide\n",
    "## Project: Bicycle node network loop analysis"
   ]
  },
  {
   "cell_type": "markdown",
   "id": "2bc9b960",
   "metadata": {},
   "source": [
    "This notebook generates a loop census for each node from the preprocessed and snapped Denmark-wide network from 01, and calculates/plots basic descriptive statistics for the whole country of Denmark.  \n",
    "Please select `denmark` as the `study_area` in the `config.yml`.\n",
    "\n",
    "Contact: Michael Szell (michael.szell@gmail.com)\n",
    "\n",
    "Created: 2024-01-24  \n",
    "Last modified: 2025-08-08"
   ]
  },
  {
   "cell_type": "markdown",
   "id": "5126c030",
   "metadata": {},
   "source": [
    "## To do"
   ]
  },
  {
   "cell_type": "markdown",
   "id": "5faeedc4",
   "metadata": {},
   "source": [
    "- [ ] Double-check loop/link lengths. For example 3-loop east of Faxe\n",
    "- [ ] Double-check edge_ids during simplifications\n",
    "- [ ] Semilogy scale for loop lengths"
   ]
  },
  {
   "cell_type": "markdown",
   "id": "9d22412b-3d1f-4203-bbc4-4629f35c0c06",
   "metadata": {},
   "source": [
    "## Parameters"
   ]
  },
  {
   "cell_type": "code",
   "execution_count": null,
   "id": "f3f65809-7982-4af5-8ac0-74adc0c05ac8",
   "metadata": {},
   "outputs": [],
   "source": [
    "%run -i setup_parameters.py\n",
    "debug = True  # Set to True for extra plots and verbosity"
   ]
  },
  {
   "cell_type": "markdown",
   "id": "876e2b5b",
   "metadata": {},
   "source": [
    "## Functions"
   ]
  },
  {
   "cell_type": "code",
   "execution_count": null,
   "id": "54eee093-c956-4804-8add-6a4f41a86cb9",
   "metadata": {},
   "outputs": [],
   "source": [
    "%run -i functions.py"
   ]
  },
  {
   "cell_type": "markdown",
   "id": "06c9f290",
   "metadata": {},
   "source": [
    "## Load data"
   ]
  },
  {
   "cell_type": "code",
   "execution_count": null,
   "id": "52a1454e-17a4-41c6-ac85-f8dc01ff6acb",
   "metadata": {},
   "outputs": [],
   "source": [
    "Gnx = nx.empty_graph()\n",
    "with lzma.open(PATH[\"data_out\"] + \"network_preprocessed.xz\", \"rb\") as f:\n",
    "    G_new = pickle.load(f)\n",
    "    Gnx = nx.disjoint_union(Gnx, G_new.to_networkx())\n",
    "if debug:\n",
    "    print(\"N: \" + str(Gnx.number_of_nodes()), \", L: \" + str(Gnx.number_of_edges()))\n",
    "    for k, v in list(Gnx.nodes(data=True))[:10]:\n",
    "        print(k, v)\n",
    "    for u, v in Gnx.edges(list(range(3))):\n",
    "        print(u, v)"
   ]
  },
  {
   "cell_type": "code",
   "execution_count": null,
   "id": "75797837-2c99-4865-a22d-3b674a894754",
   "metadata": {
    "scrolled": true
   },
   "outputs": [],
   "source": [
    "# just dummy files that must be saved due to copy paste from old code. eventually fix and remove.\n",
    "nodes_id = list()\n",
    "nodes_coords = list()"
   ]
  },
  {
   "cell_type": "markdown",
   "id": "8f44e7ee-23b2-4fdc-befd-0e3a4663de41",
   "metadata": {},
   "source": [
    "## Loop generation"
   ]
  },
  {
   "cell_type": "markdown",
   "id": "bc5a1811",
   "metadata": {},
   "source": [
    "### Get face loops"
   ]
  },
  {
   "cell_type": "markdown",
   "id": "6e307a33-297f-43d8-9ba8-a93c349b3642",
   "metadata": {},
   "source": [
    "The minimum cycle basis is generally not the cycle basis of face loops, see: https://en.wikipedia.org/wiki/Cycle_basis#In_planar_graphs  \n",
    "Therefore, we can't use https://python.igraph.org/en/latest/api/igraph.GraphBase.html#minimum_cycle_basis here. Instead, we solve the problem geometrically via shapely."
   ]
  },
  {
   "cell_type": "markdown",
   "id": "2f1944ec-49e6-48c5-bb02-8ab699596ec1",
   "metadata": {},
   "source": [
    "#### Polygonize"
   ]
  },
  {
   "cell_type": "code",
   "execution_count": null,
   "id": "43159f6b-c81b-44ad-b06a-2dc5258aab3a",
   "metadata": {},
   "outputs": [],
   "source": [
    "edgegeoms = list(nx.get_edge_attributes(Gnx, \"geometry\").values())\n",
    "facepolygons, _, _, _ = shapely.polygonize_full(edgegeoms)\n",
    "if debug:\n",
    "    print(edgegeoms[:10])\n",
    "    p = gpd.GeoSeries(facepolygons)\n",
    "    p.plot()\n",
    "    plt.axis(\"off\")"
   ]
  },
  {
   "cell_type": "markdown",
   "id": "f23522ce-8ada-4918-93d4-858cc7714933",
   "metadata": {},
   "source": [
    "#### Intersect polygons with graph to get face loops"
   ]
  },
  {
   "cell_type": "code",
   "execution_count": null,
   "id": "b30f8086-e192-4fb8-a28f-d132db30c781",
   "metadata": {},
   "outputs": [],
   "source": [
    "# Code from: https://github.com/anastassiavybornova/bike-node-planner/blob/main/scripts/script06.py\n",
    "ns, es = momepy.nx_to_gdf(net=Gnx, points=True, lines=True)\n",
    "\n",
    "linestrings = (\n",
    "    es.geometry.copy()\n",
    ")  # our geopandas.GeoSeries of linestrings representing street network\n",
    "collection = shapely.GeometryCollection(linestrings.array)  # combine to a single object\n",
    "noded = shapely.node(collection)  # add missing nodes\n",
    "polygonized = shapely.polygonize(\n",
    "    noded.geoms\n",
    ")  # polygonize based on an array of nodded parts\n",
    "polygons = gpd.GeoSeries(polygonized.geoms)  # create a GeoSeries from parts\n",
    "\n",
    "# create geodataframe of loops, where we will save evaluation column\n",
    "faceloops = gpd.GeoDataFrame(geometry=polygons, crs=es.crs)\n",
    "if debug:\n",
    "    print(faceloops.head(5))"
   ]
  },
  {
   "cell_type": "code",
   "execution_count": null,
   "id": "7525a45c-13c4-48b7-8365-1ff7562a7fc1",
   "metadata": {},
   "outputs": [],
   "source": [
    "faceloopnodes = []\n",
    "for fl in faceloops.itertuples():  # loop through each face loop fl\n",
    "    nsinters = ns.intersection(\n",
    "        fl.geometry\n",
    "    )  # intersect all nodes with the fl's geometry\n",
    "    nsinters = nsinters[~nsinters.is_empty]  # remove empties\n",
    "    faceloopnodes.append(len(nsinters))  # save number of nodes"
   ]
  },
  {
   "cell_type": "code",
   "execution_count": null,
   "id": "5323056d-b56a-49ae-8ea8-24df844f8911",
   "metadata": {},
   "outputs": [],
   "source": [
    "h = plt.hist(faceloopnodes, range(18))\n",
    "plt.title(\"Nodes per faceloop\")\n",
    "print(h[1])\n",
    "print(h[0])"
   ]
  },
  {
   "cell_type": "markdown",
   "id": "c8f07b37",
   "metadata": {},
   "source": [
    "~~Getting all simple loops has not yet been implemented in igraph, see:  \n",
    "* https://github.com/igraph/igraph/issues/379  \n",
    "* https://github.com/igraph/igraph/issues/1398  \n",
    "Some potential progress here, but only for C, not Python:\n",
    "* https://github.com/igraph/igraph/pull/2181\n",
    "\n",
    "But they can be XORed through the loop base.~~\n",
    "\n",
    "Update 2025-06-19: It *has* been implemented now! 🎉  \n",
    "https://github.com/igraph/python-igraph/releases/tag/0.11.9  \n",
    "https://python.igraph.org/en/0.11.9/api/igraph.GraphBase.html#simple_cycles  "
   ]
  },
  {
   "cell_type": "markdown",
   "id": "8b714ef4",
   "metadata": {},
   "source": [
    "It has been implemented in networkX though: https://networkx.org/documentation/stable/reference/algorithms/generated/networkx.algorithms.cycles.simple_cycles.html#networkx.algorithms.cycles.simple_cycles"
   ]
  },
  {
   "cell_type": "markdown",
   "id": "cbbca691",
   "metadata": {},
   "source": [
    "Therefore, we do not use igraph's loop basis, but go ahead with networkX."
   ]
  },
  {
   "cell_type": "markdown",
   "id": "60b4c617-19ac-41d1-a35d-5bc81809127e",
   "metadata": {},
   "source": [
    "### Get all loops via igraph"
   ]
  },
  {
   "cell_type": "markdown",
   "id": "edecf076-35fd-4dd4-948b-135502040133",
   "metadata": {},
   "source": [
    "to do"
   ]
  },
  {
   "cell_type": "markdown",
   "id": "a1fee5e7",
   "metadata": {},
   "source": [
    "### Get all loops via nx"
   ]
  },
  {
   "cell_type": "code",
   "execution_count": null,
   "id": "5801d700",
   "metadata": {},
   "outputs": [],
   "source": [
    "# Get all loops, meaning a loop ABCA is counted also as BCAB and CABC\n",
    "allloops, alllooplengths, allloopnumnodes, allloopmaxslopes = get_allloops_nx(Gnx)"
   ]
  },
  {
   "cell_type": "markdown",
   "id": "0bd274d8",
   "metadata": {},
   "source": [
    "## Save loop census"
   ]
  },
  {
   "cell_type": "code",
   "execution_count": null,
   "id": "d2050153",
   "metadata": {},
   "outputs": [],
   "source": [
    "if LOOP_LENGTH_BOUND:\n",
    "    llb_string = \"_maxlength\" + str(LOOP_LENGTH_BOUND)\n",
    "else:\n",
    "    llb_string = \"\"\n",
    "\n",
    "with open(\n",
    "    PATH[\"data_out\"] + \"loopcensus_\" + str(LOOP_NUMNODE_BOUND) + llb_string + \".pkl\",\n",
    "    \"wb\",\n",
    ") as f:\n",
    "    pickle.dump(allloops, f)\n",
    "    pickle.dump(alllooplengths, f)\n",
    "    pickle.dump(allloopnumnodes, f)\n",
    "    pickle.dump(allloopmaxslopes, f)\n",
    "    pickle.dump(Gnx, f)\n",
    "    pickle.dump(LOOP_NUMNODE_BOUND, f)\n",
    "    pickle.dump(nodes_id, f)\n",
    "    pickle.dump(nodes_coords, f)\n",
    "    pickle.dump(numloops, f)\n",
    "    pickle.dump(faceloops, f)"
   ]
  }
 ],
 "metadata": {
  "kernelspec": {
   "display_name": "bikenwloops",
   "language": "python",
   "name": "bikenwloops"
  },
  "language_info": {
   "codemirror_mode": {
    "name": "ipython",
    "version": 3
   },
   "file_extension": ".py",
   "mimetype": "text/x-python",
   "name": "python",
   "nbconvert_exporter": "python",
   "pygments_lexer": "ipython3",
   "version": "3.12.11"
  }
 },
 "nbformat": 4,
 "nbformat_minor": 5
}
