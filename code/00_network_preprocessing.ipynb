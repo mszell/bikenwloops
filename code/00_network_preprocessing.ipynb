{
 "cells": [
  {
   "cell_type": "markdown",
   "id": "2e582dfd",
   "metadata": {},
   "source": [
    "# 00. Network preprocessing, single study area\n",
    "## Project: Bicycle node network loop analysis"
   ]
  },
  {
   "cell_type": "markdown",
   "id": "2bc9b960",
   "metadata": {},
   "source": [
    "This notebook preprocesses the network data from a single study area (*not* whole Denmark) and saves an intermediate format.  \n",
    "Please select an appropriate study area in the `config.yml` (*not* `denmark`).  \n",
    "\n",
    "The steps are:\n",
    "- Take largest component\n",
    "- Simplify: Drop self-loops, dangling nodes, degree 2 nodes\n",
    "\n",
    "Contact: Michael Szell (michael.szell@gmail.com)\n",
    "\n",
    "Created: 2024-10-01  \n",
    "Last modified: 2025-08-07"
   ]
  },
  {
   "cell_type": "markdown",
   "id": "9d22412b-3d1f-4203-bbc4-4629f35c0c06",
   "metadata": {},
   "source": [
    "## Parameters"
   ]
  },
  {
   "cell_type": "code",
   "execution_count": null,
   "id": "f3f65809-7982-4af5-8ac0-74adc0c05ac8",
   "metadata": {},
   "outputs": [],
   "source": [
    "%run -i setup_parameters.py\n",
    "debug = True  # Set to True for extra plots and verbosity"
   ]
  },
  {
   "cell_type": "markdown",
   "id": "876e2b5b",
   "metadata": {},
   "source": [
    "## Functions"
   ]
  },
  {
   "cell_type": "code",
   "execution_count": null,
   "id": "54eee093-c956-4804-8add-6a4f41a86cb9",
   "metadata": {},
   "outputs": [],
   "source": [
    "%run -i functions.py"
   ]
  },
  {
   "cell_type": "markdown",
   "id": "06c9f290",
   "metadata": {},
   "source": [
    "## Processing data"
   ]
  },
  {
   "cell_type": "markdown",
   "id": "bcd4d066",
   "metadata": {},
   "source": [
    "### Load data"
   ]
  },
  {
   "cell_type": "code",
   "execution_count": null,
   "id": "cf6ab763",
   "metadata": {},
   "outputs": [],
   "source": [
    "edges = gpd.read_file(PATH[\"data_in_network\"] + \"edges_slope.gpkg\")\n",
    "edges_orig = edges  # Make a deep copy to save the geometries\n",
    "edges[\"edge_id\"] = edges.index  # Make index the edge id\n",
    "if not MAXSLOPES_AVAILABLE:  # Generate random data if max_slopes not available\n",
    "    edges[\"max_slope\"] = np.random.normal(2, 2, edges.shape[0]).clip(\n",
    "        min=0\n",
    "    ) + np.random.rand(edges.shape[0])\n",
    "nodes = gpd.read_file(PATH[\"data_in_network\"] + \"nodes.gpkg\")\n",
    "# Set CRS\n",
    "edges.set_crs(epsg=25832, inplace=True)\n",
    "nodes.set_crs(epsg=25832, inplace=True);"
   ]
  },
  {
   "cell_type": "code",
   "execution_count": null,
   "id": "cb292f8c",
   "metadata": {},
   "outputs": [],
   "source": [
    "if debug:\n",
    "    print(edges.head())"
   ]
  },
  {
   "cell_type": "code",
   "execution_count": null,
   "id": "3c19feec-9c84-4fee-9499-16dca061b4bd",
   "metadata": {},
   "outputs": [],
   "source": [
    "if debug:\n",
    "    print(nodes.head())"
   ]
  },
  {
   "cell_type": "code",
   "execution_count": null,
   "id": "39e4ccb8",
   "metadata": {},
   "outputs": [],
   "source": [
    "nodes_id = list(nodes.nodeID)\n",
    "nodes_x = list(nodes.geometry.x)\n",
    "nodes_y = list(nodes.geometry.y)\n",
    "nodes_coords = list(zip(normalize_data(nodes_x), normalize_data(nodes_y)))"
   ]
  },
  {
   "cell_type": "code",
   "execution_count": null,
   "id": "70d16eda",
   "metadata": {},
   "outputs": [],
   "source": [
    "# Rename mm_len to weight for igraph\n",
    "edges = edges.rename(columns={\"mm_len\": \"weight\"})\n",
    "# Drop unused columns\n",
    "used_columns = {\n",
    "    \"node_start\": (),\n",
    "    \"node_end\": (),\n",
    "    \"weight\": (),\n",
    "    \"edge_id\": (),\n",
    "    \"max_slope\": (),\n",
    "    \"geometry\": (),\n",
    "}\n",
    "for c_name, _ in edges.items():\n",
    "    if c_name not in used_columns:\n",
    "        del edges[c_name]\n",
    "\n",
    "# Reorder columns\n",
    "edges = edges[[\"node_start\", \"node_end\", \"weight\", \"edge_id\", \"max_slope\", \"geometry\"]]\n",
    "edges = edges.dropna()  # Drop edges with None node_start or node_end\n",
    "edges.head()"
   ]
  },
  {
   "cell_type": "markdown",
   "id": "a2a75e67",
   "metadata": {},
   "source": [
    "### Turn into igraph object"
   ]
  },
  {
   "cell_type": "code",
   "execution_count": null,
   "id": "67408e36",
   "metadata": {},
   "outputs": [],
   "source": [
    "G = ig.Graph.TupleList(\n",
    "    edges.itertuples(index=False),\n",
    "    directed=False,\n",
    "    weights=False,\n",
    "    edge_attrs=[\"weight\", \"edge_id\", \"max_slope\", \"geometry\"],\n",
    ")\n",
    "if STUDY_AREA == \"bornholm\":\n",
    "    delta = BORNHOLM_DELTA\n",
    "    for e in G.es:  # translate edges, below nodes\n",
    "        G.es[e.index][\"geometry\"] = gpd.GeoSeries(G.es[e.index][\"geometry\"]).translate(\n",
    "            xoff=delta[0], yoff=delta[1]\n",
    "        )[0]\n",
    "else:\n",
    "    delta = [0, 0]\n",
    "for v in G.vs:  # Add node infos: id_cykelknudepkt, x, y\n",
    "    G.vs[v.index][\"id_cykelknudepkt\"] = nodes.loc[nodes[\"nodeID\"] == v[\"name\"]].iloc[0][\n",
    "        \"id_cykelknudepkt\"\n",
    "    ]\n",
    "    G.vs[v.index][\"x\"] = round(\n",
    "        nodes.loc[nodes[\"nodeID\"] == v[\"name\"]].iloc[0].geometry.x + delta[0], 3\n",
    "    )\n",
    "    G.vs[v.index][\"y\"] = round(\n",
    "        nodes.loc[nodes[\"nodeID\"] == v[\"name\"]].iloc[0].geometry.y + delta[1], 3\n",
    "    )"
   ]
  },
  {
   "cell_type": "code",
   "execution_count": null,
   "id": "cdd2b50f",
   "metadata": {},
   "outputs": [],
   "source": [
    "if debug:\n",
    "    for e in G.es[:10]:\n",
    "        print(e)\n",
    "G.summary()"
   ]
  },
  {
   "cell_type": "code",
   "execution_count": null,
   "id": "ef36979d",
   "metadata": {},
   "outputs": [],
   "source": [
    "# Plot to double-check\n",
    "if debug:\n",
    "    plot_check(\n",
    "        G,\n",
    "        nodes_id,\n",
    "        nodes_coords,\n",
    "        vertex_size=get_vertex_size_constant(G.vcount()),\n",
    "        edge_width=get_edgewidth_constant(G.ecount()),\n",
    "    )"
   ]
  },
  {
   "cell_type": "markdown",
   "id": "b549b7af-6f85-4ac7-a3e4-e9c85b8c77c0",
   "metadata": {},
   "source": [
    "### Take largest connected component"
   ]
  },
  {
   "cell_type": "code",
   "execution_count": null,
   "id": "8c76d511-76b0-4e7d-b0fc-6e9de91aa186",
   "metadata": {},
   "outputs": [],
   "source": [
    "components = G.connected_components()\n",
    "memberships = np.unique(components.membership, return_counts=True)\n",
    "index_gcc = memberships[0][\n",
    "    memberships[1].argmax(axis=0)\n",
    "]  # get index of component with most nodes\n",
    "G = G.subgraph(components[index_gcc])"
   ]
  },
  {
   "cell_type": "code",
   "execution_count": null,
   "id": "11b9b86f-2db0-4393-9522-2e41a2348b95",
   "metadata": {},
   "outputs": [],
   "source": [
    "# Plot to double-check\n",
    "if debug:\n",
    "    plot_check(\n",
    "        G,\n",
    "        nodes_id,\n",
    "        nodes_coords,\n",
    "        vertex_size=get_vertex_size_constant(G.vcount()),\n",
    "        edge_width=get_edgewidth_constant(G.ecount()),\n",
    "    )"
   ]
  },
  {
   "cell_type": "markdown",
   "id": "11803118",
   "metadata": {},
   "source": [
    "### Drop self-loops"
   ]
  },
  {
   "cell_type": "markdown",
   "id": "39599aef",
   "metadata": {},
   "source": [
    "They can be dangling links which go outside the region which were mistakenly connected to themselves."
   ]
  },
  {
   "cell_type": "code",
   "execution_count": null,
   "id": "a6b2dc9d",
   "metadata": {},
   "outputs": [],
   "source": [
    "G.simplify(\n",
    "    multiple=True,\n",
    "    loops=True,\n",
    "    combine_edges=dict(weight=min, max_slope=max, edge_id=min, geometry=\"first\"),\n",
    ");"
   ]
  },
  {
   "cell_type": "code",
   "execution_count": null,
   "id": "3ae13704",
   "metadata": {},
   "outputs": [],
   "source": [
    "# Plot to double-check\n",
    "if debug:\n",
    "    plot_check(\n",
    "        G,\n",
    "        nodes_id,\n",
    "        nodes_coords,\n",
    "        vertex_size=get_vertex_size_constant(G.vcount()),\n",
    "        edge_width=get_edgewidth_constant(G.ecount()),\n",
    "    )"
   ]
  },
  {
   "cell_type": "markdown",
   "id": "710975c4",
   "metadata": {},
   "source": [
    "### Drop dangling nodes"
   ]
  },
  {
   "cell_type": "code",
   "execution_count": null,
   "id": "3279f51f",
   "metadata": {},
   "outputs": [],
   "source": [
    "# Source: https://codereview.stackexchange.com/questions/284246/deletion-of-nodes-of-degree-1-from-a-python-igraph-graph\n",
    "vertices = {v for v in G.vs.select(_degree_le=1)}\n",
    "needs_to_be_checked = set(vertices)\n",
    "while needs_to_be_checked:\n",
    "    vertex = needs_to_be_checked.pop()\n",
    "    for n_vertex in vertex.neighbors():\n",
    "        if (\n",
    "            n_vertex in vertices\n",
    "            or sum(1 for v in n_vertex.neighbors() if v not in vertices) > 1\n",
    "        ):\n",
    "            continue\n",
    "        vertices.add(n_vertex)\n",
    "        needs_to_be_checked.add(n_vertex)\n",
    "G.delete_vertices(vertices)"
   ]
  },
  {
   "cell_type": "code",
   "execution_count": null,
   "id": "89a09ffc",
   "metadata": {},
   "outputs": [],
   "source": [
    "# Plot to double-check\n",
    "if debug:\n",
    "    plot_check(\n",
    "        G,\n",
    "        nodes_id,\n",
    "        nodes_coords,\n",
    "        vertex_size=get_vertex_size_constant(G.vcount()),\n",
    "        edge_width=get_edgewidth_constant(G.ecount()),\n",
    "    )"
   ]
  },
  {
   "cell_type": "markdown",
   "id": "9f555e54",
   "metadata": {},
   "source": [
    "### Drop degree 2 nodes"
   ]
  },
  {
   "cell_type": "code",
   "execution_count": null,
   "id": "e47cadff",
   "metadata": {},
   "outputs": [],
   "source": [
    "to_delete_ids = []\n",
    "\n",
    "# Unclear how to select nodes in igraph by name, so let's iterate through them\n",
    "for v in G.vs:\n",
    "    if v.degree() == 2:\n",
    "        # Remember node to delete\n",
    "        to_delete_ids.append(v.index)\n",
    "        # Add a new edge that combines the deleted ones\n",
    "        sumoflengths = (\n",
    "            v.incident()[0].attributes()[\"weight\"]\n",
    "            + v.incident()[1].attributes()[\"weight\"]\n",
    "        )\n",
    "        maxofslopes = max(\n",
    "            [\n",
    "                v.incident()[0].attributes()[\"max_slope\"],\n",
    "                v.incident()[1].attributes()[\"max_slope\"],\n",
    "            ]\n",
    "        )\n",
    "        both_edges = shapely.geometry.MultiLineString(\n",
    "            [\n",
    "                v.incident()[0].attributes()[\"geometry\"],\n",
    "                v.incident()[1].attributes()[\"geometry\"],\n",
    "            ]\n",
    "        )\n",
    "        G.add_edge(\n",
    "            v.neighbors()[0].index,\n",
    "            v.neighbors()[1].index,\n",
    "            weight=sumoflengths,\n",
    "            max_slope=maxofslopes,\n",
    "            edge_id=v.incident()[0].attributes()[\"edge_id\"],\n",
    "            geometry=shapely.line_merge(both_edges),\n",
    "        )\n",
    "G.delete_vertices(to_delete_ids)\n",
    "\n",
    "# Re-simplify\n",
    "G.simplify(\n",
    "    multiple=True,\n",
    "    loops=True,\n",
    "    combine_edges=dict(weight=min, edge_id=min, max_slope=max, geometry=\"first\"),\n",
    ");"
   ]
  },
  {
   "cell_type": "code",
   "execution_count": null,
   "id": "5ccfbc29",
   "metadata": {
    "scrolled": true,
    "tags": []
   },
   "outputs": [],
   "source": [
    "# Plot to double-check\n",
    "if debug:\n",
    "    plot_check(\n",
    "        G,\n",
    "        nodes_id,\n",
    "        nodes_coords,\n",
    "        vertex_size=get_vertex_size_constant(G.vcount()),\n",
    "        edge_width=get_edgewidth_constant(G.ecount()),\n",
    "    )"
   ]
  },
  {
   "cell_type": "markdown",
   "id": "b44a824b-4a5a-44ad-800c-93630890802a",
   "metadata": {},
   "source": [
    "### Re-Drop dangling nodes"
   ]
  },
  {
   "cell_type": "code",
   "execution_count": null,
   "id": "a4e9cb2b-f788-4ecb-9432-3d0b7da033ca",
   "metadata": {},
   "outputs": [],
   "source": [
    "# Source: https://codereview.stackexchange.com/questions/284246/deletion-of-nodes-of-degree-1-from-a-python-igraph-graph\n",
    "vertices = {v for v in G.vs.select(_degree_le=1)}\n",
    "needs_to_be_checked = set(vertices)\n",
    "while needs_to_be_checked:\n",
    "    vertex = needs_to_be_checked.pop()\n",
    "    for n_vertex in vertex.neighbors():\n",
    "        if (\n",
    "            n_vertex in vertices\n",
    "            or sum(1 for v in n_vertex.neighbors() if v not in vertices) > 1\n",
    "        ):\n",
    "            continue\n",
    "        vertices.add(n_vertex)\n",
    "        needs_to_be_checked.add(n_vertex)\n",
    "G.delete_vertices(vertices)"
   ]
  },
  {
   "cell_type": "code",
   "execution_count": null,
   "id": "e0d742ef-4b25-45ad-9f3a-eb885aad006a",
   "metadata": {
    "scrolled": true
   },
   "outputs": [],
   "source": [
    "# Plot to double-check\n",
    "if debug:\n",
    "    plot_check(\n",
    "        G,\n",
    "        nodes_id,\n",
    "        nodes_coords,\n",
    "        vertex_size=get_vertex_size_constant(G.vcount()),\n",
    "        edge_width=get_edgewidth_constant(G.ecount()),\n",
    "    )"
   ]
  },
  {
   "cell_type": "markdown",
   "id": "411253c5-84ec-4c27-8203-f07c4776a9ae",
   "metadata": {},
   "source": [
    "### Re-take largest connected component"
   ]
  },
  {
   "cell_type": "code",
   "execution_count": null,
   "id": "0387af53-f36f-4822-82e6-974c9b2c94c4",
   "metadata": {},
   "outputs": [],
   "source": [
    "components = G.connected_components()\n",
    "memberships = np.unique(components.membership, return_counts=True)\n",
    "index_gcc = memberships[0][\n",
    "    memberships[1].argmax(axis=0)\n",
    "]  # get index of component with most nodes\n",
    "G = G.subgraph(components[index_gcc])"
   ]
  },
  {
   "cell_type": "code",
   "execution_count": null,
   "id": "0a308c45-ac19-46ad-8dfc-fab90eb388f8",
   "metadata": {},
   "outputs": [],
   "source": [
    "# Plot to double-check\n",
    "if debug:\n",
    "    plot_check(\n",
    "        G,\n",
    "        nodes_id,\n",
    "        nodes_coords,\n",
    "        vertex_size=get_vertex_size_constant(G.vcount()),\n",
    "        edge_width=get_edgewidth_constant(G.ecount()),\n",
    "    )"
   ]
  },
  {
   "cell_type": "markdown",
   "id": "0bd274d8",
   "metadata": {},
   "source": [
    "## Save preprocessed network data"
   ]
  },
  {
   "cell_type": "code",
   "execution_count": null,
   "id": "89036e5d-2e88-4e78-836d-272c53606e74",
   "metadata": {},
   "outputs": [],
   "source": [
    "G.summary()"
   ]
  },
  {
   "cell_type": "code",
   "execution_count": null,
   "id": "3793d0d0-dc59-474f-9b5d-07151b0842b7",
   "metadata": {},
   "outputs": [],
   "source": [
    "with lzma.open(PATH[\"data_out\"] + \"network_preprocessed0.xz\", \"wb\") as f:\n",
    "    pickle.dump(G, f)"
   ]
  }
 ],
 "metadata": {
  "kernelspec": {
   "display_name": "bikenwloops",
   "language": "python",
   "name": "bikenwloops"
  },
  "language_info": {
   "codemirror_mode": {
    "name": "ipython",
    "version": 3
   },
   "file_extension": ".py",
   "mimetype": "text/x-python",
   "name": "python",
   "nbconvert_exporter": "python",
   "pygments_lexer": "ipython3",
   "version": "3.12.11"
  }
 },
 "nbformat": 4,
 "nbformat_minor": 5
}
