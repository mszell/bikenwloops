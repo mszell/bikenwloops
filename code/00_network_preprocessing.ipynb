{
 "cells": [
  {
   "cell_type": "markdown",
   "id": "2e582dfd",
   "metadata": {},
   "source": [
    "# 00. Network preprocessing\n",
    "## Project: Bicycle node network loop analysis"
   ]
  },
  {
   "cell_type": "markdown",
   "id": "2bc9b960",
   "metadata": {},
   "source": [
    "This notebook preprocesses the network data and saves an intermediate format.\n",
    "The steps are:\n",
    "- Split up into components\n",
    "- Simplify: Drop self-loops, dangling nodes, degree 2 nodes\n",
    "- Snap POIs\n",
    "\n",
    "Contact: Michael Szell (michael.szell@gmail.com)\n",
    "\n",
    "Created: 2024-10-01  \n",
    "Last modified: 2024-10-02  "
   ]
  },
  {
   "cell_type": "markdown",
   "id": "e451758c-e48c-4c43-97d1-fb7586b8af43",
   "metadata": {},
   "source": [
    "## To do"
   ]
  },
  {
   "cell_type": "markdown",
   "id": "160cb3d0-f2f8-46fd-8a2f-a3fc2b529e3c",
   "metadata": {},
   "source": [
    "- [ ] Handle multiple components (as list?)"
   ]
  },
  {
   "cell_type": "markdown",
   "id": "5d0a7b7f",
   "metadata": {},
   "source": [
    "## Imports"
   ]
  },
  {
   "cell_type": "code",
   "execution_count": null,
   "id": "f81d35c7",
   "metadata": {},
   "outputs": [],
   "source": [
    "import geopandas as gpd\n",
    "import igraph as ig\n",
    "import matplotlib.pyplot as plt\n",
    "import numpy as np\n",
    "import networkx as nx\n",
    "from functools import reduce\n",
    "import pickle"
   ]
  },
  {
   "cell_type": "markdown",
   "id": "9d22412b-3d1f-4203-bbc4-4629f35c0c06",
   "metadata": {},
   "source": [
    "## Parameters"
   ]
  },
  {
   "cell_type": "code",
   "execution_count": null,
   "id": "f3f65809-7982-4af5-8ac0-74adc0c05ac8",
   "metadata": {},
   "outputs": [],
   "source": [
    "%run -i setup_parameters.py\n",
    "np.random.seed(42)"
   ]
  },
  {
   "cell_type": "markdown",
   "id": "876e2b5b",
   "metadata": {},
   "source": [
    "## Functions"
   ]
  },
  {
   "cell_type": "code",
   "execution_count": null,
   "id": "54eee093-c956-4804-8add-6a4f41a86cb9",
   "metadata": {},
   "outputs": [],
   "source": [
    "%run -i functions.py"
   ]
  },
  {
   "cell_type": "markdown",
   "id": "06c9f290",
   "metadata": {},
   "source": [
    "## Processing data"
   ]
  },
  {
   "cell_type": "markdown",
   "id": "bcd4d066",
   "metadata": {},
   "source": [
    "### Load data"
   ]
  },
  {
   "cell_type": "code",
   "execution_count": null,
   "id": "cf6ab763",
   "metadata": {},
   "outputs": [],
   "source": [
    "edges = gpd.read_file(PATH[\"data_in_network\"] + \"edges.gpkg\")\n",
    "edges_orig = edges  # Make a deep copy to save the geometries\n",
    "edges[\"edge_id\"] = edges.index  # Make index the edge id\n",
    "if not MAXSLOPES_AVAILABLE:  # Generate random data if max_slopes not available\n",
    "    edges[\"max_slope\"] = np.random.normal(2, 0.8, edges.shape[0])\n",
    "nodes = gpd.read_file(PATH[\"data_in_network\"] + \"nodes.gpkg\")\n",
    "# Set CRS\n",
    "edges.set_crs(\"epsg:25832\")\n",
    "nodes.set_crs(\"epsg:25832\");"
   ]
  },
  {
   "cell_type": "code",
   "execution_count": null,
   "id": "cb292f8c",
   "metadata": {},
   "outputs": [],
   "source": [
    "edges.head()"
   ]
  },
  {
   "cell_type": "code",
   "execution_count": null,
   "id": "3c19feec-9c84-4fee-9499-16dca061b4bd",
   "metadata": {},
   "outputs": [],
   "source": [
    "nodes.head()"
   ]
  },
  {
   "cell_type": "code",
   "execution_count": null,
   "id": "39e4ccb8",
   "metadata": {},
   "outputs": [],
   "source": [
    "nodes_id = list(nodes.nodeID)\n",
    "nodes_x = list(nodes.geometry.x)\n",
    "nodes_y = list(nodes.geometry.y)\n",
    "nodes_coords = list(zip(NormalizeData(nodes_x), NormalizeData(nodes_y)))"
   ]
  },
  {
   "cell_type": "code",
   "execution_count": null,
   "id": "70d16eda",
   "metadata": {},
   "outputs": [],
   "source": [
    "# Rename mm_len to weight for igraph\n",
    "edges = edges.rename(columns={\"mm_len\": \"weight\"})\n",
    "# Drop unused columns\n",
    "used_columns = {\n",
    "    \"node_start\": (),\n",
    "    \"node_end\": (),\n",
    "    \"weight\": (),\n",
    "    \"max_slope\": (),\n",
    "    \"edge_id\": (),\n",
    "}\n",
    "for c_name, _ in edges.items():\n",
    "    if c_name not in used_columns:\n",
    "        del edges[c_name]\n",
    "\n",
    "# Reorder columns\n",
    "edges = edges[[\"node_start\", \"node_end\", \"weight\", \"max_slope\", \"edge_id\"]]\n",
    "edges = edges.dropna()  # Drop edges with None node_start or node_end\n",
    "edges"
   ]
  },
  {
   "cell_type": "markdown",
   "id": "a2a75e67",
   "metadata": {},
   "source": [
    "### Turn into igraph object"
   ]
  },
  {
   "cell_type": "code",
   "execution_count": null,
   "id": "67408e36",
   "metadata": {},
   "outputs": [],
   "source": [
    "G = ig.Graph.TupleList(\n",
    "    edges.itertuples(index=False),\n",
    "    directed=False,\n",
    "    weights=False,\n",
    "    edge_attrs=[\"weight\", \"edge_id\", \"max_slope\"],\n",
    ")"
   ]
  },
  {
   "cell_type": "code",
   "execution_count": null,
   "id": "cdd2b50f",
   "metadata": {},
   "outputs": [],
   "source": [
    "G.summary()"
   ]
  },
  {
   "cell_type": "code",
   "execution_count": null,
   "id": "ef36979d",
   "metadata": {},
   "outputs": [],
   "source": [
    "# Plot to double-check\n",
    "plotCheck(\n",
    "    G,\n",
    "    nodes_id,\n",
    "    nodes_coords,\n",
    "    vertex_size=get_vertexsize(G.vcount()),\n",
    "    edge_width=get_edgewidth(G.ecount()),\n",
    ");"
   ]
  },
  {
   "cell_type": "markdown",
   "id": "b549b7af-6f85-4ac7-a3e4-e9c85b8c77c0",
   "metadata": {},
   "source": [
    "### Take largest connected component"
   ]
  },
  {
   "cell_type": "code",
   "execution_count": null,
   "id": "8c76d511-76b0-4e7d-b0fc-6e9de91aa186",
   "metadata": {},
   "outputs": [],
   "source": [
    "components = G.connected_components()\n",
    "memberships = np.unique(components.membership, return_counts=True)\n",
    "index_gcc = memberships[0][\n",
    "    memberships[1].argmax(axis=0)\n",
    "]  # get index of component with most nodes\n",
    "G = G.subgraph(components[index_gcc])"
   ]
  },
  {
   "cell_type": "code",
   "execution_count": null,
   "id": "11b9b86f-2db0-4393-9522-2e41a2348b95",
   "metadata": {},
   "outputs": [],
   "source": [
    "# Plot to double-check\n",
    "plotCheck(\n",
    "    G,\n",
    "    nodes_id,\n",
    "    nodes_coords,\n",
    "    vertex_size=get_vertexsize(G.vcount()),\n",
    "    edge_width=get_edgewidth(G.ecount()),\n",
    ");"
   ]
  },
  {
   "cell_type": "markdown",
   "id": "11803118",
   "metadata": {},
   "source": [
    "### Drop self-loops"
   ]
  },
  {
   "cell_type": "markdown",
   "id": "39599aef",
   "metadata": {},
   "source": [
    "They can be dangling links which go outside the region which were mistakenly connected to themselves."
   ]
  },
  {
   "cell_type": "code",
   "execution_count": null,
   "id": "a6b2dc9d",
   "metadata": {},
   "outputs": [],
   "source": [
    "G.simplify(\n",
    "    multiple=True,\n",
    "    loops=True,\n",
    "    combine_edges=dict(weight=min, max_slope=max, edge_id=min),\n",
    ");"
   ]
  },
  {
   "cell_type": "code",
   "execution_count": null,
   "id": "3ae13704",
   "metadata": {},
   "outputs": [],
   "source": [
    "# Plot to double-check\n",
    "plotCheck(\n",
    "    G,\n",
    "    nodes_id,\n",
    "    nodes_coords,\n",
    "    vertex_size=get_vertexsize(G.vcount()),\n",
    "    edge_width=get_edgewidth(G.ecount()),\n",
    ");"
   ]
  },
  {
   "cell_type": "markdown",
   "id": "710975c4",
   "metadata": {},
   "source": [
    "### Drop dangling nodes"
   ]
  },
  {
   "cell_type": "code",
   "execution_count": null,
   "id": "3279f51f",
   "metadata": {},
   "outputs": [],
   "source": [
    "# Source: https://codereview.stackexchange.com/questions/284246/deletion-of-nodes-of-degree-1-from-a-python-igraph-graph\n",
    "vertices = {v for v in G.vs.select(_degree_le=1)}\n",
    "needs_to_be_checked = set(vertices)\n",
    "while needs_to_be_checked:\n",
    "    vertex = needs_to_be_checked.pop()\n",
    "    for n_vertex in vertex.neighbors():\n",
    "        if (\n",
    "            n_vertex in vertices\n",
    "            or sum(1 for v in n_vertex.neighbors() if v not in vertices) > 1\n",
    "        ):\n",
    "            continue\n",
    "        vertices.add(n_vertex)\n",
    "        needs_to_be_checked.add(n_vertex)\n",
    "G.delete_vertices(vertices)"
   ]
  },
  {
   "cell_type": "code",
   "execution_count": null,
   "id": "89a09ffc",
   "metadata": {},
   "outputs": [],
   "source": [
    "# Plot to double-check\n",
    "plotCheck(\n",
    "    G,\n",
    "    nodes_id,\n",
    "    nodes_coords,\n",
    "    vertex_size=get_vertexsize(G.vcount()),\n",
    "    edge_width=get_edgewidth(G.ecount()),\n",
    ");"
   ]
  },
  {
   "cell_type": "markdown",
   "id": "9f555e54",
   "metadata": {},
   "source": [
    "### Drop degree 2 nodes"
   ]
  },
  {
   "cell_type": "code",
   "execution_count": null,
   "id": "e47cadff",
   "metadata": {},
   "outputs": [],
   "source": [
    "to_delete_ids = []\n",
    "\n",
    "# Unclear how to select nodes in igraph by name, so let's iterate through them\n",
    "for v in G.vs:\n",
    "    if v.degree() == 2:\n",
    "        # Remember node to delete\n",
    "        to_delete_ids.append(v.index)\n",
    "        # Add a new edge that combines the deleted ones\n",
    "        sumoflengths = (\n",
    "            v.incident()[0].attributes()[\"weight\"]\n",
    "            + v.incident()[1].attributes()[\"weight\"]\n",
    "        )\n",
    "        maxofslopes = max(\n",
    "            [\n",
    "                v.incident()[0].attributes()[\"max_slope\"],\n",
    "                v.incident()[1].attributes()[\"max_slope\"],\n",
    "            ]\n",
    "        )\n",
    "        G.add_edge(\n",
    "            v.neighbors()[0].index,\n",
    "            v.neighbors()[1].index,\n",
    "            weight=sumoflengths,\n",
    "            max_slope=maxofslopes,\n",
    "        )\n",
    "G.delete_vertices(to_delete_ids)\n",
    "\n",
    "to_delete_ids = []\n",
    "for e in G.es:\n",
    "    if e[\"edge_id\"] is None:\n",
    "        to_delete_ids.append(e.index)\n",
    "G.delete_edges(to_delete_ids)\n",
    "\n",
    "# Re-simplify\n",
    "G.simplify(\n",
    "    multiple=True,\n",
    "    loops=True,\n",
    "    combine_edges=dict(weight=min, max_slope=max, edge_id=min),\n",
    ");"
   ]
  },
  {
   "cell_type": "code",
   "execution_count": null,
   "id": "5ccfbc29",
   "metadata": {
    "scrolled": true,
    "tags": []
   },
   "outputs": [],
   "source": [
    "# Plot to double-check\n",
    "plotCheck(\n",
    "    G,\n",
    "    nodes_id,\n",
    "    nodes_coords,\n",
    "    vertex_size=get_vertexsize(G.vcount()),\n",
    "    edge_width=get_edgewidth(G.ecount()),\n",
    ");"
   ]
  },
  {
   "cell_type": "markdown",
   "id": "b44a824b-4a5a-44ad-800c-93630890802a",
   "metadata": {},
   "source": [
    "### Re-Drop dangling nodes"
   ]
  },
  {
   "cell_type": "code",
   "execution_count": null,
   "id": "a4e9cb2b-f788-4ecb-9432-3d0b7da033ca",
   "metadata": {},
   "outputs": [],
   "source": [
    "# Source: https://codereview.stackexchange.com/questions/284246/deletion-of-nodes-of-degree-1-from-a-python-igraph-graph\n",
    "vertices = {v for v in G.vs.select(_degree_le=1)}\n",
    "needs_to_be_checked = set(vertices)\n",
    "while needs_to_be_checked:\n",
    "    vertex = needs_to_be_checked.pop()\n",
    "    for n_vertex in vertex.neighbors():\n",
    "        if (\n",
    "            n_vertex in vertices\n",
    "            or sum(1 for v in n_vertex.neighbors() if v not in vertices) > 1\n",
    "        ):\n",
    "            continue\n",
    "        vertices.add(n_vertex)\n",
    "        needs_to_be_checked.add(n_vertex)\n",
    "G.delete_vertices(vertices)"
   ]
  },
  {
   "cell_type": "code",
   "execution_count": null,
   "id": "e0d742ef-4b25-45ad-9f3a-eb885aad006a",
   "metadata": {
    "scrolled": true
   },
   "outputs": [],
   "source": [
    "# Plot to double-check\n",
    "plotCheck(\n",
    "    G,\n",
    "    nodes_id,\n",
    "    nodes_coords,\n",
    "    vertex_size=get_vertexsize(G.vcount()),\n",
    "    edge_width=get_edgewidth(G.ecount()),\n",
    ");"
   ]
  },
  {
   "cell_type": "markdown",
   "id": "411253c5-84ec-4c27-8203-f07c4776a9ae",
   "metadata": {},
   "source": [
    "### Re-take largest connected component"
   ]
  },
  {
   "cell_type": "code",
   "execution_count": null,
   "id": "0387af53-f36f-4822-82e6-974c9b2c94c4",
   "metadata": {},
   "outputs": [],
   "source": [
    "components = G.connected_components()\n",
    "memberships = np.unique(components.membership, return_counts=True)\n",
    "index_gcc = memberships[0][\n",
    "    memberships[1].argmax(axis=0)\n",
    "]  # get index of component with most nodes\n",
    "G = G.subgraph(components[index_gcc])"
   ]
  },
  {
   "cell_type": "code",
   "execution_count": null,
   "id": "0a308c45-ac19-46ad-8dfc-fab90eb388f8",
   "metadata": {},
   "outputs": [],
   "source": [
    "# Plot to double-check\n",
    "plotCheck(\n",
    "    G,\n",
    "    nodes_id,\n",
    "    nodes_coords,\n",
    "    vertex_size=get_vertexsize(G.vcount()),\n",
    "    edge_width=get_edgewidth(G.ecount()),\n",
    ");"
   ]
  },
  {
   "cell_type": "markdown",
   "id": "127f6847-e27e-47c1-9417-23ebd4436993",
   "metadata": {},
   "source": [
    "### Snap POIs"
   ]
  },
  {
   "cell_type": "markdown",
   "id": "4e2bbc07-b6bd-4b60-8ada-35f44bdd5d4d",
   "metadata": {},
   "source": [
    "Snap POIs to network. POIs come in 3 categories:\n",
    "- Facilities (water station, bicycle repair station, supermarket, etc.)\n",
    "- Services (camping ground, hotel, gas station, etc.)\n",
    "- Attractions (church, museum, beach, etc.)  \n",
    "\n",
    "If any of these is within reach of a link, the link is assumed to provide water. Further, we define a link's POI diversity $Y \\in \\{0,1,2,3\\}$ as the unique number of POI categories within reach. For simplicity, reach is defined with the same constant `SNAP_THRESHOLD` for all POI categories."
   ]
  },
  {
   "cell_type": "markdown",
   "id": "5f3760a9-efb8-4d37-bdee-25d2b7d75eeb",
   "metadata": {},
   "source": [
    "We have a small number of facilities and links, so computationally it should be fine to loop through all pairwise."
   ]
  },
  {
   "cell_type": "code",
   "execution_count": null,
   "id": "e3ab9e5d-4019-4c9e-9744-6d727e14fd3e",
   "metadata": {},
   "outputs": [],
   "source": [
    "poi_files = {\n",
    "    \"facility\": [\n",
    "        \"facility.gpkg\",\n",
    "    ],\n",
    "    \"service\": [\n",
    "        \"service.gpkg\",\n",
    "    ],\n",
    "    \"attraction\": [\"poi.gpkg\"],\n",
    "}"
   ]
  },
  {
   "cell_type": "code",
   "execution_count": null,
   "id": "8b2bfa30-6686-4a39-86f3-8b21f5137be4",
   "metadata": {},
   "outputs": [],
   "source": [
    "# Initialize\n",
    "for e in G.es:\n",
    "    e[\"has_water\"] = False\n",
    "    e[\"has_facility\"] = False\n",
    "    e[\"has_service\"] = False\n",
    "    e[\"has_attraction\"] = False\n",
    "    e[\"poi_diversity\"] = 0\n",
    "\n",
    "if not POIS_AVAILABLE:  # Create random data for testing\n",
    "    for e in G.es:\n",
    "        e[\"has_facility\"] = (\n",
    "            True if np.random.rand() < 0.1 else False\n",
    "        )  # Reasonably looking thresholds\n",
    "        e[\"has_service\"] = True if np.random.rand() < 0.15 else False\n",
    "        e[\"has_attraction\"] = True if np.random.rand() < 0.05 else False\n",
    "        poi_diversity = 0\n",
    "        if e[\"has_facility\"]:\n",
    "            e[\"has_water\"] = True\n",
    "            poi_diversity += 1\n",
    "        if e[\"has_service\"]:\n",
    "            e[\"has_water\"] = True\n",
    "            poi_diversity += 1\n",
    "        if e[\"has_attraction\"]:\n",
    "            e[\"has_water\"] = True\n",
    "            poi_diversity += 1\n",
    "        e[\"poi_diversity\"] = poi_diversity\n",
    "\n",
    "else:  # Use available poi files\n",
    "    e_haspoi = {\"facility\": set(), \"service\": set(), \"attraction\": set()}\n",
    "    for cat in [*poi_files]:\n",
    "        for f in poi_files[cat]:\n",
    "            print(\"Adding POIs from file: \" + f)\n",
    "            pois = gpd.read_file(PATH[\"data_in_pois\"] + f)\n",
    "            for _, poirow in tqdm(pois.iterrows(), total=pois.shape[0]):\n",
    "                d = 999999999999\n",
    "                eid = False\n",
    "                if poirow[\"type\"]:  # Could add conditions on type later, like Vandpost\n",
    "                    poi_this = poirow[\"geometry\"]\n",
    "                    for eindex, erow in edges_orig.iterrows():\n",
    "                        d_this = poi_this.distance(erow[\"geometry\"])\n",
    "                        if (\n",
    "                            d_this < d\n",
    "                            and erow[\"edge_id\"] in edges_orig[\"edge_id\"].values\n",
    "                        ):\n",
    "                            d = d_this\n",
    "                            eid = erow[\"edge_id\"]\n",
    "                if eid and d <= SNAP_THRESHOLD:\n",
    "                    e_haspoi[cat].add(eid)\n",
    "\n",
    "    e_haswater = set()\n",
    "    e_haswater = e_haspoi[\"facility\"] | e_haspoi[\"service\"] | e_haspoi[\"attraction\"]\n",
    "\n",
    "    for e in G.es:\n",
    "        poi_diversity = 0\n",
    "        if e[\"edge_id\"] in e_haswater:\n",
    "            e[\"has_water\"] = True\n",
    "        if e[\"edge_id\"] in e_haspoi[\"facility\"]:\n",
    "            e[\"has_facility\"] = True\n",
    "            poi_diversity += 1\n",
    "        if e[\"edge_id\"] in e_haspoi[\"service\"]:\n",
    "            e[\"has_service\"] = True\n",
    "            poi_diversity += 1\n",
    "        if e[\"edge_id\"] in e_haspoi[\"attraction\"]:\n",
    "            e[\"has_attraction\"] = True\n",
    "            poi_diversity += 1\n",
    "        e[\"poi_diversity\"] = poi_diversity"
   ]
  },
  {
   "cell_type": "markdown",
   "id": "b4a56f57-44d8-43d0-b652-2b5e982d68da",
   "metadata": {},
   "source": [
    "#### Plot POI diversity"
   ]
  },
  {
   "cell_type": "code",
   "execution_count": null,
   "id": "2937029e-10dc-466d-ac40-a5c7798d0105",
   "metadata": {},
   "outputs": [],
   "source": [
    "edge_widths = []\n",
    "for e in G.es:\n",
    "    edge_widths.append((e[\"poi_diversity\"] * 2) + 0.25)\n",
    "\n",
    "fig = plotCheck(\n",
    "    G,\n",
    "    nodes_id,\n",
    "    nodes_coords,\n",
    "    vertex_size=get_vertexsize(G.vcount()),\n",
    "    edge_width=edge_widths,\n",
    ")\n",
    "plt.text(0, 0.04, \"POI diversity\")\n",
    "plt.tight_layout()"
   ]
  },
  {
   "cell_type": "markdown",
   "id": "2da8f43b-218e-4827-a514-cfa24a16814c",
   "metadata": {},
   "source": [
    "#### Plot water links"
   ]
  },
  {
   "cell_type": "code",
   "execution_count": null,
   "id": "f5ccd77d-bc5e-4ce1-8263-819b604f6543",
   "metadata": {
    "scrolled": true
   },
   "outputs": [],
   "source": [
    "edge_colors = []\n",
    "for e in G.es:\n",
    "    if e[\"has_water\"]:\n",
    "        edge_colors.append(\"blue\")\n",
    "    else:\n",
    "        edge_colors.append(\"grey\")\n",
    "\n",
    "fig = plotCheck(\n",
    "    G,\n",
    "    nodes_id,\n",
    "    nodes_coords,\n",
    "    vertex_size=get_vertexsize(G.vcount()),\n",
    "    edge_color=edge_colors,\n",
    ")\n",
    "plt.text(0, 0.04, \"Water links highlighted\")\n",
    "plt.tight_layout()"
   ]
  },
  {
   "cell_type": "markdown",
   "id": "0bd274d8",
   "metadata": {},
   "source": [
    "## Save preprocessed network data"
   ]
  },
  {
   "cell_type": "code",
   "execution_count": null,
   "id": "89036e5d-2e88-4e78-836d-272c53606e74",
   "metadata": {},
   "outputs": [],
   "source": [
    "G.summary()"
   ]
  },
  {
   "cell_type": "code",
   "execution_count": null,
   "id": "d2050153",
   "metadata": {},
   "outputs": [],
   "source": [
    "with open(PATH[\"data_out\"] + \"network_preprocessed.pkl\", \"wb\") as f:\n",
    "    pickle.dump(G, f)"
   ]
  }
 ],
 "metadata": {
  "kernelspec": {
   "display_name": "bikenwloops",
   "language": "python",
   "name": "bikenwloops"
  },
  "language_info": {
   "codemirror_mode": {
    "name": "ipython",
    "version": 3
   },
   "file_extension": ".py",
   "mimetype": "text/x-python",
   "name": "python",
   "nbconvert_exporter": "python",
   "pygments_lexer": "ipython3",
   "version": "3.12.2"
  }
 },
 "nbformat": 4,
 "nbformat_minor": 5
}
