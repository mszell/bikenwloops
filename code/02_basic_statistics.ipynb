{
 "cells": [
  {
   "cell_type": "markdown",
   "id": "2e582dfd",
   "metadata": {},
   "source": [
    "# 02. Basic statistics\n",
    "## Project: Bicycle node network loop analysis"
   ]
  },
  {
   "cell_type": "markdown",
   "id": "2bc9b960",
   "metadata": {},
   "source": [
    "This notebook explores basic statistics of network and loops created in notebook 01, without exploring different scenarios.\n",
    "\n",
    "Contact: Michael Szell (michael.szell@gmail.com)\n",
    "\n",
    "Created: 2024-01-29  \n",
    "Last modified: 2024-10-07"
   ]
  },
  {
   "cell_type": "markdown",
   "id": "5126c030",
   "metadata": {},
   "source": [
    "## To do\n",
    "- [ ] Plot avg/median loop length per node: network, distribution (for all scenarios)\n",
    "- [ ] Plot distrib of length of loops that have nodes == loop_numnode_bound. To see whether we should increase the bound.\n",
    "- [ ] Heatmaps over area?"
   ]
  },
  {
   "cell_type": "markdown",
   "id": "816924f7-7ddc-44a1-bcd7-fbf203a41b1d",
   "metadata": {},
   "source": [
    "## Parameters"
   ]
  },
  {
   "cell_type": "code",
   "execution_count": null,
   "id": "fb810d3b-192d-47d8-8d62-d699be65bcad",
   "metadata": {},
   "outputs": [],
   "source": [
    "%run -i setup_parameters.py\n",
    "load_data = True  # Set to False if data are huge and have already been loaded\n",
    "debug = True  # Set to True for extra plots and verbosity"
   ]
  },
  {
   "cell_type": "markdown",
   "id": "876e2b5b",
   "metadata": {},
   "source": [
    "## Functions"
   ]
  },
  {
   "cell_type": "code",
   "execution_count": null,
   "id": "9a407c7e",
   "metadata": {},
   "outputs": [],
   "source": [
    "%run -i functions.py"
   ]
  },
  {
   "cell_type": "markdown",
   "id": "bcd4d066",
   "metadata": {},
   "source": [
    "## Load data"
   ]
  },
  {
   "cell_type": "markdown",
   "id": "e63a56af-87a3-4749-b2cb-96b2605070c8",
   "metadata": {},
   "source": [
    "This can take several minutes."
   ]
  },
  {
   "cell_type": "code",
   "execution_count": null,
   "id": "cf6ab763",
   "metadata": {},
   "outputs": [],
   "source": [
    "if load_data:\n",
    "    with open(\n",
    "        PATH[\"data_out\"] + \"loopcensus_\" + str(LOOP_NUMNODE_BOUND) + \".pkl\", \"rb\"\n",
    "    ) as f:\n",
    "        allloops = pickle.load(f)\n",
    "        alllooplengths = pickle.load(f)\n",
    "        allloopnumnodes = pickle.load(f)\n",
    "        allloopmaxslopes = pickle.load(f)\n",
    "        G = pickle.load(f)\n",
    "        LOOP_NUMNODE_BOUND = pickle.load(f)\n",
    "        nodes_id = pickle.load(f)\n",
    "        nodes_coords = pickle.load(f)\n",
    "        numloops = pickle.load(f)\n",
    "        faceloops = pickle.load(f)"
   ]
  },
  {
   "cell_type": "code",
   "execution_count": null,
   "id": "f13c5935",
   "metadata": {},
   "outputs": [],
   "source": [
    "# Plot to double-check\n",
    "if debug:\n",
    "    plotCheck(\n",
    "        G,\n",
    "        nodes_id,\n",
    "        nodes_coords,\n",
    "        vertex_size=get_vertexsize(G.vcount()),\n",
    "        edge_width=get_edgewidth(G.ecount()),\n",
    "    )"
   ]
  },
  {
   "cell_type": "markdown",
   "id": "1ce144b8-3de2-4dd1-85f2-f4a59489488e",
   "metadata": {},
   "source": [
    "## Basic statistics: Links, face loops, etc"
   ]
  },
  {
   "cell_type": "markdown",
   "id": "4eefebea-4b52-4fcd-b00d-f82474dd6c13",
   "metadata": {},
   "source": [
    "### Link lengths"
   ]
  },
  {
   "cell_type": "code",
   "execution_count": null,
   "id": "003e4c9f-359a-47ef-8cdd-00774fe98e26",
   "metadata": {},
   "outputs": [],
   "source": [
    "linklengths = [e[\"weight\"] * MPERUNIT for e in G.es]\n",
    "fig = plt.figure(figsize=(4, 3))\n",
    "axes = fig.add_axes([0.16, 0.16, 0.76, 0.75])\n",
    "\n",
    "histxy = axes.hist(\n",
    "    linklengths, bins=[i * 500 / MPERUNIT for i in list(range(30))], density=False\n",
    ")\n",
    "axes.plot([LINK_LIMIT[0], LINK_LIMIT[0]], [0, max(histxy[0])], \":k\")\n",
    "axes.plot([LINK_LIMIT[1], LINK_LIMIT[1]], [0, max(histxy[0])], \":k\")\n",
    "axes.plot([LINK_LIMIT[2], LINK_LIMIT[2]], [0, max(histxy[0])], \":r\")\n",
    "indcond = [\n",
    "    i for i, x in enumerate(linklengths) if (x >= LINK_LIMIT[0] and x <= LINK_LIMIT[1])\n",
    "]\n",
    "massinallowedrange = round(len(indcond) / len(linklengths) * 100)  # Should be high\n",
    "axes.text(\n",
    "    (LINK_LIMIT[0] + LINK_LIMIT[1]) / 2,\n",
    "    max(histxy[0]),\n",
    "    str(massinallowedrange) + \"%\",\n",
    "    horizontalalignment=\"center\",\n",
    "    verticalalignment=\"top\",\n",
    ")\n",
    "axes.text(\n",
    "    LINK_LIMIT[0] * 0.9,\n",
    "    max(histxy[0]),\n",
    "    str(\n",
    "        round(\n",
    "            len([i for i, x in enumerate(linklengths) if (x <= LINK_LIMIT[0])])\n",
    "            / len(linklengths)\n",
    "            * 100\n",
    "        )\n",
    "    )\n",
    "    + \"%\",\n",
    "    horizontalalignment=\"right\",\n",
    "    verticalalignment=\"top\",\n",
    ")\n",
    "axes.text(\n",
    "    (LINK_LIMIT[1] + LINK_LIMIT[2]) / 2,\n",
    "    max(histxy[0]),\n",
    "    str(\n",
    "        round(\n",
    "            len(\n",
    "                [\n",
    "                    i\n",
    "                    for i, x in enumerate(linklengths)\n",
    "                    if (x >= LINK_LIMIT[1] and x <= LINK_LIMIT[2])\n",
    "                ]\n",
    "            )\n",
    "            / len(linklengths)\n",
    "            * 100\n",
    "        )\n",
    "    )\n",
    "    + \"%\",\n",
    "    horizontalalignment=\"center\",\n",
    "    verticalalignment=\"top\",\n",
    ")\n",
    "axes.text(\n",
    "    LINK_LIMIT[2] * 1.01,\n",
    "    max(histxy[0]),\n",
    "    str(\n",
    "        round(\n",
    "            len([i for i, x in enumerate(linklengths) if (x > LINK_LIMIT[2])])\n",
    "            / len(linklengths)\n",
    "            * 100\n",
    "        )\n",
    "    )\n",
    "    + \"%\",\n",
    "    horizontalalignment=\"left\",\n",
    "    verticalalignment=\"top\",\n",
    "    color=\"red\",\n",
    ")\n",
    "\n",
    "axes.set_xlabel(\"Length [m]\")\n",
    "axes.set_ylabel(\"Frequency\")\n",
    "axes.set_title(\"Link lengths\")\n",
    "axes.set_xlim([0, 1.2 * LINK_LIMIT[2] / MPERUNIT])\n",
    "\n",
    "fig.savefig(PATH[\"plot\"] + \"linklengths\")"
   ]
  },
  {
   "cell_type": "markdown",
   "id": "aaff81fc-9566-4e57-a9b5-dee761bd4b65",
   "metadata": {},
   "source": [
    "### Loop lengths and nodes per loop"
   ]
  },
  {
   "cell_type": "markdown",
   "id": "17f38d55-dec5-4fcc-874a-d2375b4c60b7",
   "metadata": {},
   "source": [
    "This can take a few minutes."
   ]
  },
  {
   "cell_type": "code",
   "execution_count": null,
   "id": "c05b5773",
   "metadata": {
    "scrolled": true
   },
   "outputs": [],
   "source": [
    "fig = plt.figure(figsize=(8, 3))\n",
    "axes1 = fig.add_axes([0.1, 0.1, 0.35, 0.8])\n",
    "axes2 = fig.add_axes([0.55, 0.1, 0.35, 0.8])\n",
    "\n",
    "axes1.hist(alllooplengths, density=True)\n",
    "if MPERUNIT == 1000:\n",
    "    axes1.set_xlabel(\"Length [km]\")\n",
    "elif MPERUNIT == 1:\n",
    "    axes1.set_xlabel(\"Length [m]\")\n",
    "else:\n",
    "    axes1.set_xlabel(\"Length\")\n",
    "axes1.set_ylabel(\"Probability\")\n",
    "axes1.set_title(\"Loop lengths\")\n",
    "\n",
    "axes2.hist(allloopnumnodes, density=True, bins=list(range(LOOP_NUMNODE_BOUND + 1)))\n",
    "axes2.set_xlabel(\"Nodes\")\n",
    "axes2.set_title(\"Nodes per loop\")\n",
    "axes2.set_xlim([0, LOOP_NUMNODE_BOUND + 0.5])\n",
    "\n",
    "plt.text(LOOP_NUMNODE_BOUND / 20, 0.01, \"Bound: \" + str(LOOP_NUMNODE_BOUND))\n",
    "plt.text(LOOP_NUMNODE_BOUND / 20, 0.04, \"Loops: \" + str(numloops));"
   ]
  },
  {
   "cell_type": "markdown",
   "id": "1c1a21a4-f724-4c30-8ce5-e9f55351c75f",
   "metadata": {},
   "source": [
    "### Face loop lengths and nodes per face loop"
   ]
  },
  {
   "cell_type": "code",
   "execution_count": null,
   "id": "f0bac84c-00a8-4acc-847f-b4716b33df97",
   "metadata": {},
   "outputs": [],
   "source": [
    "fig = plt.figure(figsize=(8, 3))\n",
    "axes1 = fig.add_axes([0.08, 0.16, 0.4, 0.75])\n",
    "axes2 = fig.add_axes([0.58, 0.16, 0.4, 0.75])\n",
    "\n",
    "facelooplengths = [c[\"length\"] * MPERUNIT for c in faceloops.values()]\n",
    "\n",
    "histxy = axes1.hist(\n",
    "    facelooplengths, bins=[i * 1000 / MPERUNIT for i in list(range(50))], density=False\n",
    ")\n",
    "if MPERUNIT == 1000:\n",
    "    axes1.set_xlabel(\"Length [km]\")\n",
    "elif MPERUNIT == 1:\n",
    "    axes1.set_xlabel(\"Length [m]\")\n",
    "else:\n",
    "    axes1.set_xlabel(\"Length\")\n",
    "axes1.set_ylabel(\"Frequency\")\n",
    "axes1.set_title(\"Face loop lengths\")\n",
    "axes1.plot([FACELOOP_LIMIT[0], FACELOOP_LIMIT[0]], [0, max(histxy[0])], \":k\")\n",
    "axes1.plot([FACELOOP_LIMIT[1], FACELOOP_LIMIT[1]], [0, max(histxy[0])], \":r\")\n",
    "axes1.text(\n",
    "    (FACELOOP_LIMIT[0] + FACELOOP_LIMIT[1]) / 2,\n",
    "    max(histxy[0]),\n",
    "    str(\n",
    "        round(\n",
    "            len(\n",
    "                [\n",
    "                    i\n",
    "                    for i, x in enumerate(facelooplengths)\n",
    "                    if (x >= FACELOOP_LIMIT[0] and x <= FACELOOP_LIMIT[1])\n",
    "                ]\n",
    "            )\n",
    "            / len(facelooplengths)\n",
    "            * 100\n",
    "        )\n",
    "    )\n",
    "    + \"%\",\n",
    "    horizontalalignment=\"center\",\n",
    "    verticalalignment=\"top\",\n",
    ")\n",
    "axes1.text(\n",
    "    FACELOOP_LIMIT[0] * 0.95,\n",
    "    max(histxy[0]),\n",
    "    str(\n",
    "        round(\n",
    "            len([i for i, x in enumerate(facelooplengths) if (x < FACELOOP_LIMIT[0])])\n",
    "            / len(facelooplengths)\n",
    "            * 100\n",
    "        )\n",
    "    )\n",
    "    + \"%\",\n",
    "    horizontalalignment=\"right\",\n",
    "    verticalalignment=\"top\",\n",
    ")\n",
    "axes1.text(\n",
    "    FACELOOP_LIMIT[1] * 1.01,\n",
    "    max(histxy[0]),\n",
    "    str(\n",
    "        round(\n",
    "            len([i for i, x in enumerate(facelooplengths) if (x > FACELOOP_LIMIT[1])])\n",
    "            / len(facelooplengths)\n",
    "            * 100\n",
    "        )\n",
    "    )\n",
    "    + \"%\",\n",
    "    horizontalalignment=\"left\",\n",
    "    verticalalignment=\"top\",\n",
    "    color=\"red\",\n",
    ")\n",
    "axes1.set_xlim([0, 50000 / MPERUNIT])\n",
    "\n",
    "\n",
    "axes2.hist(\n",
    "    [c[\"numnodes\"] for c in faceloops.values()], bins=list(range(30)), density=False\n",
    ")\n",
    "axes2.set_xlabel(\"Nodes\")\n",
    "axes2.set_title(\"Face loop nodes\")\n",
    "axes2.set_xlim([0, 30])\n",
    "\n",
    "fig.savefig(PATH[\"plot\"] + \"faceloopstats\");"
   ]
  },
  {
   "cell_type": "markdown",
   "id": "fd7ca9b7-e290-439b-b2eb-8408c3d34e20",
   "metadata": {},
   "source": [
    "### Conforming and non-conforming face loops"
   ]
  },
  {
   "cell_type": "code",
   "execution_count": null,
   "id": "3ba7cfc7-99d9-40fa-8611-08e0c5a32f04",
   "metadata": {},
   "outputs": [],
   "source": [
    "okedges = set()\n",
    "for c in faceloops.values():\n",
    "    if (\n",
    "        c[\"length\"] * MPERUNIT >= FACELOOP_LIMIT[0]\n",
    "        and c[\"length\"] * MPERUNIT <= FACELOOP_LIMIT[1]\n",
    "    ):\n",
    "        okedges = okedges.union(set(c[\"edges\"]))\n",
    "\n",
    "edge_colors = []\n",
    "for e in G.es:\n",
    "    if e.index in okedges:\n",
    "        edge_colors.append(\"green\")\n",
    "    else:\n",
    "        edge_colors.append(\"grey\")\n",
    "\n",
    "fig = plotCheck(\n",
    "    G,\n",
    "    nodes_id,\n",
    "    nodes_coords,\n",
    "    vertex_size=get_vertexsize(G.vcount()),\n",
    "    edge_color=edge_colors,\n",
    ")\n",
    "plt.text(0, 0.04, \"Conforming face loops highlighted\")\n",
    "plt.tight_layout()\n",
    "fig.savefig(PATH[\"plot\"] + \"faceloops_conforming\")"
   ]
  },
  {
   "cell_type": "code",
   "execution_count": null,
   "id": "3bbc797c-bf96-4a4a-a074-253ce42409a6",
   "metadata": {},
   "outputs": [],
   "source": [
    "toosmalledges = set()\n",
    "toolargeedges = set()\n",
    "for c in faceloops.values():\n",
    "    if c[\"length\"] * MPERUNIT > FACELOOP_LIMIT[1]:\n",
    "        toolargeedges = toolargeedges.union(set(c[\"edges\"]))\n",
    "    elif c[\"length\"] * MPERUNIT < FACELOOP_LIMIT[0]:\n",
    "        toosmalledges = toosmalledges.union(set(c[\"edges\"]))\n",
    "\n",
    "edge_colors = []\n",
    "for e in G.es:\n",
    "    if e.index in toolargeedges:\n",
    "        edge_colors.append(\"red\")\n",
    "    elif e.index in toosmalledges:\n",
    "        edge_colors.append(\"orange\")\n",
    "    else:\n",
    "        edge_colors.append(\"grey\")\n",
    "\n",
    "fig = plotCheck(\n",
    "    G,\n",
    "    nodes_id,\n",
    "    nodes_coords,\n",
    "    vertex_size=get_vertexsize(G.vcount()),\n",
    "    edge_color=edge_colors,\n",
    ")\n",
    "plt.text(0, 0.04, \"Non-conforming face loops highlighted\")\n",
    "plt.tight_layout()\n",
    "fig.savefig(PATH[\"plot\"] + \"faceloops_nonconforming\")"
   ]
  }
 ],
 "metadata": {
  "kernelspec": {
   "display_name": "bikenwloops",
   "language": "python",
   "name": "bikenwloops"
  },
  "language_info": {
   "codemirror_mode": {
    "name": "ipython",
    "version": 3
   },
   "file_extension": ".py",
   "mimetype": "text/x-python",
   "name": "python",
   "nbconvert_exporter": "python",
   "pygments_lexer": "ipython3",
   "version": "3.12.2"
  }
 },
 "nbformat": 4,
 "nbformat_minor": 5
}
