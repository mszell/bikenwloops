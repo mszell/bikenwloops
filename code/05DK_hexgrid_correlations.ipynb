{
 "cells": [
  {
   "cell_type": "markdown",
   "id": "2e582dfd",
   "metadata": {},
   "source": [
    "# 05DK. Hex-grid correlations, Denmark-wide\n",
    "## Project: Bicycle node network loop analysis"
   ]
  },
  {
   "cell_type": "markdown",
   "id": "2bc9b960",
   "metadata": {},
   "source": [
    "This notebook puts data into an H3 grid and performs correlations.\n",
    "\n",
    "Contact: Michael Szell (michael.szell@gmail.com)\n",
    "\n",
    "Created: 2025-08-01  \n",
    "Last modified: 2025-08-01  "
   ]
  },
  {
   "cell_type": "markdown",
   "id": "5126c030",
   "metadata": {},
   "source": [
    "## To do"
   ]
  },
  {
   "cell_type": "markdown",
   "id": "74a91d1c-1102-49bb-a970-699eeb062b58",
   "metadata": {},
   "source": [
    "- [ ] Is node density a proxy for loop census size?"
   ]
  },
  {
   "cell_type": "markdown",
   "id": "816924f7-7ddc-44a1-bcd7-fbf203a41b1d",
   "metadata": {},
   "source": [
    "## Parameters"
   ]
  },
  {
   "cell_type": "code",
   "execution_count": null,
   "id": "fb810d3b-192d-47d8-8d62-d699be65bcad",
   "metadata": {},
   "outputs": [],
   "source": [
    "%run -i setup_parameters.py\n",
    "load_data = True  # Set to False if data are huge and have already been loaded\n",
    "debug = True  # Set to True for extra plots and verbosity"
   ]
  },
  {
   "cell_type": "code",
   "execution_count": null,
   "id": "9b986890-413c-43c3-a6fa-57ff87899f25",
   "metadata": {},
   "outputs": [],
   "source": [
    "print(\"Running scenario in \" + STUDY_AREA)\n",
    "for k, v in SCENARIO[SCENARIOID].items():\n",
    "    print(k + \": \" + str(v))"
   ]
  },
  {
   "cell_type": "markdown",
   "id": "876e2b5b",
   "metadata": {},
   "source": [
    "## Functions"
   ]
  },
  {
   "cell_type": "code",
   "execution_count": null,
   "id": "9a407c7e",
   "metadata": {},
   "outputs": [],
   "source": [
    "%run -i functions.py"
   ]
  },
  {
   "cell_type": "markdown",
   "id": "bcd4d066",
   "metadata": {},
   "source": [
    "## Load data"
   ]
  },
  {
   "cell_type": "markdown",
   "id": "731b1fbd-6ce8-431d-a097-e8f13313da26",
   "metadata": {},
   "source": [
    "This can take several minutes."
   ]
  },
  {
   "cell_type": "code",
   "execution_count": null,
   "id": "cf6ab763",
   "metadata": {},
   "outputs": [],
   "source": [
    "if load_data:\n",
    "    if LOOP_LENGTH_BOUND:\n",
    "        llb_string = \"_maxlength\" + str(LOOP_LENGTH_BOUND)\n",
    "    else:\n",
    "        llb_string = \"\"\n",
    "\n",
    "    with open(\n",
    "        PATH[\"data_out\"]\n",
    "        + \"loopcensus_\"\n",
    "        + str(LOOP_NUMNODE_BOUND)\n",
    "        + llb_string\n",
    "        + \".pkl\",\n",
    "        \"rb\",\n",
    "    ) as f:\n",
    "        allloops = pickle.load(f)\n",
    "        alllooplengths = pickle.load(f)\n",
    "        allloopnumnodes = pickle.load(f)\n",
    "        allloopmaxslopes = pickle.load(f)\n",
    "        Gnx = pickle.load(f)\n",
    "        LOOP_NUMNODE_BOUND = pickle.load(f)\n",
    "        nodes_id = pickle.load(f)\n",
    "        nodes_coords = pickle.load(f)\n",
    "        numloops = pickle.load(f)\n",
    "        faceloops = pickle.load(f)"
   ]
  },
  {
   "cell_type": "code",
   "execution_count": null,
   "id": "ecf416d7-1583-4ab0-be0c-869669186190",
   "metadata": {},
   "outputs": [],
   "source": [
    "# Create gdf and igraph versions\n",
    "nodes, edges = momepy.nx_to_gdf(net=Gnx, points=True, lines=True)\n",
    "nodes.set_crs(epsg=25832, inplace=True)\n",
    "edges.set_crs(epsg=25832, inplace=True)\n",
    "G = ig.Graph.from_networkx(Gnx)\n",
    "G.summary()"
   ]
  },
  {
   "cell_type": "code",
   "execution_count": null,
   "id": "6ce8dbb6-4a98-49f7-a326-05a14d1aa8b3",
   "metadata": {},
   "outputs": [],
   "source": [
    "# Plot network\n",
    "if debug:\n",
    "    plot_dk_gdf(\n",
    "        nodes,\n",
    "        edges,\n",
    "        scale=0.4,\n",
    "        vertex_size=get_vertex_size_constant(G.vcount()),\n",
    "        link_width=get_edgewidth_constant(G.ecount()),\n",
    "    )"
   ]
  },
  {
   "cell_type": "markdown",
   "id": "fedbbbd0",
   "metadata": {},
   "source": [
    "## Put into H3 grid"
   ]
  },
  {
   "cell_type": "markdown",
   "id": "1c309ab9-6a31-4a3f-92ef-804599e00bc0",
   "metadata": {},
   "source": [
    "### Node density"
   ]
  },
  {
   "cell_type": "code",
   "execution_count": null,
   "id": "01c8dc2c-953f-481f-8e7b-10ec8538190d",
   "metadata": {},
   "outputs": [],
   "source": [
    "if debug:\n",
    "    nodes.plot.scatter(x=\"x\", y=\"y\", style=\".\", alpha=0.5, figsize=(5, 5))"
   ]
  },
  {
   "cell_type": "code",
   "execution_count": null,
   "id": "efb40f4c-7b2a-4413-accb-94082e66ed75",
   "metadata": {},
   "outputs": [],
   "source": [
    "nodes_nodata = nodes.drop(\n",
    "    columns=[\"name\", \"id_cykelknudepkt\", \"_igraph_index\", \"x\", \"y\", \"nodeID\"]\n",
    ")  # drop all data\n",
    "nodes_nodata.to_crs(epsg=4326, inplace=True)  # reproject for H3\n",
    "if debug:\n",
    "    print(nodes_nodata.head())"
   ]
  },
  {
   "cell_type": "code",
   "execution_count": null,
   "id": "8ee9f2fd-0817-49e9-a48a-f6d102ff60f0",
   "metadata": {},
   "outputs": [],
   "source": [
    "nodesh3 = nodes_nodata.assign(count=1).h3.geo_to_h3_aggregate(6)\n",
    "if debug:\n",
    "    print(nodesh3.head())"
   ]
  },
  {
   "cell_type": "code",
   "execution_count": null,
   "id": "335cba92-dd62-40d0-9e4f-c19d8991556a",
   "metadata": {},
   "outputs": [],
   "source": [
    "nodesh3.plot(column=\"count\", figsize=(5, 5), legend=True)\n",
    "plt.title(\"Node density\");"
   ]
  },
  {
   "cell_type": "markdown",
   "id": "1a60dd82-1770-4edc-910f-3d98e47385e1",
   "metadata": {},
   "source": [
    "### Loop census"
   ]
  },
  {
   "cell_type": "code",
   "execution_count": null,
   "id": "41e6ce1c-4e67-43d7-8e74-0fe3110e71d4",
   "metadata": {},
   "outputs": [],
   "source": [
    "if debug:\n",
    "    # Plot all loops\n",
    "    vertex_sizes, vertex_colors = get_vertex_plotinfo(allloops)\n",
    "    fig, ax = plot_dk_gdf(\n",
    "        nodes,\n",
    "        edges,\n",
    "        scale=1,\n",
    "        vertex_size=vertex_sizes,\n",
    "        vertex_color=vertex_colors,\n",
    "        link_width=0.3,\n",
    "        link_color=\"#444444\",\n",
    "    )\n",
    "    plot_dk_inset(fig, allloops, 8, 7800)"
   ]
  },
  {
   "cell_type": "code",
   "execution_count": null,
   "id": "5b63d62b-ec42-4c13-9627-5723922ec16f",
   "metadata": {},
   "outputs": [],
   "source": [
    "nodes_loopnum = nodes.drop(\n",
    "    columns=[\"name\", \"id_cykelknudepkt\", \"_igraph_index\", \"x\", \"y\", \"nodeID\"]\n",
    ")  # drop all data\n",
    "nodes_loopnum.to_crs(epsg=4326, inplace=True)  # reproject for H3\n",
    "nodes_loopnum[\"loopnum\"] = get_vertex_loopnums(allloops, \"log2\").tolist()\n",
    "if debug:\n",
    "    print(nodes_loopnum.head())"
   ]
  },
  {
   "cell_type": "code",
   "execution_count": null,
   "id": "4fe18209-408b-46b7-afa7-c3f540130cac",
   "metadata": {},
   "outputs": [],
   "source": [
    "nodes_loopnumh3 = nodes_loopnum.h3.geo_to_h3_aggregate(6, \"mean\")\n",
    "if debug:\n",
    "    print(nodes_loopnumh3.head())"
   ]
  },
  {
   "cell_type": "code",
   "execution_count": null,
   "id": "adc27857-10ca-4e66-b411-8ef5400d66ec",
   "metadata": {},
   "outputs": [],
   "source": [
    "nodes_loopnumh3.plot(column=\"loopnum\", figsize=(5, 5), legend=True)\n",
    "plt.title(\"Average loop bits\");"
   ]
  },
  {
   "cell_type": "markdown",
   "id": "0bca00f6-0fb5-41e2-b512-245af5f0ccaa",
   "metadata": {},
   "source": [
    "## Correlate"
   ]
  },
  {
   "cell_type": "code",
   "execution_count": null,
   "id": "d747fd9f-2f6b-4cb9-9171-db349a4483e3",
   "metadata": {},
   "outputs": [],
   "source": [
    "dfunified = nodesh3.join(nodes_loopnumh3.drop(columns=\"geometry\")).rename(\n",
    "    columns={\"count\": \"Node density\", \"loopnum\": \"Loop bits\"}\n",
    ")\n",
    "pd.plotting.scatter_matrix(dfunified, alpha=0.05, figsize=(6, 6));"
   ]
  }
 ],
 "metadata": {
  "kernelspec": {
   "display_name": "bikenwloops",
   "language": "python",
   "name": "bikenwloops"
  },
  "language_info": {
   "codemirror_mode": {
    "name": "ipython",
    "version": 3
   },
   "file_extension": ".py",
   "mimetype": "text/x-python",
   "name": "python",
   "nbconvert_exporter": "python",
   "pygments_lexer": "ipython3",
   "version": "3.12.2"
  }
 },
 "nbformat": 4,
 "nbformat_minor": 5
}
