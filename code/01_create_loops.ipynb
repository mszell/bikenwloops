{
 "cells": [
  {
   "cell_type": "markdown",
   "id": "2e582dfd",
   "metadata": {},
   "source": [
    "# 01. Create loop census\n",
    "## Project: Bicycle node network loop analysis"
   ]
  },
  {
   "cell_type": "markdown",
   "id": "2bc9b960",
   "metadata": {},
   "source": [
    "This notebook creates a loop census from the input data set and calculates/plots basic descriptive statistics.\n",
    "\n",
    "Contact: Michael Szell (michael.szell@gmail.com)\n",
    "\n",
    "Created: 2024-01-24  \n",
    "Last modified: 2024-10-02"
   ]
  },
  {
   "cell_type": "markdown",
   "id": "5126c030",
   "metadata": {},
   "source": [
    "## To do"
   ]
  },
  {
   "cell_type": "markdown",
   "id": "5faeedc4",
   "metadata": {},
   "source": [
    "- [ ] Double-check loop/link lengths. For example 3-loop east of Faxe\n",
    "- [ ] Double-check edge_ids during simplifications\n",
    "- [ ] Add node distances to closest kommune boundary\n",
    "- [ ] Compress results (Jutland+Fyn = 50GB), by storing data smarter or algorithm, e.g. https://stackoverflow.com/questions/57983431/whats-the-most-space-efficient-way-to-compress-serialized-python-data\n",
    "- [X] Create a preprocessing step for poi snapping\n",
    "- [X] fix: minimum cycle basis is not necessarily face cycle basis (https://en.wikipedia.org/wiki/Cycle_basis#In_planar_graphs)\n",
    "- [X] Create testing possibility with random poi data, without poi snapping\n",
    "- [X] Make all constants allcaps\n",
    "- [x] Snap POIs to the original link geometries, within a threshold\n",
    "- [x] Incorporate gradients\n",
    "- [x] Add loop permutations for node-based analysis\n",
    "- [x] Drop non-main nodes\n",
    "- [x] Drop loops (they are really dangling links)\n",
    "- [x] Find all simple loops (bounded?-max length?) with networkX"
   ]
  },
  {
   "cell_type": "markdown",
   "id": "5d0a7b7f",
   "metadata": {},
   "source": [
    "## Imports"
   ]
  },
  {
   "cell_type": "code",
   "execution_count": null,
   "id": "f81d35c7",
   "metadata": {},
   "outputs": [],
   "source": [
    "import geopandas as gpd\n",
    "import shapely\n",
    "import igraph as ig\n",
    "import matplotlib.pyplot as plt\n",
    "import numpy as np\n",
    "import networkx as nx\n",
    "from functools import reduce\n",
    "import pickle\n",
    "from itertools import combinations\n",
    "import lzma"
   ]
  },
  {
   "cell_type": "markdown",
   "id": "9d22412b-3d1f-4203-bbc4-4629f35c0c06",
   "metadata": {},
   "source": [
    "## Parameters"
   ]
  },
  {
   "cell_type": "code",
   "execution_count": null,
   "id": "f3f65809-7982-4af5-8ac0-74adc0c05ac8",
   "metadata": {},
   "outputs": [],
   "source": [
    "%run -i setup_parameters.py\n",
    "np.random.seed(42)\n",
    "debug = True  # Set to True for extra plots and verbosity"
   ]
  },
  {
   "cell_type": "markdown",
   "id": "876e2b5b",
   "metadata": {},
   "source": [
    "## Functions"
   ]
  },
  {
   "cell_type": "code",
   "execution_count": null,
   "id": "54eee093-c956-4804-8add-6a4f41a86cb9",
   "metadata": {},
   "outputs": [],
   "source": [
    "%run -i functions.py"
   ]
  },
  {
   "cell_type": "markdown",
   "id": "06c9f290",
   "metadata": {},
   "source": [
    "## Load data"
   ]
  },
  {
   "cell_type": "code",
   "execution_count": null,
   "id": "52a1454e-17a4-41c6-ac85-f8dc01ff6acb",
   "metadata": {},
   "outputs": [],
   "source": [
    "with lzma.open(PATH[\"data_out\"] + \"network_preprocessed.xz\", \"rb\") as f:\n",
    "    G = pickle.load(f)\n",
    "G.summary()"
   ]
  },
  {
   "cell_type": "code",
   "execution_count": null,
   "id": "668caa05-3cc6-4783-b466-5671175992b9",
   "metadata": {},
   "outputs": [],
   "source": [
    "nodes = gpd.read_file(PATH[\"data_in_network\"] + \"nodes.gpkg\")\n",
    "nodes.head()"
   ]
  },
  {
   "cell_type": "code",
   "execution_count": null,
   "id": "75797837-2c99-4865-a22d-3b674a894754",
   "metadata": {
    "scrolled": true
   },
   "outputs": [],
   "source": [
    "nodes_id = list(nodes.nodeID)\n",
    "nodes_x = list(nodes.geometry.x)\n",
    "nodes_y = list(nodes.geometry.y)\n",
    "nodes_coords = list(zip(NormalizeData(nodes_x), NormalizeData(nodes_y)))"
   ]
  },
  {
   "cell_type": "markdown",
   "id": "8f44e7ee-23b2-4fdc-befd-0e3a4663de41",
   "metadata": {},
   "source": [
    "## Loop generation"
   ]
  },
  {
   "cell_type": "markdown",
   "id": "bc5a1811",
   "metadata": {},
   "source": [
    "### Get face loops"
   ]
  },
  {
   "cell_type": "markdown",
   "id": "6e307a33-297f-43d8-9ba8-a93c349b3642",
   "metadata": {},
   "source": [
    "The minimum cycle basis is generally not the cycle basis of face loops, see: https://en.wikipedia.org/wiki/Cycle_basis#In_planar_graphs  \n",
    "Therefore, we can't use https://python.igraph.org/en/latest/api/igraph.GraphBase.html#minimum_cycle_basis here. Instead, we solve the problem geometrically via shapely."
   ]
  },
  {
   "cell_type": "markdown",
   "id": "2f1944ec-49e6-48c5-bb02-8ab699596ec1",
   "metadata": {},
   "source": [
    "#### Polygonize"
   ]
  },
  {
   "cell_type": "code",
   "execution_count": null,
   "id": "43159f6b-c81b-44ad-b06a-2dc5258aab3a",
   "metadata": {},
   "outputs": [],
   "source": [
    "edgegeoms = G.es[\"geometry\"]\n",
    "facepolygons, _, _, _ = shapely.polygonize_full(edgegeoms)\n",
    "if debug:\n",
    "    p = gpd.GeoSeries(facepolygons)\n",
    "    p.plot()\n",
    "    plt.axis(\"off\")"
   ]
  },
  {
   "cell_type": "markdown",
   "id": "f23522ce-8ada-4918-93d4-858cc7714933",
   "metadata": {},
   "source": [
    "#### Intersect polygons with graph to get face loops"
   ]
  },
  {
   "cell_type": "code",
   "execution_count": null,
   "id": "80ff677c-edfe-4ed5-a08c-4d1f2b9246e7",
   "metadata": {},
   "outputs": [],
   "source": [
    "faceloops = {}\n",
    "for cid, facepoly in tqdm(\n",
    "    enumerate(facepolygons.geoms), desc=\"Face loops\", total=len(facepolygons.geoms)\n",
    "):\n",
    "    facenodeids = list(np.where(list(nodes.intersects(facepoly)))[0])\n",
    "    facenodeidpairs = list(combinations(facenodeids, 2))\n",
    "    edgeids = set()  # tuple of edge ids\n",
    "    l = 0  # total length\n",
    "    for p in (\n",
    "        facenodeidpairs\n",
    "    ):  # We only have node ids but no edge info. Need to try all node pairs.\n",
    "        try:\n",
    "            eid = G.get_eid(G.vs.find(name=p[0]), G.vs.find(name=p[1]))\n",
    "            edgeinfo = G.es[eid]\n",
    "            edgeids.add(eid)\n",
    "            l += edgeinfo[\"weight\"]\n",
    "        except:\n",
    "            pass\n",
    "    faceloops[cid] = {\n",
    "        \"edges\": tuple(edgeids),\n",
    "        \"length\": l,\n",
    "        \"numnodes\": len(edgeids),\n",
    "    }"
   ]
  },
  {
   "cell_type": "code",
   "execution_count": null,
   "id": "130f7f0d",
   "metadata": {},
   "outputs": [],
   "source": [
    "if debug:  # Show longest face loop\n",
    "    res = {key: val[\"length\"] for key, val in faceloops.items()}\n",
    "    k = max(res, key=res.get)\n",
    "\n",
    "    edge_colors = []\n",
    "    for e in G.es:\n",
    "        if e.index in faceloops[k][\"edges\"]:\n",
    "            edge_colors.append(\"red\")\n",
    "        else:\n",
    "            edge_colors.append(\"grey\")\n",
    "\n",
    "    fig = plotCheck(\n",
    "        G,\n",
    "        nodes_id,\n",
    "        nodes_coords,\n",
    "        vertex_size=get_vertexsize(G.vcount()),\n",
    "        edge_color=edge_colors,\n",
    "    )\n",
    "    plt.text(\n",
    "        0,\n",
    "        0.04,\n",
    "        \"Longest face loop highlighted: \"\n",
    "        + str(int((MPERUNIT / 1000) * faceloops[k][\"length\"]))\n",
    "        + \"km\",\n",
    "    )\n",
    "    plt.tight_layout()"
   ]
  },
  {
   "cell_type": "markdown",
   "id": "c8f07b37",
   "metadata": {},
   "source": [
    "Getting all simple loops has not yet been implemented in igraph, see:  \n",
    "* https://github.com/igraph/igraph/issues/379  \n",
    "* https://github.com/igraph/igraph/issues/1398  \n",
    "Some potential progress here, but only for C, not Python:\n",
    "* https://github.com/igraph/igraph/pull/2181\n",
    "\n",
    "But they can be XORed through the loop base.  "
   ]
  },
  {
   "cell_type": "markdown",
   "id": "8b714ef4",
   "metadata": {},
   "source": [
    "It has been implemented in networkX though: https://networkx.org/documentation/stable/reference/algorithms/generated/networkx.algorithms.cycles.simple_cycles.html#networkx.algorithms.cycles.simple_cycles"
   ]
  },
  {
   "cell_type": "markdown",
   "id": "cbbca691",
   "metadata": {},
   "source": [
    "Therefore, we do not use igraph's loop basis, but go ahead with networkX."
   ]
  },
  {
   "cell_type": "markdown",
   "id": "a1fee5e7",
   "metadata": {},
   "source": [
    "### Get all loops via nx"
   ]
  },
  {
   "cell_type": "code",
   "execution_count": null,
   "id": "6de93c17",
   "metadata": {},
   "outputs": [],
   "source": [
    "Gnx = G.to_networkx()"
   ]
  },
  {
   "cell_type": "code",
   "execution_count": null,
   "id": "9b6987ea",
   "metadata": {},
   "outputs": [],
   "source": [
    "# Get all unique loops, meaning a loop ABCA is counted only once and not as ABCA, BCAB, and CABC\n",
    "allloops_unique = {}\n",
    "nodes_done = set()\n",
    "numloops_unique = 0\n",
    "allloops_generator = nx.simple_cycles(Gnx, length_bound=LOOP_NUMNODE_BOUND)\n",
    "for c in tqdm(allloops_generator):\n",
    "    sourcenode = c[0]\n",
    "    c_length = getLoopLength(c)\n",
    "    c_max_slope = getLoopMaxSlope(c)\n",
    "    c_water = getLoopWaterProfile(c)\n",
    "    c_poi_diversity = getLoopPOIDiversity(c)\n",
    "    numloops_unique += 1\n",
    "    if sourcenode in nodes_done:\n",
    "        allloops_unique[sourcenode][\"loops\"].append(c)\n",
    "        allloops_unique[sourcenode][\"lengths\"].append(c_length)\n",
    "        allloops_unique[sourcenode][\"numnodes\"].append(len(c))\n",
    "        allloops_unique[sourcenode][\"max_slopes\"].append(c_max_slope)\n",
    "        allloops_unique[sourcenode][\"water_profile\"].append(c_water)\n",
    "        allloops_unique[sourcenode][\"poi_diversity\"].append(c_poi_diversity)\n",
    "    else:\n",
    "        allloops_unique[sourcenode] = {\n",
    "            \"loops\": [c],\n",
    "            \"lengths\": [c_length],\n",
    "            \"numnodes\": [len(c)],\n",
    "            \"max_slopes\": [c_max_slope],\n",
    "            \"water_profile\": [c_water],\n",
    "            \"poi_diversity\": [c_poi_diversity],\n",
    "        }\n",
    "        nodes_done.add(sourcenode)\n",
    "print(\n",
    "    \"Found \"\n",
    "    + str(numloops_unique)\n",
    "    + \" unique loops for length bound \"\n",
    "    + str(LOOP_NUMNODE_BOUND)\n",
    ")"
   ]
  },
  {
   "cell_type": "code",
   "execution_count": null,
   "id": "5801d700",
   "metadata": {},
   "outputs": [],
   "source": [
    "# Get all loops, meaning a loop ABCA is counted also as ABCA, BCAB, and CABC\n",
    "allloops = {}\n",
    "nodes_done = set()\n",
    "numloops = 0\n",
    "allloops_generator = nx.simple_cycles(Gnx, length_bound=LOOP_NUMNODE_BOUND)\n",
    "for c in tqdm(allloops_generator):\n",
    "    sourcenode = c[0]\n",
    "    c_length = getLoopLength(c)\n",
    "    c_max_slope = getLoopMaxSlope(c)\n",
    "    c_water = getLoopWaterProfile(c)\n",
    "    c_poi_diversity = getLoopPOIDiversity(c)\n",
    "    for sourcenode in c:\n",
    "        numloops += 1\n",
    "        if sourcenode in nodes_done:\n",
    "            allloops[sourcenode][\"loops\"].append(c)\n",
    "            allloops[sourcenode][\"lengths\"].append(c_length)\n",
    "            allloops[sourcenode][\"numnodes\"].append(len(c))\n",
    "            allloops[sourcenode][\"max_slopes\"].append(c_max_slope)\n",
    "            allloops[sourcenode][\"water_profile\"].append(c_water)\n",
    "            allloops[sourcenode][\"poi_diversity\"].append(c_poi_diversity)\n",
    "        else:\n",
    "            allloops[sourcenode] = {\n",
    "                \"loops\": [c],\n",
    "                \"lengths\": [c_length],\n",
    "                \"numnodes\": [len(c)],\n",
    "                \"max_slopes\": [c_max_slope],\n",
    "                \"water_profile\": [c_water],\n",
    "                \"poi_diversity\": [c_poi_diversity],\n",
    "            }\n",
    "            nodes_done.add(sourcenode)\n",
    "print(\"Found \" + str(numloops) + \" loops for length bound \" + str(LOOP_NUMNODE_BOUND))"
   ]
  },
  {
   "cell_type": "code",
   "execution_count": null,
   "id": "8e5b76cc",
   "metadata": {},
   "outputs": [],
   "source": [
    "alllooplengths = np.zeros(numloops)\n",
    "allloopnumnodes = np.zeros(numloops, dtype=int)\n",
    "allloopmaxslopes = np.zeros(numloops)\n",
    "i = 0\n",
    "for j in tqdm(allloops):\n",
    "    l = len(allloops[j][\"lengths\"])\n",
    "    alllooplengths[i : i + l] = allloops[j][\"lengths\"]\n",
    "    allloopnumnodes[i : i + l] = allloops[j][\"numnodes\"]\n",
    "    allloopmaxslopes[i : i + l] = allloops[j][\"max_slopes\"]\n",
    "    i += l"
   ]
  },
  {
   "cell_type": "markdown",
   "id": "2881540e",
   "metadata": {},
   "source": [
    "## Descriptive network statistics"
   ]
  },
  {
   "cell_type": "markdown",
   "id": "233b978f",
   "metadata": {},
   "source": [
    "### Link lengths and max slopes"
   ]
  },
  {
   "cell_type": "code",
   "execution_count": null,
   "id": "d152ad9e",
   "metadata": {},
   "outputs": [],
   "source": [
    "linklengths = [e[\"weight\"] * MPERUNIT for e in G.es]\n",
    "linkmaxslopes = [e[\"max_slope\"] for e in G.es]\n",
    "fig = plt.figure(figsize=(8, 3))\n",
    "axes1 = fig.add_axes([0.08, 0.16, 0.4, 0.75])\n",
    "axes2 = fig.add_axes([0.58, 0.16, 0.4, 0.75])\n",
    "\n",
    "histxy = axes1.hist(\n",
    "    linklengths, bins=[i * 500 / MPERUNIT for i in list(range(30))], density=False\n",
    ")\n",
    "axes1.plot([LINK_LIMIT[0], LINK_LIMIT[0]], [0, max(histxy[0])], \":k\")\n",
    "axes1.plot([LINK_LIMIT[1], LINK_LIMIT[1]], [0, max(histxy[0])], \":k\")\n",
    "axes1.plot([LINK_LIMIT[2], LINK_LIMIT[2]], [0, max(histxy[0])], \":r\")\n",
    "indcond = [\n",
    "    i for i, x in enumerate(linklengths) if (x >= LINK_LIMIT[0] and x <= LINK_LIMIT[1])\n",
    "]\n",
    "massinallowedrange = round(len(indcond) / len(linklengths) * 100)  # Should be high\n",
    "axes1.text(\n",
    "    (LINK_LIMIT[0] + LINK_LIMIT[1]) / 2,\n",
    "    max(histxy[0]),\n",
    "    str(massinallowedrange) + \"%\",\n",
    "    horizontalalignment=\"center\",\n",
    "    verticalalignment=\"top\",\n",
    ")\n",
    "axes1.text(\n",
    "    LINK_LIMIT[0] * 0.9,\n",
    "    max(histxy[0]),\n",
    "    str(\n",
    "        round(\n",
    "            len([i for i, x in enumerate(linklengths) if (x <= LINK_LIMIT[0])])\n",
    "            / len(linklengths)\n",
    "            * 100\n",
    "        )\n",
    "    )\n",
    "    + \"%\",\n",
    "    horizontalalignment=\"right\",\n",
    "    verticalalignment=\"top\",\n",
    ")\n",
    "axes1.text(\n",
    "    (LINK_LIMIT[1] + LINK_LIMIT[2]) / 2,\n",
    "    max(histxy[0]),\n",
    "    str(\n",
    "        round(\n",
    "            len(\n",
    "                [\n",
    "                    i\n",
    "                    for i, x in enumerate(linklengths)\n",
    "                    if (x >= LINK_LIMIT[1] and x <= LINK_LIMIT[2])\n",
    "                ]\n",
    "            )\n",
    "            / len(linklengths)\n",
    "            * 100\n",
    "        )\n",
    "    )\n",
    "    + \"%\",\n",
    "    horizontalalignment=\"center\",\n",
    "    verticalalignment=\"top\",\n",
    ")\n",
    "axes1.text(\n",
    "    LINK_LIMIT[2] * 1.01,\n",
    "    max(histxy[0]),\n",
    "    str(\n",
    "        round(\n",
    "            len([i for i, x in enumerate(linklengths) if (x > LINK_LIMIT[2])])\n",
    "            / len(linklengths)\n",
    "            * 100\n",
    "        )\n",
    "    )\n",
    "    + \"%\",\n",
    "    horizontalalignment=\"left\",\n",
    "    verticalalignment=\"top\",\n",
    "    color=\"red\",\n",
    ")\n",
    "\n",
    "axes1.set_xlabel(\"Length [m]\")\n",
    "axes1.set_ylabel(\"Frequency\")\n",
    "axes1.set_title(\"Link lengths\")\n",
    "axes1.set_xlim([0, 15000 / MPERUNIT])\n",
    "\n",
    "histxy = axes2.hist(linkmaxslopes, bins=[i / 4 for i in list(range(32))], density=False)\n",
    "axes2.plot([MAXSLOPE_LIMIT, MAXSLOPE_LIMIT], [0, max(histxy[0])], \":r\")\n",
    "axes2.text(\n",
    "    MAXSLOPE_LIMIT * 0.95,\n",
    "    max(histxy[0]),\n",
    "    str(\n",
    "        round(\n",
    "            len([i for i, x in enumerate(linkmaxslopes) if (x < MAXSLOPE_LIMIT)])\n",
    "            / len(linkmaxslopes)\n",
    "            * 100\n",
    "        )\n",
    "    )\n",
    "    + \"%\",\n",
    "    horizontalalignment=\"right\",\n",
    "    verticalalignment=\"top\",\n",
    ")\n",
    "axes2.text(\n",
    "    MAXSLOPE_LIMIT * 1.05,\n",
    "    max(histxy[0]),\n",
    "    str(\n",
    "        round(\n",
    "            len([i for i, x in enumerate(linkmaxslopes) if (x >= MAXSLOPE_LIMIT)])\n",
    "            / len(linkmaxslopes)\n",
    "            * 100\n",
    "        )\n",
    "    )\n",
    "    + \"%\",\n",
    "    horizontalalignment=\"left\",\n",
    "    verticalalignment=\"top\",\n",
    "    color=\"red\",\n",
    ")\n",
    "axes2.set_xlabel(\"Max slope [%]\")\n",
    "axes2.set_ylabel(\"\")\n",
    "axes2.set_title(\"Link max slopes\")\n",
    "axes2.set_xlim([0, 8])\n",
    "\n",
    "fig.savefig(PATH[\"plot\"] + \"linkstats\")"
   ]
  },
  {
   "cell_type": "markdown",
   "id": "740567f2",
   "metadata": {},
   "source": [
    "### Loop lengths"
   ]
  },
  {
   "cell_type": "code",
   "execution_count": null,
   "id": "74214e96",
   "metadata": {
    "scrolled": true
   },
   "outputs": [],
   "source": [
    "fig = plt.figure(figsize=(8, 3))\n",
    "axes1 = fig.add_axes([0.1, 0.1, 0.35, 0.8])\n",
    "axes2 = fig.add_axes([0.55, 0.1, 0.35, 0.8])\n",
    "\n",
    "axes1.hist(alllooplengths, density=True)\n",
    "if MPERUNIT == 1000:\n",
    "    axes1.set_xlabel(\"Length [km]\")\n",
    "elif MPERUNIT == 1:\n",
    "    axes1.set_xlabel(\"Length [m]\")\n",
    "else:\n",
    "    axes1.set_xlabel(\"Length\")\n",
    "axes1.set_ylabel(\"Probability\")\n",
    "axes1.set_title(\"Loop lengths\")\n",
    "\n",
    "\n",
    "axes2.hist(allloopnumnodes, density=True, bins=list(range(LOOP_NUMNODE_BOUND + 1)))\n",
    "axes2.set_xlabel(\"Nodes\")\n",
    "axes2.set_title(\"Nodes per loop\")\n",
    "axes2.set_xlim([0, LOOP_NUMNODE_BOUND + 0.5])\n",
    "\n",
    "plt.text(LOOP_NUMNODE_BOUND / 20, 0.01, \"Bound: \" + str(LOOP_NUMNODE_BOUND))\n",
    "plt.text(LOOP_NUMNODE_BOUND / 20, 0.04, \"Loops: \" + str(numloops));"
   ]
  },
  {
   "cell_type": "code",
   "execution_count": null,
   "id": "9ec8a657",
   "metadata": {
    "scrolled": true
   },
   "outputs": [],
   "source": [
    "fig = plt.figure(figsize=(8, 3))\n",
    "axes1 = fig.add_axes([0.08, 0.16, 0.4, 0.75])\n",
    "axes2 = fig.add_axes([0.58, 0.16, 0.4, 0.75])\n",
    "\n",
    "facelooplengths = [c[\"length\"] * MPERUNIT for c in faceloops.values()]\n",
    "\n",
    "histxy = axes1.hist(\n",
    "    facelooplengths, bins=[i * 1000 / MPERUNIT for i in list(range(50))], density=False\n",
    ")\n",
    "if MPERUNIT == 1000:\n",
    "    axes1.set_xlabel(\"Length [km]\")\n",
    "elif MPERUNIT == 1:\n",
    "    axes1.set_xlabel(\"Length [m]\")\n",
    "else:\n",
    "    axes1.set_xlabel(\"Length\")\n",
    "axes1.set_ylabel(\"Frequency\")\n",
    "axes1.set_title(\"Face loop lengths\")\n",
    "axes1.plot([FACELOOP_LIMIT[0], FACELOOP_LIMIT[0]], [0, max(histxy[0])], \":k\")\n",
    "axes1.plot([FACELOOP_LIMIT[1], FACELOOP_LIMIT[1]], [0, max(histxy[0])], \":r\")\n",
    "axes1.text(\n",
    "    (FACELOOP_LIMIT[0] + FACELOOP_LIMIT[1]) / 2,\n",
    "    max(histxy[0]),\n",
    "    str(\n",
    "        round(\n",
    "            len(\n",
    "                [\n",
    "                    i\n",
    "                    for i, x in enumerate(facelooplengths)\n",
    "                    if (x >= FACELOOP_LIMIT[0] and x <= FACELOOP_LIMIT[1])\n",
    "                ]\n",
    "            )\n",
    "            / len(facelooplengths)\n",
    "            * 100\n",
    "        )\n",
    "    )\n",
    "    + \"%\",\n",
    "    horizontalalignment=\"center\",\n",
    "    verticalalignment=\"top\",\n",
    ")\n",
    "axes1.text(\n",
    "    FACELOOP_LIMIT[0] * 0.95,\n",
    "    max(histxy[0]),\n",
    "    str(\n",
    "        round(\n",
    "            len([i for i, x in enumerate(facelooplengths) if (x < FACELOOP_LIMIT[0])])\n",
    "            / len(facelooplengths)\n",
    "            * 100\n",
    "        )\n",
    "    )\n",
    "    + \"%\",\n",
    "    horizontalalignment=\"right\",\n",
    "    verticalalignment=\"top\",\n",
    ")\n",
    "axes1.text(\n",
    "    FACELOOP_LIMIT[1] * 1.01,\n",
    "    max(histxy[0]),\n",
    "    str(\n",
    "        round(\n",
    "            len([i for i, x in enumerate(facelooplengths) if (x > FACELOOP_LIMIT[1])])\n",
    "            / len(facelooplengths)\n",
    "            * 100\n",
    "        )\n",
    "    )\n",
    "    + \"%\",\n",
    "    horizontalalignment=\"left\",\n",
    "    verticalalignment=\"top\",\n",
    "    color=\"red\",\n",
    ")\n",
    "axes1.set_xlim([0, 50000 / MPERUNIT])\n",
    "\n",
    "\n",
    "axes2.hist(\n",
    "    [c[\"numnodes\"] for c in faceloops.values()], bins=list(range(30)), density=False\n",
    ")\n",
    "axes2.set_xlabel(\"Nodes\")\n",
    "axes2.set_title(\"Face loop nodes\")\n",
    "axes2.set_xlim([0, 30])\n",
    "\n",
    "fig.savefig(PATH[\"plot\"] + \"faceloopstats\");"
   ]
  },
  {
   "cell_type": "code",
   "execution_count": null,
   "id": "703c4c3e",
   "metadata": {},
   "outputs": [],
   "source": [
    "# histxy[0][min(indcond) : max(indcond) + 1]"
   ]
  },
  {
   "cell_type": "code",
   "execution_count": null,
   "id": "24697b11",
   "metadata": {},
   "outputs": [],
   "source": [
    "if debug:  # Show face loops that conform to the length thresholds\n",
    "    okedges = set()\n",
    "    for c in faceloops.values():\n",
    "        if (\n",
    "            c[\"length\"] * MPERUNIT >= FACELOOP_LIMIT[0]\n",
    "            and c[\"length\"] * MPERUNIT <= FACELOOP_LIMIT[1]\n",
    "        ):\n",
    "            okedges = okedges.union(set(c[\"edges\"]))\n",
    "\n",
    "    edge_colors = []\n",
    "    for e in G.es:\n",
    "        if e.index in okedges:\n",
    "            edge_colors.append(\"green\")\n",
    "        else:\n",
    "            edge_colors.append(\"grey\")\n",
    "\n",
    "    fig = plotCheck(\n",
    "        G,\n",
    "        nodes_id,\n",
    "        nodes_coords,\n",
    "        vertex_size=get_vertexsize(G.vcount()),\n",
    "        edge_color=edge_colors,\n",
    "    )\n",
    "    plt.text(0, 0.04, \"Conforming face loops highlighted\")\n",
    "    plt.tight_layout()"
   ]
  },
  {
   "cell_type": "code",
   "execution_count": null,
   "id": "33fdb5b2",
   "metadata": {
    "scrolled": true
   },
   "outputs": [],
   "source": [
    "if debug:  # Show face loops that do not conform to the length thresholds\n",
    "    toosmalledges = set()\n",
    "    toolargeedges = set()\n",
    "    for c in faceloops.values():\n",
    "        if c[\"length\"] * MPERUNIT > FACELOOP_LIMIT[1]:\n",
    "            toolargeedges = toolargeedges.union(set(c[\"edges\"]))\n",
    "        elif c[\"length\"] * MPERUNIT < FACELOOP_LIMIT[0]:\n",
    "            toosmalledges = toosmalledges.union(set(c[\"edges\"]))\n",
    "\n",
    "    edge_colors = []\n",
    "    for e in G.es:\n",
    "        if e.index in toolargeedges:\n",
    "            edge_colors.append(\"red\")\n",
    "        elif e.index in toosmalledges:\n",
    "            edge_colors.append(\"orange\")\n",
    "        else:\n",
    "            edge_colors.append(\"grey\")\n",
    "\n",
    "    fig = plotCheck(\n",
    "        G,\n",
    "        nodes_id,\n",
    "        nodes_coords,\n",
    "        vertex_size=get_vertexsize(G.vcount()),\n",
    "        edge_color=edge_colors,\n",
    "    )\n",
    "    plt.text(0, 0.04, \"Non-conforming face loops highlighted\")\n",
    "    plt.tight_layout()"
   ]
  },
  {
   "cell_type": "markdown",
   "id": "0bd274d8",
   "metadata": {},
   "source": [
    "## Save loop census"
   ]
  },
  {
   "cell_type": "code",
   "execution_count": null,
   "id": "d2050153",
   "metadata": {},
   "outputs": [],
   "source": [
    "with open(\n",
    "    PATH[\"data_out\"] + \"loopcensus_\" + str(LOOP_NUMNODE_BOUND) + \".pkl\", \"wb\"\n",
    ") as f:\n",
    "    pickle.dump(allloops, f)\n",
    "    pickle.dump(alllooplengths, f)\n",
    "    pickle.dump(allloopnumnodes, f)\n",
    "    pickle.dump(allloopmaxslopes, f)\n",
    "    pickle.dump(G, f)\n",
    "    pickle.dump(LOOP_NUMNODE_BOUND, f)\n",
    "    pickle.dump(nodes_id, f)\n",
    "    pickle.dump(nodes_coords, f)\n",
    "    pickle.dump(numloops, f)\n",
    "    pickle.dump(faceloops, f)"
   ]
  },
  {
   "cell_type": "code",
   "execution_count": null,
   "id": "53dadfb8-28ed-42eb-94df-a700b336cb80",
   "metadata": {},
   "outputs": [],
   "source": [
    "# bit too slow\n",
    "# with lzma.open(PATH[\"data_out\"] + \"loopcensus_\" + str(LOOP_NUMNODE_BOUND) + \".xz\", \"wb\") as f:\n",
    "#     pickle.dump(allloops, f)\n",
    "#     pickle.dump(alllooplengths, f)\n",
    "#     pickle.dump(allloopnumnodes, f)\n",
    "#     pickle.dump(allloopmaxslopes, f)\n",
    "#     pickle.dump(G, f)\n",
    "#     pickle.dump(LOOP_NUMNODE_BOUND, f)\n",
    "#     pickle.dump(nodes_id, f)\n",
    "#     pickle.dump(nodes_coords, f)\n",
    "#     pickle.dump(numloops, f)\n",
    "#     pickle.dump(faceloops, f)"
   ]
  }
 ],
 "metadata": {
  "kernelspec": {
   "display_name": "bikenwloops",
   "language": "python",
   "name": "bikenwloops"
  },
  "language_info": {
   "codemirror_mode": {
    "name": "ipython",
    "version": 3
   },
   "file_extension": ".py",
   "mimetype": "text/x-python",
   "name": "python",
   "nbconvert_exporter": "python",
   "pygments_lexer": "ipython3",
   "version": "3.12.2"
  }
 },
 "nbformat": 4,
 "nbformat_minor": 5
}
