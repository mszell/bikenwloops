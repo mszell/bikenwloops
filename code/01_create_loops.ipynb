{
 "cells": [
  {
   "cell_type": "markdown",
   "id": "2e582dfd",
   "metadata": {},
   "source": [
    "# 01. Create loop census\n",
    "## Project: Bicycle node network loop analysis"
   ]
  },
  {
   "cell_type": "markdown",
   "id": "2bc9b960",
   "metadata": {},
   "source": [
    "This notebook creates a loop census from the input data set and calculates/plots basic descriptive statistics.\n",
    "\n",
    "Contact: Michael Szell (michael.szell@gmail.com)\n",
    "\n",
    "Created: 2024-01-24  \n",
    "Last modified: 2024-10-07"
   ]
  },
  {
   "cell_type": "markdown",
   "id": "5126c030",
   "metadata": {},
   "source": [
    "## To do"
   ]
  },
  {
   "cell_type": "markdown",
   "id": "5faeedc4",
   "metadata": {},
   "source": [
    "- [ ] Double-check loop/link lengths. For example 3-loop east of Faxe\n",
    "- [ ] Double-check edge_ids during simplifications\n",
    "- [ ] Add node distances to closest kommune boundary\n",
    "- [ ] Compress results (Jutland+Fyn = 50GB), by storing data smarter or algorithm, e.g. https://stackoverflow.com/questions/57983431/whats-the-most-space-efficient-way-to-compress-serialized-python-data\n",
    "- [X] Create a preprocessing step for poi snapping\n",
    "- [X] fix: minimum cycle basis is not necessarily face cycle basis (https://en.wikipedia.org/wiki/Cycle_basis#In_planar_graphs)\n",
    "- [X] Create testing possibility with random poi data, without poi snapping\n",
    "- [X] Make all constants allcaps\n",
    "- [x] Snap POIs to the original link geometries, within a threshold\n",
    "- [x] Incorporate gradients\n",
    "- [x] Add loop permutations for node-based analysis\n",
    "- [x] Drop non-main nodes\n",
    "- [x] Drop loops (they are really dangling links)\n",
    "- [x] Find all simple loops (bounded?-max length?) with networkX"
   ]
  },
  {
   "cell_type": "markdown",
   "id": "9d22412b-3d1f-4203-bbc4-4629f35c0c06",
   "metadata": {},
   "source": [
    "## Parameters"
   ]
  },
  {
   "cell_type": "code",
   "execution_count": null,
   "id": "f3f65809-7982-4af5-8ac0-74adc0c05ac8",
   "metadata": {},
   "outputs": [],
   "source": [
    "%run -i setup_parameters.py\n",
    "np.random.seed(42)\n",
    "debug = True  # Set to True for extra plots and verbosity"
   ]
  },
  {
   "cell_type": "markdown",
   "id": "876e2b5b",
   "metadata": {},
   "source": [
    "## Functions"
   ]
  },
  {
   "cell_type": "code",
   "execution_count": null,
   "id": "54eee093-c956-4804-8add-6a4f41a86cb9",
   "metadata": {},
   "outputs": [],
   "source": [
    "%run -i functions.py"
   ]
  },
  {
   "cell_type": "markdown",
   "id": "06c9f290",
   "metadata": {},
   "source": [
    "## Load data"
   ]
  },
  {
   "cell_type": "code",
   "execution_count": null,
   "id": "52a1454e-17a4-41c6-ac85-f8dc01ff6acb",
   "metadata": {},
   "outputs": [],
   "source": [
    "with lzma.open(PATH[\"data_out\"] + \"network_preprocessed.xz\", \"rb\") as f:\n",
    "    G = pickle.load(f)\n",
    "G.summary()"
   ]
  },
  {
   "cell_type": "code",
   "execution_count": null,
   "id": "668caa05-3cc6-4783-b466-5671175992b9",
   "metadata": {},
   "outputs": [],
   "source": [
    "nodes = gpd.read_file(PATH[\"data_in_network\"] + \"nodes.gpkg\")\n",
    "nodes.head()"
   ]
  },
  {
   "cell_type": "code",
   "execution_count": null,
   "id": "75797837-2c99-4865-a22d-3b674a894754",
   "metadata": {
    "scrolled": true
   },
   "outputs": [],
   "source": [
    "nodes_id = list(nodes.nodeID)\n",
    "nodes_x = list(nodes.geometry.x)\n",
    "nodes_y = list(nodes.geometry.y)\n",
    "nodes_coords = list(zip(NormalizeData(nodes_x), NormalizeData(nodes_y)))"
   ]
  },
  {
   "cell_type": "markdown",
   "id": "8f44e7ee-23b2-4fdc-befd-0e3a4663de41",
   "metadata": {},
   "source": [
    "## Loop generation"
   ]
  },
  {
   "cell_type": "markdown",
   "id": "bc5a1811",
   "metadata": {},
   "source": [
    "### Get face loops"
   ]
  },
  {
   "cell_type": "markdown",
   "id": "6e307a33-297f-43d8-9ba8-a93c349b3642",
   "metadata": {},
   "source": [
    "The minimum cycle basis is generally not the cycle basis of face loops, see: https://en.wikipedia.org/wiki/Cycle_basis#In_planar_graphs  \n",
    "Therefore, we can't use https://python.igraph.org/en/latest/api/igraph.GraphBase.html#minimum_cycle_basis here. Instead, we solve the problem geometrically via shapely."
   ]
  },
  {
   "cell_type": "markdown",
   "id": "2f1944ec-49e6-48c5-bb02-8ab699596ec1",
   "metadata": {},
   "source": [
    "#### Polygonize"
   ]
  },
  {
   "cell_type": "code",
   "execution_count": null,
   "id": "43159f6b-c81b-44ad-b06a-2dc5258aab3a",
   "metadata": {},
   "outputs": [],
   "source": [
    "edgegeoms = G.es[\"geometry\"]\n",
    "facepolygons, _, _, _ = shapely.polygonize_full(edgegeoms)\n",
    "if debug:\n",
    "    p = gpd.GeoSeries(facepolygons)\n",
    "    p.plot()\n",
    "    plt.axis(\"off\")"
   ]
  },
  {
   "cell_type": "markdown",
   "id": "f23522ce-8ada-4918-93d4-858cc7714933",
   "metadata": {},
   "source": [
    "#### Intersect polygons with graph to get face loops"
   ]
  },
  {
   "cell_type": "code",
   "execution_count": null,
   "id": "80ff677c-edfe-4ed5-a08c-4d1f2b9246e7",
   "metadata": {},
   "outputs": [],
   "source": [
    "faceloops = {}\n",
    "for cid, facepoly in tqdm(\n",
    "    enumerate(facepolygons.geoms), desc=\"Face loops\", total=len(facepolygons.geoms)\n",
    "):\n",
    "    facenodeids = list(np.where(list(nodes.intersects(facepoly)))[0])\n",
    "    facenodeidpairs = list(combinations(facenodeids, 2))\n",
    "    edgeids = set()  # tuple of edge ids\n",
    "    l = 0  # total length\n",
    "    for p in (\n",
    "        facenodeidpairs\n",
    "    ):  # We only have node ids but no edge info. Need to try all node pairs.\n",
    "        try:\n",
    "            eid = G.get_eid(G.vs.find(name=p[0]), G.vs.find(name=p[1]))\n",
    "            edgeinfo = G.es[eid]\n",
    "            edgeids.add(eid)\n",
    "            l += edgeinfo[\"weight\"]\n",
    "        except:\n",
    "            pass\n",
    "    faceloops[cid] = {\n",
    "        \"edges\": tuple(edgeids),\n",
    "        \"length\": l,\n",
    "        \"numnodes\": len(edgeids),\n",
    "    }"
   ]
  },
  {
   "cell_type": "code",
   "execution_count": null,
   "id": "130f7f0d",
   "metadata": {},
   "outputs": [],
   "source": [
    "if debug:  # Show longest face loop\n",
    "    res = {key: val[\"length\"] for key, val in faceloops.items()}\n",
    "    k = max(res, key=res.get)\n",
    "\n",
    "    edge_colors = []\n",
    "    for e in G.es:\n",
    "        if e.index in faceloops[k][\"edges\"]:\n",
    "            edge_colors.append(\"red\")\n",
    "        else:\n",
    "            edge_colors.append(\"grey\")\n",
    "\n",
    "    fig = plotCheck(\n",
    "        G,\n",
    "        nodes_id,\n",
    "        nodes_coords,\n",
    "        vertex_size=get_vertexsize(G.vcount()),\n",
    "        edge_color=edge_colors,\n",
    "    )\n",
    "    plt.text(\n",
    "        0,\n",
    "        0.04,\n",
    "        \"Longest face loop highlighted: \"\n",
    "        + str(int((MPERUNIT / 1000) * faceloops[k][\"length\"]))\n",
    "        + \"km\",\n",
    "    )\n",
    "    plt.tight_layout()"
   ]
  },
  {
   "cell_type": "markdown",
   "id": "c8f07b37",
   "metadata": {},
   "source": [
    "Getting all simple loops has not yet been implemented in igraph, see:  \n",
    "* https://github.com/igraph/igraph/issues/379  \n",
    "* https://github.com/igraph/igraph/issues/1398  \n",
    "Some potential progress here, but only for C, not Python:\n",
    "* https://github.com/igraph/igraph/pull/2181\n",
    "\n",
    "But they can be XORed through the loop base.  "
   ]
  },
  {
   "cell_type": "markdown",
   "id": "8b714ef4",
   "metadata": {},
   "source": [
    "It has been implemented in networkX though: https://networkx.org/documentation/stable/reference/algorithms/generated/networkx.algorithms.cycles.simple_cycles.html#networkx.algorithms.cycles.simple_cycles"
   ]
  },
  {
   "cell_type": "markdown",
   "id": "cbbca691",
   "metadata": {},
   "source": [
    "Therefore, we do not use igraph's loop basis, but go ahead with networkX."
   ]
  },
  {
   "cell_type": "markdown",
   "id": "a1fee5e7",
   "metadata": {},
   "source": [
    "### Get all loops via nx"
   ]
  },
  {
   "cell_type": "code",
   "execution_count": null,
   "id": "6de93c17",
   "metadata": {},
   "outputs": [],
   "source": [
    "Gnx = G.to_networkx()"
   ]
  },
  {
   "cell_type": "code",
   "execution_count": null,
   "id": "9b6987ea",
   "metadata": {},
   "outputs": [],
   "source": [
    "# Get all unique loops, meaning a loop ABCA is counted only once and not as ABCA, BCAB, and CABC\n",
    "allloops_unique = {}\n",
    "nodes_done = set()\n",
    "numloops_unique = 0\n",
    "allloops_generator = nx.simple_cycles(Gnx, length_bound=LOOP_NUMNODE_BOUND)\n",
    "for c in tqdm(allloops_generator):\n",
    "    sourcenode = c[0]\n",
    "    c_length = getLoopLength(c)\n",
    "    c_max_slope = getLoopMaxSlope(c)\n",
    "    c_water = getLoopWaterProfile(c)\n",
    "    c_poi_diversity = getLoopPOIDiversity(c)\n",
    "    numloops_unique += 1\n",
    "    if sourcenode in nodes_done:\n",
    "        allloops_unique[sourcenode][\"loops\"].append(c)\n",
    "        allloops_unique[sourcenode][\"lengths\"].append(c_length)\n",
    "        allloops_unique[sourcenode][\"numnodes\"].append(len(c))\n",
    "        allloops_unique[sourcenode][\"max_slopes\"].append(c_max_slope)\n",
    "        allloops_unique[sourcenode][\"water_profile\"].append(c_water)\n",
    "        allloops_unique[sourcenode][\"poi_diversity\"].append(c_poi_diversity)\n",
    "    else:\n",
    "        allloops_unique[sourcenode] = {\n",
    "            \"loops\": [c],\n",
    "            \"lengths\": [c_length],\n",
    "            \"numnodes\": [len(c)],\n",
    "            \"max_slopes\": [c_max_slope],\n",
    "            \"water_profile\": [c_water],\n",
    "            \"poi_diversity\": [c_poi_diversity],\n",
    "        }\n",
    "        nodes_done.add(sourcenode)\n",
    "print(\n",
    "    \"Found \"\n",
    "    + str(numloops_unique)\n",
    "    + \" unique loops for length bound \"\n",
    "    + str(LOOP_NUMNODE_BOUND)\n",
    ")"
   ]
  },
  {
   "cell_type": "code",
   "execution_count": null,
   "id": "5801d700",
   "metadata": {},
   "outputs": [],
   "source": [
    "# Get all loops, meaning a loop ABCA is counted also as ABCA, BCAB, and CABC\n",
    "allloops = {}\n",
    "nodes_done = set()\n",
    "numloops = 0\n",
    "allloops_generator = nx.simple_cycles(Gnx, length_bound=LOOP_NUMNODE_BOUND)\n",
    "for c in tqdm(allloops_generator):\n",
    "    sourcenode = c[0]\n",
    "    c_length = getLoopLength(c)\n",
    "    c_max_slope = getLoopMaxSlope(c)\n",
    "    c_water = getLoopWaterProfile(c)\n",
    "    c_poi_diversity = getLoopPOIDiversity(c)\n",
    "    for sourcenode in c:\n",
    "        numloops += 1\n",
    "        if sourcenode in nodes_done:\n",
    "            allloops[sourcenode][\"loops\"].append(c)\n",
    "            allloops[sourcenode][\"lengths\"].append(c_length)\n",
    "            allloops[sourcenode][\"numnodes\"].append(len(c))\n",
    "            allloops[sourcenode][\"max_slopes\"].append(c_max_slope)\n",
    "            allloops[sourcenode][\"water_profile\"].append(c_water)\n",
    "            allloops[sourcenode][\"poi_diversity\"].append(c_poi_diversity)\n",
    "        else:\n",
    "            allloops[sourcenode] = {\n",
    "                \"loops\": [c],\n",
    "                \"lengths\": [c_length],\n",
    "                \"numnodes\": [len(c)],\n",
    "                \"max_slopes\": [c_max_slope],\n",
    "                \"water_profile\": [c_water],\n",
    "                \"poi_diversity\": [c_poi_diversity],\n",
    "            }\n",
    "            nodes_done.add(sourcenode)\n",
    "print(\"Found \" + str(numloops) + \" loops for length bound \" + str(LOOP_NUMNODE_BOUND))"
   ]
  },
  {
   "cell_type": "code",
   "execution_count": null,
   "id": "8e5b76cc",
   "metadata": {},
   "outputs": [],
   "source": [
    "alllooplengths = np.zeros(numloops)\n",
    "allloopnumnodes = np.zeros(numloops, dtype=int)\n",
    "allloopmaxslopes = np.zeros(numloops)\n",
    "i = 0\n",
    "for j in tqdm(allloops):\n",
    "    l = len(allloops[j][\"lengths\"])\n",
    "    alllooplengths[i : i + l] = allloops[j][\"lengths\"]\n",
    "    allloopnumnodes[i : i + l] = allloops[j][\"numnodes\"]\n",
    "    allloopmaxslopes[i : i + l] = allloops[j][\"max_slopes\"]\n",
    "    i += l"
   ]
  },
  {
   "cell_type": "markdown",
   "id": "0bd274d8",
   "metadata": {},
   "source": [
    "## Save loop census"
   ]
  },
  {
   "cell_type": "code",
   "execution_count": null,
   "id": "d2050153",
   "metadata": {},
   "outputs": [],
   "source": [
    "with open(\n",
    "    PATH[\"data_out\"] + \"loopcensus_\" + str(LOOP_NUMNODE_BOUND) + \".pkl\", \"wb\"\n",
    ") as f:\n",
    "    pickle.dump(allloops, f)\n",
    "    pickle.dump(alllooplengths, f)\n",
    "    pickle.dump(allloopnumnodes, f)\n",
    "    pickle.dump(allloopmaxslopes, f)\n",
    "    pickle.dump(G, f)\n",
    "    pickle.dump(LOOP_NUMNODE_BOUND, f)\n",
    "    pickle.dump(nodes_id, f)\n",
    "    pickle.dump(nodes_coords, f)\n",
    "    pickle.dump(numloops, f)\n",
    "    pickle.dump(faceloops, f)"
   ]
  },
  {
   "cell_type": "code",
   "execution_count": null,
   "id": "53dadfb8-28ed-42eb-94df-a700b336cb80",
   "metadata": {},
   "outputs": [],
   "source": [
    "# bit too slow\n",
    "# with lzma.open(PATH[\"data_out\"] + \"loopcensus_\" + str(LOOP_NUMNODE_BOUND) + \".xz\", \"wb\") as f:\n",
    "#     pickle.dump(allloops, f)\n",
    "#     pickle.dump(alllooplengths, f)\n",
    "#     pickle.dump(allloopnumnodes, f)\n",
    "#     pickle.dump(allloopmaxslopes, f)\n",
    "#     pickle.dump(G, f)\n",
    "#     pickle.dump(LOOP_NUMNODE_BOUND, f)\n",
    "#     pickle.dump(nodes_id, f)\n",
    "#     pickle.dump(nodes_coords, f)\n",
    "#     pickle.dump(numloops, f)\n",
    "#     pickle.dump(faceloops, f)"
   ]
  }
 ],
 "metadata": {
  "kernelspec": {
   "display_name": "bikenwloops",
   "language": "python",
   "name": "bikenwloops"
  },
  "language_info": {
   "codemirror_mode": {
    "name": "ipython",
    "version": 3
   },
   "file_extension": ".py",
   "mimetype": "text/x-python",
   "name": "python",
   "nbconvert_exporter": "python",
   "pygments_lexer": "ipython3",
   "version": "3.12.2"
  }
 },
 "nbformat": 4,
 "nbformat_minor": 5
}
