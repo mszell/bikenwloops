{
 "cells": [
  {
   "cell_type": "markdown",
   "id": "2e582dfd",
   "metadata": {},
   "source": [
    "# 01. Create loop census\n",
    "## Project: Bicycle node network loop analysis"
   ]
  },
  {
   "cell_type": "markdown",
   "id": "2bc9b960",
   "metadata": {},
   "source": [
    "This notebook creates a loop census from the input data set and calculates/plots basic descriptive statistics.\n",
    "\n",
    "Contact: Michael Szell (michael.szell@gmail.com)\n",
    "\n",
    "Created: 2024-01-24  \n",
    "Last modified: 2024-02-19  "
   ]
  },
  {
   "cell_type": "markdown",
   "id": "5126c030",
   "metadata": {},
   "source": [
    "## To do"
   ]
  },
  {
   "cell_type": "markdown",
   "id": "5faeedc4",
   "metadata": {},
   "source": [
    "* Double-check loop/link lengths. For example 3-loop east of Faxe\n",
    "* Double-check edge_ids during simplifications\n",
    "* X Snap POIs to the original link geometries, within a threshold\n",
    "* X Incorporate gradients\n",
    "* X Add loop permutations for node-based analysis\n",
    "* X Drop non-main nodes\n",
    "* X Drop loops (they are really dangling links)\n",
    "* X Find all simple loops (bounded?-max length?) with networkX"
   ]
  },
  {
   "cell_type": "markdown",
   "id": "7c3308b0",
   "metadata": {},
   "source": [
    "## Parameters"
   ]
  },
  {
   "cell_type": "code",
   "execution_count": null,
   "id": "d06672f1",
   "metadata": {},
   "outputs": [],
   "source": [
    "loop_numnode_bound = 30  # From 30 it starts getting slow\n",
    "faceloop_limit = [15000,30000]  # 90% of face loop lengths should conform to these length limits [m]\n",
    "link_limit = [1000,5000,10000] # Optimal length between first and second value, maximal length the last value\n",
    "maxslope_limit = 6\n",
    "snap_threshold = 100  # Threshold to snap POIs to network links [m]\n",
    "\n",
    "PATH = {\n",
    "    \"data_in_network\": \"../data/input/faxe/network/\",\n",
    "    \"data_in_pois\": \"../data/input/faxe/pois/\",\n",
    "    \"data_out\": \"../data/processed/faxe/\",\n",
    "    \"plot\": \"../plots/faxe/\"\n",
    "}"
   ]
  },
  {
   "cell_type": "markdown",
   "id": "5d0a7b7f",
   "metadata": {},
   "source": [
    "## Imports"
   ]
  },
  {
   "cell_type": "code",
   "execution_count": null,
   "id": "f81d35c7",
   "metadata": {},
   "outputs": [],
   "source": [
    "import geopandas as gpd\n",
    "import igraph as ig\n",
    "import matplotlib.pyplot as plt\n",
    "import numpy as np\n",
    "import networkx as nx\n",
    "from functools import reduce\n",
    "import pickle \n",
    "from random import seed, random"
   ]
  },
  {
   "cell_type": "markdown",
   "id": "876e2b5b",
   "metadata": {},
   "source": [
    "## Functions"
   ]
  },
  {
   "cell_type": "code",
   "execution_count": null,
   "id": "54eee093-c956-4804-8add-6a4f41a86cb9",
   "metadata": {},
   "outputs": [],
   "source": [
    "%run -i functions.py"
   ]
  },
  {
   "cell_type": "markdown",
   "id": "06c9f290",
   "metadata": {},
   "source": [
    "## Processing data"
   ]
  },
  {
   "cell_type": "markdown",
   "id": "bcd4d066",
   "metadata": {},
   "source": [
    "### Load data"
   ]
  },
  {
   "cell_type": "code",
   "execution_count": null,
   "id": "cf6ab763",
   "metadata": {},
   "outputs": [],
   "source": [
    "edges = gpd.read_file(PATH['data_in_network'] + 'edges_slope.gpkg')\n",
    "edges_orig = edges # Make a deep copy to save the geometries\n",
    "nodes = gpd.read_file(PATH['data_in_network'] + 'nodes_edges_parallel.gpkg')\n",
    "# Set CRS\n",
    "edges.set_crs('epsg:25832')\n",
    "nodes.set_crs('epsg:25832');"
   ]
  },
  {
   "cell_type": "code",
   "execution_count": null,
   "id": "cb292f8c",
   "metadata": {},
   "outputs": [],
   "source": [
    "edges.head()"
   ]
  },
  {
   "cell_type": "code",
   "execution_count": null,
   "id": "111873d6",
   "metadata": {},
   "outputs": [],
   "source": [
    "nodes.head()"
   ]
  },
  {
   "cell_type": "code",
   "execution_count": null,
   "id": "39e4ccb8",
   "metadata": {},
   "outputs": [],
   "source": [
    "nodes_id = list(nodes.id)\n",
    "nodes_x = list(nodes.geometry.x)\n",
    "nodes_y = list(nodes.geometry.y)\n",
    "nodes_coords = list(zip(NormalizeData(nodes_x), NormalizeData(nodes_y)))"
   ]
  },
  {
   "cell_type": "code",
   "execution_count": null,
   "id": "70d16eda",
   "metadata": {},
   "outputs": [],
   "source": [
    "# Rename length to weight for igraph\n",
    "edges = edges.rename(columns={\"length\": \"weight\"})\n",
    "# Drop unused columns\n",
    "used_columns = {\"u\":(), \"v\":(), \"weight\":(), \"max_slope\":(), \"edge_id\":()}\n",
    "for c_name, _ in edges.items():\n",
    "    if c_name not in used_columns:\n",
    "        del edges[c_name]\n",
    "\n",
    "# Reorder columns\n",
    "edges = edges[['u','v','weight','max_slope','edge_id']]\n",
    "edges"
   ]
  },
  {
   "cell_type": "markdown",
   "id": "a2a75e67",
   "metadata": {},
   "source": [
    "### Turn into igraph object"
   ]
  },
  {
   "cell_type": "code",
   "execution_count": null,
   "id": "67408e36",
   "metadata": {},
   "outputs": [],
   "source": [
    "G = ig.Graph.TupleList(edges.itertuples(index=False), directed=False, weights=False, edge_attrs = ['weight', 'max_slope', 'edge_id'])"
   ]
  },
  {
   "cell_type": "code",
   "execution_count": null,
   "id": "cdd2b50f",
   "metadata": {},
   "outputs": [],
   "source": [
    "G.summary()"
   ]
  },
  {
   "cell_type": "code",
   "execution_count": null,
   "id": "ef36979d",
   "metadata": {},
   "outputs": [],
   "source": [
    "# Plot to double-check\n",
    "plotCheck(G, nodes_id, nodes_coords);"
   ]
  },
  {
   "cell_type": "markdown",
   "id": "11803118",
   "metadata": {},
   "source": [
    "### Drop self-loops"
   ]
  },
  {
   "cell_type": "markdown",
   "id": "39599aef",
   "metadata": {},
   "source": [
    "They are really dangling links which go outside the region, were mistakenly connected to themselves."
   ]
  },
  {
   "cell_type": "code",
   "execution_count": null,
   "id": "a6b2dc9d",
   "metadata": {},
   "outputs": [],
   "source": [
    "G.simplify(multiple=True, loops=True, combine_edges=dict(weight=min, max_slope=max, edge_id=min));"
   ]
  },
  {
   "cell_type": "code",
   "execution_count": null,
   "id": "3ae13704",
   "metadata": {},
   "outputs": [],
   "source": [
    "# Plot to double-check\n",
    "plotCheck(G, nodes_id, nodes_coords);"
   ]
  },
  {
   "cell_type": "markdown",
   "id": "710975c4",
   "metadata": {},
   "source": [
    "### Drop dangling nodes"
   ]
  },
  {
   "cell_type": "code",
   "execution_count": null,
   "id": "3279f51f",
   "metadata": {},
   "outputs": [],
   "source": [
    "# Source: https://codereview.stackexchange.com/questions/284246/deletion-of-nodes-of-degree-1-from-a-python-igraph-graph\n",
    "vertices = {v for v in G.vs.select(_degree_le=1)}\n",
    "needs_to_be_checked = set(vertices)\n",
    "while needs_to_be_checked:\n",
    "    vertex = needs_to_be_checked.pop()\n",
    "    for n_vertex in vertex.neighbors():\n",
    "        if n_vertex in vertices \\\n",
    "                or sum(1 for v in n_vertex.neighbors() if v not in vertices) > 1:\n",
    "            continue\n",
    "        vertices.add(n_vertex)\n",
    "        needs_to_be_checked.add(n_vertex)\n",
    "G.delete_vertices(vertices)"
   ]
  },
  {
   "cell_type": "code",
   "execution_count": null,
   "id": "89a09ffc",
   "metadata": {},
   "outputs": [],
   "source": [
    "# Plot to double-check\n",
    "plotCheck(G, nodes_id, nodes_coords);"
   ]
  },
  {
   "cell_type": "markdown",
   "id": "9f555e54",
   "metadata": {},
   "source": [
    "### Drop degree 2 nodes"
   ]
  },
  {
   "cell_type": "markdown",
   "id": "e4664f3a",
   "metadata": {},
   "source": [
    "This should include all non-ismain nodes."
   ]
  },
  {
   "cell_type": "code",
   "execution_count": null,
   "id": "6ca7071c",
   "metadata": {},
   "outputs": [],
   "source": [
    "nodes_nonismain = nodes.loc[nodes['ismain'] == 0]\n",
    "nodes_nonismain = nodes_nonismain['node_id'].to_list()\n",
    "# Turn to dict for fast finding\n",
    "nodes_nonismain = {nodes_nonismain[i]: True for i in range(len(nodes_nonismain))} "
   ]
  },
  {
   "cell_type": "code",
   "execution_count": null,
   "id": "e47cadff",
   "metadata": {},
   "outputs": [],
   "source": [
    "to_delete_ids = []\n",
    "\n",
    "# Unclear how to select nodes in igraph by name, so let's iterate through them\n",
    "for v in G.vs:\n",
    "#     if v[\"name\"] in nodes_nonismain and v.degree() == 2:\n",
    "    if v.degree() == 2:\n",
    "        # Remember node to delete\n",
    "        to_delete_ids.append(v.index)\n",
    "        # Add a new edge that combines the deleted ones\n",
    "        sumoflengths = v.incident()[0].attributes()[\"weight\"] + v.incident()[1].attributes()[\"weight\"]\n",
    "        maxofslopes = max([v.incident()[0].attributes()[\"max_slope\"], v.incident()[1].attributes()[\"max_slope\"]])\n",
    "        G.add_edge(v.neighbors()[0].index, v.neighbors()[1].index, weight=sumoflengths, max_slope=maxofslopes)\n",
    "\n",
    "G.delete_vertices(to_delete_ids)\n",
    "\n",
    "# Re-simplify\n",
    "G.simplify(multiple=True, loops=True, combine_edges=dict(weight=min, max_slope=max, edge_id=min));"
   ]
  },
  {
   "cell_type": "code",
   "execution_count": null,
   "id": "5ccfbc29",
   "metadata": {
    "tags": []
   },
   "outputs": [],
   "source": [
    "# Plot to double-check\n",
    "plotCheck(G, nodes_id, nodes_coords);"
   ]
  },
  {
   "cell_type": "markdown",
   "id": "127f6847-e27e-47c1-9417-23ebd4436993",
   "metadata": {},
   "source": [
    "### Add POIs"
   ]
  },
  {
   "cell_type": "markdown",
   "id": "4e2bbc07-b6bd-4b60-8ada-35f44bdd5d4d",
   "metadata": {},
   "source": [
    "Snap POIs to network"
   ]
  },
  {
   "cell_type": "code",
   "execution_count": null,
   "id": "b2886934-6313-4aaa-a057-dce9e1896920",
   "metadata": {},
   "outputs": [],
   "source": [
    "facilities = gpd.read_file(PATH['data_in_pois'] + 'facilities_within_reach_100.gpkg')\n",
    "facilities"
   ]
  },
  {
   "cell_type": "markdown",
   "id": "5f3760a9-efb8-4d37-bdee-25d2b7d75eeb",
   "metadata": {},
   "source": [
    "We just have a relatively small number of facilities and links, so it should be fine to just loop through all pairwise"
   ]
  },
  {
   "cell_type": "code",
   "execution_count": null,
   "id": "8b2bfa30-6686-4a39-86f3-8b21f5137be4",
   "metadata": {},
   "outputs": [],
   "source": [
    "for e in G.es:\n",
    "    e[\"has_water\"] = False\n",
    "    \n",
    "e_haswater = set()\n",
    "for findex, frow in facilities.iterrows():\n",
    "    d = 999999999999\n",
    "    eid = False\n",
    "    if frow['type']: # Can add conditions on type later\n",
    "        poi_this = frow['geometry']\n",
    "        for eindex, erow in edges_orig.iterrows(): \n",
    "            d_this = poi_this.distance(erow['geometry'])\n",
    "            if d_this < d and erow['edge_id'] in edges_orig['edge_id'].values:\n",
    "                d = d_this\n",
    "                eid = erow['edge_id']\n",
    "    if eid and d <= snap_threshold:\n",
    "        e_haswater.add(eid)\n",
    "        \n",
    "for e in G.es:\n",
    "    if e[\"edge_id\"] in e_haswater:\n",
    "        e[\"has_water\"] = True\n",
    "        "
   ]
  },
  {
   "cell_type": "code",
   "execution_count": null,
   "id": "8f35925f-5f39-47c8-89f8-5efb12287e6c",
   "metadata": {},
   "outputs": [],
   "source": [
    "# Alternatively, for testing, we could randomly populate the graph with a new edge property has_water\n",
    "# seed(10)\n",
    "# for e in G.es:\n",
    "#     e[\"has_water\"] = True if random() < 0.1 else False"
   ]
  },
  {
   "cell_type": "code",
   "execution_count": null,
   "id": "6714b0a9-6505-47d6-ae5d-f6a22f485039",
   "metadata": {},
   "outputs": [],
   "source": [
    "edge_colors = []\n",
    "for e in G.es:\n",
    "    if e[\"has_water\"]:\n",
    "        edge_colors.append(\"blue\")\n",
    "    else:\n",
    "        edge_colors.append(\"grey\")"
   ]
  },
  {
   "cell_type": "code",
   "execution_count": null,
   "id": "f5ccd77d-bc5e-4ce1-8263-819b604f6543",
   "metadata": {},
   "outputs": [],
   "source": [
    "fig = plotCheck(G, nodes_id, nodes_coords, vertex_size=7, edge_color=edge_colors)\n",
    "plt.text(0,0.04, \"Water links highlighted\");\n",
    "plt.tight_layout()"
   ]
  },
  {
   "cell_type": "markdown",
   "id": "bc5a1811",
   "metadata": {},
   "source": [
    "### Get minimal loop basis (=face loops)"
   ]
  },
  {
   "cell_type": "code",
   "execution_count": null,
   "id": "cfa8dd64",
   "metadata": {
    "scrolled": true
   },
   "outputs": [],
   "source": [
    "# https://python.igraph.org/en/latest/api/igraph.GraphBase.html#minimum_cycle_basis\n",
    "loopbasis = {}\n",
    "cid = 0\n",
    "for c in G.minimum_cycle_basis():\n",
    "    # Add some statistics\n",
    "    ws = [G.es(eid)['weight'] for eid in c]\n",
    "    loopbasis[cid] = {\"edges\": c, \"length\": sum(reduce(lambda a, b: a + b, ws)), \"numnodes\": len(c)}\n",
    "    cid += 1"
   ]
  },
  {
   "cell_type": "code",
   "execution_count": null,
   "id": "39e8e8e5",
   "metadata": {},
   "outputs": [],
   "source": [
    "# Show longest loop in minimal loop basis (last has most nodes)\n",
    "edge_colors = []\n",
    "for e in G.es:\n",
    "    if e.index in loopbasis[max(loopbasis.keys())][\"edges\"]:\n",
    "        edge_colors.append(\"red\")\n",
    "    else:\n",
    "        edge_colors.append(\"grey\")"
   ]
  },
  {
   "cell_type": "code",
   "execution_count": null,
   "id": "130f7f0d",
   "metadata": {},
   "outputs": [],
   "source": [
    "fig = plotCheck(G, nodes_id, nodes_coords, vertex_size=7, edge_color=edge_colors)\n",
    "plt.text(0,0.04, \"Longest face loop highlighted: \" + str(int(loopbasis[max(loopbasis.keys())][\"length\"]/1000)) + \"km\");\n",
    "plt.tight_layout()"
   ]
  },
  {
   "cell_type": "markdown",
   "id": "c8f07b37",
   "metadata": {},
   "source": [
    "Getting all simple loops has not yet been implemented in igraph, see:  \n",
    "* https://github.com/igraph/igraph/issues/379  \n",
    "* https://github.com/igraph/igraph/issues/1398  \n",
    "Some potential progress here, but only for C, not Python:\n",
    "* https://github.com/igraph/igraph/pull/2181\n",
    "\n",
    "But they can be XORed through the loop base.  "
   ]
  },
  {
   "cell_type": "markdown",
   "id": "8b714ef4",
   "metadata": {},
   "source": [
    "It has been implemented in networkX though: https://networkx.org/documentation/stable/reference/algorithms/generated/networkx.algorithms.cycles.simple_cycles.html#networkx.algorithms.cycles.simple_cycles"
   ]
  },
  {
   "cell_type": "markdown",
   "id": "cbbca691",
   "metadata": {},
   "source": [
    "Therefore, we do not use igraph's loop basis, but go ahead with networkX."
   ]
  },
  {
   "cell_type": "markdown",
   "id": "a1fee5e7",
   "metadata": {},
   "source": [
    "### Get all loops via nx"
   ]
  },
  {
   "cell_type": "code",
   "execution_count": null,
   "id": "6de93c17",
   "metadata": {},
   "outputs": [],
   "source": [
    "Gnx = G.to_networkx()"
   ]
  },
  {
   "cell_type": "code",
   "execution_count": null,
   "id": "9b6987ea",
   "metadata": {},
   "outputs": [],
   "source": [
    "# Get all unique loops, meaning a loop ABCA is counted only once and not as ABCA, BCAB, and CABC\n",
    "allloops_unique = {}\n",
    "nodes_done = set()\n",
    "numloops_unique = 0\n",
    "allloops_generator = nx.simple_cycles(Gnx, length_bound=loop_numnode_bound)\n",
    "for c in allloops_generator:\n",
    "    sourcenode = c[0]\n",
    "    c_length = getLoopLength(c)\n",
    "    c_max_slope = getLoopMaxSlope(c)\n",
    "    c_water = getLoopWaterProfile(c)\n",
    "    numloops_unique += 1\n",
    "    if sourcenode in nodes_done:\n",
    "        allloops_unique[sourcenode][\"loops\"].append(c)\n",
    "        allloops_unique[sourcenode][\"lengths\"].append(c_length)\n",
    "        allloops_unique[sourcenode][\"numnodes\"].append(len(c))\n",
    "        allloops_unique[sourcenode][\"max_slopes\"].append(c_max_slope)\n",
    "        allloops_unique[sourcenode][\"water_profile\"].append(c_water)\n",
    "    else:\n",
    "        allloops_unique[sourcenode] = {\"loops\": [c], \"lengths\": [c_length], \"numnodes\": [len(c)], \"max_slopes\": [c_max_slope], \"water_profile\": [c_water]}\n",
    "        nodes_done.add(sourcenode)\n",
    "print(\"Found \" + str(numloops_unique) + \" unique loops for length bound \" + str(loop_numnode_bound))"
   ]
  },
  {
   "cell_type": "code",
   "execution_count": null,
   "id": "5801d700",
   "metadata": {},
   "outputs": [],
   "source": [
    "# Get all loops, meaning a loop ABCA is counted also as ABCA, BCAB, and CABC\n",
    "allloops = {}\n",
    "nodes_done = set()\n",
    "numloops = 0\n",
    "allloops_generator = nx.simple_cycles(Gnx, length_bound=loop_numnode_bound)\n",
    "for c in allloops_generator:\n",
    "    sourcenode = c[0]\n",
    "    c_length = getLoopLength(c)\n",
    "    c_max_slope = getLoopMaxSlope(c)\n",
    "    c_water = getLoopWaterProfile(c)\n",
    "    for sourcenode in c:\n",
    "        numloops += 1\n",
    "        if sourcenode in nodes_done:\n",
    "            allloops[sourcenode][\"loops\"].append(c)\n",
    "            allloops[sourcenode][\"lengths\"].append(c_length)\n",
    "            allloops[sourcenode][\"numnodes\"].append(len(c))\n",
    "            allloops[sourcenode][\"max_slopes\"].append(c_max_slope)\n",
    "            allloops[sourcenode][\"water_profile\"].append(c_water)\n",
    "        else:\n",
    "            allloops[sourcenode] = {\"loops\": [c], \"lengths\": [c_length], \"numnodes\": [len(c)], \"max_slopes\": [c_max_slope], \"water_profile\": [c_water]}\n",
    "            nodes_done.add(sourcenode)\n",
    "print(\"Found \" + str(numloops) + \" loops for length bound \" + str(loop_numnode_bound))"
   ]
  },
  {
   "cell_type": "code",
   "execution_count": null,
   "id": "8e5b76cc",
   "metadata": {},
   "outputs": [],
   "source": [
    "alllooplengths = np.zeros(numloops)\n",
    "allloopnumnodes = np.zeros(numloops, dtype=int)\n",
    "allloopmaxslopes = np.zeros(numloops)\n",
    "i = 0\n",
    "for j in allloops:\n",
    "    l = len(allloops[j][\"lengths\"])\n",
    "    alllooplengths[i:i+l] = allloops[j][\"lengths\"]\n",
    "    allloopnumnodes[i:i+l] = allloops[j][\"numnodes\"]\n",
    "    allloopmaxslopes[i:i+l] = allloops[j][\"max_slopes\"]\n",
    "    i += l"
   ]
  },
  {
   "cell_type": "markdown",
   "id": "2881540e",
   "metadata": {},
   "source": [
    "## Descriptive network statistics"
   ]
  },
  {
   "cell_type": "markdown",
   "id": "233b978f",
   "metadata": {},
   "source": [
    "### Link lengths and max slopes"
   ]
  },
  {
   "cell_type": "code",
   "execution_count": null,
   "id": "d152ad9e",
   "metadata": {},
   "outputs": [],
   "source": [
    "linklengths = [e[\"weight\"] for e in G.es]\n",
    "linkmaxslopes = [e[\"max_slope\"] for e in G.es]\n",
    "fig = plt.figure(figsize=(8, 3))\n",
    "axes1 = fig.add_axes([0.08, 0.16, 0.4, 0.75])\n",
    "axes2 = fig.add_axes([0.58, 0.16, 0.4, 0.75])\n",
    "\n",
    "histxy = axes1.hist(linklengths, density=False)\n",
    "axes1.plot([link_limit[0],link_limit[0]], [0,max(histxy[0])], \":k\")\n",
    "axes1.plot([link_limit[1],link_limit[1]], [0,max(histxy[0])], \":k\")\n",
    "axes1.plot([link_limit[2],link_limit[2]], [0,max(histxy[0])], \":r\")\n",
    "indcond = [i for i,x in enumerate(linklengths) if (x >= link_limit[0] and x <= link_limit[1])]\n",
    "massinallowedrange = round(len(indcond)/len(linklengths)*100) # Should be high\n",
    "axes1.text((link_limit[0]+link_limit[1])/2, max(histxy[0]), str(massinallowedrange) + \"%\", horizontalalignment='center', verticalalignment='top')\n",
    "axes1.text(link_limit[0]*0.9, max(histxy[0]), str(round(len([i for i,x in enumerate(linklengths) if (x <= link_limit[0])])/len(linklengths)*100)) + \"%\", horizontalalignment='right', verticalalignment='top')\n",
    "axes1.text((link_limit[1]+link_limit[2])/2, max(histxy[0]), str(round(len([i for i,x in enumerate(linklengths) if (x >= link_limit[1] and x <= link_limit[2])])/len(linklengths)*100)) + \"%\", horizontalalignment='center', verticalalignment='top')\n",
    "axes1.text(link_limit[2]*1.01, max(histxy[0]), str(round(len([i for i,x in enumerate(linklengths) if (x > link_limit[2])])/len(linklengths)*100)) + \"%\", horizontalalignment='left', verticalalignment='top', color=\"red\")\n",
    "\n",
    "axes1.set_xlabel('Length [m]')\n",
    "axes1.set_ylabel('Frequency')\n",
    "axes1.set_title('Link lengths')\n",
    "\n",
    "histxy = axes2.hist(linkmaxslopes, density=False)\n",
    "axes2.plot([maxslope_limit,maxslope_limit], [0,max(histxy[0])], \":r\")\n",
    "axes2.text(maxslope_limit*0.95, max(histxy[0]), str(round(len([i for i,x in enumerate(linkmaxslopes) if (x < maxslope_limit)])/len(linkmaxslopes)*100)) + \"%\", horizontalalignment='right', verticalalignment='top')\n",
    "axes2.text(maxslope_limit*1.05, max(histxy[0]), str(round(len([i for i,x in enumerate(linkmaxslopes) if (x >= maxslope_limit)])/len(linkmaxslopes)*100)) + \"%\", horizontalalignment='left', verticalalignment='top', color=\"red\")\n",
    "axes2.set_xlabel('Max slope [%]')\n",
    "axes2.set_ylabel('')\n",
    "axes2.set_title('Link max slopes');\n",
    "\n",
    "fig.savefig(PATH[\"plot\"] + \"linkstats\")"
   ]
  },
  {
   "cell_type": "markdown",
   "id": "740567f2",
   "metadata": {},
   "source": [
    "### Loop lengths"
   ]
  },
  {
   "cell_type": "code",
   "execution_count": null,
   "id": "74214e96",
   "metadata": {
    "scrolled": true
   },
   "outputs": [],
   "source": [
    "fig = plt.figure(figsize=(8, 3))\n",
    "axes1 = fig.add_axes([0.1, 0.1, 0.35, 0.8])\n",
    "axes2 = fig.add_axes([0.55, 0.1, 0.35, 0.8])\n",
    "\n",
    "axes1.hist(alllooplengths, density=True)\n",
    "axes1.set_xlabel('Length [m]')\n",
    "axes1.set_ylabel('Probability')\n",
    "axes1.set_title('Loop lengths')\n",
    "\n",
    "axes2.hist(allloopnumnodes, density=True, bins=list(range(loop_numnode_bound+1)))\n",
    "axes2.set_xlabel('Nodes')\n",
    "axes2.set_title('Nodes per loop')\n",
    "axes2.set_xlim([0, loop_numnode_bound+0.5])\n",
    "\n",
    "plt.text(loop_numnode_bound/20,0.01, \"Bound: \" + str(loop_numnode_bound))\n",
    "plt.text(loop_numnode_bound/20,0.04, \"Loops: \" + str(numloops));"
   ]
  },
  {
   "cell_type": "code",
   "execution_count": null,
   "id": "9ec8a657",
   "metadata": {
    "scrolled": true
   },
   "outputs": [],
   "source": [
    "fig = plt.figure(figsize=(8, 3))\n",
    "axes1 = fig.add_axes([0.08, 0.16, 0.4, 0.75])\n",
    "axes2 = fig.add_axes([0.58, 0.16, 0.4, 0.75])\n",
    "\n",
    "facelooplengths = [c[\"length\"] for c in loopbasis.values()]\n",
    "\n",
    "histxy = axes1.hist(facelooplengths, density=False)\n",
    "axes1.set_xlabel('Length [m]')\n",
    "axes1.set_ylabel('Frequency')\n",
    "axes1.set_title('Face loop lengths')\n",
    "axes1.plot([faceloop_limit[0],faceloop_limit[0]], [0,max(histxy[0])], \":k\")\n",
    "axes1.plot([faceloop_limit[1],faceloop_limit[1]], [0,max(histxy[0])], \":r\")\n",
    "axes1.text((faceloop_limit[0]+faceloop_limit[1])/2, max(histxy[0]), str(round(len([i for i,x in enumerate(facelooplengths) if (x >= faceloop_limit[0] and x <= faceloop_limit[1])])/len(facelooplengths)*100)) + \"%\", horizontalalignment='center', verticalalignment='top')\n",
    "axes1.text(faceloop_limit[0]*0.95, max(histxy[0]), str(round(len([i for i,x in enumerate(facelooplengths) if (x < faceloop_limit[0])])/len(facelooplengths)*100)) + \"%\", horizontalalignment='right', verticalalignment='top')\n",
    "axes1.text(faceloop_limit[1]*1.01, max(histxy[0]), str(round(len([i for i,x in enumerate(facelooplengths) if (x > faceloop_limit[1])])/len(facelooplengths)*100)) + \"%\", horizontalalignment='left', verticalalignment='top', color=\"red\")\n",
    "\n",
    "axes2.hist([c[\"numnodes\"] for c in loopbasis.values()], density=False)\n",
    "axes2.set_xlabel('Nodes')\n",
    "axes2.set_title('Face loop nodes');\n",
    "\n",
    "fig.savefig(PATH[\"plot\"] + \"faceloopstats\")"
   ]
  },
  {
   "cell_type": "code",
   "execution_count": null,
   "id": "703c4c3e",
   "metadata": {},
   "outputs": [],
   "source": [
    "histxy[0][min(indcond):max(indcond)+1]"
   ]
  },
  {
   "cell_type": "code",
   "execution_count": null,
   "id": "24697b11",
   "metadata": {},
   "outputs": [],
   "source": [
    "# Show face loops that conform to the length thresholds\n",
    "okedges = set()\n",
    "for c in loopbasis.values():\n",
    "    if c[\"length\"] >= faceloop_limit[0] and c[\"length\"] <= faceloop_limit[1]:\n",
    "        okedges = okedges.union(set(c[\"edges\"]))\n",
    "\n",
    "edge_colors = []\n",
    "for e in G.es:\n",
    "    if e.index in okedges:\n",
    "        edge_colors.append(\"green\")\n",
    "    else:\n",
    "        edge_colors.append(\"grey\")"
   ]
  },
  {
   "cell_type": "code",
   "execution_count": null,
   "id": "33fdb5b2",
   "metadata": {
    "scrolled": true
   },
   "outputs": [],
   "source": [
    "fig = plotCheck(G, nodes_id, nodes_coords, vertex_size=7, edge_color=edge_colors)\n",
    "plt.text(0,0.04, \"Conforming face loops highlighted\")\n",
    "plt.tight_layout()"
   ]
  },
  {
   "cell_type": "markdown",
   "id": "0bd274d8",
   "metadata": {},
   "source": [
    "## Save loop census"
   ]
  },
  {
   "cell_type": "code",
   "execution_count": null,
   "id": "d2050153",
   "metadata": {},
   "outputs": [],
   "source": [
    "with open(PATH['data_out'] + 'loopcensus_'+str(loop_numnode_bound)+'.pkl', 'wb') as f:\n",
    "    pickle.dump(allloops, f)\n",
    "    pickle.dump(alllooplengths, f)\n",
    "    pickle.dump(allloopnumnodes, f)\n",
    "    pickle.dump(allloopmaxslopes, f)\n",
    "    pickle.dump(G, f)\n",
    "    pickle.dump(loop_numnode_bound, f)\n",
    "    pickle.dump(nodes_id, f)\n",
    "    pickle.dump(nodes_coords, f)\n",
    "    pickle.dump(numloops, f)\n",
    "    pickle.dump(loopbasis, f)"
   ]
  }
 ],
 "metadata": {
  "kernelspec": {
   "display_name": "cycreg",
   "language": "python",
   "name": "cycreg"
  },
  "language_info": {
   "codemirror_mode": {
    "name": "ipython",
    "version": 3
   },
   "file_extension": ".py",
   "mimetype": "text/x-python",
   "name": "python",
   "nbconvert_exporter": "python",
   "pygments_lexer": "ipython3",
   "version": "3.12.0"
  }
 },
 "nbformat": 4,
 "nbformat_minor": 5
}
