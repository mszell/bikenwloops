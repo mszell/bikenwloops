{
 "cells": [
  {
   "cell_type": "markdown",
   "id": "2e582dfd",
   "metadata": {},
   "source": [
    "# 01. Create loop inventory\n",
    "## Project: Bicycle node network loop analysis"
   ]
  },
  {
   "cell_type": "markdown",
   "id": "2bc9b960",
   "metadata": {},
   "source": [
    "This notebook creates a loop inventory from the input data set and calculates/plots basic descriptive statistics.\n",
    "\n",
    "Contact: Michael Szell (michael.szell@gmail.com)\n",
    "\n",
    "Created: 2024-01-24  \n",
    "Last modified: 2024-02-14  "
   ]
  },
  {
   "cell_type": "markdown",
   "id": "5126c030",
   "metadata": {},
   "source": [
    "## To do"
   ]
  },
  {
   "cell_type": "markdown",
   "id": "5faeedc4",
   "metadata": {},
   "source": [
    "* Double-check cycle/edge lengths. For example 3-cycle east of Faxe\n",
    "* X Incorporate gradients\n",
    "* X Add cycle permutations for node-based analysis\n",
    "* X Drop non-main nodes\n",
    "* X Drop loops (they are really dangling links)\n",
    "* X Find all simple cycles (bounded?-max length?) with networkX"
   ]
  },
  {
   "cell_type": "markdown",
   "id": "7c3308b0",
   "metadata": {},
   "source": [
    "## Parameters"
   ]
  },
  {
   "cell_type": "code",
   "execution_count": null,
   "id": "d06672f1",
   "metadata": {},
   "outputs": [],
   "source": [
    "cycle_numnode_bound = 30  # From 30 it starts getting slow\n",
    "\n",
    "PATH = {\n",
    "    \"data_in\": \"../data/input/faxe/network/\",\n",
    "    \"data_out\": \"../data/processed/faxe/\"\n",
    "}"
   ]
  },
  {
   "cell_type": "markdown",
   "id": "5d0a7b7f",
   "metadata": {},
   "source": [
    "## Imports"
   ]
  },
  {
   "cell_type": "code",
   "execution_count": null,
   "id": "f81d35c7",
   "metadata": {},
   "outputs": [],
   "source": [
    "import geopandas as gpd\n",
    "import igraph as ig\n",
    "import matplotlib.pyplot as plt\n",
    "import numpy as np\n",
    "import networkx as nx\n",
    "from functools import reduce\n",
    "import pickle "
   ]
  },
  {
   "cell_type": "markdown",
   "id": "876e2b5b",
   "metadata": {},
   "source": [
    "## Functions"
   ]
  },
  {
   "cell_type": "code",
   "execution_count": null,
   "id": "9a407c7e",
   "metadata": {},
   "outputs": [],
   "source": [
    "def NormalizeData(data):\n",
    "    return list((data - np.min(data)) / (np.max(data) - np.min(data)))\n",
    "\n",
    "def getLayout(G, nodes_id, nodes_coords):\n",
    "    named_vertex_list = G.vs()[\"name\"]\n",
    "    layout = []\n",
    "    for n in named_vertex_list:\n",
    "        pos = nodes_id.index(n)\n",
    "        layout.append(nodes_coords[pos])\n",
    "    return layout\n",
    "\n",
    "def plotCheck(G, nodes_id, nodes_coords, vertex_size = 6, edge_color=None):\n",
    "    fig, ax = plt.subplots()\n",
    "    layout = getLayout(G, nodes_id, nodes_coords)\n",
    "    if edge_color is None:\n",
    "        ig.plot(G, target=ax, vertex_size=vertex_size, layout=layout);\n",
    "    else:\n",
    "        ig.plot(G, target=ax, vertex_size=vertex_size, layout=layout, edge_color=edge_color);\n",
    "    return fig\n",
    "    \n",
    "def getCycleLength(c):\n",
    "    l = 0\n",
    "    cl = len(c)\n",
    "    for i in range(cl):\n",
    "        l += Gnx[c[i%cl]][c[(i+1)%cl]][\"weight\"]\n",
    "    return l\n",
    "\n",
    "def getCycleMaxSlope(c):\n",
    "    ms = 0\n",
    "    cl = len(c)\n",
    "    for i in range(cl):\n",
    "        ms = max([ms, Gnx[c[i%cl]][c[(i+1)%cl]][\"max_slope\"]])\n",
    "    return ms"
   ]
  },
  {
   "cell_type": "markdown",
   "id": "06c9f290",
   "metadata": {},
   "source": [
    "## Processing data"
   ]
  },
  {
   "cell_type": "markdown",
   "id": "bcd4d066",
   "metadata": {},
   "source": [
    "### Load data"
   ]
  },
  {
   "cell_type": "code",
   "execution_count": null,
   "id": "cf6ab763",
   "metadata": {},
   "outputs": [],
   "source": [
    "edges = gpd.read_file(PATH['data_in'] + 'edges_slope.gpkg')\n",
    "nodes = gpd.read_file(PATH['data_in'] + 'nodes_edges_parallel.gpkg')\n",
    "# Set CRS\n",
    "edges.set_crs('epsg:25832')\n",
    "nodes.set_crs('epsg:25832');"
   ]
  },
  {
   "cell_type": "code",
   "execution_count": null,
   "id": "cb292f8c",
   "metadata": {},
   "outputs": [],
   "source": [
    "edges.head()"
   ]
  },
  {
   "cell_type": "code",
   "execution_count": null,
   "id": "111873d6",
   "metadata": {},
   "outputs": [],
   "source": [
    "nodes.head()"
   ]
  },
  {
   "cell_type": "code",
   "execution_count": null,
   "id": "39e4ccb8",
   "metadata": {},
   "outputs": [],
   "source": [
    "nodes_id = list(nodes.id)\n",
    "nodes_x = list(nodes.geometry.x)\n",
    "nodes_y = list(nodes.geometry.y)\n",
    "nodes_coords = list(zip(NormalizeData(nodes_x), NormalizeData(nodes_y)))"
   ]
  },
  {
   "cell_type": "code",
   "execution_count": null,
   "id": "70d16eda",
   "metadata": {},
   "outputs": [],
   "source": [
    "# Rename length to weight for igraph\n",
    "edges = edges.rename(columns={\"length\": \"weight\"})\n",
    "# Drop unused columns\n",
    "used_columns = {\"u\":(), \"v\":(), \"weight\":(), \"max_slope\":()}\n",
    "for c_name, _ in edges.items():\n",
    "    if c_name not in used_columns:\n",
    "        del edges[c_name]\n",
    "\n",
    "# Reorder columns\n",
    "edges = edges[['u','v','weight','max_slope']]"
   ]
  },
  {
   "cell_type": "markdown",
   "id": "a2a75e67",
   "metadata": {},
   "source": [
    "### Turn into igraph object"
   ]
  },
  {
   "cell_type": "code",
   "execution_count": null,
   "id": "67408e36",
   "metadata": {},
   "outputs": [],
   "source": [
    "G = ig.Graph.TupleList(edges.itertuples(index=False), directed=False, weights=False, edge_attrs = ['weight', 'max_slope'])"
   ]
  },
  {
   "cell_type": "code",
   "execution_count": null,
   "id": "cdd2b50f",
   "metadata": {},
   "outputs": [],
   "source": [
    "G.summary()"
   ]
  },
  {
   "cell_type": "code",
   "execution_count": null,
   "id": "ef36979d",
   "metadata": {},
   "outputs": [],
   "source": [
    "# Plot to double-check\n",
    "plotCheck(G, nodes_id, nodes_coords)"
   ]
  },
  {
   "cell_type": "markdown",
   "id": "11803118",
   "metadata": {},
   "source": [
    "### Drop self-loops"
   ]
  },
  {
   "cell_type": "markdown",
   "id": "39599aef",
   "metadata": {},
   "source": [
    "They are really dangling links which go outside the region, were mistakenly connected to themselves."
   ]
  },
  {
   "cell_type": "code",
   "execution_count": null,
   "id": "a6b2dc9d",
   "metadata": {},
   "outputs": [],
   "source": [
    "G.simplify(multiple=True, loops=True, combine_edges=dict(weight=min, max_slope=max));"
   ]
  },
  {
   "cell_type": "code",
   "execution_count": null,
   "id": "3ae13704",
   "metadata": {},
   "outputs": [],
   "source": [
    "# Plot to double-check\n",
    "plotCheck(G, nodes_id, nodes_coords)"
   ]
  },
  {
   "cell_type": "markdown",
   "id": "710975c4",
   "metadata": {},
   "source": [
    "### Drop dangling nodes"
   ]
  },
  {
   "cell_type": "code",
   "execution_count": null,
   "id": "3279f51f",
   "metadata": {},
   "outputs": [],
   "source": [
    "# Source: https://codereview.stackexchange.com/questions/284246/deletion-of-nodes-of-degree-1-from-a-python-igraph-graph\n",
    "vertices = {v for v in G.vs.select(_degree_le=1)}\n",
    "needs_to_be_checked = set(vertices)\n",
    "while needs_to_be_checked:\n",
    "    vertex = needs_to_be_checked.pop()\n",
    "    for n_vertex in vertex.neighbors():\n",
    "        if n_vertex in vertices \\\n",
    "                or sum(1 for v in n_vertex.neighbors() if v not in vertices) > 1:\n",
    "            continue\n",
    "        vertices.add(n_vertex)\n",
    "        needs_to_be_checked.add(n_vertex)\n",
    "G.delete_vertices(vertices)"
   ]
  },
  {
   "cell_type": "code",
   "execution_count": null,
   "id": "89a09ffc",
   "metadata": {
    "scrolled": false
   },
   "outputs": [],
   "source": [
    "# Plot to double-check\n",
    "plotCheck(G, nodes_id, nodes_coords)"
   ]
  },
  {
   "cell_type": "markdown",
   "id": "9f555e54",
   "metadata": {},
   "source": [
    "### Drop degree 2 nodes"
   ]
  },
  {
   "cell_type": "markdown",
   "id": "e4664f3a",
   "metadata": {},
   "source": [
    "This should include all non-ismain nodes."
   ]
  },
  {
   "cell_type": "code",
   "execution_count": null,
   "id": "6ca7071c",
   "metadata": {},
   "outputs": [],
   "source": [
    "nodes_nonismain = nodes.loc[nodes['ismain'] == 0]\n",
    "nodes_nonismain = nodes_nonismain['node_id'].to_list()\n",
    "# Turn to dict for fast finding\n",
    "nodes_nonismain = {nodes_nonismain[i]: True for i in range(len(nodes_nonismain))} "
   ]
  },
  {
   "cell_type": "code",
   "execution_count": null,
   "id": "e47cadff",
   "metadata": {},
   "outputs": [],
   "source": [
    "to_delete_ids = []\n",
    "\n",
    "# Unclear how to select nodes in igraph by name, so let's iterate through them\n",
    "for v in G.vs:\n",
    "#     if v[\"name\"] in nodes_nonismain and v.degree() == 2:\n",
    "    if v.degree() == 2:\n",
    "        # Remember node to delete\n",
    "        to_delete_ids.append(v.index)\n",
    "        # Add a new edge that combines the deleted ones\n",
    "        sumoflengths = v.incident()[0].attributes()[\"weight\"] + v.incident()[1].attributes()[\"weight\"]\n",
    "        maxofslopes = max([v.incident()[0].attributes()[\"max_slope\"], v.incident()[1].attributes()[\"max_slope\"]])\n",
    "        G.add_edge(v.neighbors()[0].index, v.neighbors()[1].index, weight=sumoflengths, max_slope=maxofslopes)\n",
    "\n",
    "G.delete_vertices(to_delete_ids)\n",
    "\n",
    "# Re-simplify\n",
    "G.simplify(multiple=True, loops=True, combine_edges=dict(weight=min, max_slope=max));"
   ]
  },
  {
   "cell_type": "code",
   "execution_count": null,
   "id": "5ccfbc29",
   "metadata": {},
   "outputs": [],
   "source": [
    "# Plot to double-check\n",
    "plotCheck(G, nodes_id, nodes_coords)"
   ]
  },
  {
   "cell_type": "markdown",
   "id": "bc5a1811",
   "metadata": {},
   "source": [
    "### Get minimal cycle basis (=face cycles)"
   ]
  },
  {
   "cell_type": "code",
   "execution_count": null,
   "id": "cfa8dd64",
   "metadata": {
    "scrolled": true
   },
   "outputs": [],
   "source": [
    "# https://python.igraph.org/en/latest/api/igraph.GraphBase.html#minimum_cycle_basis\n",
    "cyclebasis = {}\n",
    "cid = 0\n",
    "for c in G.minimum_cycle_basis():\n",
    "    # Add some statistics\n",
    "    ws = [G.es(eid)['weight'] for eid in c]\n",
    "    cyclebasis[cid] = {\"edges\": c, \"length\": sum(reduce(lambda a, b: a + b, ws)), \"numnodes\": len(c)}\n",
    "    cid += 1"
   ]
  },
  {
   "cell_type": "code",
   "execution_count": null,
   "id": "ae6e8770",
   "metadata": {},
   "outputs": [],
   "source": [
    "# Show longest cycle in minimal cycle basis (last has most nodes)\n",
    "edge_colors = []\n",
    "for e in G.es:\n",
    "    if e.index in cyclebasis[max(cyclebasis.keys())][\"edges\"]:\n",
    "        edge_colors.append(\"red\")\n",
    "    else:\n",
    "        edge_colors.append(\"grey\")"
   ]
  },
  {
   "cell_type": "code",
   "execution_count": null,
   "id": "630b615e",
   "metadata": {},
   "outputs": [],
   "source": [
    "fig = plotCheck(G, nodes_id, nodes_coords, vertex_size=6, edge_color=edge_colors)\n",
    "plt.text(0,0.04, \"Longest face loop highlighted: \" + str(int(cyclebasis[max(cyclebasis.keys())][\"length\"]/1000)) + \"km\");\n",
    "plt.tight_layout()"
   ]
  },
  {
   "cell_type": "markdown",
   "id": "c8f07b37",
   "metadata": {},
   "source": [
    "Getting all simple cycles has not yet been implemented in igraph, see:  \n",
    "* https://github.com/igraph/igraph/issues/379  \n",
    "* https://github.com/igraph/igraph/issues/1398  \n",
    "Some potential progress here, but only for C, not Python:\n",
    "* https://github.com/igraph/igraph/pull/2181\n",
    "\n",
    "But they can be XORed through the cycle base.  "
   ]
  },
  {
   "cell_type": "markdown",
   "id": "8b714ef4",
   "metadata": {},
   "source": [
    "It has been implemented in networkX though: https://networkx.org/documentation/stable/reference/algorithms/generated/networkx.algorithms.cycles.simple_cycles.html#networkx.algorithms.cycles.simple_cycles"
   ]
  },
  {
   "cell_type": "markdown",
   "id": "cbbca691",
   "metadata": {},
   "source": [
    "Therefore, we do not use igraph's cycle basis, but go ahead with networkX."
   ]
  },
  {
   "cell_type": "markdown",
   "id": "a1fee5e7",
   "metadata": {},
   "source": [
    "### Get all cycles via nx"
   ]
  },
  {
   "cell_type": "code",
   "execution_count": null,
   "id": "6de93c17",
   "metadata": {},
   "outputs": [],
   "source": [
    "Gnx = G.to_networkx()"
   ]
  },
  {
   "cell_type": "code",
   "execution_count": null,
   "id": "90bb6350",
   "metadata": {},
   "outputs": [],
   "source": [
    "# # Sanity checks\n",
    "# for (u, v, wt) in Gnx.edges.data('max_slope'):\n",
    "#     print(f\"({u}, {v}, {wt})\")"
   ]
  },
  {
   "cell_type": "code",
   "execution_count": null,
   "id": "9b6987ea",
   "metadata": {},
   "outputs": [],
   "source": [
    "allcycles_unique = {}\n",
    "nodes_done = set()\n",
    "numcycles_unique = 0\n",
    "allcycles_generator = nx.simple_cycles(Gnx, length_bound=cycle_numnode_bound)\n",
    "for c in allcycles_generator:\n",
    "    sourcenode = c[0]\n",
    "    c_length = getCycleLength(c)\n",
    "    c_max_slope = getCycleMaxSlope(c)\n",
    "    numcycles_unique += 1\n",
    "    if sourcenode in nodes_done:\n",
    "        allcycles_unique[sourcenode][\"cycles\"].append(c)\n",
    "        allcycles_unique[sourcenode][\"lengths\"].append(c_length)\n",
    "        allcycles_unique[sourcenode][\"numnodes\"].append(len(c))\n",
    "        allcycles_unique[sourcenode][\"max_slopes\"].append(c_max_slope)\n",
    "    else:\n",
    "        allcycles_unique[sourcenode] = {\"cycles\": [c], \"lengths\": [c_length], \"numnodes\": [len(c)], \"max_slopes\": [c_max_slope]}\n",
    "        nodes_done.add(sourcenode)\n",
    "print(\"Found \" + str(numcycles_unique) + \" unique cycles for length bound \" + str(cycle_numnode_bound))"
   ]
  },
  {
   "cell_type": "code",
   "execution_count": null,
   "id": "5801d700",
   "metadata": {},
   "outputs": [],
   "source": [
    "allcycles = {}\n",
    "nodes_done = set()\n",
    "numcycles = 0\n",
    "allcycles_generator = nx.simple_cycles(Gnx, length_bound=cycle_numnode_bound)\n",
    "for c in allcycles_generator:\n",
    "    sourcenode = c[0]\n",
    "    c_length = getCycleLength(c)\n",
    "    c_max_slope = getCycleMaxSlope(c)\n",
    "    for sourcenode in c:\n",
    "        numcycles += 1\n",
    "        if sourcenode in nodes_done:\n",
    "            allcycles[sourcenode][\"cycles\"].append(c)\n",
    "            allcycles[sourcenode][\"lengths\"].append(c_length)\n",
    "            allcycles[sourcenode][\"numnodes\"].append(len(c))\n",
    "            allcycles[sourcenode][\"max_slopes\"].append(c_max_slope)\n",
    "        else:\n",
    "            allcycles[sourcenode] = {\"cycles\": [c], \"lengths\": [c_length], \"numnodes\": [len(c)], \"max_slopes\": [c_max_slope]}\n",
    "            nodes_done.add(sourcenode)\n",
    "print(\"Found \" + str(numcycles) + \" cycles for length bound \" + str(cycle_numnode_bound))"
   ]
  },
  {
   "cell_type": "code",
   "execution_count": null,
   "id": "8e5b76cc",
   "metadata": {},
   "outputs": [],
   "source": [
    "allcyclelengths = np.zeros(numcycles)\n",
    "allcyclenumnodes = np.zeros(numcycles, dtype=int)\n",
    "allcyclemaxslopes = np.zeros(numcycles)\n",
    "i = 0\n",
    "for j in allcycles:\n",
    "    l = len(allcycles[j][\"lengths\"])\n",
    "    allcyclelengths[i:i+l] = allcycles[j][\"lengths\"]\n",
    "    allcyclenumnodes[i:i+l] = allcycles[j][\"numnodes\"]\n",
    "    allcyclemaxslopes[i:i+l] = allcycles[j][\"max_slopes\"]\n",
    "    i += l"
   ]
  },
  {
   "cell_type": "code",
   "execution_count": null,
   "id": "74214e96",
   "metadata": {
    "scrolled": true
   },
   "outputs": [],
   "source": [
    "fig = plt.figure(figsize=(8, 3))\n",
    "axes1 = fig.add_axes([0.1, 0.1, 0.35, 0.8])\n",
    "axes2 = fig.add_axes([0.55, 0.1, 0.35, 0.8])\n",
    "\n",
    "axes1.hist(allcyclelengths, density=True)\n",
    "axes1.set_xlabel('Length [m]')\n",
    "axes1.set_ylabel('Probability')\n",
    "axes1.set_title('Cycle lengths')\n",
    "\n",
    "axes2.hist(allcyclenumnodes, density=True, bins=list(range(cycle_numnode_bound+1)))\n",
    "axes2.set_xlabel('Nodes')\n",
    "axes2.set_title('Nodes per cycle')\n",
    "axes2.set_xlim([0, cycle_numnode_bound+0.5])\n",
    "\n",
    "plt.text(cycle_numnode_bound/20,0.01, \"Bound: \" + str(cycle_numnode_bound))\n",
    "plt.text(cycle_numnode_bound/20,0.04, \"Cycles: \" + str(numcycles));"
   ]
  },
  {
   "cell_type": "code",
   "execution_count": null,
   "id": "d0a75c85",
   "metadata": {},
   "outputs": [],
   "source": [
    "fig = plt.figure(figsize=(8, 3))\n",
    "axes1 = fig.add_axes([0.1, 0.1, 0.35, 0.8])\n",
    "axes2 = fig.add_axes([0.55, 0.1, 0.35, 0.8])\n",
    "\n",
    "histxy = axes1.hist([c[\"length\"] for c in cyclebasis.values()], density=False)\n",
    "axes1.set_xlabel('Length [m]')\n",
    "axes1.set_ylabel('Frequency')\n",
    "axes1.set_title('Face cycle lengths')\n",
    "axes1.plot([15000,15000], [0,max(histxy[0])], \":k\")\n",
    "axes1.plot([30000,30000], [0,max(histxy[0])], \":k\")\n",
    "massinallowedrange = round(sum(histxy[0][-6:])/sum(histxy[0][:])*100) # Should be 90%\n",
    "axes1.text(22500, max(histxy[0]), str(massinallowedrange) + \"%\", horizontalalignment='center', verticalalignment='top')\n",
    "\n",
    "axes2.hist([c[\"numnodes\"] for c in cyclebasis.values()], density=False, bins=list(range(cycle_numnode_bound+1)))\n",
    "axes2.set_xlabel('Nodes')\n",
    "axes2.set_title('Nodes per face cycle');"
   ]
  },
  {
   "cell_type": "markdown",
   "id": "0bd274d8",
   "metadata": {},
   "source": [
    "## Save cycle inventory"
   ]
  },
  {
   "cell_type": "code",
   "execution_count": null,
   "id": "d2050153",
   "metadata": {},
   "outputs": [],
   "source": [
    "with open(PATH['data_out'] + 'cycleinventory_'+str(cycle_numnode_bound)+'.pkl', 'wb') as f:\n",
    "    pickle.dump(allcycles, f)\n",
    "    pickle.dump(allcyclelengths, f)\n",
    "    pickle.dump(allcyclenumnodes, f)\n",
    "    pickle.dump(allcyclemaxslopes, f)\n",
    "    pickle.dump(G, f)\n",
    "    pickle.dump(cycle_numnode_bound, f)\n",
    "    pickle.dump(nodes_id, f)\n",
    "    pickle.dump(nodes_coords, f)\n",
    "    pickle.dump(numcycles, f)"
   ]
  }
 ],
 "metadata": {
  "kernelspec": {
   "display_name": "cycreg",
   "language": "python",
   "name": "cycreg"
  },
  "language_info": {
   "codemirror_mode": {
    "name": "ipython",
    "version": 3
   },
   "file_extension": ".py",
   "mimetype": "text/x-python",
   "name": "python",
   "nbconvert_exporter": "python",
   "pygments_lexer": "ipython3",
   "version": "3.12.0"
  }
 },
 "nbformat": 4,
 "nbformat_minor": 5
}
