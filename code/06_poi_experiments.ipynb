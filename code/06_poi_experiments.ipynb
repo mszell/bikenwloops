{
 "cells": [
  {
   "cell_type": "markdown",
   "id": "2e582dfd",
   "metadata": {},
   "source": [
    "# 06. POI experiments, Denmark-wide\n",
    "## Project: Bicycle node network loop analysis"
   ]
  },
  {
   "cell_type": "markdown",
   "id": "2bc9b960",
   "metadata": {},
   "source": [
    "This notebook experiments with adding more POIs, creating new loop censuses, for scenario 2.  \n",
    "Please select `denmark` as the `study_area`, and `scenarioid: 2` in the `config.yml`.\n",
    "\n",
    "Contact: Michael Szell (michael.szell@gmail.com)\n",
    "\n",
    "Created: 2025-08-11  \n",
    "Last modified: 2025-08-14"
   ]
  },
  {
   "cell_type": "markdown",
   "id": "df341d08-873e-442c-9387-2a6581417b6f",
   "metadata": {},
   "source": [
    "### Experimental setups\n",
    "1. Add POIs to random nodes\n",
    "2. Add POIs to nodes in H3 grid cells with lowest water densities (q0.15)\n",
    "3. Add POIs to nodes in H3 grid cells with lowest loop density (q0.30 to get more nodes)\n",
    "4. Add POIs to nodes in H3 grid cells with highest node density (q0.10)\n",
    "5. Add POIs to nodes in H3 grid cells with lowest water densities (q0.5), and of those lowest loops (q0.5), and of those highest node density (q0.5).\n",
    "\n",
    "Setups are limited to different numbers of cells due to varying node densities. A POI added to a node will snap to all adjacent links.\n",
    "\n",
    "Performance metrics:  \n",
    "Compare results in the range baseline (no node gets a POI) --- best possible (all nodes get a POI)\n",
    "1. Increase the percent of zero-loop nodes (improvement from 29%)\n",
    "2. Decrease the number of cells with zero loop bits?"
   ]
  },
  {
   "cell_type": "markdown",
   "id": "5126c030",
   "metadata": {},
   "source": [
    "## To do"
   ]
  },
  {
   "cell_type": "markdown",
   "id": "74a91d1c-1102-49bb-a970-699eeb062b58",
   "metadata": {},
   "source": [
    "- [ ] Add systematically water to water deserts and measure loop increase (for family e-bike scenario only). Identify \"low hanging fruits\", \"biggest bang for the buck\"."
   ]
  },
  {
   "cell_type": "markdown",
   "id": "816924f7-7ddc-44a1-bcd7-fbf203a41b1d",
   "metadata": {},
   "source": [
    "## Parameters"
   ]
  },
  {
   "cell_type": "code",
   "execution_count": null,
   "id": "fb810d3b-192d-47d8-8d62-d699be65bcad",
   "metadata": {},
   "outputs": [],
   "source": [
    "%run -i setup_parameters.py\n",
    "load_data = True  # Set to False if data are huge and have already been loaded\n",
    "debug = True  # Set to True for extra plots and verbosity\n",
    "plt.style.use(PATH[\"parameters\"] + \"plotstyle.mplstyle\")"
   ]
  },
  {
   "cell_type": "code",
   "execution_count": null,
   "id": "b52367c6-7f2c-4ff5-b52a-65f22f3448a1",
   "metadata": {},
   "outputs": [],
   "source": [
    "try:  # See if allloops_dict exists. If not, initialize. This allows running multiple scenarios. Here we run only scenario 2 though.\n",
    "    allloops_dict\n",
    "except NameError:\n",
    "    allloops_dict = {}\n",
    "    dfunified_scenarios = {}\n",
    "allloops_dict[SCENARIOID] = {}"
   ]
  },
  {
   "cell_type": "code",
   "execution_count": null,
   "id": "9b986890-413c-43c3-a6fa-57ff87899f25",
   "metadata": {},
   "outputs": [],
   "source": [
    "print(\"Running scenario \" + str(SCENARIOID) + \" in \" + STUDY_AREA)\n",
    "for k, v in SCENARIO[SCENARIOID].items():\n",
    "    print(k + \": \" + str(v))"
   ]
  },
  {
   "cell_type": "code",
   "execution_count": null,
   "id": "65412754-5d90-4389-940f-1b45d77e3b12",
   "metadata": {},
   "outputs": [],
   "source": [
    "experiment_setups = {\n",
    "    \"random\": {},\n",
    "    \"waterprovision\": {},\n",
    "    \"loopbits\": {},\n",
    "    \"nodedensity\": {},\n",
    "    \"wplbnd\": {},\n",
    "}\n",
    "experiment_results = {\n",
    "    \"random\": {},\n",
    "    \"waterprovision\": {},\n",
    "    \"loopbits\": {},\n",
    "    \"nodedensity\": {},\n",
    "    \"wplbnd\": {},\n",
    "}\n",
    "addpoisnums = [1000]  # Number of POIs to add in each experiment\n",
    "runsperexperiment = 10  # Number of runs per experiment"
   ]
  },
  {
   "cell_type": "markdown",
   "id": "876e2b5b",
   "metadata": {},
   "source": [
    "## Functions"
   ]
  },
  {
   "cell_type": "code",
   "execution_count": null,
   "id": "9a407c7e",
   "metadata": {},
   "outputs": [],
   "source": [
    "%run -i functions.py"
   ]
  },
  {
   "cell_type": "markdown",
   "id": "31f469da-22c9-4db2-981d-08c89270ecd3",
   "metadata": {},
   "source": [
    "## Set up baseline data and targeted cells/nodes for experiments"
   ]
  },
  {
   "cell_type": "markdown",
   "id": "1f3a36de-4429-41f9-b770-4c84fbaea99f",
   "metadata": {},
   "source": [
    "### Load data"
   ]
  },
  {
   "cell_type": "code",
   "execution_count": null,
   "id": "36e2f0a3-cd11-4064-bea1-87264536211b",
   "metadata": {},
   "outputs": [],
   "source": [
    "if load_data:\n",
    "    if LOOP_LENGTH_BOUND:\n",
    "        llb_string = \"_maxlength\" + str(LOOP_LENGTH_BOUND)\n",
    "    else:\n",
    "        llb_string = \"\"\n",
    "\n",
    "    with open(\n",
    "        PATH[\"data_out\"]\n",
    "        + \"loopcensus_\"\n",
    "        + str(LOOP_NUMNODE_BOUND)\n",
    "        + llb_string\n",
    "        + \".pkl\",\n",
    "        \"rb\",\n",
    "    ) as f:\n",
    "        allloops = pickle.load(f)\n",
    "        alllooplengths = pickle.load(f)\n",
    "        allloopnumnodes = pickle.load(f)\n",
    "        allloopmaxslopes = pickle.load(f)\n",
    "        Gnx = pickle.load(f)\n",
    "        LOOP_NUMNODE_BOUND = pickle.load(f)\n",
    "        nodes_id = pickle.load(f)\n",
    "        nodes_coords = pickle.load(f)\n",
    "        numloops = pickle.load(f)\n",
    "        faceloops = pickle.load(f)"
   ]
  },
  {
   "cell_type": "code",
   "execution_count": null,
   "id": "ef77fa1e-9de2-4bc8-96ca-bda737eb8154",
   "metadata": {},
   "outputs": [],
   "source": [
    "# Create gdf and igraph versions\n",
    "nodes, edges = momepy.nx_to_gdf(net=Gnx, points=True, lines=True)\n",
    "nodes.set_crs(epsg=25832, inplace=True)\n",
    "edges.set_crs(epsg=25832, inplace=True)\n",
    "G = ig.Graph.from_networkx(Gnx)\n",
    "G.summary()"
   ]
  },
  {
   "cell_type": "code",
   "execution_count": null,
   "id": "22620a84-80e6-4508-b01d-086a7f869023",
   "metadata": {},
   "outputs": [],
   "source": [
    "pois_orig = load_pois()\n",
    "\n",
    "nodes_id = list(nodes.nodeID)\n",
    "nodes_x = list(nodes.geometry.x)\n",
    "nodes_y = list(nodes.geometry.y)\n",
    "nodes_coords = list(zip(normalize_data(nodes_x), normalize_data(nodes_y)))\n",
    "\n",
    "# POIs are snapped and edge attributes are updated later in each experiment"
   ]
  },
  {
   "cell_type": "markdown",
   "id": "12066253-661b-410b-b98c-99c9197ab6d2",
   "metadata": {},
   "source": [
    "### Loops"
   ]
  },
  {
   "cell_type": "markdown",
   "id": "d534a512-6ea6-45dc-af2c-cd9f1b3e8368",
   "metadata": {},
   "source": [
    "Restrictions:"
   ]
  },
  {
   "cell_type": "code",
   "execution_count": null,
   "id": "aba894a6-cbba-4f2b-9cd7-3bb0fbc81855",
   "metadata": {},
   "outputs": [],
   "source": [
    "allloops_dict[SCENARIOID][0] = restrict_scenario(allloops, allloops, level=0)\n",
    "allloops_dict[SCENARIOID][1] = restrict_scenario(\n",
    "    allloops, allloops_dict[SCENARIOID][0], level=1\n",
    ")\n",
    "allloops_dict[SCENARIOID][2] = restrict_scenario(\n",
    "    allloops, allloops_dict[SCENARIOID][1], level=2\n",
    ")"
   ]
  },
  {
   "cell_type": "markdown",
   "id": "3ac98f7b-be01-4df4-bfb3-727fe8e8780f",
   "metadata": {},
   "source": [
    "Get loop bits for each node:"
   ]
  },
  {
   "cell_type": "code",
   "execution_count": null,
   "id": "c40b7791-0c4c-4445-99d7-a569502e0c4d",
   "metadata": {},
   "outputs": [],
   "source": [
    "nodes_loopnum3 = nodes.drop(\n",
    "    columns=[\"name\", \"_igraph_index\", \"x\", \"y\", \"nodeID\"]\n",
    ")  # drop all data\n",
    "nodes_loopnum3.to_crs(epsg=4326, inplace=True)  # reproject for H3\n",
    "nodes_loopnum3[\"loopnum3\"] = get_vertex_loopnums(\n",
    "    allloops_dict[SCENARIOID][2], \"log2\"\n",
    ").tolist()"
   ]
  },
  {
   "cell_type": "markdown",
   "id": "2a4ce89f-60da-45a6-bc48-97aefb6c6f31",
   "metadata": {},
   "source": [
    "### H3 grids"
   ]
  },
  {
   "cell_type": "code",
   "execution_count": null,
   "id": "4e6601c6-883b-41b5-b2d8-aea3731d8896",
   "metadata": {},
   "outputs": [],
   "source": [
    "nodes_nodata = nodes.drop(\n",
    "    columns=[\"name\", \"_igraph_index\", \"x\", \"y\", \"nodeID\"]\n",
    ")  # drop all data\n",
    "nodes_nodata.to_crs(epsg=4326, inplace=True)  # reproject for H3\n",
    "if debug:\n",
    "    print(nodes_nodata.head())\n",
    "\n",
    "nodesh3 = nodes_nodata.assign(count=1).h3.geo_to_h3_aggregate(6)\n",
    "\n",
    "nodesh3.plot(column=\"count\", figsize=(5, 5), legend=True)\n",
    "plt.title(\"Node density\")\n",
    "plt.gca().axis(\"off\");"
   ]
  },
  {
   "cell_type": "code",
   "execution_count": null,
   "id": "80a04b19-0706-4ad6-ae4e-8e123ff797d9",
   "metadata": {},
   "outputs": [],
   "source": [
    "edgesh3 = edges.to_crs(epsg=25832)  # do geometric operations on projected CRS\n",
    "edgesh3[\"geometry\"] = edgesh3.geometry.centroid\n",
    "edgesh3.to_crs(epsg=4326, inplace=True)  # project back for H3\n",
    "\n",
    "edges_has_water = edgesh3[[\"weight\", \"has_water\", \"geometry\"]]\n",
    "edges_has_water[\"has_water\"] = edges_has_water[\"has_water\"].astype(\n",
    "    int\n",
    ")  # Turn True/False into 1/0\n",
    "\n",
    "wm = {\n",
    "    \"has_water\": lambda x: np.average(x, weights=edges_has_water.loc[x.index, \"weight\"])\n",
    "}\n",
    "edges_has_water_wmh3 = edges_has_water.h3.geo_to_h3_aggregate(6, wm)\n",
    "\n",
    "edges_has_water_wmh3.plot(column=\"has_water\", figsize=(5, 5), legend=True)\n",
    "plt.title(\"Has water (weighted)\")\n",
    "plt.gca().axis(\"off\");"
   ]
  },
  {
   "cell_type": "code",
   "execution_count": null,
   "id": "87c7a375-e347-415f-8c2e-046b5479f738",
   "metadata": {},
   "outputs": [],
   "source": [
    "nodes_loopnum3h3 = nodes_loopnum3.h3.geo_to_h3_aggregate(6, \"mean\")\n",
    "nodes_loopnum3h3.plot(column=\"loopnum3\", figsize=(5, 5), legend=True)\n",
    "plt.title(\"Average loop bits+1 (water restriction)\")\n",
    "plt.gca().axis(\"off\");"
   ]
  },
  {
   "cell_type": "markdown",
   "id": "f13e8d7b-5828-48bf-9cc7-61a7914089be",
   "metadata": {},
   "source": [
    "#### Join into one dataframe"
   ]
  },
  {
   "cell_type": "code",
   "execution_count": null,
   "id": "3dc2274a-6df9-47d5-b106-211aa73986f8",
   "metadata": {},
   "outputs": [],
   "source": [
    "gdfjoined = (\n",
    "    nodesh3.join(edges_has_water_wmh3.drop(columns=\"geometry\"))\n",
    "    .join(nodes_loopnum3h3.drop(columns=\"geometry\"))\n",
    "    .rename(\n",
    "        columns={\n",
    "            \"count\": \"Node density\",\n",
    "            \"has_water\": \"Water provision\",\n",
    "            \"loopnum3\": \"Loop bits\",\n",
    "        }\n",
    "    )\n",
    ")\n",
    "if debug:\n",
    "    print(gdfjoined.head())"
   ]
  },
  {
   "cell_type": "markdown",
   "id": "94f72bab-80ce-479a-be83-2fa3e04b2228",
   "metadata": {},
   "source": [
    "#### Create quantiles"
   ]
  },
  {
   "cell_type": "code",
   "execution_count": null,
   "id": "6e0fc690-8d35-4b68-a1ff-459a44bba532",
   "metadata": {},
   "outputs": [],
   "source": [
    "q = gdfjoined[\"Water provision\"].quantile([0.15, 0.5])  # Bottom 15% water provision\n",
    "q_wp15 = gdfjoined[gdfjoined[\"Water provision\"].le(q[0.15])]\n",
    "q_wp50 = gdfjoined[gdfjoined[\"Water provision\"].le(q[0.5])]\n",
    "\n",
    "q = gdfjoined[\"Loop bits\"].quantile([0.30])  # Bottom 30% loop bits\n",
    "q_lb30 = gdfjoined[gdfjoined[\"Loop bits\"].le(q[0.30])]\n",
    "\n",
    "q = gdfjoined[\"Node density\"].quantile([0.9])  # Top 10% node density\n",
    "q_nd10 = gdfjoined[gdfjoined[\"Node density\"].ge(q[0.9])]\n",
    "\n",
    "q = q_wp50[\"Loop bits\"].quantile([0.5])  # Bottom 50% loop bits\n",
    "q_wplb50 = q_wp50[q_wp50[\"Water provision\"].le(q[0.5])]\n",
    "q = q_wplb50[\"Node density\"].quantile([0.5])  # Top 50% node density\n",
    "q_wplbnd = q_wplb50[q_wplb50[\"Node density\"].ge(q[0.5])]\n",
    "\n",
    "# Clip to lengths to get similar node population, by smallest water provisions\n",
    "numcells = min(len(q_nd10), len(q_wp15), len(q_lb30), len(q_wplbnd))\n",
    "q_nd10 = q_nd10.nsmallest(n=int(numcells * 0.5), columns=[\"Water provision\"])\n",
    "q_wp15 = q_wp15.nsmallest(n=int(numcells * 1.5), columns=[\"Water provision\"])\n",
    "# q_lb15 = q_lb15.nsmallest(n=numcells, columns=[\"Water provision\"])\n",
    "q_wplbnd = q_wplbnd.nsmallest(n=int(numcells * 0.75), columns=[\"Water provision\"])"
   ]
  },
  {
   "cell_type": "markdown",
   "id": "82066c51-c049-4a42-88ea-2bf757dc3b38",
   "metadata": {},
   "source": [
    "Plot the targeted cells in each experimental setup (except random):"
   ]
  },
  {
   "cell_type": "code",
   "execution_count": null,
   "id": "9b82e36f-4ec6-4ccd-a511-9ae71b0edb01",
   "metadata": {
    "scrolled": true
   },
   "outputs": [],
   "source": [
    "fig, axes = plt.subplots(nrows=1, ncols=4, figsize=(20, 4))\n",
    "\n",
    "q_wp15.plot(column=\"Loop bits\", figsize=(5, 5), legend=True, ax=axes[1])\n",
    "axes[1].set_title(\"Loop bits+1, water provision q15\")\n",
    "axes[1].set_ylim([54.5, 57.8])\n",
    "axes[1].set_xlim([8, 12.8])\n",
    "\n",
    "q_lb30.plot(column=\"Loop bits\", figsize=(5, 5), legend=True, ax=axes[2])\n",
    "axes[2].set_title(\"Loop bits+1, loop bits q30\")\n",
    "axes[2].set_ylim([54.5, 57.8])\n",
    "axes[2].set_xlim([8, 12.8])\n",
    "\n",
    "q_nd10.plot(column=\"Loop bits\", figsize=(5, 5), legend=True, ax=axes[0])\n",
    "axes[0].set_title(\"Loop bits+1, node density q10\")\n",
    "axes[0].set_ylim([54.5, 57.8])\n",
    "axes[0].set_xlim([8, 12.8])\n",
    "\n",
    "q_wplbnd.plot(column=\"Loop bits\", figsize=(5, 5), legend=True, ax=axes[3])\n",
    "axes[3].set_title(\"Loop bits+1, wplbnd q50\")\n",
    "axes[3].set_ylim([54.5, 57.8])\n",
    "axes[3].set_xlim([8, 12.8]);"
   ]
  },
  {
   "cell_type": "code",
   "execution_count": null,
   "id": "7bf2ed39-72bb-40a7-ac91-f59f9a7d85f4",
   "metadata": {},
   "outputs": [],
   "source": [
    "experiment_setups[\"random\"][\"cellpopulation\"] = nodesh3\n",
    "experiment_setups[\"waterprovision\"][\"cellpopulation\"] = q_wp15\n",
    "experiment_setups[\"loopbits\"][\"cellpopulation\"] = q_lb30\n",
    "experiment_setups[\"nodedensity\"][\"cellpopulation\"] = q_nd10\n",
    "experiment_setups[\"wplbnd\"][\"cellpopulation\"] = q_wplbnd\n",
    "\n",
    "for k in (\n",
    "    experiment_setups.keys()\n",
    "):  # Determine node population: Select all nodes within cellpopulation\n",
    "    experiment_setups[k][\"nodepopulation\"] = nodes_nodata.within(\n",
    "        experiment_setups[k][\"cellpopulation\"].geometry.unary_union\n",
    "    )\n",
    "\n",
    "if debug:\n",
    "    for k in (\n",
    "        experiment_setups.keys()\n",
    "    ):  # True values show how many nodes are in each node population\n",
    "        print(k)\n",
    "        print(experiment_setups[k][\"nodepopulation\"].value_counts())\n",
    "        print(\"\")"
   ]
  },
  {
   "cell_type": "markdown",
   "id": "96c245a5-a1f8-49a3-ab23-96dadba3bf06",
   "metadata": {},
   "source": [
    "## Sample nodes for experiments"
   ]
  },
  {
   "cell_type": "markdown",
   "id": "c00d6ead-2e5e-42d3-b998-e2e998415c6e",
   "metadata": {},
   "source": [
    "Sampling:\n",
    "- Assume number of POIs to add is not larger than the number of nodes available in the targeted cells\n",
    "- Sample nodes randomly from the targeted grid cells (without replacement)"
   ]
  },
  {
   "cell_type": "code",
   "execution_count": null,
   "id": "48c5721b-f66d-4493-ade5-6e2366b4544d",
   "metadata": {},
   "outputs": [],
   "source": [
    "c = 0\n",
    "for experimentid in experiment_results.keys():\n",
    "    nodepop = experiment_setups[experimentid][\"nodepopulation\"].loc[\n",
    "        experiment_setups[experimentid][\"nodepopulation\"] == True\n",
    "    ]\n",
    "    for poistoadd in addpoisnums:\n",
    "        experiment_results[experimentid][poistoadd] = {\n",
    "            \"nodesamples\": [],  # This is a list of lists of the node indices that are sampled in each run\n",
    "            \"nodeloopnums\": [],  # This is a list of lists of the loop numbers found in each run\n",
    "        }\n",
    "        for run in range(runsperexperiment):\n",
    "            experiment_results[experimentid][poistoadd][\"nodesamples\"].append(\n",
    "                list(nodepop.sample(poistoadd, axis=\"index\").index)\n",
    "            )\n",
    "            c += 1\n",
    "print(\n",
    "    \"Sampled \"\n",
    "    + str(c)\n",
    "    + \" node populations for \"\n",
    "    + str(len(experiment_results.keys()))\n",
    "    + \" experiments.\"\n",
    ")"
   ]
  },
  {
   "cell_type": "markdown",
   "id": "723f08b5-5fb3-4607-9436-baaa488157d1",
   "metadata": {},
   "source": [
    "## Run experiments: Add POIs, snap POIs, generate loops"
   ]
  },
  {
   "cell_type": "markdown",
   "id": "7dd3e3f2-f5bb-41f3-8a5a-abcdf16f009c",
   "metadata": {},
   "source": [
    "Can take hours to days:"
   ]
  },
  {
   "cell_type": "markdown",
   "id": "abaecb0a-e319-4a63-9382-d71483d750a0",
   "metadata": {},
   "source": [
    "==== All code below not finished yet ===="
   ]
  },
  {
   "cell_type": "code",
   "execution_count": null,
   "id": "917ab80d-0674-4ec0-a221-7d8cb2914baf",
   "metadata": {},
   "outputs": [],
   "source": [
    "for experimentid in [\"wplbnd\"]:  # experiment_results.keys():\n",
    "    for poistoadd in addpoisnums:\n",
    "        for run in [0]:  # range(runsperexperiment):\n",
    "            # Step 1: Add additional POIs from node samples\n",
    "            nodesample = experiment_results[experimentid][poistoadd][\"nodesamples\"][run]\n",
    "            pois_new = gpd.GeoDataFrame(\n",
    "                geometry=gpd.GeoSeries(nodes.loc[nodesample][\"geometry\"])\n",
    "            )\n",
    "            pois_new[\"category\"] = \"facility\"\n",
    "            pois_merged = gpd.GeoDataFrame(\n",
    "                pd.concat([pois_orig, pois_new], ignore_index=True)\n",
    "            )\n",
    "\n",
    "            # Step 2: Snap POIs\n",
    "            edges[\"has_water\"] = False\n",
    "            edges[\"has_facility\"] = False\n",
    "            edges[\"has_service\"] = False\n",
    "            edges[\"has_attraction\"] = False\n",
    "            edges[\"poi_diversity\"] = 0\n",
    "            pois_snapped = snap_pois(pois_merged, edges)\n",
    "            edges = update_poi_attributes(edges, pois_snapped)\n",
    "            G = gdf_to_igraph(edges)\n",
    "            Gnx = nx.empty_graph()\n",
    "            Gnx = nx.disjoint_union(Gnx, G.to_networkx())\n",
    "\n",
    "            # Step 3: Generate loops\n",
    "            (\n",
    "                allloops,\n",
    "                alllooplengths,\n",
    "                allloopnumnodes,\n",
    "                allloopmaxslopes,\n",
    "            ) = get_allloops_nx(Gnx)\n",
    "\n",
    "            # Step 4: Restrict to water\n",
    "            try:  # See if allloops_dict exists. If not, initialize. This allows running multiple scenarios.\n",
    "                allloops_dict\n",
    "            except NameError:\n",
    "                allloops_dict = {}\n",
    "            allloops_dict[SCENARIOID] = {}\n",
    "\n",
    "            allloops_dict[SCENARIOID][0] = restrict_scenario(\n",
    "                allloops, allloops, level=0\n",
    "            )\n",
    "            allloops_dict[SCENARIOID][1] = restrict_scenario(\n",
    "                allloops, allloops_dict[SCENARIOID][0], level=1\n",
    "            )\n",
    "            allloops_dict[SCENARIOID][2] = restrict_scenario(\n",
    "                allloops, allloops_dict[SCENARIOID][1], level=2\n",
    "            )\n",
    "\n",
    "            # Step 5: Save relevant results\n",
    "            experiment_results[experimentid][poistoadd][\"nodeloopnums\"].append(\n",
    "                get_vertex_loopnums(allloops_dict[SCENARIOID][2])\n",
    "            )"
   ]
  },
  {
   "cell_type": "code",
   "execution_count": null,
   "id": "be0ba39d-f2e7-4ae0-8962-33e74e942976",
   "metadata": {},
   "outputs": [],
   "source": [
    "if LOOP_LENGTH_BOUND:\n",
    "    llb_string = \"_maxlength\" + str(LOOP_LENGTH_BOUND)\n",
    "else:\n",
    "    llb_string = \"\"\n",
    "\n",
    "with open(\n",
    "    PATH[\"data_out\"] + \"experiments_\" + str(LOOP_NUMNODE_BOUND) + llb_string + \".pkl\",\n",
    "    \"wb\",\n",
    ") as f:\n",
    "    pickle.dump(experiment_setups, f)\n",
    "    pickle.dump(experiment_results, f)"
   ]
  },
  {
   "cell_type": "markdown",
   "id": "ebc7da83-4125-4c3e-8a97-27b2113d110a",
   "metadata": {},
   "source": [
    "## Analyze experiment results"
   ]
  },
  {
   "cell_type": "code",
   "execution_count": null,
   "id": "8b983280-6f4b-4cde-9517-7635e2a1e312",
   "metadata": {},
   "outputs": [],
   "source": [
    "loopnums = np.array(experiment_results[experimentid][poistoadd][\"nodeloopnums\"])\n",
    "loopnums"
   ]
  },
  {
   "cell_type": "code",
   "execution_count": null,
   "id": "3a4a049e-4803-4ae2-acf5-d1c20cd577fd",
   "metadata": {},
   "outputs": [],
   "source": [
    "bit_threshold = 8\n",
    "ymaxconst = 7800\n",
    "\n",
    "fig = plt.figure(\n",
    "    figsize=(240 / PLOTPARAM[\"dpi\"], 240 / PLOTPARAM[\"dpi\"]),\n",
    "    dpi=PLOTPARAM[\"dpi\"],\n",
    ")\n",
    "xmax = bit_threshold + 2\n",
    "axes = fig.add_axes([0.1, 0.1, 0.8, 0.8])\n",
    "\n",
    "cmaparr = get_cmap(bit_threshold=bit_threshold)\n",
    "cmaparr = np.vstack((PLOTPARAM[\"color\"][\"noloop\"], cmaparr))\n",
    "\n",
    "loopnums = np.array(\n",
    "    experiment_results[experimentid][poistoadd][\"nodeloopnums\"]\n",
    ").flatten()\n",
    "\n",
    "N, bins, patches = axes.hist(\n",
    "    loopnums,\n",
    "    bins=list(np.linspace(0, xmax, xmax + 1)),\n",
    "    density=False,\n",
    "    linewidth=0.5,\n",
    ")\n",
    "print(N)\n",
    "\n",
    "patches[0].set_edgecolor(PLOTPARAM[\"color\"][\"neutral\"])\n",
    "for i in range(xmax):\n",
    "    patches[i].set_facecolor(cmaparr[i, :])\n",
    "\n",
    "n_upper_outliers = (loopnums > bit_threshold).sum()\n",
    "patches[-1].set_height(patches[-1].get_height() + n_upper_outliers)\n",
    "\n",
    "axes.text(\n",
    "    0.1,\n",
    "    (max(N) + n_upper_outliers) * 1.1 if not ymaxconst else ymaxconst * 0.985,\n",
    "    str(\n",
    "        round(\n",
    "            len([i for i, x in enumerate(loopnums) if (x == 0)]) / len(loopnums) * 100\n",
    "        )\n",
    "    )\n",
    "    + \"%\",\n",
    "    horizontalalignment=\"left\",\n",
    "    verticalalignment=\"top\",\n",
    "    color=PLOTPARAM[\"color\"][\"neutral\"],\n",
    ")\n",
    "axes.text(\n",
    "    xmax - 0.1,\n",
    "    (max(N) + n_upper_outliers) * 1.1 if not ymaxconst else ymaxconst * 0.985,\n",
    "    str(\n",
    "        round(\n",
    "            len([i for i, x in enumerate(loopnums) if (x >= bit_threshold)])\n",
    "            / len(loopnums)\n",
    "            * 100\n",
    "        )\n",
    "    )\n",
    "    + \"%\",\n",
    "    horizontalalignment=\"right\",\n",
    "    verticalalignment=\"top\",\n",
    "    color=cmaparr[-1, :],\n",
    ")\n",
    "\n",
    "axes.set_xlabel(\"Bits $2^b$\")\n",
    "axes.set_ylabel(\"Frequency\")\n",
    "axes.set_title(\"Loops per node\")\n",
    "axes.set_xticks([i + 0.5 for i in list(range(xmax))])\n",
    "axes.set_xticklabels([\"No\"] + [(str(i)) for i in list(range(xmax - 2))] + [\"8+\"])\n",
    "axes.set_xlim([0, xmax])\n",
    "\n",
    "if not ymaxconst:\n",
    "    axes.set_ylim([0, 1.12 * (max(N) + n_upper_outliers)])\n",
    "else:\n",
    "    axes.set_ylim([0, ymaxconst])"
   ]
  }
 ],
 "metadata": {
  "kernelspec": {
   "display_name": "bikenwloops",
   "language": "python",
   "name": "bikenwloops"
  },
  "language_info": {
   "codemirror_mode": {
    "name": "ipython",
    "version": 3
   },
   "file_extension": ".py",
   "mimetype": "text/x-python",
   "name": "python",
   "nbconvert_exporter": "python",
   "pygments_lexer": "ipython3",
   "version": "3.12.11"
  }
 },
 "nbformat": 4,
 "nbformat_minor": 5
}
