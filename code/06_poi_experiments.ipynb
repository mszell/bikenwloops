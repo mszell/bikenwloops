{
 "cells": [
  {
   "cell_type": "markdown",
   "id": "2e582dfd",
   "metadata": {},
   "source": [
    "# 06. POI experiments, Denmark-wide\n",
    "## Project: Bicycle node network loop analysis"
   ]
  },
  {
   "cell_type": "markdown",
   "id": "2bc9b960",
   "metadata": {},
   "source": [
    "This notebook experiments with adding more POIs, creating new loop censuses, for scenario 2.  \n",
    "Please select `denmark` as the `study_area`, and `scenarioid: 2` in the `config.yml`.\n",
    "\n",
    "Contact: Michael Szell (michael.szell@gmail.com)\n",
    "\n",
    "Created: 2025-08-11  \n",
    "Last modified: 2025-08-11"
   ]
  },
  {
   "cell_type": "markdown",
   "id": "5126c030",
   "metadata": {},
   "source": [
    "## To do"
   ]
  },
  {
   "cell_type": "markdown",
   "id": "74a91d1c-1102-49bb-a970-699eeb062b58",
   "metadata": {},
   "source": [
    "- [ ] Add systematically water to water deserts and measure loop increase (for family e-bike scenario only). Identify \"low hanging fruits\", \"biggest bang for the buck\"."
   ]
  },
  {
   "cell_type": "markdown",
   "id": "816924f7-7ddc-44a1-bcd7-fbf203a41b1d",
   "metadata": {},
   "source": [
    "## Parameters"
   ]
  },
  {
   "cell_type": "code",
   "execution_count": null,
   "id": "fb810d3b-192d-47d8-8d62-d699be65bcad",
   "metadata": {},
   "outputs": [],
   "source": [
    "%run -i setup_parameters.py\n",
    "load_data = True  # Set to False if data are huge and have already been loaded\n",
    "debug = False  # Set to True for extra plots and verbosity\n",
    "plt.style.use(PATH[\"parameters\"] + \"plotstyle.mplstyle\")"
   ]
  },
  {
   "cell_type": "code",
   "execution_count": null,
   "id": "9b986890-413c-43c3-a6fa-57ff87899f25",
   "metadata": {},
   "outputs": [],
   "source": [
    "print(\"Running scenario \" + str(SCENARIOID) + \" in \" + STUDY_AREA)\n",
    "for k, v in SCENARIO[SCENARIOID].items():\n",
    "    print(k + \": \" + str(v))"
   ]
  },
  {
   "cell_type": "markdown",
   "id": "876e2b5b",
   "metadata": {},
   "source": [
    "## Functions"
   ]
  },
  {
   "cell_type": "code",
   "execution_count": null,
   "id": "9a407c7e",
   "metadata": {},
   "outputs": [],
   "source": [
    "%run -i functions.py"
   ]
  },
  {
   "cell_type": "markdown",
   "id": "9b898889-32e0-4eb9-b39b-da385b8f4868",
   "metadata": {},
   "source": [
    "### Add POIs"
   ]
  },
  {
   "cell_type": "markdown",
   "id": "297db4be-740d-4c4c-a82d-1c265420a008",
   "metadata": {},
   "source": [
    "### Snap POIs"
   ]
  },
  {
   "cell_type": "markdown",
   "id": "62b8b4ff-02f6-496d-a6ea-9ad2e5a25d6e",
   "metadata": {},
   "source": [
    "### Generate loops"
   ]
  },
  {
   "cell_type": "markdown",
   "id": "ebc7da83-4125-4c3e-8a97-27b2113d110a",
   "metadata": {},
   "source": [
    "### Analysis"
   ]
  }
 ],
 "metadata": {
  "kernelspec": {
   "display_name": "bikenwloops",
   "language": "python",
   "name": "bikenwloops"
  },
  "language_info": {
   "codemirror_mode": {
    "name": "ipython",
    "version": 3
   },
   "file_extension": ".py",
   "mimetype": "text/x-python",
   "name": "python",
   "nbconvert_exporter": "python",
   "pygments_lexer": "ipython3",
   "version": "3.12.11"
  }
 },
 "nbformat": 4,
 "nbformat_minor": 5
}
