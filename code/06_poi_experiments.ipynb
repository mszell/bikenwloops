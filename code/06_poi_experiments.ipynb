{
 "cells": [
  {
   "cell_type": "markdown",
   "id": "2e582dfd",
   "metadata": {},
   "source": [
    "# 06. POI experiments, Denmark-wide\n",
    "## Project: Bicycle node network loop analysis"
   ]
  },
  {
   "cell_type": "markdown",
   "id": "2bc9b960",
   "metadata": {},
   "source": [
    "This notebook experiments with adding more POIs, creating new loop censuses, for scenario 2.  \n",
    "Please select `denmark` as the `study_area`, and `scenarioid: 2` in the `config.yml`.\n",
    "\n",
    "Contact: Michael Szell (michael.szell@gmail.com)\n",
    "\n",
    "Created: 2025-08-11  \n",
    "Last modified: 2025-08-12"
   ]
  },
  {
   "cell_type": "markdown",
   "id": "df341d08-873e-442c-9387-2a6581417b6f",
   "metadata": {},
   "source": [
    "### Experimental setups\n",
    "1. Add POIs to random nodes\n",
    "2. Add POIs to nodes in H3 grid cells with lowest water densities (q0.15)\n",
    "3. Add POIs to nodes in H3 grid cells with lowest loop density (q0.15)\n",
    "4. Add POIs to nodes in H3 grid cells with highest node density (q0.15)\n",
    "5. Add POIs to nodes in H3 grid cells with lowest water densities (q0.5), and of those lowest loops (q0.5), and of those highest node density (q0.5).\n",
    "\n",
    "All setups limited to the same number of cells.\n",
    "\n",
    "Performance metrics: \n",
    "1. Increase the percent of zero-loop nodes (improvement from 29%)\n",
    "2. Decrease the number of cells with zero loop bits?"
   ]
  },
  {
   "cell_type": "markdown",
   "id": "5126c030",
   "metadata": {},
   "source": [
    "## To do"
   ]
  },
  {
   "cell_type": "markdown",
   "id": "74a91d1c-1102-49bb-a970-699eeb062b58",
   "metadata": {},
   "source": [
    "- [ ] Add systematically water to water deserts and measure loop increase (for family e-bike scenario only). Identify \"low hanging fruits\", \"biggest bang for the buck\"."
   ]
  },
  {
   "cell_type": "markdown",
   "id": "816924f7-7ddc-44a1-bcd7-fbf203a41b1d",
   "metadata": {},
   "source": [
    "## Parameters"
   ]
  },
  {
   "cell_type": "code",
   "execution_count": null,
   "id": "fb810d3b-192d-47d8-8d62-d699be65bcad",
   "metadata": {},
   "outputs": [],
   "source": [
    "%run -i setup_parameters.py\n",
    "load_data = True  # Set to False if data are huge and have already been loaded\n",
    "debug = True  # Set to True for extra plots and verbosity\n",
    "plt.style.use(PATH[\"parameters\"] + \"plotstyle.mplstyle\")"
   ]
  },
  {
   "cell_type": "code",
   "execution_count": null,
   "id": "b52367c6-7f2c-4ff5-b52a-65f22f3448a1",
   "metadata": {},
   "outputs": [],
   "source": [
    "try:  # See if allloops_dict exists. If not, initialize. This allows running multiple scenarios. Here we run only scenario 2 though.\n",
    "    allloops_dict\n",
    "except NameError:\n",
    "    allloops_dict = {}\n",
    "    dfunified_scenarios = {}\n",
    "allloops_dict[SCENARIOID] = {}"
   ]
  },
  {
   "cell_type": "code",
   "execution_count": null,
   "id": "9b986890-413c-43c3-a6fa-57ff87899f25",
   "metadata": {},
   "outputs": [],
   "source": [
    "print(\"Running scenario \" + str(SCENARIOID) + \" in \" + STUDY_AREA)\n",
    "for k, v in SCENARIO[SCENARIOID].items():\n",
    "    print(k + \": \" + str(v))"
   ]
  },
  {
   "cell_type": "code",
   "execution_count": null,
   "id": "e02cda8b-9a95-410b-add3-3a431a516946",
   "metadata": {},
   "outputs": [],
   "source": [
    "addpoisnum = [100]  # How many POIs to add in the experiments"
   ]
  },
  {
   "cell_type": "markdown",
   "id": "876e2b5b",
   "metadata": {},
   "source": [
    "## Functions"
   ]
  },
  {
   "cell_type": "code",
   "execution_count": null,
   "id": "9a407c7e",
   "metadata": {},
   "outputs": [],
   "source": [
    "%run -i functions.py"
   ]
  },
  {
   "cell_type": "markdown",
   "id": "31f469da-22c9-4db2-981d-08c89270ecd3",
   "metadata": {},
   "source": [
    "## Set up baseline data and targeted cells"
   ]
  },
  {
   "cell_type": "markdown",
   "id": "1f3a36de-4429-41f9-b770-4c84fbaea99f",
   "metadata": {},
   "source": [
    "### Load data"
   ]
  },
  {
   "cell_type": "code",
   "execution_count": null,
   "id": "860bebe7-f3a4-49da-9353-6ae4a6650eca",
   "metadata": {},
   "outputs": [],
   "source": [
    "pois = load_pois()"
   ]
  },
  {
   "cell_type": "code",
   "execution_count": null,
   "id": "36e2f0a3-cd11-4064-bea1-87264536211b",
   "metadata": {},
   "outputs": [],
   "source": [
    "if load_data:\n",
    "    if LOOP_LENGTH_BOUND:\n",
    "        llb_string = \"_maxlength\" + str(LOOP_LENGTH_BOUND)\n",
    "    else:\n",
    "        llb_string = \"\"\n",
    "\n",
    "    with open(\n",
    "        PATH[\"data_out\"]\n",
    "        + \"loopcensus_\"\n",
    "        + str(LOOP_NUMNODE_BOUND)\n",
    "        + llb_string\n",
    "        + \".pkl\",\n",
    "        \"rb\",\n",
    "    ) as f:\n",
    "        allloops = pickle.load(f)\n",
    "        alllooplengths = pickle.load(f)\n",
    "        allloopnumnodes = pickle.load(f)\n",
    "        allloopmaxslopes = pickle.load(f)\n",
    "        Gnx = pickle.load(f)\n",
    "        LOOP_NUMNODE_BOUND = pickle.load(f)\n",
    "        nodes_id = pickle.load(f)\n",
    "        nodes_coords = pickle.load(f)\n",
    "        numloops = pickle.load(f)\n",
    "        faceloops = pickle.load(f)"
   ]
  },
  {
   "cell_type": "code",
   "execution_count": null,
   "id": "ef77fa1e-9de2-4bc8-96ca-bda737eb8154",
   "metadata": {},
   "outputs": [],
   "source": [
    "# Create gdf and igraph versions\n",
    "nodes, edges = momepy.nx_to_gdf(net=Gnx, points=True, lines=True)\n",
    "nodes.set_crs(epsg=25832, inplace=True)\n",
    "edges.set_crs(epsg=25832, inplace=True)\n",
    "G = ig.Graph.from_networkx(Gnx)\n",
    "G.summary()"
   ]
  },
  {
   "cell_type": "markdown",
   "id": "12066253-661b-410b-b98c-99c9197ab6d2",
   "metadata": {},
   "source": [
    "### Loops"
   ]
  },
  {
   "cell_type": "markdown",
   "id": "d534a512-6ea6-45dc-af2c-cd9f1b3e8368",
   "metadata": {},
   "source": [
    "Restrictions:"
   ]
  },
  {
   "cell_type": "code",
   "execution_count": null,
   "id": "aba894a6-cbba-4f2b-9cd7-3bb0fbc81855",
   "metadata": {},
   "outputs": [],
   "source": [
    "allloops_dict[SCENARIOID][0] = restrict_scenario(allloops, allloops, level=0)\n",
    "allloops_dict[SCENARIOID][1] = restrict_scenario(\n",
    "    allloops, allloops_dict[SCENARIOID][0], level=1\n",
    ")\n",
    "allloops_dict[SCENARIOID][2] = restrict_scenario(\n",
    "    allloops, allloops_dict[SCENARIOID][1], level=2\n",
    ")"
   ]
  },
  {
   "cell_type": "markdown",
   "id": "3ac98f7b-be01-4df4-bfb3-727fe8e8780f",
   "metadata": {},
   "source": [
    "Get loop bits for each node:"
   ]
  },
  {
   "cell_type": "code",
   "execution_count": null,
   "id": "c40b7791-0c4c-4445-99d7-a569502e0c4d",
   "metadata": {},
   "outputs": [],
   "source": [
    "nodes_loopnum3 = nodes.drop(\n",
    "    columns=[\"name\", \"_igraph_index\", \"x\", \"y\", \"nodeID\"]\n",
    ")  # drop all data\n",
    "nodes_loopnum3.to_crs(epsg=4326, inplace=True)  # reproject for H3\n",
    "nodes_loopnum3[\"loopnum3\"] = get_vertex_loopnums(\n",
    "    allloops_dict[SCENARIOID][2], \"log2\"\n",
    ").tolist()"
   ]
  },
  {
   "cell_type": "markdown",
   "id": "2a4ce89f-60da-45a6-bc48-97aefb6c6f31",
   "metadata": {},
   "source": [
    "### H3 grids"
   ]
  },
  {
   "cell_type": "code",
   "execution_count": null,
   "id": "4e6601c6-883b-41b5-b2d8-aea3731d8896",
   "metadata": {},
   "outputs": [],
   "source": [
    "nodes_nodata = nodes.drop(\n",
    "    columns=[\"name\", \"_igraph_index\", \"x\", \"y\", \"nodeID\"]\n",
    ")  # drop all data\n",
    "nodes_nodata.to_crs(epsg=4326, inplace=True)  # reproject for H3\n",
    "if debug:\n",
    "    print(nodes_nodata.head())\n",
    "\n",
    "nodesh3 = nodes_nodata.assign(count=1).h3.geo_to_h3_aggregate(6)\n",
    "\n",
    "nodesh3.plot(column=\"count\", figsize=(5, 5), legend=True)\n",
    "plt.title(\"Node density\")\n",
    "plt.gca().axis(\"off\");"
   ]
  },
  {
   "cell_type": "code",
   "execution_count": null,
   "id": "80a04b19-0706-4ad6-ae4e-8e123ff797d9",
   "metadata": {},
   "outputs": [],
   "source": [
    "edgesh3 = edges.to_crs(epsg=25832)  # do geometric operations on projected CRS\n",
    "edgesh3[\"geometry\"] = edgesh3.geometry.centroid\n",
    "edgesh3.to_crs(epsg=4326, inplace=True)  # project back for H3\n",
    "\n",
    "edges_has_water = edgesh3[[\"weight\", \"has_water\", \"geometry\"]]\n",
    "edges_has_water[\"has_water\"] = edges_has_water[\"has_water\"].astype(\n",
    "    int\n",
    ")  # Turn True/False into 1/0\n",
    "\n",
    "wm = {\n",
    "    \"has_water\": lambda x: np.average(x, weights=edges_has_water.loc[x.index, \"weight\"])\n",
    "}\n",
    "edges_has_water_wmh3 = edges_has_water.h3.geo_to_h3_aggregate(6, wm)\n",
    "\n",
    "edges_has_water_wmh3.plot(column=\"has_water\", figsize=(5, 5), legend=True)\n",
    "plt.title(\"Has water (weighted)\")\n",
    "plt.gca().axis(\"off\");"
   ]
  },
  {
   "cell_type": "code",
   "execution_count": null,
   "id": "87c7a375-e347-415f-8c2e-046b5479f738",
   "metadata": {},
   "outputs": [],
   "source": [
    "nodes_loopnum3h3 = nodes_loopnum3.h3.geo_to_h3_aggregate(6, \"mean\")\n",
    "nodes_loopnum3h3.plot(column=\"loopnum3\", figsize=(5, 5), legend=True)\n",
    "plt.title(\"Average loop bits+1 (water restriction)\")\n",
    "plt.gca().axis(\"off\");"
   ]
  },
  {
   "cell_type": "markdown",
   "id": "f13e8d7b-5828-48bf-9cc7-61a7914089be",
   "metadata": {},
   "source": [
    "#### Join into one dataframe"
   ]
  },
  {
   "cell_type": "code",
   "execution_count": null,
   "id": "3dc2274a-6df9-47d5-b106-211aa73986f8",
   "metadata": {},
   "outputs": [],
   "source": [
    "gdfjoined = (\n",
    "    nodesh3.join(edges_has_water_wmh3.drop(columns=\"geometry\"))\n",
    "    .join(nodes_loopnum3h3.drop(columns=\"geometry\"))\n",
    "    .rename(\n",
    "        columns={\n",
    "            \"count\": \"Node density\",\n",
    "            \"has_water\": \"Water provision\",\n",
    "            \"loopnum3\": \"Loop bits\",\n",
    "        }\n",
    "    )\n",
    ")\n",
    "if debug:\n",
    "    print(gdfjoined.head())"
   ]
  },
  {
   "cell_type": "markdown",
   "id": "94f72bab-80ce-479a-be83-2fa3e04b2228",
   "metadata": {},
   "source": [
    "#### Create quantiles"
   ]
  },
  {
   "cell_type": "code",
   "execution_count": null,
   "id": "6e0fc690-8d35-4b68-a1ff-459a44bba532",
   "metadata": {},
   "outputs": [],
   "source": [
    "q = gdfjoined[\"Node density\"].quantile([0.85])  # Top 15% node density\n",
    "q_nd15 = gdfjoined[gdfjoined[\"Node density\"].ge(q[0.85])]\n",
    "\n",
    "q = gdfjoined[\"Water provision\"].quantile([0.15, 0.5])  # Bottom 15% water provision\n",
    "q_wp15 = gdfjoined[gdfjoined[\"Water provision\"].le(q[0.15])]\n",
    "q_wp50 = gdfjoined[gdfjoined[\"Water provision\"].le(q[0.5])]\n",
    "\n",
    "q = gdfjoined[\"Loop bits\"].quantile([0.15])  # Bottom 15% loop bits\n",
    "q_lb15 = gdfjoined[gdfjoined[\"Loop bits\"].le(q[0.15])]\n",
    "\n",
    "q = q_wp50[\"Loop bits\"].quantile([0.5])  # Bottom 50% loop bits\n",
    "q_wplb50 = q_wp50[q_wp50[\"Water provision\"].le(q[0.5])]\n",
    "q = q_wplb50[\"Node density\"].quantile([0.5])  # Top 50% node density\n",
    "q_wplbnd50 = q_wplb50[q_wplb50[\"Node density\"].ge(q[0.5])]\n",
    "\n",
    "# Clip to same lengths, by smallest water provisions\n",
    "cliplen = min(len(q_nd15), len(q_wp15), len(q_lb15), len(q_wplbnd50))\n",
    "q_nd15 = q_nd15.nsmallest(n=cliplen, columns=[\"Water provision\"])\n",
    "q_wp15 = q_wp15.nsmallest(n=cliplen, columns=[\"Water provision\"])\n",
    "q_lb15 = q_lb15.nsmallest(n=cliplen, columns=[\"Water provision\"])\n",
    "q_wplbnd50 = q_wplbnd50.nsmallest(n=cliplen, columns=[\"Water provision\"])"
   ]
  },
  {
   "cell_type": "markdown",
   "id": "82066c51-c049-4a42-88ea-2bf757dc3b38",
   "metadata": {},
   "source": [
    "Plot the targeted cells in each experimental setup (except random):"
   ]
  },
  {
   "cell_type": "code",
   "execution_count": null,
   "id": "9b82e36f-4ec6-4ccd-a511-9ae71b0edb01",
   "metadata": {},
   "outputs": [],
   "source": [
    "fig, axes = plt.subplots(nrows=1, ncols=4, figsize=(20, 4))\n",
    "\n",
    "q_nd15.plot(column=\"Loop bits\", figsize=(5, 5), legend=True, ax=axes[0])\n",
    "axes[0].set_title(\"Loop bits+1, node density q15\")\n",
    "axes[0].set_ylim([54.5, 57.8])\n",
    "axes[0].set_xlim([8, 12.8])\n",
    "\n",
    "q_wp15.plot(column=\"Loop bits\", figsize=(5, 5), legend=True, ax=axes[1])\n",
    "axes[1].set_title(\"Loop bits+1, water provision q15\")\n",
    "axes[1].set_ylim([54.5, 57.8])\n",
    "axes[1].set_xlim([8, 12.8])\n",
    "\n",
    "q_lb15.plot(column=\"Loop bits\", figsize=(5, 5), legend=True, ax=axes[2])\n",
    "axes[2].set_title(\"Loop bits+1, loop bits q15\")\n",
    "axes[2].set_ylim([54.5, 57.8])\n",
    "axes[2].set_xlim([8, 12.8])\n",
    "\n",
    "q_wplbnd50.plot(column=\"Loop bits\", figsize=(5, 5), legend=True, ax=axes[3])\n",
    "axes[3].set_title(\"Loop bits+1, wplbnd q50\")\n",
    "axes[3].set_ylim([54.5, 57.8])\n",
    "axes[3].set_xlim([8, 12.8]);"
   ]
  },
  {
   "cell_type": "markdown",
   "id": "9b898889-32e0-4eb9-b39b-da385b8f4868",
   "metadata": {},
   "source": [
    "### Add POIs, snap POIs, generate loops"
   ]
  },
  {
   "cell_type": "code",
   "execution_count": null,
   "id": "48c5721b-f66d-4493-ade5-6e2366b4544d",
   "metadata": {},
   "outputs": [],
   "source": []
  },
  {
   "cell_type": "markdown",
   "id": "ebc7da83-4125-4c3e-8a97-27b2113d110a",
   "metadata": {},
   "source": [
    "### Analysis"
   ]
  }
 ],
 "metadata": {
  "kernelspec": {
   "display_name": "bikenwloops",
   "language": "python",
   "name": "bikenwloops"
  },
  "language_info": {
   "codemirror_mode": {
    "name": "ipython",
    "version": 3
   },
   "file_extension": ".py",
   "mimetype": "text/x-python",
   "name": "python",
   "nbconvert_exporter": "python",
   "pygments_lexer": "ipython3",
   "version": "3.12.11"
  }
 },
 "nbformat": 4,
 "nbformat_minor": 5
}
