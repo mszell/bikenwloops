{
 "cells": [
  {
   "cell_type": "markdown",
   "id": "2e582dfd",
   "metadata": {},
   "source": [
    "# 01. POI snapping, Denmark-wide\n",
    "## Project: Bicycle node network loop analysis"
   ]
  },
  {
   "cell_type": "markdown",
   "id": "2bc9b960",
   "metadata": {},
   "source": [
    "This notebook snaps the POIs to the Denmark-wide network data which is assembled from the single study area networks created in 00.  \n",
    "Please select `denmark` as the `study_area` in the `config.yml`.\n",
    "\n",
    "Contact: Michael Szell (michael.szell@gmail.com)\n",
    "\n",
    "Created: 2025-08-07  \n",
    "Last modified: 2025-08-07"
   ]
  },
  {
   "cell_type": "markdown",
   "id": "c54147dc-3565-4875-9612-f9f2c1286930",
   "metadata": {},
   "source": [
    "## To do"
   ]
  },
  {
   "cell_type": "markdown",
   "id": "44f472bf-a8d3-43fa-a346-993f2526aaea",
   "metadata": {},
   "source": [
    "- [ ] Rewrite snapping with momepy/geopandas"
   ]
  },
  {
   "cell_type": "markdown",
   "id": "9d22412b-3d1f-4203-bbc4-4629f35c0c06",
   "metadata": {},
   "source": [
    "## Parameters"
   ]
  },
  {
   "cell_type": "code",
   "execution_count": null,
   "id": "f3f65809-7982-4af5-8ac0-74adc0c05ac8",
   "metadata": {},
   "outputs": [],
   "source": [
    "%run -i setup_parameters.py\n",
    "debug = True  # Set to True for extra plots and verbosity"
   ]
  },
  {
   "cell_type": "markdown",
   "id": "876e2b5b",
   "metadata": {},
   "source": [
    "## Functions"
   ]
  },
  {
   "cell_type": "code",
   "execution_count": null,
   "id": "54eee093-c956-4804-8add-6a4f41a86cb9",
   "metadata": {},
   "outputs": [],
   "source": [
    "%run -i functions.py"
   ]
  },
  {
   "cell_type": "markdown",
   "id": "06c9f290",
   "metadata": {},
   "source": [
    "## Processing data"
   ]
  },
  {
   "cell_type": "markdown",
   "id": "bcd4d066",
   "metadata": {},
   "source": [
    "### Load data"
   ]
  },
  {
   "cell_type": "code",
   "execution_count": null,
   "id": "8a037e48-8c50-4ac7-b9f9-eebb0f0db286",
   "metadata": {},
   "outputs": [],
   "source": [
    "Gnx = nx.empty_graph()\n",
    "for subarea in STUDY_AREA_COMBINED[STUDY_AREA]:\n",
    "    with lzma.open(PATH[subarea][\"data_out\"] + \"network_preprocessed0.xz\", \"rb\") as f:\n",
    "        G_new = pickle.load(f)\n",
    "        Gnx = nx.disjoint_union(Gnx, G_new.to_networkx())"
   ]
  },
  {
   "cell_type": "markdown",
   "id": "531fa6e0-b199-4afb-b7b7-cdade7461cef",
   "metadata": {},
   "source": [
    "Turn into gdf:"
   ]
  },
  {
   "cell_type": "code",
   "execution_count": null,
   "id": "c8072968-14ee-469c-9639-5adbdd525cc8",
   "metadata": {},
   "outputs": [],
   "source": [
    "# https://docs.momepy.org/en/stable/user_guide/graph/convert.html\n",
    "nodes, edges = momepy.nx_to_gdf(Gnx, points=True, lines=True)"
   ]
  },
  {
   "cell_type": "code",
   "execution_count": null,
   "id": "92f44a1b-3473-4906-a1c5-7b3b57ac1c82",
   "metadata": {},
   "outputs": [],
   "source": [
    "edges.head()"
   ]
  },
  {
   "cell_type": "markdown",
   "id": "127f6847-e27e-47c1-9417-23ebd4436993",
   "metadata": {},
   "source": [
    "### Snap POIs"
   ]
  },
  {
   "cell_type": "markdown",
   "id": "4e2bbc07-b6bd-4b60-8ada-35f44bdd5d4d",
   "metadata": {},
   "source": [
    "Snap POIs to network. POIs come in 3 categories:\n",
    "- Facilities (water station, bicycle repair station, supermarket, etc.)\n",
    "- Services (camping ground, hotel, gas station, etc.)\n",
    "- Attractions (church, museum, beach, etc.)  \n",
    "\n",
    "If any of these is within reach of a link, the link is assumed to provide water. Further, we define a link's POI diversity $Y \\in \\{0,1,2,3\\}$ as the unique number of POI categories within reach. For simplicity, reach is defined with the same constant `SNAP_THRESHOLD` for all POI categories."
   ]
  },
  {
   "cell_type": "markdown",
   "id": "5f3760a9-efb8-4d37-bdee-25d2b7d75eeb",
   "metadata": {},
   "source": [
    "We have a small number of facilities and links, so computationally it should be fine to loop through all pairwise."
   ]
  },
  {
   "cell_type": "code",
   "execution_count": null,
   "id": "e3ab9e5d-4019-4c9e-9744-6d727e14fd3e",
   "metadata": {},
   "outputs": [],
   "source": [
    "poi_files = {\n",
    "    \"facility\": [\n",
    "        \"facility.gpkg\",\n",
    "    ],\n",
    "    \"service\": [\n",
    "        \"service.gpkg\",\n",
    "    ],\n",
    "    \"attraction\": [\"poi.gpkg\"],\n",
    "}"
   ]
  },
  {
   "cell_type": "code",
   "execution_count": null,
   "id": "8b2bfa30-6686-4a39-86f3-8b21f5137be4",
   "metadata": {},
   "outputs": [],
   "source": [
    "# Initialize\n",
    "for e in G.es:\n",
    "    e[\"has_water\"] = False\n",
    "    e[\"has_facility\"] = False\n",
    "    e[\"has_service\"] = False\n",
    "    e[\"has_attraction\"] = False\n",
    "    e[\"poi_diversity\"] = 0\n",
    "\n",
    "if not POIS_AVAILABLE:  # Create random data for testing\n",
    "    for e in G.es:\n",
    "        e[\"has_facility\"] = (\n",
    "            True if np.random.rand() < 0.11 else False\n",
    "        )  # Reasonably looking thresholds\n",
    "        e[\"has_service\"] = True if np.random.rand() < 0.17 else False\n",
    "        e[\"has_attraction\"] = True if np.random.rand() < 0.08 else False\n",
    "        poi_diversity = 0\n",
    "        if e[\"has_facility\"]:\n",
    "            e[\"has_water\"] = True\n",
    "            poi_diversity += 1\n",
    "        if e[\"has_service\"]:\n",
    "            e[\"has_water\"] = True\n",
    "            poi_diversity += 1\n",
    "        if e[\"has_attraction\"]:\n",
    "            e[\"has_water\"] = True\n",
    "            poi_diversity += 1\n",
    "        e[\"poi_diversity\"] = poi_diversity\n",
    "\n",
    "else:  # Use available poi files\n",
    "    e_haspoi = {\"facility\": set(), \"service\": set(), \"attraction\": set()}\n",
    "    for cat in [*poi_files]:\n",
    "        for f in poi_files[cat]:\n",
    "            print(\"Adding POIs from file: \" + f)\n",
    "            pois = gpd.read_file(PATH[\"data_in_pois\"] + f)\n",
    "            for _, poirow in tqdm(pois.iterrows(), total=pois.shape[0]):\n",
    "                d = 999999999999\n",
    "                eid = False\n",
    "                if poirow[\"type\"]:  # Could add conditions on type later, like Vandpost\n",
    "                    poi_this = poirow[\"geometry\"]\n",
    "                    for eindex, erow in edges_orig.iterrows():\n",
    "                        d_this = poi_this.distance(erow[\"geometry\"])\n",
    "                        if (\n",
    "                            d_this < d\n",
    "                            and erow[\"edge_id\"] in edges_orig[\"edge_id\"].values\n",
    "                        ):\n",
    "                            d = d_this\n",
    "                            eid = erow[\"edge_id\"]\n",
    "                if eid and d <= SNAP_THRESHOLD:\n",
    "                    e_haspoi[cat].add(eid)\n",
    "\n",
    "    e_haswater = set()\n",
    "    e_haswater = e_haspoi[\"facility\"] | e_haspoi[\"service\"] | e_haspoi[\"attraction\"]\n",
    "\n",
    "    for e in G.es:\n",
    "        poi_diversity = 0\n",
    "        if e[\"edge_id\"] in e_haswater:\n",
    "            e[\"has_water\"] = True\n",
    "        if e[\"edge_id\"] in e_haspoi[\"facility\"]:\n",
    "            e[\"has_facility\"] = True\n",
    "            poi_diversity += 1\n",
    "        if e[\"edge_id\"] in e_haspoi[\"service\"]:\n",
    "            e[\"has_service\"] = True\n",
    "            poi_diversity += 1\n",
    "        if e[\"edge_id\"] in e_haspoi[\"attraction\"]:\n",
    "            e[\"has_attraction\"] = True\n",
    "            poi_diversity += 1\n",
    "        e[\"poi_diversity\"] = poi_diversity"
   ]
  },
  {
   "cell_type": "markdown",
   "id": "b4a56f57-44d8-43d0-b652-2b5e982d68da",
   "metadata": {},
   "source": [
    "#### Plot POI diversity"
   ]
  },
  {
   "cell_type": "code",
   "execution_count": null,
   "id": "2937029e-10dc-466d-ac40-a5c7798d0105",
   "metadata": {},
   "outputs": [],
   "source": [
    "if debug:\n",
    "    edge_widths = []\n",
    "    for e in G.es:\n",
    "        edge_widths.append((e[\"poi_diversity\"] * 2) + 0.25)\n",
    "\n",
    "    fig = plot_check(\n",
    "        G,\n",
    "        nodes_id,\n",
    "        nodes_coords,\n",
    "        vertex_size=get_vertex_size_constant(G.vcount()),\n",
    "        edge_width=edge_widths,\n",
    "    )\n",
    "    plt.text(0, 0.04, \"POI diversity\")\n",
    "    plt.tight_layout()\n",
    "    fig.savefig(PATH[\"plot\"] + \"poidiversity\")"
   ]
  },
  {
   "cell_type": "markdown",
   "id": "2da8f43b-218e-4827-a514-cfa24a16814c",
   "metadata": {},
   "source": [
    "#### Plot water links"
   ]
  },
  {
   "cell_type": "code",
   "execution_count": null,
   "id": "f5ccd77d-bc5e-4ce1-8263-819b604f6543",
   "metadata": {
    "scrolled": true
   },
   "outputs": [],
   "source": [
    "if debug:\n",
    "    edge_colors = []\n",
    "    for e in G.es:\n",
    "        if e[\"has_water\"]:\n",
    "            edge_colors.append(\"blue\")\n",
    "        else:\n",
    "            edge_colors.append(\"grey\")\n",
    "\n",
    "    fig = plot_check(\n",
    "        G,\n",
    "        nodes_id,\n",
    "        nodes_coords,\n",
    "        vertex_size=get_vertex_size_constant(G.vcount()),\n",
    "        edge_color=edge_colors,\n",
    "    )\n",
    "    plt.text(0, 0.04, \"Water links highlighted\")\n",
    "    plt.tight_layout()\n",
    "    fig.savefig(PATH[\"plot\"] + \"waterlinks\")"
   ]
  },
  {
   "cell_type": "markdown",
   "id": "43d33a09-4506-4d44-a474-1df6fb7dfdd7",
   "metadata": {},
   "source": [
    "#### Plot max slopes"
   ]
  },
  {
   "cell_type": "code",
   "execution_count": null,
   "id": "aad82d95-6fca-48f6-b058-c6c4bc44b269",
   "metadata": {},
   "outputs": [],
   "source": [
    "if debug:\n",
    "    edge_colors = []\n",
    "    for e in G.es:\n",
    "        if e[\"max_slope\"] < 4:\n",
    "            edge_colors.append(\"green\")\n",
    "        elif e[\"max_slope\"] < 6:\n",
    "            edge_colors.append(\"orange\")\n",
    "        else:\n",
    "            edge_colors.append(\"red\")\n",
    "\n",
    "    fig = plot_check(\n",
    "        G,\n",
    "        nodes_id,\n",
    "        nodes_coords,\n",
    "        vertex_size=get_vertex_size_constant(G.vcount()),\n",
    "        edge_color=edge_colors,\n",
    "    )\n",
    "    plt.text(0, 0.04, \"Max slopes highlighted\")\n",
    "    plt.tight_layout()\n",
    "    fig.savefig(PATH[\"plot\"] + \"maxslopes\")"
   ]
  },
  {
   "cell_type": "markdown",
   "id": "0bd274d8",
   "metadata": {},
   "source": [
    "## Save preprocessed network data"
   ]
  },
  {
   "cell_type": "code",
   "execution_count": null,
   "id": "89036e5d-2e88-4e78-836d-272c53606e74",
   "metadata": {},
   "outputs": [],
   "source": [
    "G.summary()"
   ]
  },
  {
   "cell_type": "code",
   "execution_count": null,
   "id": "3793d0d0-dc59-474f-9b5d-07151b0842b7",
   "metadata": {},
   "outputs": [],
   "source": [
    "with lzma.open(PATH[\"data_out\"] + \"network_preprocessed.xz\", \"wb\") as f:\n",
    "    pickle.dump(G, f)"
   ]
  }
 ],
 "metadata": {
  "kernelspec": {
   "display_name": "bikenwloops",
   "language": "python",
   "name": "bikenwloops"
  },
  "language_info": {
   "codemirror_mode": {
    "name": "ipython",
    "version": 3
   },
   "file_extension": ".py",
   "mimetype": "text/x-python",
   "name": "python",
   "nbconvert_exporter": "python",
   "pygments_lexer": "ipython3",
   "version": "3.12.11"
  }
 },
 "nbformat": 4,
 "nbformat_minor": 5
}
