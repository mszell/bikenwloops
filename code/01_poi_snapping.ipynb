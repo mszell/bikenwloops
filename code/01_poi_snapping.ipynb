{
 "cells": [
  {
   "cell_type": "markdown",
   "id": "2e582dfd",
   "metadata": {},
   "source": [
    "# 01. POI snapping, Denmark-wide\n",
    "## Project: Bicycle node network loop analysis"
   ]
  },
  {
   "cell_type": "markdown",
   "id": "2bc9b960",
   "metadata": {},
   "source": [
    "This notebook snaps the POIs to the Denmark-wide network data which is assembled from the single study area networks created in 00.  \n",
    "Please select `denmark` as the `study_area` in the `config.yml`.\n",
    "\n",
    "Contact: Michael Szell (michael.szell@gmail.com)\n",
    "\n",
    "Created: 2025-08-07  \n",
    "Last modified: 2025-08-08"
   ]
  },
  {
   "cell_type": "markdown",
   "id": "c54147dc-3565-4875-9612-f9f2c1286930",
   "metadata": {},
   "source": [
    "## To do"
   ]
  },
  {
   "cell_type": "markdown",
   "id": "44f472bf-a8d3-43fa-a346-993f2526aaea",
   "metadata": {},
   "source": [
    "- [X] Rewrite snapping with momepy/geopandas"
   ]
  },
  {
   "cell_type": "markdown",
   "id": "9d22412b-3d1f-4203-bbc4-4629f35c0c06",
   "metadata": {},
   "source": [
    "## Parameters"
   ]
  },
  {
   "cell_type": "code",
   "execution_count": null,
   "id": "f3f65809-7982-4af5-8ac0-74adc0c05ac8",
   "metadata": {},
   "outputs": [],
   "source": [
    "%run -i setup_parameters.py\n",
    "debug = False  # Set to True for extra plots and verbosity"
   ]
  },
  {
   "cell_type": "markdown",
   "id": "876e2b5b",
   "metadata": {},
   "source": [
    "## Functions"
   ]
  },
  {
   "cell_type": "code",
   "execution_count": null,
   "id": "54eee093-c956-4804-8add-6a4f41a86cb9",
   "metadata": {},
   "outputs": [],
   "source": [
    "%run -i functions.py"
   ]
  },
  {
   "cell_type": "markdown",
   "id": "06c9f290",
   "metadata": {},
   "source": [
    "## Processing data"
   ]
  },
  {
   "cell_type": "markdown",
   "id": "bcd4d066",
   "metadata": {},
   "source": [
    "### Load data"
   ]
  },
  {
   "cell_type": "code",
   "execution_count": null,
   "id": "8a037e48-8c50-4ac7-b9f9-eebb0f0db286",
   "metadata": {},
   "outputs": [],
   "source": [
    "# Merge graphs\n",
    "Gnx = nx.empty_graph()\n",
    "for subarea in STUDY_AREA_COMBINED[STUDY_AREA]:\n",
    "    with lzma.open(PATH[subarea][\"data_out\"] + \"network_preprocessed0.xz\", \"rb\") as f:\n",
    "        G_new = pickle.load(f)\n",
    "        Gnx = nx.disjoint_union(Gnx, G_new.to_networkx())\n",
    "\n",
    "# Merge POIs\n",
    "poi_files = {\n",
    "    \"facility\": [\n",
    "        \"facility.gpkg\",\n",
    "    ],\n",
    "    \"service\": [\n",
    "        \"service.gpkg\",\n",
    "    ],\n",
    "    \"attraction\": [\"poi.gpkg\"],\n",
    "}\n",
    "pois = gpd.GeoDataFrame()\n",
    "for subarea in STUDY_AREA_COMBINED[STUDY_AREA]:\n",
    "    for cat in [*poi_files]:\n",
    "        for f in poi_files[cat]:\n",
    "            pois_new = gpd.read_file(PATH[subarea][\"data_in_pois\"] + f)\n",
    "            pois_new[\"category\"] = cat\n",
    "            # Shift Bornholm POIs\n",
    "            if subarea == \"bornholm\":\n",
    "                pois_new[\"geometry\"] = pois_new[\"geometry\"].apply(\n",
    "                    shapely.affinity.translate,\n",
    "                    xoff=BORNHOLM_DELTA[0],\n",
    "                    yoff=BORNHOLM_DELTA[1],\n",
    "                )\n",
    "\n",
    "            pois = pd.concat([pois, pois_new], ignore_index=True)\n",
    "pois = pois.drop([\"type\", \"gruppe\"], axis=1)\n",
    "if debug:\n",
    "    print(pois.head())"
   ]
  },
  {
   "cell_type": "markdown",
   "id": "531fa6e0-b199-4afb-b7b7-cdade7461cef",
   "metadata": {},
   "source": [
    "Turn into gdf and initialize:"
   ]
  },
  {
   "cell_type": "code",
   "execution_count": null,
   "id": "c8072968-14ee-469c-9639-5adbdd525cc8",
   "metadata": {},
   "outputs": [],
   "source": [
    "# https://docs.momepy.org/en/stable/user_guide/graph/convert.html\n",
    "nodes, edges = momepy.nx_to_gdf(Gnx, points=True, lines=True)\n",
    "nodes.set_crs(epsg=25832, inplace=True)\n",
    "nodes_id = list(nodes.nodeID)\n",
    "nodes_x = list(nodes.geometry.x)\n",
    "nodes_y = list(nodes.geometry.y)\n",
    "nodes_coords = list(zip(normalize_data(nodes_x), normalize_data(nodes_y)))\n",
    "\n",
    "edges.set_crs(epsg=25832, inplace=True)\n",
    "\n",
    "# Initialize\n",
    "edges[\"has_water\"] = False\n",
    "edges[\"has_facility\"] = False\n",
    "edges[\"has_service\"] = False\n",
    "edges[\"has_attraction\"] = False\n",
    "edges[\"poi_diversity\"] = 0\n",
    "\n",
    "if debug:\n",
    "    print(edges.head())"
   ]
  },
  {
   "cell_type": "markdown",
   "id": "127f6847-e27e-47c1-9417-23ebd4436993",
   "metadata": {},
   "source": [
    "### Snap POIs"
   ]
  },
  {
   "cell_type": "markdown",
   "id": "4e2bbc07-b6bd-4b60-8ada-35f44bdd5d4d",
   "metadata": {},
   "source": [
    "Snap POIs to network. POIs come in 3 categories:\n",
    "- Facilities (water station, bicycle repair station, supermarket, etc.)\n",
    "- Services (camping ground, hotel, gas station, etc.)\n",
    "- Attractions (church, museum, beach, etc.)  \n",
    "\n",
    "If any of these is within reach of a link, the link is assumed to provide water. Further, we define a link's POI diversity $Y \\in \\{0,1,2,3\\}$ as the unique number of POI categories within reach. For simplicity, reach is defined with the same constant `SNAP_THRESHOLD` for all POI categories."
   ]
  },
  {
   "cell_type": "code",
   "execution_count": null,
   "id": "2b5163a0-7b5e-4ea1-89e2-50cec60c4d5b",
   "metadata": {},
   "outputs": [],
   "source": [
    "# https://stackoverflow.com/questions/52582864/snap-a-geodataframe-of-points-to-nearest-line-in-separate-geodataframe\n",
    "\n",
    "# Join the closest line geometry to each point\n",
    "edges[\n",
    "    \"line_geom\"\n",
    "] = edges.geometry  # Save the line geometry in a new column, or it is lost in the sjoin\n",
    "pois_snapped = pois.sjoin_nearest(\n",
    "    edges[[\"line_geom\", \"geometry\"]],\n",
    "    how=\"left\",\n",
    "    max_distance=SNAP_THRESHOLD,\n",
    "    distance_col=\"distance\",\n",
    ")\n",
    "drop_indices = pois_snapped[pois_snapped[\"line_geom\"] == None].index\n",
    "pois_snapped.drop(drop_indices, inplace=True)  # Drop POIs that are too far from a link\n",
    "\n",
    "# Snap each point to the nearest point on the nearest line\n",
    "pois_snapped[\"geometry\"] = pois_snapped.apply(\n",
    "    lambda x: snap(\n",
    "        x.geometry, nearest_points(x.geometry, x.line_geom)[1], tolerance=SNAP_THRESHOLD\n",
    "    ),\n",
    "    axis=1,\n",
    ")\n",
    "\n",
    "pois_snapped = pois_snapped.drop(columns=[\"line_geom\"])\n",
    "pois_snapped.rename(columns={\"index_right\": \"index_edge\"}, inplace=True)\n",
    "\n",
    "if debug:\n",
    "    print(pois_snapped.head())"
   ]
  },
  {
   "cell_type": "markdown",
   "id": "f7e0f56c-d5eb-4a74-8ad8-86e7ab771ff3",
   "metadata": {},
   "source": [
    "With the snapped POIs, update the POI attributes of all affected edges:"
   ]
  },
  {
   "cell_type": "code",
   "execution_count": null,
   "id": "8b2bfa30-6686-4a39-86f3-8b21f5137be4",
   "metadata": {},
   "outputs": [],
   "source": [
    "# Use available poi files\n",
    "e_haspoi = {\"facility\": set(), \"service\": set(), \"attraction\": set()}\n",
    "\n",
    "for _, poirow in tqdm(pois_snapped.iterrows(), total=pois_snapped.shape[0]):\n",
    "    edges.at[poirow[\"index_edge\"], \"has_water\"] = True\n",
    "    edges.at[poirow[\"index_edge\"], \"has_\" + poirow[\"category\"]] = True\n",
    "edges[\"has_water\"] = (\n",
    "    edges[\"has_facility\"] + edges[\"has_service\"] + edges[\"has_attraction\"]\n",
    ")  # + on bools is an or\n",
    "edges[\"poi_diversity\"] = (\n",
    "    edges[\"has_facility\"].astype(int)\n",
    "    + edges[\"has_service\"].astype(int)\n",
    "    + edges[\"has_attraction\"].astype(int)\n",
    ")\n",
    "if debug:\n",
    "    print(edges.tail())"
   ]
  },
  {
   "cell_type": "markdown",
   "id": "70d2b0b4-71d5-4b9d-8b03-1ac3c604215a",
   "metadata": {},
   "source": [
    "gdf to nx to igraph 😅:"
   ]
  },
  {
   "cell_type": "code",
   "execution_count": null,
   "id": "5cc98ccf-220f-4e63-977c-b22e91ca5f71",
   "metadata": {},
   "outputs": [],
   "source": [
    "Gnx = momepy.gdf_to_nx(edges, approach=\"primal\", integer_labels=True)\n",
    "G = ig.Graph.from_networkx(Gnx)\n",
    "G.vs[\"name\"] = G.vs[\"_nx_name\"]\n",
    "del G.vs[\"_nx_name\"]\n",
    "del G[\"approach\"]\n",
    "del G[\"crs\"]\n",
    "del G.es[\"_nx_multiedge_key\"]\n",
    "del G.es[\"line_geom\"]\n",
    "G.es[\"weight\"] = G.es[\"mm_len\"]\n",
    "del G.es[\"mm_len\"]\n",
    "if debug:\n",
    "    print(G.summary())"
   ]
  },
  {
   "cell_type": "code",
   "execution_count": null,
   "id": "650ade57-da14-46eb-8bfc-2fdb7c317bc6",
   "metadata": {},
   "outputs": [],
   "source": [
    "if debug:  # Just some code needed for the plots below\n",
    "    nodes, edges = momepy.nx_to_gdf(Gnx, points=True, lines=True)\n",
    "    nodes.set_crs(epsg=25832, inplace=True)\n",
    "    nodes_id = list(nodes.nodeID)\n",
    "    nodes_x = list(nodes.geometry.x)\n",
    "    nodes_y = list(nodes.geometry.y)\n",
    "    nodes_coords = list(zip(normalize_data(nodes_x), normalize_data(nodes_y)))"
   ]
  },
  {
   "cell_type": "markdown",
   "id": "b4a56f57-44d8-43d0-b652-2b5e982d68da",
   "metadata": {},
   "source": [
    "#### Plot POI diversity"
   ]
  },
  {
   "cell_type": "code",
   "execution_count": null,
   "id": "2937029e-10dc-466d-ac40-a5c7798d0105",
   "metadata": {},
   "outputs": [],
   "source": [
    "if debug:\n",
    "    edge_widths = []\n",
    "    for e in G.es:\n",
    "        edge_widths.append((e[\"poi_diversity\"] * 2) + 0.25)\n",
    "\n",
    "    fig = plot_check(\n",
    "        G,\n",
    "        nodes_id,\n",
    "        nodes_coords,\n",
    "        vertex_size=get_vertex_size_constant(G.vcount()),\n",
    "        edge_width=edge_widths,\n",
    "    )\n",
    "    plt.text(0, 0.04, \"POI diversity\")\n",
    "    plt.tight_layout()"
   ]
  },
  {
   "cell_type": "markdown",
   "id": "2da8f43b-218e-4827-a514-cfa24a16814c",
   "metadata": {},
   "source": [
    "#### Plot water links"
   ]
  },
  {
   "cell_type": "code",
   "execution_count": null,
   "id": "f5ccd77d-bc5e-4ce1-8263-819b604f6543",
   "metadata": {
    "scrolled": true
   },
   "outputs": [],
   "source": [
    "if debug:\n",
    "    edge_colors = []\n",
    "    for e in G.es:\n",
    "        if e[\"has_water\"]:\n",
    "            edge_colors.append(\"blue\")\n",
    "        else:\n",
    "            edge_colors.append(\"grey\")\n",
    "\n",
    "    fig = plot_check(\n",
    "        G,\n",
    "        nodes_id,\n",
    "        nodes_coords,\n",
    "        vertex_size=get_vertex_size_constant(G.vcount()),\n",
    "        edge_color=edge_colors,\n",
    "    )\n",
    "    plt.text(0, 0.04, \"Water links highlighted\")\n",
    "    plt.tight_layout()"
   ]
  },
  {
   "cell_type": "markdown",
   "id": "43d33a09-4506-4d44-a474-1df6fb7dfdd7",
   "metadata": {},
   "source": [
    "#### Plot max slopes"
   ]
  },
  {
   "cell_type": "code",
   "execution_count": null,
   "id": "aad82d95-6fca-48f6-b058-c6c4bc44b269",
   "metadata": {},
   "outputs": [],
   "source": [
    "if debug:\n",
    "    edge_colors = []\n",
    "    for e in G.es:\n",
    "        if e[\"max_slope\"] < 4:\n",
    "            edge_colors.append(\"green\")\n",
    "        elif e[\"max_slope\"] < 6:\n",
    "            edge_colors.append(\"orange\")\n",
    "        else:\n",
    "            edge_colors.append(\"red\")\n",
    "\n",
    "    fig = plot_check(\n",
    "        G,\n",
    "        nodes_id,\n",
    "        nodes_coords,\n",
    "        vertex_size=get_vertex_size_constant(G.vcount()),\n",
    "        edge_color=edge_colors,\n",
    "    )\n",
    "    plt.text(0, 0.04, \"Max slopes highlighted\")\n",
    "    plt.tight_layout()"
   ]
  },
  {
   "cell_type": "markdown",
   "id": "0bd274d8",
   "metadata": {},
   "source": [
    "## Save preprocessed network data"
   ]
  },
  {
   "cell_type": "code",
   "execution_count": null,
   "id": "3793d0d0-dc59-474f-9b5d-07151b0842b7",
   "metadata": {},
   "outputs": [],
   "source": [
    "with lzma.open(PATH[\"data_out\"] + \"network_preprocessed.xz\", \"wb\") as f:\n",
    "    pickle.dump(G, f)"
   ]
  }
 ],
 "metadata": {
  "kernelspec": {
   "display_name": "bikenwloops",
   "language": "python",
   "name": "bikenwloops"
  },
  "language_info": {
   "codemirror_mode": {
    "name": "ipython",
    "version": 3
   },
   "file_extension": ".py",
   "mimetype": "text/x-python",
   "name": "python",
   "nbconvert_exporter": "python",
   "pygments_lexer": "ipython3",
   "version": "3.12.11"
  }
 },
 "nbformat": 4,
 "nbformat_minor": 5
}
