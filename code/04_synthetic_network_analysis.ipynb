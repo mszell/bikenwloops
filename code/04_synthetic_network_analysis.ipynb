{
 "cells": [
  {
   "cell_type": "markdown",
   "id": "2e582dfd",
   "metadata": {},
   "source": [
    "# 04. Synthetic network analysis\n",
    "## Project: Bicycle node network loop analysis"
   ]
  },
  {
   "cell_type": "markdown",
   "id": "2bc9b960",
   "metadata": {},
   "source": [
    "This notebook analyses synthetic networks (lattices).\n",
    "\n",
    "Contact: Michael Szell (michael.szell@gmail.com)\n",
    "\n",
    "Created: 2024-10-28  \n",
    "Last modified: 2024-10-28"
   ]
  },
  {
   "cell_type": "markdown",
   "id": "5126c030",
   "metadata": {},
   "source": [
    "## To do\n",
    "- [ ] Bring into same data format as real networks\n",
    "- [ ] Calculate linklength vs face loops (just 3*, 4*, 6* ranges)\n",
    "- [ ] Analyze: size/linklength vs loops, correspondence with scenarios\n",
    "- [ ] Analyze: border effects"
   ]
  },
  {
   "cell_type": "markdown",
   "id": "816924f7-7ddc-44a1-bcd7-fbf203a41b1d",
   "metadata": {},
   "source": [
    "## Parameters"
   ]
  },
  {
   "cell_type": "code",
   "execution_count": null,
   "id": "fb810d3b-192d-47d8-8d62-d699be65bcad",
   "metadata": {},
   "outputs": [],
   "source": [
    "%run -i setup_parameters.py\n",
    "debug = True  # Set to True for extra plots and verbosity\n",
    "\n",
    "size = 8\n",
    "linklength = 10  # km"
   ]
  },
  {
   "cell_type": "markdown",
   "id": "876e2b5b",
   "metadata": {},
   "source": [
    "## Functions"
   ]
  },
  {
   "cell_type": "code",
   "execution_count": null,
   "id": "9a407c7e",
   "metadata": {},
   "outputs": [],
   "source": [
    "%run -i functions.py"
   ]
  },
  {
   "cell_type": "markdown",
   "id": "bcd4d066",
   "metadata": {},
   "source": [
    "## Create synthetic networks"
   ]
  },
  {
   "cell_type": "code",
   "execution_count": null,
   "id": "e27e0991-5ac5-4fba-8415-602f244d728b",
   "metadata": {},
   "outputs": [],
   "source": [
    "Gnx_tri = nx.triangular_lattice_graph(size, size)\n",
    "\n",
    "Gnx_grid = nx.grid_2d_graph(size, size)\n",
    "pos = dict(zip(Gnx_grid, Gnx_grid))  # Source: https://stackoverflow.com/a/37106552\n",
    "nx.set_node_attributes(Gnx_grid, pos, \"pos\")\n",
    "\n",
    "Gnx_hex = nx.hexagonal_lattice_graph(size, size)"
   ]
  },
  {
   "cell_type": "markdown",
   "id": "bda828a1-9fda-4d2a-b158-f3e416d20cd8",
   "metadata": {},
   "source": [
    "Scale by linklength:"
   ]
  },
  {
   "cell_type": "code",
   "execution_count": null,
   "id": "deb9690b-73b8-40e7-8c18-747b9a996568",
   "metadata": {},
   "outputs": [],
   "source": [
    "nx.set_node_attributes(\n",
    "    Gnx_tri,\n",
    "    {\n",
    "        k: (linklength * v[0], linklength * v[1])\n",
    "        for (k, v) in nx.get_node_attributes(Gnx_tri, \"pos\").items()\n",
    "    },\n",
    "    \"pos\",\n",
    ")\n",
    "nx.set_node_attributes(\n",
    "    Gnx_grid,\n",
    "    {\n",
    "        k: (linklength * v[0], linklength * v[1])\n",
    "        for (k, v) in nx.get_node_attributes(Gnx_grid, \"pos\").items()\n",
    "    },\n",
    "    \"pos\",\n",
    ")\n",
    "nx.set_node_attributes(\n",
    "    Gnx_hex,\n",
    "    {\n",
    "        k: (linklength * v[0], linklength * v[1])\n",
    "        for (k, v) in nx.get_node_attributes(Gnx_hex, \"pos\").items()\n",
    "    },\n",
    "    \"pos\",\n",
    ")"
   ]
  },
  {
   "cell_type": "code",
   "execution_count": null,
   "id": "22fc938d-2654-4a91-bfd4-ad40726c487b",
   "metadata": {},
   "outputs": [],
   "source": [
    "fig, axs = plt.subplots(1, 3, figsize=(9, 3))\n",
    "nx.draw(Gnx_tri, pos=nx.get_node_attributes(Gnx_tri, \"pos\"), ax=axs[0], node_size=8)\n",
    "nx.draw(Gnx_grid, pos=nx.get_node_attributes(Gnx_grid, \"pos\"), ax=axs[1], node_size=8)\n",
    "nx.draw(Gnx_hex, pos=nx.get_node_attributes(Gnx_hex, \"pos\"), ax=axs[2], node_size=8)"
   ]
  },
  {
   "cell_type": "markdown",
   "id": "e50d5a2f-968f-42cc-aa16-90aa4a855ef9",
   "metadata": {},
   "source": [
    "To do: Make it momepy, make \"pos\" the geometry"
   ]
  },
  {
   "cell_type": "code",
   "execution_count": null,
   "id": "7e074203-675e-4f2b-a357-c22308bc2f60",
   "metadata": {},
   "outputs": [],
   "source": [
    "Gnx_tri_nodes, Gnx_tri_links = momepy.nx_to_gdf(net=Gnx_tri, points=True, lines=True)\n",
    "Gnx_tri_nodes.plot()"
   ]
  },
  {
   "cell_type": "code",
   "execution_count": null,
   "id": "95d32f7e-6f91-434f-b1f5-769587b7c2cf",
   "metadata": {},
   "outputs": [],
   "source": [
    "Gnx_tri_nodes.geometry.x"
   ]
  },
  {
   "cell_type": "code",
   "execution_count": null,
   "id": "43dcc29d-38d3-4fd8-a840-2e3950993dad",
   "metadata": {},
   "outputs": [],
   "source": [
    "Gnx_tri_nodes.pos"
   ]
  },
  {
   "cell_type": "code",
   "execution_count": null,
   "id": "3769509c-a197-4aff-8188-33ebb2328c9c",
   "metadata": {},
   "outputs": [],
   "source": [
    "for index, row in Gnx_tri_nodes.iterrows():\n",
    "    print(row[\"pos\"], row[\"geometry\"])"
   ]
  },
  {
   "cell_type": "code",
   "execution_count": null,
   "id": "84908fea-9356-426c-8879-ef6652329e07",
   "metadata": {},
   "outputs": [],
   "source": [
    "Gnx_tri_nodes.set_geometry(\"pos\", drop=None, inplace=True)  # not working"
   ]
  }
 ],
 "metadata": {
  "kernelspec": {
   "display_name": "bikenwloops",
   "language": "python",
   "name": "bikenwloops"
  },
  "language_info": {
   "codemirror_mode": {
    "name": "ipython",
    "version": 3
   },
   "file_extension": ".py",
   "mimetype": "text/x-python",
   "name": "python",
   "nbconvert_exporter": "python",
   "pygments_lexer": "ipython3",
   "version": "3.12.2"
  }
 },
 "nbformat": 4,
 "nbformat_minor": 5
}
